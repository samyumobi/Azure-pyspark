{
 "cells": [
  {
   "cell_type": "code",
   "execution_count": 0,
   "metadata": {
    "application/vnd.databricks.v1+cell": {
     "cellMetadata": {
      "byteLimit": 2048000,
      "rowLimit": 10000
     },
     "inputWidgets": {},
     "nuid": "c846824f-8dda-4ff9-ab74-16e6081e27ff",
     "showTitle": false,
     "title": ""
    }
   },
   "outputs": [],
   "source": [
    "from pyspark.sql import SparkSession\n",
    "spark = SparkSession.builder.getOrCreate()"
   ]
  },
  {
   "cell_type": "code",
   "execution_count": 0,
   "metadata": {
    "application/vnd.databricks.v1+cell": {
     "cellMetadata": {
      "byteLimit": 2048000,
      "rowLimit": 10000
     },
     "inputWidgets": {},
     "nuid": "c35a8035-088a-4962-b730-1256e3cca490",
     "showTitle": false,
     "title": ""
    }
   },
   "outputs": [
    {
     "output_type": "execute_result",
     "data": {
      "text/plain": [
       "DataFrame[a: bigint, b: double, c: string, d: date, e: timestamp]"
      ]
     },
     "execution_count": 2,
     "metadata": {},
     "output_type": "execute_result"
    }
   ],
   "source": [
    "from datetime import datetime, date\n",
    "import pandas as pd\n",
    "from pyspark.sql import Row\n",
    "\n",
    "df = spark.createDataFrame([\n",
    "    Row( a = 1, b = 2., c = 'string1', d = date(2000, 1, 1), e = datetime(2000, 1, 1, 12, 0)),\n",
    "    Row( a = 2, b = 3., c = 'string2', d = date(2000, 2, 1), e = datetime(2000, 2, 1, 12, 0)),\n",
    "    Row( a = 3, b = 4., c = 'string3', d = date(2000, 3, 1), e = datetime(2000, 3, 2, 12, 0))\n",
    "])\n",
    "\n",
    "df"
   ]
  },
  {
   "cell_type": "code",
   "execution_count": 0,
   "metadata": {
    "application/vnd.databricks.v1+cell": {
     "cellMetadata": {
      "byteLimit": 2048000,
      "rowLimit": 10000
     },
     "inputWidgets": {},
     "nuid": "399068c3-ca3a-4a21-824a-8cb856af9ec2",
     "showTitle": false,
     "title": ""
    }
   },
   "outputs": [
    {
     "output_type": "execute_result",
     "data": {
      "text/plain": [
       "DataFrame[a: bigint, b: double, c: string, d: date, e: timestamp]"
      ]
     },
     "execution_count": 3,
     "metadata": {},
     "output_type": "execute_result"
    }
   ],
   "source": [
    "\n",
    "# Pyspark DF with explicit schema\n",
    "\n",
    "df = spark.createDataFrame([\n",
    "    (1, 2.,'string1',date(2000, 1, 1), datetime(2000, 1, 1, 12, 0)),\n",
    "    (2, 3.,'string2',date(2000,2,1), datetime(2000,1,2,12,0)),\n",
    "    (3,4.,'string3',date(2000,3,1),datetime(2000,1,3,12,0))\n",
    "], schema = 'a long, b double, c string, d date, e timestamp')\n",
    "\n",
    "df "
   ]
  },
  {
   "cell_type": "code",
   "execution_count": 0,
   "metadata": {
    "application/vnd.databricks.v1+cell": {
     "cellMetadata": {
      "byteLimit": 2048000,
      "rowLimit": 10000
     },
     "inputWidgets": {},
     "nuid": "e662a0cd-0575-4cd9-9174-2e67905fa492",
     "showTitle": false,
     "title": ""
    }
   },
   "outputs": [
    {
     "output_type": "execute_result",
     "data": {
      "text/plain": [
       "DataFrame[a: bigint, b: double, c: string, d: date, e: timestamp]"
      ]
     },
     "execution_count": 4,
     "metadata": {},
     "output_type": "execute_result"
    }
   ],
   "source": [
    "# Pyspark df from pandas df\n",
    "\n",
    "pandas_df = pd.DataFrame({\n",
    "    'a':[1, 2, 3],\n",
    "    'b':[2.,3.,4.],\n",
    "    'c':['string1','string2','string3'],\n",
    "    'd':[date(2000,1,1), date(2000, 2, 1), date(2000, 3, 1)],\n",
    "    'e': [datetime(2000,1,1,12,0),\n",
    "          datetime(2000,1,2,12,0),\n",
    "          datetime(2000,1,3,12,0)]\n",
    "})\n",
    "\n",
    "df = spark.createDataFrame(pandas_df)\n",
    "\n",
    "df"
   ]
  },
  {
   "cell_type": "code",
   "execution_count": 0,
   "metadata": {
    "application/vnd.databricks.v1+cell": {
     "cellMetadata": {
      "byteLimit": 2048000,
      "rowLimit": 10000
     },
     "inputWidgets": {},
     "nuid": "7c0c6012-15bc-4417-a0b3-542186c5c697",
     "showTitle": false,
     "title": ""
    }
   },
   "outputs": [
    {
     "output_type": "stream",
     "name": "stdout",
     "output_type": "stream",
     "text": [
      "+---+---+-------+----------+-------------------+\n|  a|  b|      c|         d|                  e|\n+---+---+-------+----------+-------------------+\n|  1|2.0|string1|2000-01-01|2000-01-01 12:00:00|\n|  2|3.0|string2|2000-02-01|2000-01-02 12:00:00|\n|  3|4.0|string3|2000-03-01|2000-01-03 12:00:00|\n+---+---+-------+----------+-------------------+\n\n"
     ]
    }
   ],
   "source": [
    "df.show()"
   ]
  },
  {
   "cell_type": "code",
   "execution_count": 0,
   "metadata": {
    "application/vnd.databricks.v1+cell": {
     "cellMetadata": {
      "byteLimit": 2048000,
      "rowLimit": 10000
     },
     "inputWidgets": {},
     "nuid": "d02420c1-36d0-4568-8612-bbbc2e537ca0",
     "showTitle": false,
     "title": ""
    }
   },
   "outputs": [
    {
     "output_type": "stream",
     "name": "stdout",
     "output_type": "stream",
     "text": [
      "root\n |-- a: long (nullable = true)\n |-- b: double (nullable = true)\n |-- c: string (nullable = true)\n |-- d: date (nullable = true)\n |-- e: timestamp (nullable = true)\n\n"
     ]
    }
   ],
   "source": [
    "df.printSchema()"
   ]
  },
  {
   "cell_type": "markdown",
   "metadata": {
    "application/vnd.databricks.v1+cell": {
     "cellMetadata": {
      "byteLimit": 2048000,
      "rowLimit": 10000
     },
     "inputWidgets": {},
     "nuid": "ef192e90-b2f4-4d31-9f1f-bc21e5bc36f3",
     "showTitle": false,
     "title": ""
    }
   },
   "source": [
    "\n",
    "# Viewing Data\n",
    "\n"
   ]
  },
  {
   "cell_type": "code",
   "execution_count": 0,
   "metadata": {
    "application/vnd.databricks.v1+cell": {
     "cellMetadata": {
      "byteLimit": 2048000,
      "rowLimit": 10000
     },
     "inputWidgets": {},
     "nuid": "40666cc1-44cf-41cc-88c0-82e11dd867ce",
     "showTitle": false,
     "title": ""
    }
   },
   "outputs": [
    {
     "output_type": "stream",
     "name": "stdout",
     "output_type": "stream",
     "text": [
      "+---+---+-------+----------+-------------------+\n|  a|  b|      c|         d|                  e|\n+---+---+-------+----------+-------------------+\n|  1|2.0|string1|2000-01-01|2000-01-01 12:00:00|\n+---+---+-------+----------+-------------------+\nonly showing top 1 row\n\n"
     ]
    }
   ],
   "source": [
    "df.show(1)"
   ]
  },
  {
   "cell_type": "code",
   "execution_count": 0,
   "metadata": {
    "application/vnd.databricks.v1+cell": {
     "cellMetadata": {
      "byteLimit": 2048000,
      "rowLimit": 10000
     },
     "inputWidgets": {},
     "nuid": "2295f03e-09c3-4256-8798-5293d2c426db",
     "showTitle": false,
     "title": ""
    }
   },
   "outputs": [],
   "source": [
    "spark.conf.set('spark.sql.repl.eagerEval.enabled', True)"
   ]
  },
  {
   "cell_type": "code",
   "execution_count": 0,
   "metadata": {
    "application/vnd.databricks.v1+cell": {
     "cellMetadata": {
      "byteLimit": 2048000,
      "rowLimit": 10000
     },
     "inputWidgets": {},
     "nuid": "3c601263-3306-4d86-9d1c-5582e38c4e34",
     "showTitle": false,
     "title": ""
    }
   },
   "outputs": [
    {
     "output_type": "execute_result",
     "data": {
      "text/html": [
       "<table border='1'>\n",
       "<tr><th>a</th><th>b</th><th>c</th><th>d</th><th>e</th></tr>\n",
       "<tr><td>1</td><td>2.0</td><td>string1</td><td>2000-01-01</td><td>2000-01-01 12:00:00</td></tr>\n",
       "<tr><td>2</td><td>3.0</td><td>string2</td><td>2000-02-01</td><td>2000-01-02 12:00:00</td></tr>\n",
       "<tr><td>3</td><td>4.0</td><td>string3</td><td>2000-03-01</td><td>2000-01-03 12:00:00</td></tr>\n",
       "</table>\n"
      ],
      "text/plain": [
       "DataFrame[a: bigint, b: double, c: string, d: date, e: timestamp]"
      ]
     },
     "execution_count": 9,
     "metadata": {},
     "output_type": "execute_result"
    }
   ],
   "source": [
    "df"
   ]
  },
  {
   "cell_type": "code",
   "execution_count": 0,
   "metadata": {
    "application/vnd.databricks.v1+cell": {
     "cellMetadata": {
      "byteLimit": 2048000,
      "rowLimit": 10000
     },
     "inputWidgets": {},
     "nuid": "459532f6-dbb3-4153-98bb-c7d3b2331502",
     "showTitle": false,
     "title": ""
    }
   },
   "outputs": [
    {
     "output_type": "stream",
     "name": "stdout",
     "output_type": "stream",
     "text": [
      "-RECORD 0------------------\n a   | 1                   \n b   | 2.0                 \n c   | string1             \n d   | 2000-01-01          \n e   | 2000-01-01 12:00:00 \nonly showing top 1 row\n\n"
     ]
    }
   ],
   "source": [
    "df.show(1, vertical=True)"
   ]
  },
  {
   "cell_type": "code",
   "execution_count": 0,
   "metadata": {
    "application/vnd.databricks.v1+cell": {
     "cellMetadata": {
      "byteLimit": 2048000,
      "rowLimit": 10000
     },
     "inputWidgets": {},
     "nuid": "9ced69b1-dc47-4044-8495-a8db86dd20a5",
     "showTitle": false,
     "title": ""
    }
   },
   "outputs": [
    {
     "output_type": "execute_result",
     "data": {
      "text/plain": [
       "['a', 'b', 'c', 'd', 'e']"
      ]
     },
     "execution_count": 11,
     "metadata": {},
     "output_type": "execute_result"
    }
   ],
   "source": [
    "df.columns"
   ]
  },
  {
   "cell_type": "code",
   "execution_count": 0,
   "metadata": {
    "application/vnd.databricks.v1+cell": {
     "cellMetadata": {
      "byteLimit": 2048000,
      "rowLimit": 10000
     },
     "inputWidgets": {},
     "nuid": "8f03452d-3c55-4e40-a756-9d07f6707a09",
     "showTitle": false,
     "title": ""
    }
   },
   "outputs": [
    {
     "output_type": "stream",
     "name": "stdout",
     "output_type": "stream",
     "text": [
      "root\n |-- a: long (nullable = true)\n |-- b: double (nullable = true)\n |-- c: string (nullable = true)\n |-- d: date (nullable = true)\n |-- e: timestamp (nullable = true)\n\n"
     ]
    }
   ],
   "source": [
    "df.printSchema()"
   ]
  },
  {
   "cell_type": "markdown",
   "metadata": {
    "application/vnd.databricks.v1+cell": {
     "cellMetadata": {
      "byteLimit": 2048000,
      "rowLimit": 10000
     },
     "inputWidgets": {},
     "nuid": "a480e38e-9e71-4bda-98ec-435812020fd8",
     "showTitle": false,
     "title": ""
    }
   },
   "source": [
    "\n",
    "Show summary of dataframe"
   ]
  },
  {
   "cell_type": "code",
   "execution_count": 0,
   "metadata": {
    "application/vnd.databricks.v1+cell": {
     "cellMetadata": {
      "byteLimit": 2048000,
      "rowLimit": 10000
     },
     "inputWidgets": {},
     "nuid": "2f9d79d1-832c-457a-8b2c-7508fb50434f",
     "showTitle": false,
     "title": ""
    }
   },
   "outputs": [
    {
     "output_type": "stream",
     "name": "stdout",
     "output_type": "stream",
     "text": [
      "+-------+---+---+-------+\n|summary|  a|  b|      c|\n+-------+---+---+-------+\n|  count|  3|  3|      3|\n|   mean|2.0|3.0|   NULL|\n| stddev|1.0|1.0|   NULL|\n|    min|  1|2.0|string1|\n|    max|  3|4.0|string3|\n+-------+---+---+-------+\n\n"
     ]
    }
   ],
   "source": [
    "df.select(\"a\",\"b\",\"c\").describe().show()"
   ]
  },
  {
   "cell_type": "code",
   "execution_count": 0,
   "metadata": {
    "application/vnd.databricks.v1+cell": {
     "cellMetadata": {
      "byteLimit": 2048000,
      "rowLimit": 10000
     },
     "inputWidgets": {},
     "nuid": "d9746d3e-e5da-4cc9-9287-1aa6272ade84",
     "showTitle": false,
     "title": ""
    }
   },
   "outputs": [
    {
     "output_type": "execute_result",
     "data": {
      "text/plain": [
       "[Row(a=1, b=2.0, c='string1', d=datetime.date(2000, 1, 1), e=datetime.datetime(2000, 1, 1, 12, 0)),\n",
       " Row(a=2, b=3.0, c='string2', d=datetime.date(2000, 2, 1), e=datetime.datetime(2000, 1, 2, 12, 0)),\n",
       " Row(a=3, b=4.0, c='string3', d=datetime.date(2000, 3, 1), e=datetime.datetime(2000, 1, 3, 12, 0))]"
      ]
     },
     "execution_count": 14,
     "metadata": {},
     "output_type": "execute_result"
    }
   ],
   "source": [
    "df.collect()"
   ]
  },
  {
   "cell_type": "code",
   "execution_count": 0,
   "metadata": {
    "application/vnd.databricks.v1+cell": {
     "cellMetadata": {
      "byteLimit": 2048000,
      "rowLimit": 10000
     },
     "inputWidgets": {},
     "nuid": "59777c70-d73b-4d4a-8ebb-efc66adacaee",
     "showTitle": false,
     "title": ""
    }
   },
   "outputs": [
    {
     "output_type": "execute_result",
     "data": {
      "text/plain": [
       "[Row(a=1, b=2.0, c='string1', d=datetime.date(2000, 1, 1), e=datetime.datetime(2000, 1, 1, 12, 0))]"
      ]
     },
     "execution_count": 15,
     "metadata": {},
     "output_type": "execute_result"
    }
   ],
   "source": [
    "df.take(1)"
   ]
  },
  {
   "cell_type": "code",
   "execution_count": 0,
   "metadata": {
    "application/vnd.databricks.v1+cell": {
     "cellMetadata": {
      "byteLimit": 2048000,
      "rowLimit": 10000
     },
     "inputWidgets": {},
     "nuid": "417dec7f-7703-462e-8010-71a291db33e4",
     "showTitle": false,
     "title": ""
    }
   },
   "outputs": [
    {
     "output_type": "execute_result",
     "data": {
      "text/html": [
       "<div>\n",
       "<style scoped>\n",
       "    .dataframe tbody tr th:only-of-type {\n",
       "        vertical-align: middle;\n",
       "    }\n",
       "\n",
       "    .dataframe tbody tr th {\n",
       "        vertical-align: top;\n",
       "    }\n",
       "\n",
       "    .dataframe thead th {\n",
       "        text-align: right;\n",
       "    }\n",
       "</style>\n",
       "<table border=\"1\" class=\"dataframe\">\n",
       "  <thead>\n",
       "    <tr style=\"text-align: right;\">\n",
       "      <th></th>\n",
       "      <th>a</th>\n",
       "      <th>b</th>\n",
       "      <th>c</th>\n",
       "      <th>d</th>\n",
       "      <th>e</th>\n",
       "    </tr>\n",
       "  </thead>\n",
       "  <tbody>\n",
       "    <tr>\n",
       "      <th>0</th>\n",
       "      <td>1</td>\n",
       "      <td>2.0</td>\n",
       "      <td>string1</td>\n",
       "      <td>2000-01-01</td>\n",
       "      <td>2000-01-01 12:00:00</td>\n",
       "    </tr>\n",
       "    <tr>\n",
       "      <th>1</th>\n",
       "      <td>2</td>\n",
       "      <td>3.0</td>\n",
       "      <td>string2</td>\n",
       "      <td>2000-02-01</td>\n",
       "      <td>2000-01-02 12:00:00</td>\n",
       "    </tr>\n",
       "    <tr>\n",
       "      <th>2</th>\n",
       "      <td>3</td>\n",
       "      <td>4.0</td>\n",
       "      <td>string3</td>\n",
       "      <td>2000-03-01</td>\n",
       "      <td>2000-01-03 12:00:00</td>\n",
       "    </tr>\n",
       "  </tbody>\n",
       "</table>\n",
       "</div>"
      ],
      "text/plain": [
       "   a    b        c           d                   e\n",
       "0  1  2.0  string1  2000-01-01 2000-01-01 12:00:00\n",
       "1  2  3.0  string2  2000-02-01 2000-01-02 12:00:00\n",
       "2  3  4.0  string3  2000-03-01 2000-01-03 12:00:00"
      ]
     },
     "execution_count": 16,
     "metadata": {},
     "output_type": "execute_result"
    }
   ],
   "source": [
    "df.toPandas()"
   ]
  },
  {
   "cell_type": "markdown",
   "metadata": {
    "application/vnd.databricks.v1+cell": {
     "cellMetadata": {
      "byteLimit": 2048000,
      "rowLimit": 10000
     },
     "inputWidgets": {},
     "nuid": "fa5bcbdc-2dff-4645-a019-9c8e9bafe18c",
     "showTitle": false,
     "title": ""
    }
   },
   "source": [
    "\n",
    "# Selecting and Accessing data"
   ]
  },
  {
   "cell_type": "code",
   "execution_count": 0,
   "metadata": {
    "application/vnd.databricks.v1+cell": {
     "cellMetadata": {
      "byteLimit": 2048000,
      "rowLimit": 10000
     },
     "inputWidgets": {},
     "nuid": "12b179b1-db99-4986-8226-9427d647be20",
     "showTitle": false,
     "title": ""
    }
   },
   "outputs": [
    {
     "output_type": "execute_result",
     "data": {
      "text/plain": [
       "Column<'a'>"
      ]
     },
     "execution_count": 17,
     "metadata": {},
     "output_type": "execute_result"
    }
   ],
   "source": [
    "df.a"
   ]
  },
  {
   "cell_type": "code",
   "execution_count": 0,
   "metadata": {
    "application/vnd.databricks.v1+cell": {
     "cellMetadata": {
      "byteLimit": 2048000,
      "rowLimit": 10000
     },
     "inputWidgets": {},
     "nuid": "cc625360-286e-421a-b503-3187c4948b7e",
     "showTitle": false,
     "title": ""
    }
   },
   "outputs": [
    {
     "output_type": "execute_result",
     "data": {
      "text/plain": [
       "True"
      ]
     },
     "execution_count": 18,
     "metadata": {},
     "output_type": "execute_result"
    }
   ],
   "source": [
    "from pyspark.sql import Column\n",
    "from pyspark.sql.functions import upper \n",
    "\n",
    "type(df.c) == type(upper(df.c)) == type(df.c.isNull())"
   ]
  },
  {
   "cell_type": "code",
   "execution_count": 0,
   "metadata": {
    "application/vnd.databricks.v1+cell": {
     "cellMetadata": {
      "byteLimit": 2048000,
      "rowLimit": 10000
     },
     "inputWidgets": {},
     "nuid": "dba663c8-45f9-47c2-9ade-cd50389d547a",
     "showTitle": false,
     "title": ""
    }
   },
   "outputs": [
    {
     "output_type": "stream",
     "name": "stdout",
     "output_type": "stream",
     "text": [
      "+-------+\n|      c|\n+-------+\n|string1|\n|string2|\n|string3|\n+-------+\n\n"
     ]
    }
   ],
   "source": [
    "df.select(df.c).show()"
   ]
  },
  {
   "cell_type": "code",
   "execution_count": 0,
   "metadata": {
    "application/vnd.databricks.v1+cell": {
     "cellMetadata": {
      "byteLimit": 2048000,
      "rowLimit": 10000
     },
     "inputWidgets": {},
     "nuid": "fafce168-84b5-43bd-8210-8ae78729816e",
     "showTitle": false,
     "title": ""
    }
   },
   "outputs": [
    {
     "output_type": "stream",
     "name": "stdout",
     "output_type": "stream",
     "text": [
      "+---+---+-------+----------+-------------------+-------+\n|  a|  b|      c|         d|                  e|upper_c|\n+---+---+-------+----------+-------------------+-------+\n|  1|2.0|string1|2000-01-01|2000-01-01 12:00:00|STRING1|\n|  2|3.0|string2|2000-02-01|2000-01-02 12:00:00|STRING2|\n|  3|4.0|string3|2000-03-01|2000-01-03 12:00:00|STRING3|\n+---+---+-------+----------+-------------------+-------+\n\n"
     ]
    }
   ],
   "source": [
    "# Assign new column instance \n",
    "\n",
    "df.withColumn('upper_c', upper(df.c)).show()"
   ]
  },
  {
   "cell_type": "code",
   "execution_count": 0,
   "metadata": {
    "application/vnd.databricks.v1+cell": {
     "cellMetadata": {
      "byteLimit": 2048000,
      "rowLimit": 10000
     },
     "inputWidgets": {},
     "nuid": "5ea9e4a7-d787-4c8e-a374-ce1e7af95ef4",
     "showTitle": false,
     "title": ""
    }
   },
   "outputs": [
    {
     "output_type": "stream",
     "name": "stdout",
     "output_type": "stream",
     "text": [
      "+---+---+-------+----------+-------------------+\n|  a|  b|      c|         d|                  e|\n+---+---+-------+----------+-------------------+\n|  1|2.0|string1|2000-01-01|2000-01-01 12:00:00|\n+---+---+-------+----------+-------------------+\n\n"
     ]
    }
   ],
   "source": [
    "# Select rows subset \n",
    "\n",
    "df.filter(df.a == 1).show()"
   ]
  },
  {
   "cell_type": "markdown",
   "metadata": {
    "application/vnd.databricks.v1+cell": {
     "cellMetadata": {
      "byteLimit": 2048000,
      "rowLimit": 10000
     },
     "inputWidgets": {},
     "nuid": "b092171b-4d39-4e86-bc46-514f8b084616",
     "showTitle": false,
     "title": ""
    }
   },
   "source": [
    "% md \n",
    "\n",
    "# Applying a function \n",
    "\n",
    "Pandas UDF's and Pandas Function API's\n"
   ]
  },
  {
   "cell_type": "code",
   "execution_count": 0,
   "metadata": {
    "application/vnd.databricks.v1+cell": {
     "cellMetadata": {
      "byteLimit": 2048000,
      "rowLimit": 10000
     },
     "inputWidgets": {},
     "nuid": "d0c5ace4-2330-4da8-a57b-e08f8524e181",
     "showTitle": false,
     "title": ""
    }
   },
   "outputs": [
    {
     "output_type": "stream",
     "name": "stdout",
     "output_type": "stream",
     "text": [
      "+------------------+\n|pandas_plus_one(a)|\n+------------------+\n|                 2|\n|                 3|\n|                 4|\n+------------------+\n\n"
     ]
    }
   ],
   "source": [
    "from pyspark.sql.functions import pandas_udf \n",
    "\n",
    "@pandas_udf('long')\n",
    "def pandas_plus_one(series: pd.Series) -> pd.Series:\n",
    "    return series + 1 \n",
    "\n",
    "df.select(pandas_plus_one(df.a)).show()\n"
   ]
  },
  {
   "cell_type": "code",
   "execution_count": 0,
   "metadata": {
    "application/vnd.databricks.v1+cell": {
     "cellMetadata": {
      "byteLimit": 2048000,
      "rowLimit": 10000
     },
     "inputWidgets": {},
     "nuid": "41963ebf-7841-4053-a6f6-6be4f5f2d8de",
     "showTitle": false,
     "title": ""
    }
   },
   "outputs": [
    {
     "output_type": "stream",
     "name": "stdout",
     "output_type": "stream",
     "text": [
      "+---+---+-------+----------+-------------------+\n|  a|  b|      c|         d|                  e|\n+---+---+-------+----------+-------------------+\n|  1|2.0|string1|2000-01-01|2000-01-01 12:00:00|\n+---+---+-------+----------+-------------------+\n\n"
     ]
    }
   ],
   "source": [
    "\n",
    "def pandas_filter_func(iterator):\n",
    "    for pandas_df in iterator:\n",
    "        yield pandas_df[pandas_df.a == 1]\n",
    "\n",
    "df.mapInPandas(pandas_filter_func, schema = df.schema).show()"
   ]
  },
  {
   "cell_type": "markdown",
   "metadata": {
    "application/vnd.databricks.v1+cell": {
     "cellMetadata": {
      "byteLimit": 2048000,
      "rowLimit": 10000
     },
     "inputWidgets": {},
     "nuid": "9dd30847-7de0-4ef7-afc8-ac0dbc4af017",
     "showTitle": false,
     "title": ""
    }
   },
   "source": [
    "\n",
    "# Grouping Data\n"
   ]
  },
  {
   "cell_type": "code",
   "execution_count": 0,
   "metadata": {
    "application/vnd.databricks.v1+cell": {
     "cellMetadata": {
      "byteLimit": 2048000,
      "rowLimit": 10000
     },
     "inputWidgets": {},
     "nuid": "312ac220-fc09-4958-8ab9-eb792766fce6",
     "showTitle": false,
     "title": ""
    }
   },
   "outputs": [
    {
     "output_type": "stream",
     "name": "stdout",
     "output_type": "stream",
     "text": [
      "+------+-----------+---+---+\n| color|      fruit| v1| v2|\n+------+-----------+---+---+\n|   red|     banana|  1| 10|\n| black|     carrot|  3| 30|\n|   red|      apple|  5| 40|\n|purple|     grapes|  2| 46|\n| Green|     apples|  4| 36|\n| Green|     grapes|  6| 70|\n|   red|    cherrys|  7| 25|\n|purple|      plums|  8| 68|\n| black|     grapes|  9| 60|\n|   red|watermelons| 10| 45|\n+------+-----------+---+---+\n\n"
     ]
    }
   ],
   "source": [
    "df = spark.createDataFrame([\n",
    "    ['red','banana', 1, 10],\n",
    "    ['black','carrot',3,30],\n",
    "    ['red','apple',5, 40],\n",
    "    ['purple','grapes',2,46],\n",
    "    ['Green','apples',4,36],\n",
    "    ['Green','grapes',6,70],\n",
    "    ['red','cherrys',7,25],\n",
    "    ['purple','plums',8,68],\n",
    "    ['black','grapes',9,60],\n",
    "    ['red','watermelons',10,45]\n",
    "], schema = ['color','fruit','v1','v2'])\n",
    "\n",
    "df.show()"
   ]
  },
  {
   "cell_type": "code",
   "execution_count": 0,
   "metadata": {
    "application/vnd.databricks.v1+cell": {
     "cellMetadata": {
      "byteLimit": 2048000,
      "rowLimit": 10000
     },
     "inputWidgets": {},
     "nuid": "7e20dfe7-36d7-4e08-b77e-9b5ac5fa853e",
     "showTitle": false,
     "title": ""
    }
   },
   "outputs": [
    {
     "output_type": "stream",
     "name": "stdout",
     "output_type": "stream",
     "text": [
      "+------+-------+-------+\n| color|avg(v1)|avg(v2)|\n+------+-------+-------+\n|   red|   5.75|   30.0|\n| black|    6.0|   45.0|\n|purple|    5.0|   57.0|\n| Green|    5.0|   53.0|\n+------+-------+-------+\n\n"
     ]
    }
   ],
   "source": [
    "df.groupBy('color').avg().show()"
   ]
  },
  {
   "cell_type": "code",
   "execution_count": 0,
   "metadata": {
    "application/vnd.databricks.v1+cell": {
     "cellMetadata": {
      "byteLimit": 2048000,
      "rowLimit": 10000
     },
     "inputWidgets": {},
     "nuid": "260ae43f-dfa8-43f6-9615-d37bbef98692",
     "showTitle": false,
     "title": ""
    }
   },
   "outputs": [
    {
     "output_type": "stream",
     "name": "stdout",
     "output_type": "stream",
     "text": [
      "+------+-----------+---+---+\n| color|      fruit| v1| v2|\n+------+-----------+---+---+\n| Green|     apples| -1| 36|\n| Green|     grapes|  1| 70|\n| black|     carrot| -3| 30|\n| black|     grapes|  3| 60|\n|purple|     grapes| -3| 46|\n|purple|      plums|  3| 68|\n|   red|     banana| -4| 10|\n|   red|      apple|  0| 40|\n|   red|    cherrys|  1| 25|\n|   red|watermelons|  4| 45|\n+------+-----------+---+---+\n\n"
     ]
    }
   ],
   "source": [
    "# Applying python function against each group by using pandas api \n",
    "\n",
    "def plus_mean(pandas_df):\n",
    "    return pandas_df.assign(v1 = pandas_df.v1 - pandas_df.v1.mean())\n",
    "\n",
    "df.groupBy('color').applyInPandas(plus_mean, schema = df.schema).show()"
   ]
  },
  {
   "cell_type": "markdown",
   "metadata": {
    "application/vnd.databricks.v1+cell": {
     "cellMetadata": {
      "byteLimit": 2048000,
      "rowLimit": 10000
     },
     "inputWidgets": {},
     "nuid": "cc451da4-a157-48b1-a617-7eb46963108e",
     "showTitle": false,
     "title": ""
    }
   },
   "source": [
    "\n",
    "Co-grouping and applying a function\n"
   ]
  },
  {
   "cell_type": "code",
   "execution_count": 0,
   "metadata": {
    "application/vnd.databricks.v1+cell": {
     "cellMetadata": {
      "byteLimit": 2048000,
      "rowLimit": 10000
     },
     "inputWidgets": {},
     "nuid": "42df9c06-0567-4271-b850-7f8d7211ef71",
     "showTitle": false,
     "title": ""
    }
   },
   "outputs": [
    {
     "output_type": "stream",
     "name": "stdout",
     "output_type": "stream",
     "text": [
      "+----+---+---+---+\n|time| id| v1| v2|\n+----+---+---+---+\n|2000|  1|1.0|  x|\n|7800|  3|4.5|  z|\n|3500|  4|2.0|  y|\n+----+---+---+---+\n\n"
     ]
    }
   ],
   "source": [
    "df1 = spark.createDataFrame(\n",
    "    [(2000, 1, 1.0),\n",
    "     (3500, 4, 2.0),\n",
    "     (7800, 3, 4.5)],\n",
    "    ('time','id','v1')\n",
    ")\n",
    "\n",
    "df2 = spark.createDataFrame(\n",
    "    [(2000, 1, 'x'),\n",
    "     (3500, 4, 'y'),\n",
    "     (7800, 3, 'z')],\n",
    "    ('time','id','v2')\n",
    ")\n",
    "\n",
    "def merge_ordered(l,r):\n",
    "    return pd.merge_ordered(l,r)\n",
    "\n",
    "df1.groupby('id').cogroup(df2.groupBy('id')).applyInPandas(merge_ordered,\n",
    "                                                           schema = 'time int, id int, v1 double, v2 string').show()"
   ]
  },
  {
   "cell_type": "markdown",
   "metadata": {
    "application/vnd.databricks.v1+cell": {
     "cellMetadata": {
      "byteLimit": 2048000,
      "rowLimit": 10000
     },
     "inputWidgets": {},
     "nuid": "45d5e138-159b-4a09-8042-b190d48aa346",
     "showTitle": false,
     "title": ""
    }
   },
   "source": [
    "\n",
    "# Getting data In/Out"
   ]
  },
  {
   "cell_type": "code",
   "execution_count": 0,
   "metadata": {
    "application/vnd.databricks.v1+cell": {
     "cellMetadata": {
      "byteLimit": 2048000,
      "rowLimit": 10000
     },
     "inputWidgets": {},
     "nuid": "3dfea6a7-f0a7-481a-8e52-cc2d7dca70bf",
     "showTitle": false,
     "title": ""
    }
   },
   "outputs": [],
   "source": [
    "# df.write.csv('/tmp/resources/foo.csv',header=True)\n",
    "\n",
    "# spark.read.csv('/tmp/resources/foo.csv',header=True).show()"
   ]
  },
  {
   "cell_type": "code",
   "execution_count": 0,
   "metadata": {
    "application/vnd.databricks.v1+cell": {
     "cellMetadata": {
      "byteLimit": 2048000,
      "rowLimit": 10000
     },
     "inputWidgets": {},
     "nuid": "c2c53123-db86-40ab-96bb-2e321c20924c",
     "showTitle": false,
     "title": ""
    }
   },
   "outputs": [],
   "source": [
    "# parquet\n",
    "\n",
    "# df.write.parquet('/tmp/resources/bar.parquet')\n",
    "# spark.read.parquet('/tmp/resources/bar.parquet').show()"
   ]
  },
  {
   "cell_type": "code",
   "execution_count": 0,
   "metadata": {
    "application/vnd.databricks.v1+cell": {
     "cellMetadata": {
      "byteLimit": 2048000,
      "rowLimit": 10000
     },
     "inputWidgets": {},
     "nuid": "ef01c0eb-545a-45c5-b183-59094f983fe4",
     "showTitle": false,
     "title": ""
    }
   },
   "outputs": [],
   "source": [
    "# ORC\n",
    "\n",
    "# df.write.orc('/tmp/resources/zoo.orc')\n",
    "\n",
    "# spark.read.orc('/tmp/resources/zoo.orc').show()"
   ]
  },
  {
   "cell_type": "markdown",
   "metadata": {
    "application/vnd.databricks.v1+cell": {
     "cellMetadata": {
      "byteLimit": 2048000,
      "rowLimit": 10000
     },
     "inputWidgets": {},
     "nuid": "458ac034-dc16-48b4-a49e-3f41f8e6e90f",
     "showTitle": false,
     "title": ""
    }
   },
   "source": [
    "\n",
    "# Working with SQL \n"
   ]
  },
  {
   "cell_type": "code",
   "execution_count": 0,
   "metadata": {
    "application/vnd.databricks.v1+cell": {
     "cellMetadata": {
      "byteLimit": 2048000,
      "rowLimit": 10000
     },
     "inputWidgets": {},
     "nuid": "ed66a807-2af6-4502-802f-1bd18228e772",
     "showTitle": false,
     "title": ""
    }
   },
   "outputs": [
    {
     "output_type": "stream",
     "name": "stdout",
     "output_type": "stream",
     "text": [
      "+--------+\n|count(1)|\n+--------+\n|      10|\n+--------+\n\n"
     ]
    }
   ],
   "source": [
    "df.createOrReplaceTempView(\"tableA\")\n",
    "\n",
    "spark.sql(\"select count(*) from tableA\").show()"
   ]
  },
  {
   "cell_type": "code",
   "execution_count": 0,
   "metadata": {
    "application/vnd.databricks.v1+cell": {
     "cellMetadata": {
      "byteLimit": 2048000,
      "rowLimit": 10000
     },
     "inputWidgets": {},
     "nuid": "51a25686-51c2-4008-9a8d-e6572e6af69c",
     "showTitle": false,
     "title": ""
    }
   },
   "outputs": [
    {
     "output_type": "stream",
     "name": "stdout",
     "output_type": "stream",
     "text": [
      "+-----------+\n|add_one(v1)|\n+-----------+\n|          2|\n|          4|\n|          6|\n|          3|\n|          5|\n|          7|\n|          8|\n|          9|\n|         10|\n|         11|\n+-----------+\n\n"
     ]
    }
   ],
   "source": [
    "@pandas_udf(\"integer\")\n",
    "def add_one(s: pd.Series) -> pd.Series :\n",
    "    return s + 1\n",
    "\n",
    "spark.udf.register(\"add_one\",add_one)\n",
    "spark.sql(\"select add_one(v1) from tableA\").show()"
   ]
  },
  {
   "cell_type": "code",
   "execution_count": 0,
   "metadata": {
    "application/vnd.databricks.v1+cell": {
     "cellMetadata": {
      "byteLimit": 2048000,
      "rowLimit": 10000
     },
     "inputWidgets": {},
     "nuid": "d16d8230-4432-4d24-855c-885da50850ae",
     "showTitle": false,
     "title": ""
    }
   },
   "outputs": [
    {
     "output_type": "stream",
     "name": "stdout",
     "output_type": "stream",
     "text": [
      "+-----------+\n|add_one(v1)|\n+-----------+\n|          2|\n|          4|\n|          6|\n|          3|\n|          5|\n|          7|\n|          8|\n|          9|\n|         10|\n|         11|\n+-----------+\n\n+--------------+\n|(count(1) > 0)|\n+--------------+\n|          true|\n+--------------+\n\n"
     ]
    }
   ],
   "source": [
    "from pyspark.sql.functions import expr \n",
    "\n",
    "df.selectExpr('add_one(v1)').show()\n",
    "df.select(expr('count(*)') > 0).show()"
   ]
  },
  {
   "cell_type": "markdown",
   "metadata": {
    "application/vnd.databricks.v1+cell": {
     "cellMetadata": {
      "byteLimit": 2048000,
      "rowLimit": 10000
     },
     "inputWidgets": {},
     "nuid": "32663075-8d4b-43f2-9de7-0f25e6642508",
     "showTitle": false,
     "title": ""
    }
   },
   "source": [
    "\n",
    "# Object creation"
   ]
  },
  {
   "cell_type": "code",
   "execution_count": 0,
   "metadata": {
    "application/vnd.databricks.v1+cell": {
     "cellMetadata": {
      "byteLimit": 2048000,
      "rowLimit": 10000
     },
     "inputWidgets": {},
     "nuid": "4dcc5bc8-23e0-49cf-92a0-7cde8bb8f9cf",
     "showTitle": false,
     "title": ""
    }
   },
   "outputs": [],
   "source": [
    "import pyspark.pandas as ps \n",
    "from pyspark.sql import SparkSession\n",
    "import numpy as np "
   ]
  },
  {
   "cell_type": "code",
   "execution_count": 0,
   "metadata": {
    "application/vnd.databricks.v1+cell": {
     "cellMetadata": {
      "byteLimit": 2048000,
      "rowLimit": 10000
     },
     "inputWidgets": {},
     "nuid": "b58e67c2-1d18-44a4-9205-b7f01cb9d34b",
     "showTitle": false,
     "title": ""
    }
   },
   "outputs": [
    {
     "output_type": "execute_result",
     "data": {
      "text/plain": [
       "0    1.0\n",
       "1    3.0\n",
       "2    5.0\n",
       "3    NaN\n",
       "4    6.0\n",
       "5    8.0\n",
       "dtype: float64"
      ]
     },
     "execution_count": 35,
     "metadata": {},
     "output_type": "execute_result"
    }
   ],
   "source": [
    "s = ps.Series([1, 3, 5, np.nan, 6, 8])\n",
    "s"
   ]
  },
  {
   "cell_type": "code",
   "execution_count": 0,
   "metadata": {
    "application/vnd.databricks.v1+cell": {
     "cellMetadata": {
      "byteLimit": 2048000,
      "rowLimit": 10000
     },
     "inputWidgets": {},
     "nuid": "0d417446-26ef-4d78-8bf5-8a60206e735e",
     "showTitle": false,
     "title": ""
    }
   },
   "outputs": [
    {
     "output_type": "execute_result",
     "data": {
      "text/html": [
       "<div>\n",
       "<style scoped>\n",
       "    .dataframe tbody tr th:only-of-type {\n",
       "        vertical-align: middle;\n",
       "    }\n",
       "\n",
       "    .dataframe tbody tr th {\n",
       "        vertical-align: top;\n",
       "    }\n",
       "\n",
       "    .dataframe thead th {\n",
       "        text-align: right;\n",
       "    }\n",
       "</style>\n",
       "<table border=\"1\" class=\"dataframe\">\n",
       "  <thead>\n",
       "    <tr style=\"text-align: right;\">\n",
       "      <th></th>\n",
       "      <th>a</th>\n",
       "      <th>b</th>\n",
       "      <th>c</th>\n",
       "    </tr>\n",
       "  </thead>\n",
       "  <tbody>\n",
       "    <tr>\n",
       "      <th>10</th>\n",
       "      <td>1</td>\n",
       "      <td>100</td>\n",
       "      <td>one</td>\n",
       "    </tr>\n",
       "    <tr>\n",
       "      <th>20</th>\n",
       "      <td>2</td>\n",
       "      <td>200</td>\n",
       "      <td>two</td>\n",
       "    </tr>\n",
       "    <tr>\n",
       "      <th>30</th>\n",
       "      <td>4</td>\n",
       "      <td>300</td>\n",
       "      <td>three</td>\n",
       "    </tr>\n",
       "    <tr>\n",
       "      <th>40</th>\n",
       "      <td>3</td>\n",
       "      <td>450</td>\n",
       "      <td>four</td>\n",
       "    </tr>\n",
       "    <tr>\n",
       "      <th>50</th>\n",
       "      <td>5</td>\n",
       "      <td>600</td>\n",
       "      <td>five</td>\n",
       "    </tr>\n",
       "    <tr>\n",
       "      <th>60</th>\n",
       "      <td>6</td>\n",
       "      <td>500</td>\n",
       "      <td>six</td>\n",
       "    </tr>\n",
       "  </tbody>\n",
       "</table>\n",
       "</div>"
      ],
      "text/plain": [
       "    a    b      c\n",
       "10  1  100    one\n",
       "20  2  200    two\n",
       "30  4  300  three\n",
       "40  3  450   four\n",
       "50  5  600   five\n",
       "60  6  500    six"
      ]
     },
     "execution_count": 36,
     "metadata": {},
     "output_type": "execute_result"
    }
   ],
   "source": [
    "psdf = ps.DataFrame({\n",
    "    'a': [1,2,4, 3, 5,6],\n",
    "    'b':[100,200,300,450,600,500],\n",
    "    'c':['one',\"two\",\"three\",\"four\",\"five\",\"six\"]}, index = [10, 20, 30, 40, 50, 60])\n",
    "psdf"
   ]
  },
  {
   "cell_type": "markdown",
   "metadata": {
    "application/vnd.databricks.v1+cell": {
     "cellMetadata": {
      "byteLimit": 2048000,
      "rowLimit": 10000
     },
     "inputWidgets": {},
     "nuid": "2e403766-8561-430f-a0bb-a360a93f67f6",
     "showTitle": false,
     "title": ""
    }
   },
   "source": [
    "\n",
    "## Working with pandas Datetime"
   ]
  },
  {
   "cell_type": "code",
   "execution_count": 0,
   "metadata": {
    "application/vnd.databricks.v1+cell": {
     "cellMetadata": {
      "byteLimit": 2048000,
      "rowLimit": 10000
     },
     "inputWidgets": {},
     "nuid": "e85ed8b9-0048-44f0-b3e6-f0c3a44b6314",
     "showTitle": false,
     "title": ""
    }
   },
   "outputs": [],
   "source": [
    "dates = pd.date_range('20130101',periods = 6)"
   ]
  },
  {
   "cell_type": "code",
   "execution_count": 0,
   "metadata": {
    "application/vnd.databricks.v1+cell": {
     "cellMetadata": {
      "byteLimit": 2048000,
      "rowLimit": 10000
     },
     "inputWidgets": {},
     "nuid": "1dbe287d-3285-4fe4-ab48-fd789b424290",
     "showTitle": false,
     "title": ""
    }
   },
   "outputs": [
    {
     "output_type": "execute_result",
     "data": {
      "text/plain": [
       "DatetimeIndex(['2013-01-01', '2013-01-02', '2013-01-03', '2013-01-04',\n",
       "               '2013-01-05', '2013-01-06'],\n",
       "              dtype='datetime64[ns]', freq='D')"
      ]
     },
     "execution_count": 38,
     "metadata": {},
     "output_type": "execute_result"
    }
   ],
   "source": [
    "dates"
   ]
  },
  {
   "cell_type": "code",
   "execution_count": 0,
   "metadata": {
    "application/vnd.databricks.v1+cell": {
     "cellMetadata": {
      "byteLimit": 2048000,
      "rowLimit": 10000
     },
     "inputWidgets": {},
     "nuid": "b5c5373d-bd37-42f0-8e5a-6ba79f15b56d",
     "showTitle": false,
     "title": ""
    }
   },
   "outputs": [
    {
     "output_type": "execute_result",
     "data": {
      "text/html": [
       "<div>\n",
       "<style scoped>\n",
       "    .dataframe tbody tr th:only-of-type {\n",
       "        vertical-align: middle;\n",
       "    }\n",
       "\n",
       "    .dataframe tbody tr th {\n",
       "        vertical-align: top;\n",
       "    }\n",
       "\n",
       "    .dataframe thead th {\n",
       "        text-align: right;\n",
       "    }\n",
       "</style>\n",
       "<table border=\"1\" class=\"dataframe\">\n",
       "  <thead>\n",
       "    <tr style=\"text-align: right;\">\n",
       "      <th></th>\n",
       "      <th>A</th>\n",
       "      <th>B</th>\n",
       "      <th>C</th>\n",
       "      <th>D</th>\n",
       "    </tr>\n",
       "  </thead>\n",
       "  <tbody>\n",
       "    <tr>\n",
       "      <th>2013-01-01</th>\n",
       "      <td>0.593820</td>\n",
       "      <td>0.174552</td>\n",
       "      <td>1.032826</td>\n",
       "      <td>-0.805720</td>\n",
       "    </tr>\n",
       "    <tr>\n",
       "      <th>2013-01-02</th>\n",
       "      <td>-0.709554</td>\n",
       "      <td>-1.873294</td>\n",
       "      <td>0.463508</td>\n",
       "      <td>-1.417828</td>\n",
       "    </tr>\n",
       "    <tr>\n",
       "      <th>2013-01-03</th>\n",
       "      <td>-0.475069</td>\n",
       "      <td>-1.294479</td>\n",
       "      <td>0.550302</td>\n",
       "      <td>2.144888</td>\n",
       "    </tr>\n",
       "    <tr>\n",
       "      <th>2013-01-04</th>\n",
       "      <td>-3.016154</td>\n",
       "      <td>0.621143</td>\n",
       "      <td>-0.524145</td>\n",
       "      <td>-0.354935</td>\n",
       "    </tr>\n",
       "    <tr>\n",
       "      <th>2013-01-05</th>\n",
       "      <td>0.259988</td>\n",
       "      <td>-0.303898</td>\n",
       "      <td>-1.150781</td>\n",
       "      <td>-0.049736</td>\n",
       "    </tr>\n",
       "    <tr>\n",
       "      <th>2013-01-06</th>\n",
       "      <td>-1.653114</td>\n",
       "      <td>0.058861</td>\n",
       "      <td>-0.266348</td>\n",
       "      <td>1.015618</td>\n",
       "    </tr>\n",
       "  </tbody>\n",
       "</table>\n",
       "</div>"
      ],
      "text/plain": [
       "                   A         B         C         D\n",
       "2013-01-01  0.593820  0.174552  1.032826 -0.805720\n",
       "2013-01-02 -0.709554 -1.873294  0.463508 -1.417828\n",
       "2013-01-03 -0.475069 -1.294479  0.550302  2.144888\n",
       "2013-01-04 -3.016154  0.621143 -0.524145 -0.354935\n",
       "2013-01-05  0.259988 -0.303898 -1.150781 -0.049736\n",
       "2013-01-06 -1.653114  0.058861 -0.266348  1.015618"
      ]
     },
     "execution_count": 39,
     "metadata": {},
     "output_type": "execute_result"
    }
   ],
   "source": [
    "pdf = pd.DataFrame(np.random.randn(6,4), index = dates, columns = list('ABCD'))\n",
    "\n",
    "\n",
    "pdf "
   ]
  },
  {
   "cell_type": "code",
   "execution_count": 0,
   "metadata": {
    "application/vnd.databricks.v1+cell": {
     "cellMetadata": {
      "byteLimit": 2048000,
      "rowLimit": 10000
     },
     "inputWidgets": {},
     "nuid": "05b09bba-1213-4abb-9acc-84ec6337d243",
     "showTitle": false,
     "title": ""
    }
   },
   "outputs": [
    {
     "output_type": "execute_result",
     "data": {
      "text/html": [
       "<div>\n",
       "<style scoped>\n",
       "    .dataframe tbody tr th:only-of-type {\n",
       "        vertical-align: middle;\n",
       "    }\n",
       "\n",
       "    .dataframe tbody tr th {\n",
       "        vertical-align: top;\n",
       "    }\n",
       "\n",
       "    .dataframe thead th {\n",
       "        text-align: right;\n",
       "    }\n",
       "</style>\n",
       "<table border=\"1\" class=\"dataframe\">\n",
       "  <thead>\n",
       "    <tr style=\"text-align: right;\">\n",
       "      <th></th>\n",
       "      <th>A</th>\n",
       "      <th>B</th>\n",
       "      <th>C</th>\n",
       "      <th>D</th>\n",
       "    </tr>\n",
       "  </thead>\n",
       "  <tbody>\n",
       "    <tr>\n",
       "      <th>2013-01-01</th>\n",
       "      <td>0.593820</td>\n",
       "      <td>0.174552</td>\n",
       "      <td>1.032826</td>\n",
       "      <td>-0.805720</td>\n",
       "    </tr>\n",
       "    <tr>\n",
       "      <th>2013-01-02</th>\n",
       "      <td>-0.709554</td>\n",
       "      <td>-1.873294</td>\n",
       "      <td>0.463508</td>\n",
       "      <td>-1.417828</td>\n",
       "    </tr>\n",
       "    <tr>\n",
       "      <th>2013-01-03</th>\n",
       "      <td>-0.475069</td>\n",
       "      <td>-1.294479</td>\n",
       "      <td>0.550302</td>\n",
       "      <td>2.144888</td>\n",
       "    </tr>\n",
       "    <tr>\n",
       "      <th>2013-01-04</th>\n",
       "      <td>-3.016154</td>\n",
       "      <td>0.621143</td>\n",
       "      <td>-0.524145</td>\n",
       "      <td>-0.354935</td>\n",
       "    </tr>\n",
       "    <tr>\n",
       "      <th>2013-01-05</th>\n",
       "      <td>0.259988</td>\n",
       "      <td>-0.303898</td>\n",
       "      <td>-1.150781</td>\n",
       "      <td>-0.049736</td>\n",
       "    </tr>\n",
       "    <tr>\n",
       "      <th>2013-01-06</th>\n",
       "      <td>-1.653114</td>\n",
       "      <td>0.058861</td>\n",
       "      <td>-0.266348</td>\n",
       "      <td>1.015618</td>\n",
       "    </tr>\n",
       "  </tbody>\n",
       "</table>\n",
       "</div>"
      ],
      "text/plain": [
       "                   A         B         C         D\n",
       "2013-01-01  0.593820  0.174552  1.032826 -0.805720\n",
       "2013-01-02 -0.709554 -1.873294  0.463508 -1.417828\n",
       "2013-01-03 -0.475069 -1.294479  0.550302  2.144888\n",
       "2013-01-04 -3.016154  0.621143 -0.524145 -0.354935\n",
       "2013-01-05  0.259988 -0.303898 -1.150781 -0.049736\n",
       "2013-01-06 -1.653114  0.058861 -0.266348  1.015618"
      ]
     },
     "execution_count": 40,
     "metadata": {},
     "output_type": "execute_result"
    }
   ],
   "source": [
    "psdf = ps.from_pandas(pdf)\n",
    "\n",
    "psdf"
   ]
  },
  {
   "cell_type": "code",
   "execution_count": 0,
   "metadata": {
    "application/vnd.databricks.v1+cell": {
     "cellMetadata": {
      "byteLimit": 2048000,
      "rowLimit": 10000
     },
     "inputWidgets": {},
     "nuid": "ee9de6d1-4d59-4a5b-83e8-9c91b9deda93",
     "showTitle": false,
     "title": ""
    }
   },
   "outputs": [
    {
     "output_type": "execute_result",
     "data": {
      "text/plain": [
       "pyspark.pandas.frame.DataFrame"
      ]
     },
     "execution_count": 41,
     "metadata": {},
     "output_type": "execute_result"
    }
   ],
   "source": [
    "type(psdf)"
   ]
  },
  {
   "cell_type": "code",
   "execution_count": 0,
   "metadata": {
    "application/vnd.databricks.v1+cell": {
     "cellMetadata": {
      "byteLimit": 2048000,
      "rowLimit": 10000
     },
     "inputWidgets": {},
     "nuid": "335dab4e-395b-4cb4-a332-09a695d9fe30",
     "showTitle": false,
     "title": ""
    }
   },
   "outputs": [
    {
     "output_type": "execute_result",
     "data": {
      "text/html": [
       "<div>\n",
       "<style scoped>\n",
       "    .dataframe tbody tr th:only-of-type {\n",
       "        vertical-align: middle;\n",
       "    }\n",
       "\n",
       "    .dataframe tbody tr th {\n",
       "        vertical-align: top;\n",
       "    }\n",
       "\n",
       "    .dataframe thead th {\n",
       "        text-align: right;\n",
       "    }\n",
       "</style>\n",
       "<table border=\"1\" class=\"dataframe\">\n",
       "  <thead>\n",
       "    <tr style=\"text-align: right;\">\n",
       "      <th></th>\n",
       "      <th>A</th>\n",
       "      <th>B</th>\n",
       "      <th>C</th>\n",
       "      <th>D</th>\n",
       "    </tr>\n",
       "  </thead>\n",
       "  <tbody>\n",
       "    <tr>\n",
       "      <th>2013-01-01</th>\n",
       "      <td>0.593820</td>\n",
       "      <td>0.174552</td>\n",
       "      <td>1.032826</td>\n",
       "      <td>-0.805720</td>\n",
       "    </tr>\n",
       "    <tr>\n",
       "      <th>2013-01-02</th>\n",
       "      <td>-0.709554</td>\n",
       "      <td>-1.873294</td>\n",
       "      <td>0.463508</td>\n",
       "      <td>-1.417828</td>\n",
       "    </tr>\n",
       "    <tr>\n",
       "      <th>2013-01-03</th>\n",
       "      <td>-0.475069</td>\n",
       "      <td>-1.294479</td>\n",
       "      <td>0.550302</td>\n",
       "      <td>2.144888</td>\n",
       "    </tr>\n",
       "    <tr>\n",
       "      <th>2013-01-04</th>\n",
       "      <td>-3.016154</td>\n",
       "      <td>0.621143</td>\n",
       "      <td>-0.524145</td>\n",
       "      <td>-0.354935</td>\n",
       "    </tr>\n",
       "    <tr>\n",
       "      <th>2013-01-05</th>\n",
       "      <td>0.259988</td>\n",
       "      <td>-0.303898</td>\n",
       "      <td>-1.150781</td>\n",
       "      <td>-0.049736</td>\n",
       "    </tr>\n",
       "    <tr>\n",
       "      <th>2013-01-06</th>\n",
       "      <td>-1.653114</td>\n",
       "      <td>0.058861</td>\n",
       "      <td>-0.266348</td>\n",
       "      <td>1.015618</td>\n",
       "    </tr>\n",
       "  </tbody>\n",
       "</table>\n",
       "</div>"
      ],
      "text/plain": [
       "                   A         B         C         D\n",
       "2013-01-01  0.593820  0.174552  1.032826 -0.805720\n",
       "2013-01-02 -0.709554 -1.873294  0.463508 -1.417828\n",
       "2013-01-03 -0.475069 -1.294479  0.550302  2.144888\n",
       "2013-01-04 -3.016154  0.621143 -0.524145 -0.354935\n",
       "2013-01-05  0.259988 -0.303898 -1.150781 -0.049736\n",
       "2013-01-06 -1.653114  0.058861 -0.266348  1.015618"
      ]
     },
     "execution_count": 42,
     "metadata": {},
     "output_type": "execute_result"
    }
   ],
   "source": [
    "psdf"
   ]
  },
  {
   "cell_type": "code",
   "execution_count": 0,
   "metadata": {
    "application/vnd.databricks.v1+cell": {
     "cellMetadata": {
      "byteLimit": 2048000,
      "rowLimit": 10000
     },
     "inputWidgets": {},
     "nuid": "bfabf643-491a-4bf4-bf9c-8196b900fc24",
     "showTitle": false,
     "title": ""
    }
   },
   "outputs": [
    {
     "output_type": "stream",
     "name": "stdout",
     "output_type": "stream",
     "text": [
      "+-------------------+-------------------+-------------------+--------------------+\n|                  A|                  B|                  C|                   D|\n+-------------------+-------------------+-------------------+--------------------+\n| 0.5938198350794955|0.17455195894761674| 1.0328258346081232| -0.8057201650964463|\n|-0.7095537155916017|-1.8732944321413219|  0.463508136933873| -1.4178280023912393|\n|-0.4750693376771988| -1.294479119778514| 0.5503019845725223|  2.1448882780414804|\n|-3.0161536039774153| 0.6211431549237827|-0.5241448822092518|-0.35493524961420875|\n| 0.2599882477140967| -0.303898317250204|-1.1507805779066573|-0.04973631285505286|\n|-1.6531141932408224|0.05886131663879939|-0.2663475746711511|  1.0156182847992248|\n+-------------------+-------------------+-------------------+--------------------+\n\n"
     ]
    }
   ],
   "source": [
    "# creating spark df from pandas df\n",
    "\n",
    "spark = SparkSession.builder.getOrCreate()\n",
    "\n",
    "sdf = spark.createDataFrame(pdf)\n",
    "\n",
    "sdf.show()\n"
   ]
  },
  {
   "cell_type": "code",
   "execution_count": 0,
   "metadata": {
    "application/vnd.databricks.v1+cell": {
     "cellMetadata": {
      "byteLimit": 2048000,
      "rowLimit": 10000
     },
     "inputWidgets": {},
     "nuid": "e66f2a59-865a-40b0-8100-2467fdac9dc2",
     "showTitle": false,
     "title": ""
    }
   },
   "outputs": [
    {
     "output_type": "execute_result",
     "data": {
      "text/html": [
       "<div>\n",
       "<style scoped>\n",
       "    .dataframe tbody tr th:only-of-type {\n",
       "        vertical-align: middle;\n",
       "    }\n",
       "\n",
       "    .dataframe tbody tr th {\n",
       "        vertical-align: top;\n",
       "    }\n",
       "\n",
       "    .dataframe thead th {\n",
       "        text-align: right;\n",
       "    }\n",
       "</style>\n",
       "<table border=\"1\" class=\"dataframe\">\n",
       "  <thead>\n",
       "    <tr style=\"text-align: right;\">\n",
       "      <th></th>\n",
       "      <th>A</th>\n",
       "      <th>B</th>\n",
       "      <th>C</th>\n",
       "      <th>D</th>\n",
       "    </tr>\n",
       "  </thead>\n",
       "  <tbody>\n",
       "    <tr>\n",
       "      <th>0</th>\n",
       "      <td>0.593820</td>\n",
       "      <td>0.174552</td>\n",
       "      <td>1.032826</td>\n",
       "      <td>-0.805720</td>\n",
       "    </tr>\n",
       "    <tr>\n",
       "      <th>1</th>\n",
       "      <td>-0.709554</td>\n",
       "      <td>-1.873294</td>\n",
       "      <td>0.463508</td>\n",
       "      <td>-1.417828</td>\n",
       "    </tr>\n",
       "    <tr>\n",
       "      <th>2</th>\n",
       "      <td>-0.475069</td>\n",
       "      <td>-1.294479</td>\n",
       "      <td>0.550302</td>\n",
       "      <td>2.144888</td>\n",
       "    </tr>\n",
       "    <tr>\n",
       "      <th>3</th>\n",
       "      <td>-3.016154</td>\n",
       "      <td>0.621143</td>\n",
       "      <td>-0.524145</td>\n",
       "      <td>-0.354935</td>\n",
       "    </tr>\n",
       "    <tr>\n",
       "      <th>4</th>\n",
       "      <td>0.259988</td>\n",
       "      <td>-0.303898</td>\n",
       "      <td>-1.150781</td>\n",
       "      <td>-0.049736</td>\n",
       "    </tr>\n",
       "    <tr>\n",
       "      <th>5</th>\n",
       "      <td>-1.653114</td>\n",
       "      <td>0.058861</td>\n",
       "      <td>-0.266348</td>\n",
       "      <td>1.015618</td>\n",
       "    </tr>\n",
       "  </tbody>\n",
       "</table>\n",
       "</div>"
      ],
      "text/plain": [
       "          A         B         C         D\n",
       "0  0.593820  0.174552  1.032826 -0.805720\n",
       "1 -0.709554 -1.873294  0.463508 -1.417828\n",
       "2 -0.475069 -1.294479  0.550302  2.144888\n",
       "3 -3.016154  0.621143 -0.524145 -0.354935\n",
       "4  0.259988 -0.303898 -1.150781 -0.049736\n",
       "5 -1.653114  0.058861 -0.266348  1.015618"
      ]
     },
     "execution_count": 44,
     "metadata": {},
     "output_type": "execute_result"
    }
   ],
   "source": [
    "# pandas on spark df\n",
    "\n",
    "psdf = sdf.pandas_api()\n",
    "\n",
    "psdf "
   ]
  },
  {
   "cell_type": "code",
   "execution_count": 0,
   "metadata": {
    "application/vnd.databricks.v1+cell": {
     "cellMetadata": {
      "byteLimit": 2048000,
      "rowLimit": 10000
     },
     "inputWidgets": {},
     "nuid": "242470b0-9634-4440-bd7f-0b26e6e8ed0e",
     "showTitle": false,
     "title": ""
    }
   },
   "outputs": [
    {
     "output_type": "execute_result",
     "data": {
      "text/plain": [
       "A    float64\n",
       "B    float64\n",
       "C    float64\n",
       "D    float64\n",
       "dtype: object"
      ]
     },
     "execution_count": 45,
     "metadata": {},
     "output_type": "execute_result"
    }
   ],
   "source": [
    "psdf.dtypes "
   ]
  },
  {
   "cell_type": "code",
   "execution_count": 0,
   "metadata": {
    "application/vnd.databricks.v1+cell": {
     "cellMetadata": {
      "byteLimit": 2048000,
      "rowLimit": 10000
     },
     "inputWidgets": {},
     "nuid": "0200cf7c-1507-4bbc-a84a-19f32997893b",
     "showTitle": false,
     "title": ""
    }
   },
   "outputs": [
    {
     "output_type": "execute_result",
     "data": {
      "text/plain": [
       "Int64Index([0, 1, 2, 3, 4, 5], dtype='int64')"
      ]
     },
     "execution_count": 46,
     "metadata": {},
     "output_type": "execute_result"
    }
   ],
   "source": [
    "psdf.index"
   ]
  },
  {
   "cell_type": "code",
   "execution_count": 0,
   "metadata": {
    "application/vnd.databricks.v1+cell": {
     "cellMetadata": {
      "byteLimit": 2048000,
      "rowLimit": 10000
     },
     "inputWidgets": {},
     "nuid": "babc5899-7dc3-434d-9104-83dd1a093f4f",
     "showTitle": false,
     "title": ""
    }
   },
   "outputs": [
    {
     "output_type": "execute_result",
     "data": {
      "text/html": [
       "<div>\n",
       "<style scoped>\n",
       "    .dataframe tbody tr th:only-of-type {\n",
       "        vertical-align: middle;\n",
       "    }\n",
       "\n",
       "    .dataframe tbody tr th {\n",
       "        vertical-align: top;\n",
       "    }\n",
       "\n",
       "    .dataframe thead th {\n",
       "        text-align: right;\n",
       "    }\n",
       "</style>\n",
       "<table border=\"1\" class=\"dataframe\">\n",
       "  <thead>\n",
       "    <tr style=\"text-align: right;\">\n",
       "      <th></th>\n",
       "      <th>A</th>\n",
       "      <th>B</th>\n",
       "      <th>C</th>\n",
       "      <th>D</th>\n",
       "    </tr>\n",
       "  </thead>\n",
       "  <tbody>\n",
       "    <tr>\n",
       "      <th>0</th>\n",
       "      <td>0.593820</td>\n",
       "      <td>0.174552</td>\n",
       "      <td>1.032826</td>\n",
       "      <td>-0.805720</td>\n",
       "    </tr>\n",
       "    <tr>\n",
       "      <th>1</th>\n",
       "      <td>-0.709554</td>\n",
       "      <td>-1.873294</td>\n",
       "      <td>0.463508</td>\n",
       "      <td>-1.417828</td>\n",
       "    </tr>\n",
       "    <tr>\n",
       "      <th>2</th>\n",
       "      <td>-0.475069</td>\n",
       "      <td>-1.294479</td>\n",
       "      <td>0.550302</td>\n",
       "      <td>2.144888</td>\n",
       "    </tr>\n",
       "    <tr>\n",
       "      <th>3</th>\n",
       "      <td>-3.016154</td>\n",
       "      <td>0.621143</td>\n",
       "      <td>-0.524145</td>\n",
       "      <td>-0.354935</td>\n",
       "    </tr>\n",
       "    <tr>\n",
       "      <th>4</th>\n",
       "      <td>0.259988</td>\n",
       "      <td>-0.303898</td>\n",
       "      <td>-1.150781</td>\n",
       "      <td>-0.049736</td>\n",
       "    </tr>\n",
       "  </tbody>\n",
       "</table>\n",
       "</div>"
      ],
      "text/plain": [
       "          A         B         C         D\n",
       "0  0.593820  0.174552  1.032826 -0.805720\n",
       "1 -0.709554 -1.873294  0.463508 -1.417828\n",
       "2 -0.475069 -1.294479  0.550302  2.144888\n",
       "3 -3.016154  0.621143 -0.524145 -0.354935\n",
       "4  0.259988 -0.303898 -1.150781 -0.049736"
      ]
     },
     "execution_count": 47,
     "metadata": {},
     "output_type": "execute_result"
    }
   ],
   "source": [
    "psdf.head()"
   ]
  },
  {
   "cell_type": "code",
   "execution_count": 0,
   "metadata": {
    "application/vnd.databricks.v1+cell": {
     "cellMetadata": {
      "byteLimit": 2048000,
      "rowLimit": 10000
     },
     "inputWidgets": {},
     "nuid": "164954fb-62be-4e62-b143-da0cf47c8f86",
     "showTitle": false,
     "title": ""
    }
   },
   "outputs": [
    {
     "output_type": "execute_result",
     "data": {
      "text/plain": [
       "Index(['A', 'B', 'C', 'D'], dtype='object')"
      ]
     },
     "execution_count": 48,
     "metadata": {},
     "output_type": "execute_result"
    }
   ],
   "source": [
    "psdf.columns"
   ]
  },
  {
   "cell_type": "code",
   "execution_count": 0,
   "metadata": {
    "application/vnd.databricks.v1+cell": {
     "cellMetadata": {
      "byteLimit": 2048000,
      "rowLimit": 10000
     },
     "inputWidgets": {},
     "nuid": "3593aeca-f682-4a01-945e-80e0e1c54b79",
     "showTitle": false,
     "title": ""
    }
   },
   "outputs": [
    {
     "output_type": "execute_result",
     "data": {
      "text/plain": [
       "array([[ 0.59381984,  0.17455196,  1.03282583, -0.80572017],\n",
       "       [-0.70955372, -1.87329443,  0.46350814, -1.417828  ],\n",
       "       [-0.47506934, -1.29447912,  0.55030198,  2.14488828],\n",
       "       [-3.0161536 ,  0.62114315, -0.52414488, -0.35493525],\n",
       "       [ 0.25998825, -0.30389832, -1.15078058, -0.04973631],\n",
       "       [-1.65311419,  0.05886132, -0.26634757,  1.01561828]])"
      ]
     },
     "execution_count": 49,
     "metadata": {},
     "output_type": "execute_result"
    }
   ],
   "source": [
    "psdf.to_numpy()"
   ]
  },
  {
   "cell_type": "code",
   "execution_count": 0,
   "metadata": {
    "application/vnd.databricks.v1+cell": {
     "cellMetadata": {
      "byteLimit": 2048000,
      "rowLimit": 10000
     },
     "inputWidgets": {},
     "nuid": "cfdd9cc4-77a0-4264-b693-056a4462bb6c",
     "showTitle": false,
     "title": ""
    }
   },
   "outputs": [
    {
     "output_type": "execute_result",
     "data": {
      "text/html": [
       "<div>\n",
       "<style scoped>\n",
       "    .dataframe tbody tr th:only-of-type {\n",
       "        vertical-align: middle;\n",
       "    }\n",
       "\n",
       "    .dataframe tbody tr th {\n",
       "        vertical-align: top;\n",
       "    }\n",
       "\n",
       "    .dataframe thead th {\n",
       "        text-align: right;\n",
       "    }\n",
       "</style>\n",
       "<table border=\"1\" class=\"dataframe\">\n",
       "  <thead>\n",
       "    <tr style=\"text-align: right;\">\n",
       "      <th></th>\n",
       "      <th>A</th>\n",
       "      <th>B</th>\n",
       "      <th>C</th>\n",
       "      <th>D</th>\n",
       "    </tr>\n",
       "  </thead>\n",
       "  <tbody>\n",
       "    <tr>\n",
       "      <th>count</th>\n",
       "      <td>6.000000</td>\n",
       "      <td>6.000000</td>\n",
       "      <td>6.000000</td>\n",
       "      <td>6.000000</td>\n",
       "    </tr>\n",
       "    <tr>\n",
       "      <th>mean</th>\n",
       "      <td>-0.833347</td>\n",
       "      <td>-0.436186</td>\n",
       "      <td>0.017560</td>\n",
       "      <td>0.088714</td>\n",
       "    </tr>\n",
       "    <tr>\n",
       "      <th>std</th>\n",
       "      <td>1.327595</td>\n",
       "      <td>0.954512</td>\n",
       "      <td>0.806538</td>\n",
       "      <td>1.294039</td>\n",
       "    </tr>\n",
       "    <tr>\n",
       "      <th>min</th>\n",
       "      <td>-3.016154</td>\n",
       "      <td>-1.873294</td>\n",
       "      <td>-1.150781</td>\n",
       "      <td>-1.417828</td>\n",
       "    </tr>\n",
       "    <tr>\n",
       "      <th>25%</th>\n",
       "      <td>-1.653114</td>\n",
       "      <td>-1.294479</td>\n",
       "      <td>-0.524145</td>\n",
       "      <td>-0.805720</td>\n",
       "    </tr>\n",
       "    <tr>\n",
       "      <th>50%</th>\n",
       "      <td>-0.709554</td>\n",
       "      <td>-0.303898</td>\n",
       "      <td>-0.266348</td>\n",
       "      <td>-0.354935</td>\n",
       "    </tr>\n",
       "    <tr>\n",
       "      <th>75%</th>\n",
       "      <td>0.259988</td>\n",
       "      <td>0.174552</td>\n",
       "      <td>0.550302</td>\n",
       "      <td>1.015618</td>\n",
       "    </tr>\n",
       "    <tr>\n",
       "      <th>max</th>\n",
       "      <td>0.593820</td>\n",
       "      <td>0.621143</td>\n",
       "      <td>1.032826</td>\n",
       "      <td>2.144888</td>\n",
       "    </tr>\n",
       "  </tbody>\n",
       "</table>\n",
       "</div>"
      ],
      "text/plain": [
       "              A         B         C         D\n",
       "count  6.000000  6.000000  6.000000  6.000000\n",
       "mean  -0.833347 -0.436186  0.017560  0.088714\n",
       "std    1.327595  0.954512  0.806538  1.294039\n",
       "min   -3.016154 -1.873294 -1.150781 -1.417828\n",
       "25%   -1.653114 -1.294479 -0.524145 -0.805720\n",
       "50%   -0.709554 -0.303898 -0.266348 -0.354935\n",
       "75%    0.259988  0.174552  0.550302  1.015618\n",
       "max    0.593820  0.621143  1.032826  2.144888"
      ]
     },
     "execution_count": 50,
     "metadata": {},
     "output_type": "execute_result"
    }
   ],
   "source": [
    "psdf.describe()"
   ]
  },
  {
   "cell_type": "code",
   "execution_count": 0,
   "metadata": {
    "application/vnd.databricks.v1+cell": {
     "cellMetadata": {
      "byteLimit": 2048000,
      "rowLimit": 10000
     },
     "inputWidgets": {},
     "nuid": "efe54c54-bf65-4cd9-9aa1-cdbbf37801d0",
     "showTitle": false,
     "title": ""
    }
   },
   "outputs": [
    {
     "output_type": "execute_result",
     "data": {
      "text/html": [
       "<div>\n",
       "<style scoped>\n",
       "    .dataframe tbody tr th:only-of-type {\n",
       "        vertical-align: middle;\n",
       "    }\n",
       "\n",
       "    .dataframe tbody tr th {\n",
       "        vertical-align: top;\n",
       "    }\n",
       "\n",
       "    .dataframe thead th {\n",
       "        text-align: right;\n",
       "    }\n",
       "</style>\n",
       "<table border=\"1\" class=\"dataframe\">\n",
       "  <thead>\n",
       "    <tr style=\"text-align: right;\">\n",
       "      <th></th>\n",
       "      <th>0</th>\n",
       "      <th>1</th>\n",
       "      <th>2</th>\n",
       "      <th>3</th>\n",
       "      <th>4</th>\n",
       "      <th>5</th>\n",
       "    </tr>\n",
       "  </thead>\n",
       "  <tbody>\n",
       "    <tr>\n",
       "      <th>A</th>\n",
       "      <td>0.593820</td>\n",
       "      <td>-0.709554</td>\n",
       "      <td>-0.475069</td>\n",
       "      <td>-3.016154</td>\n",
       "      <td>0.259988</td>\n",
       "      <td>-1.653114</td>\n",
       "    </tr>\n",
       "    <tr>\n",
       "      <th>B</th>\n",
       "      <td>0.174552</td>\n",
       "      <td>-1.873294</td>\n",
       "      <td>-1.294479</td>\n",
       "      <td>0.621143</td>\n",
       "      <td>-0.303898</td>\n",
       "      <td>0.058861</td>\n",
       "    </tr>\n",
       "    <tr>\n",
       "      <th>C</th>\n",
       "      <td>1.032826</td>\n",
       "      <td>0.463508</td>\n",
       "      <td>0.550302</td>\n",
       "      <td>-0.524145</td>\n",
       "      <td>-1.150781</td>\n",
       "      <td>-0.266348</td>\n",
       "    </tr>\n",
       "    <tr>\n",
       "      <th>D</th>\n",
       "      <td>-0.805720</td>\n",
       "      <td>-1.417828</td>\n",
       "      <td>2.144888</td>\n",
       "      <td>-0.354935</td>\n",
       "      <td>-0.049736</td>\n",
       "      <td>1.015618</td>\n",
       "    </tr>\n",
       "  </tbody>\n",
       "</table>\n",
       "</div>"
      ],
      "text/plain": [
       "          0         1         2         3         4         5\n",
       "A  0.593820 -0.709554 -0.475069 -3.016154  0.259988 -1.653114\n",
       "B  0.174552 -1.873294 -1.294479  0.621143 -0.303898  0.058861\n",
       "C  1.032826  0.463508  0.550302 -0.524145 -1.150781 -0.266348\n",
       "D -0.805720 -1.417828  2.144888 -0.354935 -0.049736  1.015618"
      ]
     },
     "execution_count": 51,
     "metadata": {},
     "output_type": "execute_result"
    }
   ],
   "source": [
    "psdf.T "
   ]
  },
  {
   "cell_type": "code",
   "execution_count": 0,
   "metadata": {
    "application/vnd.databricks.v1+cell": {
     "cellMetadata": {
      "byteLimit": 2048000,
      "rowLimit": 10000
     },
     "inputWidgets": {},
     "nuid": "66337513-bcd1-41d6-b6e9-1fd106e9fba9",
     "showTitle": false,
     "title": ""
    }
   },
   "outputs": [
    {
     "output_type": "execute_result",
     "data": {
      "text/html": [
       "<div>\n",
       "<style scoped>\n",
       "    .dataframe tbody tr th:only-of-type {\n",
       "        vertical-align: middle;\n",
       "    }\n",
       "\n",
       "    .dataframe tbody tr th {\n",
       "        vertical-align: top;\n",
       "    }\n",
       "\n",
       "    .dataframe thead th {\n",
       "        text-align: right;\n",
       "    }\n",
       "</style>\n",
       "<table border=\"1\" class=\"dataframe\">\n",
       "  <thead>\n",
       "    <tr style=\"text-align: right;\">\n",
       "      <th></th>\n",
       "      <th>A</th>\n",
       "      <th>B</th>\n",
       "      <th>C</th>\n",
       "      <th>D</th>\n",
       "    </tr>\n",
       "  </thead>\n",
       "  <tbody>\n",
       "    <tr>\n",
       "      <th>5</th>\n",
       "      <td>-1.653114</td>\n",
       "      <td>0.058861</td>\n",
       "      <td>-0.266348</td>\n",
       "      <td>1.015618</td>\n",
       "    </tr>\n",
       "    <tr>\n",
       "      <th>4</th>\n",
       "      <td>0.259988</td>\n",
       "      <td>-0.303898</td>\n",
       "      <td>-1.150781</td>\n",
       "      <td>-0.049736</td>\n",
       "    </tr>\n",
       "    <tr>\n",
       "      <th>3</th>\n",
       "      <td>-3.016154</td>\n",
       "      <td>0.621143</td>\n",
       "      <td>-0.524145</td>\n",
       "      <td>-0.354935</td>\n",
       "    </tr>\n",
       "    <tr>\n",
       "      <th>2</th>\n",
       "      <td>-0.475069</td>\n",
       "      <td>-1.294479</td>\n",
       "      <td>0.550302</td>\n",
       "      <td>2.144888</td>\n",
       "    </tr>\n",
       "    <tr>\n",
       "      <th>1</th>\n",
       "      <td>-0.709554</td>\n",
       "      <td>-1.873294</td>\n",
       "      <td>0.463508</td>\n",
       "      <td>-1.417828</td>\n",
       "    </tr>\n",
       "    <tr>\n",
       "      <th>0</th>\n",
       "      <td>0.593820</td>\n",
       "      <td>0.174552</td>\n",
       "      <td>1.032826</td>\n",
       "      <td>-0.805720</td>\n",
       "    </tr>\n",
       "  </tbody>\n",
       "</table>\n",
       "</div>"
      ],
      "text/plain": [
       "          A         B         C         D\n",
       "5 -1.653114  0.058861 -0.266348  1.015618\n",
       "4  0.259988 -0.303898 -1.150781 -0.049736\n",
       "3 -3.016154  0.621143 -0.524145 -0.354935\n",
       "2 -0.475069 -1.294479  0.550302  2.144888\n",
       "1 -0.709554 -1.873294  0.463508 -1.417828\n",
       "0  0.593820  0.174552  1.032826 -0.805720"
      ]
     },
     "execution_count": 52,
     "metadata": {},
     "output_type": "execute_result"
    }
   ],
   "source": [
    "psdf.sort_index(ascending = False)"
   ]
  },
  {
   "cell_type": "code",
   "execution_count": 0,
   "metadata": {
    "application/vnd.databricks.v1+cell": {
     "cellMetadata": {
      "byteLimit": 2048000,
      "rowLimit": 10000
     },
     "inputWidgets": {},
     "nuid": "2f027ada-624a-4c81-ab6f-c663b3392b40",
     "showTitle": false,
     "title": ""
    }
   },
   "outputs": [
    {
     "output_type": "execute_result",
     "data": {
      "text/html": [
       "<div>\n",
       "<style scoped>\n",
       "    .dataframe tbody tr th:only-of-type {\n",
       "        vertical-align: middle;\n",
       "    }\n",
       "\n",
       "    .dataframe tbody tr th {\n",
       "        vertical-align: top;\n",
       "    }\n",
       "\n",
       "    .dataframe thead th {\n",
       "        text-align: right;\n",
       "    }\n",
       "</style>\n",
       "<table border=\"1\" class=\"dataframe\">\n",
       "  <thead>\n",
       "    <tr style=\"text-align: right;\">\n",
       "      <th></th>\n",
       "      <th>A</th>\n",
       "      <th>B</th>\n",
       "      <th>C</th>\n",
       "      <th>D</th>\n",
       "    </tr>\n",
       "  </thead>\n",
       "  <tbody>\n",
       "    <tr>\n",
       "      <th>1</th>\n",
       "      <td>-0.709554</td>\n",
       "      <td>-1.873294</td>\n",
       "      <td>0.463508</td>\n",
       "      <td>-1.417828</td>\n",
       "    </tr>\n",
       "    <tr>\n",
       "      <th>2</th>\n",
       "      <td>-0.475069</td>\n",
       "      <td>-1.294479</td>\n",
       "      <td>0.550302</td>\n",
       "      <td>2.144888</td>\n",
       "    </tr>\n",
       "    <tr>\n",
       "      <th>4</th>\n",
       "      <td>0.259988</td>\n",
       "      <td>-0.303898</td>\n",
       "      <td>-1.150781</td>\n",
       "      <td>-0.049736</td>\n",
       "    </tr>\n",
       "    <tr>\n",
       "      <th>5</th>\n",
       "      <td>-1.653114</td>\n",
       "      <td>0.058861</td>\n",
       "      <td>-0.266348</td>\n",
       "      <td>1.015618</td>\n",
       "    </tr>\n",
       "    <tr>\n",
       "      <th>0</th>\n",
       "      <td>0.593820</td>\n",
       "      <td>0.174552</td>\n",
       "      <td>1.032826</td>\n",
       "      <td>-0.805720</td>\n",
       "    </tr>\n",
       "    <tr>\n",
       "      <th>3</th>\n",
       "      <td>-3.016154</td>\n",
       "      <td>0.621143</td>\n",
       "      <td>-0.524145</td>\n",
       "      <td>-0.354935</td>\n",
       "    </tr>\n",
       "  </tbody>\n",
       "</table>\n",
       "</div>"
      ],
      "text/plain": [
       "          A         B         C         D\n",
       "1 -0.709554 -1.873294  0.463508 -1.417828\n",
       "2 -0.475069 -1.294479  0.550302  2.144888\n",
       "4  0.259988 -0.303898 -1.150781 -0.049736\n",
       "5 -1.653114  0.058861 -0.266348  1.015618\n",
       "0  0.593820  0.174552  1.032826 -0.805720\n",
       "3 -3.016154  0.621143 -0.524145 -0.354935"
      ]
     },
     "execution_count": 53,
     "metadata": {},
     "output_type": "execute_result"
    }
   ],
   "source": [
    "psdf.sort_values(by='B')"
   ]
  },
  {
   "cell_type": "markdown",
   "metadata": {
    "application/vnd.databricks.v1+cell": {
     "cellMetadata": {
      "byteLimit": 2048000,
      "rowLimit": 10000
     },
     "inputWidgets": {},
     "nuid": "cf9e8058-6550-47d4-9e2d-a52998f4f0bd",
     "showTitle": false,
     "title": ""
    }
   },
   "source": [
    "\n",
    "# Missing data"
   ]
  },
  {
   "cell_type": "code",
   "execution_count": 0,
   "metadata": {
    "application/vnd.databricks.v1+cell": {
     "cellMetadata": {
      "byteLimit": 2048000,
      "rowLimit": 10000
     },
     "inputWidgets": {},
     "nuid": "b8232d6d-097c-4137-968b-0913a3f36d57",
     "showTitle": false,
     "title": ""
    }
   },
   "outputs": [],
   "source": [
    "pdf1 = pdf.reindex(index = dates[0:4],\n",
    "                   columns=list(pdf.columns) + ['E'])\n",
    "\n",
    "pdf1.loc[dates[0]:dates[1],'E'] = 1"
   ]
  },
  {
   "cell_type": "code",
   "execution_count": 0,
   "metadata": {
    "application/vnd.databricks.v1+cell": {
     "cellMetadata": {
      "byteLimit": 2048000,
      "rowLimit": 10000
     },
     "inputWidgets": {},
     "nuid": "a23a5097-c02a-4eb0-b641-ae0ad8033bba",
     "showTitle": false,
     "title": ""
    }
   },
   "outputs": [
    {
     "output_type": "execute_result",
     "data": {
      "text/html": [
       "<div>\n",
       "<style scoped>\n",
       "    .dataframe tbody tr th:only-of-type {\n",
       "        vertical-align: middle;\n",
       "    }\n",
       "\n",
       "    .dataframe tbody tr th {\n",
       "        vertical-align: top;\n",
       "    }\n",
       "\n",
       "    .dataframe thead th {\n",
       "        text-align: right;\n",
       "    }\n",
       "</style>\n",
       "<table border=\"1\" class=\"dataframe\">\n",
       "  <thead>\n",
       "    <tr style=\"text-align: right;\">\n",
       "      <th></th>\n",
       "      <th>A</th>\n",
       "      <th>B</th>\n",
       "      <th>C</th>\n",
       "      <th>D</th>\n",
       "      <th>E</th>\n",
       "    </tr>\n",
       "  </thead>\n",
       "  <tbody>\n",
       "    <tr>\n",
       "      <th>2013-01-01</th>\n",
       "      <td>0.593820</td>\n",
       "      <td>0.174552</td>\n",
       "      <td>1.032826</td>\n",
       "      <td>-0.805720</td>\n",
       "      <td>1.0</td>\n",
       "    </tr>\n",
       "    <tr>\n",
       "      <th>2013-01-02</th>\n",
       "      <td>-0.709554</td>\n",
       "      <td>-1.873294</td>\n",
       "      <td>0.463508</td>\n",
       "      <td>-1.417828</td>\n",
       "      <td>1.0</td>\n",
       "    </tr>\n",
       "    <tr>\n",
       "      <th>2013-01-03</th>\n",
       "      <td>-0.475069</td>\n",
       "      <td>-1.294479</td>\n",
       "      <td>0.550302</td>\n",
       "      <td>2.144888</td>\n",
       "      <td>NaN</td>\n",
       "    </tr>\n",
       "    <tr>\n",
       "      <th>2013-01-04</th>\n",
       "      <td>-3.016154</td>\n",
       "      <td>0.621143</td>\n",
       "      <td>-0.524145</td>\n",
       "      <td>-0.354935</td>\n",
       "      <td>NaN</td>\n",
       "    </tr>\n",
       "  </tbody>\n",
       "</table>\n",
       "</div>"
      ],
      "text/plain": [
       "                   A         B         C         D    E\n",
       "2013-01-01  0.593820  0.174552  1.032826 -0.805720  1.0\n",
       "2013-01-02 -0.709554 -1.873294  0.463508 -1.417828  1.0\n",
       "2013-01-03 -0.475069 -1.294479  0.550302  2.144888  NaN\n",
       "2013-01-04 -3.016154  0.621143 -0.524145 -0.354935  NaN"
      ]
     },
     "execution_count": 55,
     "metadata": {},
     "output_type": "execute_result"
    }
   ],
   "source": [
    "pdf1 "
   ]
  },
  {
   "cell_type": "code",
   "execution_count": 0,
   "metadata": {
    "application/vnd.databricks.v1+cell": {
     "cellMetadata": {
      "byteLimit": 2048000,
      "rowLimit": 10000
     },
     "inputWidgets": {},
     "nuid": "0dc89403-ef88-4c6e-a44e-5fd2bb8f0c49",
     "showTitle": false,
     "title": ""
    }
   },
   "outputs": [
    {
     "output_type": "execute_result",
     "data": {
      "text/html": [
       "<div>\n",
       "<style scoped>\n",
       "    .dataframe tbody tr th:only-of-type {\n",
       "        vertical-align: middle;\n",
       "    }\n",
       "\n",
       "    .dataframe tbody tr th {\n",
       "        vertical-align: top;\n",
       "    }\n",
       "\n",
       "    .dataframe thead th {\n",
       "        text-align: right;\n",
       "    }\n",
       "</style>\n",
       "<table border=\"1\" class=\"dataframe\">\n",
       "  <thead>\n",
       "    <tr style=\"text-align: right;\">\n",
       "      <th></th>\n",
       "      <th>A</th>\n",
       "      <th>B</th>\n",
       "      <th>C</th>\n",
       "      <th>D</th>\n",
       "      <th>E</th>\n",
       "    </tr>\n",
       "  </thead>\n",
       "  <tbody>\n",
       "    <tr>\n",
       "      <th>2013-01-01</th>\n",
       "      <td>0.593820</td>\n",
       "      <td>0.174552</td>\n",
       "      <td>1.032826</td>\n",
       "      <td>-0.805720</td>\n",
       "      <td>1.0</td>\n",
       "    </tr>\n",
       "    <tr>\n",
       "      <th>2013-01-02</th>\n",
       "      <td>-0.709554</td>\n",
       "      <td>-1.873294</td>\n",
       "      <td>0.463508</td>\n",
       "      <td>-1.417828</td>\n",
       "      <td>1.0</td>\n",
       "    </tr>\n",
       "    <tr>\n",
       "      <th>2013-01-03</th>\n",
       "      <td>-0.475069</td>\n",
       "      <td>-1.294479</td>\n",
       "      <td>0.550302</td>\n",
       "      <td>2.144888</td>\n",
       "      <td>NaN</td>\n",
       "    </tr>\n",
       "    <tr>\n",
       "      <th>2013-01-04</th>\n",
       "      <td>-3.016154</td>\n",
       "      <td>0.621143</td>\n",
       "      <td>-0.524145</td>\n",
       "      <td>-0.354935</td>\n",
       "      <td>NaN</td>\n",
       "    </tr>\n",
       "  </tbody>\n",
       "</table>\n",
       "</div>"
      ],
      "text/plain": [
       "                   A         B         C         D    E\n",
       "2013-01-01  0.593820  0.174552  1.032826 -0.805720  1.0\n",
       "2013-01-02 -0.709554 -1.873294  0.463508 -1.417828  1.0\n",
       "2013-01-03 -0.475069 -1.294479  0.550302  2.144888  NaN\n",
       "2013-01-04 -3.016154  0.621143 -0.524145 -0.354935  NaN"
      ]
     },
     "execution_count": 56,
     "metadata": {},
     "output_type": "execute_result"
    }
   ],
   "source": [
    "psdf1 = ps.from_pandas(pdf1)\n",
    "\n",
    "psdf1"
   ]
  },
  {
   "cell_type": "code",
   "execution_count": 0,
   "metadata": {
    "application/vnd.databricks.v1+cell": {
     "cellMetadata": {
      "byteLimit": 2048000,
      "rowLimit": 10000
     },
     "inputWidgets": {},
     "nuid": "1b239eef-f90b-4354-801e-4e4ed7b0eeb6",
     "showTitle": false,
     "title": ""
    }
   },
   "outputs": [
    {
     "output_type": "execute_result",
     "data": {
      "text/html": [
       "<div>\n",
       "<style scoped>\n",
       "    .dataframe tbody tr th:only-of-type {\n",
       "        vertical-align: middle;\n",
       "    }\n",
       "\n",
       "    .dataframe tbody tr th {\n",
       "        vertical-align: top;\n",
       "    }\n",
       "\n",
       "    .dataframe thead th {\n",
       "        text-align: right;\n",
       "    }\n",
       "</style>\n",
       "<table border=\"1\" class=\"dataframe\">\n",
       "  <thead>\n",
       "    <tr style=\"text-align: right;\">\n",
       "      <th></th>\n",
       "      <th>A</th>\n",
       "      <th>B</th>\n",
       "      <th>C</th>\n",
       "      <th>D</th>\n",
       "      <th>E</th>\n",
       "    </tr>\n",
       "  </thead>\n",
       "  <tbody>\n",
       "    <tr>\n",
       "      <th>2013-01-01</th>\n",
       "      <td>0.593820</td>\n",
       "      <td>0.174552</td>\n",
       "      <td>1.032826</td>\n",
       "      <td>-0.805720</td>\n",
       "      <td>1.0</td>\n",
       "    </tr>\n",
       "    <tr>\n",
       "      <th>2013-01-02</th>\n",
       "      <td>-0.709554</td>\n",
       "      <td>-1.873294</td>\n",
       "      <td>0.463508</td>\n",
       "      <td>-1.417828</td>\n",
       "      <td>1.0</td>\n",
       "    </tr>\n",
       "  </tbody>\n",
       "</table>\n",
       "</div>"
      ],
      "text/plain": [
       "                   A         B         C         D    E\n",
       "2013-01-01  0.593820  0.174552  1.032826 -0.805720  1.0\n",
       "2013-01-02 -0.709554 -1.873294  0.463508 -1.417828  1.0"
      ]
     },
     "execution_count": 57,
     "metadata": {},
     "output_type": "execute_result"
    }
   ],
   "source": [
    "# drop missing values\n",
    "\n",
    "psdf1.dropna(how='any')"
   ]
  },
  {
   "cell_type": "code",
   "execution_count": 0,
   "metadata": {
    "application/vnd.databricks.v1+cell": {
     "cellMetadata": {
      "byteLimit": 2048000,
      "rowLimit": 10000
     },
     "inputWidgets": {},
     "nuid": "5393a411-51c6-445f-ba31-6c30414a1b05",
     "showTitle": false,
     "title": ""
    }
   },
   "outputs": [
    {
     "output_type": "execute_result",
     "data": {
      "text/html": [
       "<div>\n",
       "<style scoped>\n",
       "    .dataframe tbody tr th:only-of-type {\n",
       "        vertical-align: middle;\n",
       "    }\n",
       "\n",
       "    .dataframe tbody tr th {\n",
       "        vertical-align: top;\n",
       "    }\n",
       "\n",
       "    .dataframe thead th {\n",
       "        text-align: right;\n",
       "    }\n",
       "</style>\n",
       "<table border=\"1\" class=\"dataframe\">\n",
       "  <thead>\n",
       "    <tr style=\"text-align: right;\">\n",
       "      <th></th>\n",
       "      <th>A</th>\n",
       "      <th>B</th>\n",
       "      <th>C</th>\n",
       "      <th>D</th>\n",
       "      <th>E</th>\n",
       "    </tr>\n",
       "  </thead>\n",
       "  <tbody>\n",
       "    <tr>\n",
       "      <th>2013-01-01</th>\n",
       "      <td>0.593820</td>\n",
       "      <td>0.174552</td>\n",
       "      <td>1.032826</td>\n",
       "      <td>-0.805720</td>\n",
       "      <td>1.0</td>\n",
       "    </tr>\n",
       "    <tr>\n",
       "      <th>2013-01-02</th>\n",
       "      <td>-0.709554</td>\n",
       "      <td>-1.873294</td>\n",
       "      <td>0.463508</td>\n",
       "      <td>-1.417828</td>\n",
       "      <td>1.0</td>\n",
       "    </tr>\n",
       "    <tr>\n",
       "      <th>2013-01-03</th>\n",
       "      <td>-0.475069</td>\n",
       "      <td>-1.294479</td>\n",
       "      <td>0.550302</td>\n",
       "      <td>2.144888</td>\n",
       "      <td>5.0</td>\n",
       "    </tr>\n",
       "    <tr>\n",
       "      <th>2013-01-04</th>\n",
       "      <td>-3.016154</td>\n",
       "      <td>0.621143</td>\n",
       "      <td>-0.524145</td>\n",
       "      <td>-0.354935</td>\n",
       "      <td>5.0</td>\n",
       "    </tr>\n",
       "  </tbody>\n",
       "</table>\n",
       "</div>"
      ],
      "text/plain": [
       "                   A         B         C         D    E\n",
       "2013-01-01  0.593820  0.174552  1.032826 -0.805720  1.0\n",
       "2013-01-02 -0.709554 -1.873294  0.463508 -1.417828  1.0\n",
       "2013-01-03 -0.475069 -1.294479  0.550302  2.144888  5.0\n",
       "2013-01-04 -3.016154  0.621143 -0.524145 -0.354935  5.0"
      ]
     },
     "execution_count": 58,
     "metadata": {},
     "output_type": "execute_result"
    }
   ],
   "source": [
    "psdf1.fillna(value=5)"
   ]
  },
  {
   "cell_type": "markdown",
   "metadata": {
    "application/vnd.databricks.v1+cell": {
     "cellMetadata": {
      "byteLimit": 2048000,
      "rowLimit": 10000
     },
     "inputWidgets": {},
     "nuid": "ca529b02-c7cd-4f03-a78e-2e5f2a805063",
     "showTitle": false,
     "title": ""
    }
   },
   "source": [
    "\n",
    "# Operations\n",
    "\n"
   ]
  },
  {
   "cell_type": "code",
   "execution_count": 0,
   "metadata": {
    "application/vnd.databricks.v1+cell": {
     "cellMetadata": {
      "byteLimit": 2048000,
      "rowLimit": 10000
     },
     "inputWidgets": {},
     "nuid": "92c12798-22bb-4193-ba8e-f4540097dca3",
     "showTitle": false,
     "title": ""
    }
   },
   "outputs": [
    {
     "output_type": "execute_result",
     "data": {
      "text/plain": [
       "A   -0.833347\n",
       "B   -0.436186\n",
       "C    0.017560\n",
       "D    0.088714\n",
       "dtype: float64"
      ]
     },
     "execution_count": 59,
     "metadata": {},
     "output_type": "execute_result"
    }
   ],
   "source": [
    "psdf.mean()"
   ]
  },
  {
   "cell_type": "markdown",
   "metadata": {
    "application/vnd.databricks.v1+cell": {
     "cellMetadata": {
      "byteLimit": 2048000,
      "rowLimit": 10000
     },
     "inputWidgets": {},
     "nuid": "2233f5e6-ed07-4630-9a57-f4ee1c45c2ce",
     "showTitle": false,
     "title": ""
    }
   },
   "source": [
    "\n",
    "# Grouping"
   ]
  },
  {
   "cell_type": "code",
   "execution_count": 0,
   "metadata": {
    "application/vnd.databricks.v1+cell": {
     "cellMetadata": {
      "byteLimit": 2048000,
      "rowLimit": 10000
     },
     "inputWidgets": {},
     "nuid": "68da84f5-4193-4929-aaa0-b58d3dcb9de2",
     "showTitle": false,
     "title": ""
    }
   },
   "outputs": [],
   "source": [
    "psdf = ps.DataFrame(\n",
    "    {\n",
    "        'A' : ['foo','bar','foo','bar','foo','bar','foo','bar','foo','foo'],\n",
    "        'B' : ['one','one','two','three','one','two','one','one','one','two'],\n",
    "        'C': np.random.randn(10),\n",
    "        'D': np.random.randn(10)\n",
    "    }\n",
    ")"
   ]
  },
  {
   "cell_type": "code",
   "execution_count": 0,
   "metadata": {
    "application/vnd.databricks.v1+cell": {
     "cellMetadata": {
      "byteLimit": 2048000,
      "rowLimit": 10000
     },
     "inputWidgets": {},
     "nuid": "af94dd83-1167-4ffd-9414-b4b1ecc658ec",
     "showTitle": false,
     "title": ""
    }
   },
   "outputs": [
    {
     "output_type": "execute_result",
     "data": {
      "text/html": [
       "<div>\n",
       "<style scoped>\n",
       "    .dataframe tbody tr th:only-of-type {\n",
       "        vertical-align: middle;\n",
       "    }\n",
       "\n",
       "    .dataframe tbody tr th {\n",
       "        vertical-align: top;\n",
       "    }\n",
       "\n",
       "    .dataframe thead th {\n",
       "        text-align: right;\n",
       "    }\n",
       "</style>\n",
       "<table border=\"1\" class=\"dataframe\">\n",
       "  <thead>\n",
       "    <tr style=\"text-align: right;\">\n",
       "      <th></th>\n",
       "      <th>A</th>\n",
       "      <th>B</th>\n",
       "      <th>C</th>\n",
       "      <th>D</th>\n",
       "    </tr>\n",
       "  </thead>\n",
       "  <tbody>\n",
       "    <tr>\n",
       "      <th>0</th>\n",
       "      <td>foo</td>\n",
       "      <td>one</td>\n",
       "      <td>-0.970349</td>\n",
       "      <td>0.775853</td>\n",
       "    </tr>\n",
       "    <tr>\n",
       "      <th>1</th>\n",
       "      <td>bar</td>\n",
       "      <td>one</td>\n",
       "      <td>-1.763137</td>\n",
       "      <td>0.551602</td>\n",
       "    </tr>\n",
       "    <tr>\n",
       "      <th>2</th>\n",
       "      <td>foo</td>\n",
       "      <td>two</td>\n",
       "      <td>0.233802</td>\n",
       "      <td>-0.361768</td>\n",
       "    </tr>\n",
       "    <tr>\n",
       "      <th>3</th>\n",
       "      <td>bar</td>\n",
       "      <td>three</td>\n",
       "      <td>0.926821</td>\n",
       "      <td>-0.216680</td>\n",
       "    </tr>\n",
       "    <tr>\n",
       "      <th>4</th>\n",
       "      <td>foo</td>\n",
       "      <td>one</td>\n",
       "      <td>1.932384</td>\n",
       "      <td>-1.102780</td>\n",
       "    </tr>\n",
       "    <tr>\n",
       "      <th>5</th>\n",
       "      <td>bar</td>\n",
       "      <td>two</td>\n",
       "      <td>-0.850934</td>\n",
       "      <td>0.374522</td>\n",
       "    </tr>\n",
       "    <tr>\n",
       "      <th>6</th>\n",
       "      <td>foo</td>\n",
       "      <td>one</td>\n",
       "      <td>0.146959</td>\n",
       "      <td>0.543828</td>\n",
       "    </tr>\n",
       "    <tr>\n",
       "      <th>7</th>\n",
       "      <td>bar</td>\n",
       "      <td>one</td>\n",
       "      <td>-0.225823</td>\n",
       "      <td>0.473678</td>\n",
       "    </tr>\n",
       "    <tr>\n",
       "      <th>8</th>\n",
       "      <td>foo</td>\n",
       "      <td>one</td>\n",
       "      <td>-2.421085</td>\n",
       "      <td>0.557798</td>\n",
       "    </tr>\n",
       "    <tr>\n",
       "      <th>9</th>\n",
       "      <td>foo</td>\n",
       "      <td>two</td>\n",
       "      <td>-0.324325</td>\n",
       "      <td>-2.247356</td>\n",
       "    </tr>\n",
       "  </tbody>\n",
       "</table>\n",
       "</div>"
      ],
      "text/plain": [
       "     A      B         C         D\n",
       "0  foo    one -0.970349  0.775853\n",
       "1  bar    one -1.763137  0.551602\n",
       "2  foo    two  0.233802 -0.361768\n",
       "3  bar  three  0.926821 -0.216680\n",
       "4  foo    one  1.932384 -1.102780\n",
       "5  bar    two -0.850934  0.374522\n",
       "6  foo    one  0.146959  0.543828\n",
       "7  bar    one -0.225823  0.473678\n",
       "8  foo    one -2.421085  0.557798\n",
       "9  foo    two -0.324325 -2.247356"
      ]
     },
     "execution_count": 61,
     "metadata": {},
     "output_type": "execute_result"
    }
   ],
   "source": [
    "psdf"
   ]
  },
  {
   "cell_type": "code",
   "execution_count": 0,
   "metadata": {
    "application/vnd.databricks.v1+cell": {
     "cellMetadata": {
      "byteLimit": 2048000,
      "rowLimit": 10000
     },
     "inputWidgets": {},
     "nuid": "e10625cb-d752-48ea-8272-067417c5dcf0",
     "showTitle": false,
     "title": ""
    }
   },
   "outputs": [
    {
     "output_type": "execute_result",
     "data": {
      "text/html": [
       "<div>\n",
       "<style scoped>\n",
       "    .dataframe tbody tr th:only-of-type {\n",
       "        vertical-align: middle;\n",
       "    }\n",
       "\n",
       "    .dataframe tbody tr th {\n",
       "        vertical-align: top;\n",
       "    }\n",
       "\n",
       "    .dataframe thead th {\n",
       "        text-align: right;\n",
       "    }\n",
       "</style>\n",
       "<table border=\"1\" class=\"dataframe\">\n",
       "  <thead>\n",
       "    <tr style=\"text-align: right;\">\n",
       "      <th></th>\n",
       "      <th>C</th>\n",
       "      <th>D</th>\n",
       "    </tr>\n",
       "    <tr>\n",
       "      <th>A</th>\n",
       "      <th></th>\n",
       "      <th></th>\n",
       "    </tr>\n",
       "  </thead>\n",
       "  <tbody>\n",
       "    <tr>\n",
       "      <th>bar</th>\n",
       "      <td>-1.913073</td>\n",
       "      <td>1.183122</td>\n",
       "    </tr>\n",
       "    <tr>\n",
       "      <th>foo</th>\n",
       "      <td>-1.402613</td>\n",
       "      <td>-1.834426</td>\n",
       "    </tr>\n",
       "  </tbody>\n",
       "</table>\n",
       "</div>"
      ],
      "text/plain": [
       "            C         D\n",
       "A                      \n",
       "bar -1.913073  1.183122\n",
       "foo -1.402613 -1.834426"
      ]
     },
     "execution_count": 62,
     "metadata": {},
     "output_type": "execute_result"
    }
   ],
   "source": [
    "psdf.groupby('A').sum()"
   ]
  },
  {
   "cell_type": "code",
   "execution_count": 0,
   "metadata": {
    "application/vnd.databricks.v1+cell": {
     "cellMetadata": {
      "byteLimit": 2048000,
      "rowLimit": 10000
     },
     "inputWidgets": {},
     "nuid": "9633fb7b-f4c5-454a-9cb8-18ab87090adb",
     "showTitle": false,
     "title": ""
    }
   },
   "outputs": [
    {
     "output_type": "execute_result",
     "data": {
      "text/html": [
       "<div>\n",
       "<style scoped>\n",
       "    .dataframe tbody tr th:only-of-type {\n",
       "        vertical-align: middle;\n",
       "    }\n",
       "\n",
       "    .dataframe tbody tr th {\n",
       "        vertical-align: top;\n",
       "    }\n",
       "\n",
       "    .dataframe thead th {\n",
       "        text-align: right;\n",
       "    }\n",
       "</style>\n",
       "<table border=\"1\" class=\"dataframe\">\n",
       "  <thead>\n",
       "    <tr style=\"text-align: right;\">\n",
       "      <th></th>\n",
       "      <th></th>\n",
       "      <th>C</th>\n",
       "      <th>D</th>\n",
       "    </tr>\n",
       "    <tr>\n",
       "      <th>A</th>\n",
       "      <th>B</th>\n",
       "      <th></th>\n",
       "      <th></th>\n",
       "    </tr>\n",
       "  </thead>\n",
       "  <tbody>\n",
       "    <tr>\n",
       "      <th>foo</th>\n",
       "      <th>one</th>\n",
       "      <td>-1.312091</td>\n",
       "      <td>0.774699</td>\n",
       "    </tr>\n",
       "    <tr>\n",
       "      <th>bar</th>\n",
       "      <th>one</th>\n",
       "      <td>-1.988960</td>\n",
       "      <td>1.025280</td>\n",
       "    </tr>\n",
       "    <tr>\n",
       "      <th>foo</th>\n",
       "      <th>two</th>\n",
       "      <td>-0.090522</td>\n",
       "      <td>-2.609124</td>\n",
       "    </tr>\n",
       "    <tr>\n",
       "      <th rowspan=\"2\" valign=\"top\">bar</th>\n",
       "      <th>three</th>\n",
       "      <td>0.926821</td>\n",
       "      <td>-0.216680</td>\n",
       "    </tr>\n",
       "    <tr>\n",
       "      <th>two</th>\n",
       "      <td>-0.850934</td>\n",
       "      <td>0.374522</td>\n",
       "    </tr>\n",
       "  </tbody>\n",
       "</table>\n",
       "</div>"
      ],
      "text/plain": [
       "                  C         D\n",
       "A   B                        \n",
       "foo one   -1.312091  0.774699\n",
       "bar one   -1.988960  1.025280\n",
       "foo two   -0.090522 -2.609124\n",
       "bar three  0.926821 -0.216680\n",
       "    two   -0.850934  0.374522"
      ]
     },
     "execution_count": 63,
     "metadata": {},
     "output_type": "execute_result"
    }
   ],
   "source": [
    "psdf.groupby(['A','B']).sum()"
   ]
  },
  {
   "cell_type": "markdown",
   "metadata": {
    "application/vnd.databricks.v1+cell": {
     "cellMetadata": {
      "byteLimit": 2048000,
      "rowLimit": 10000
     },
     "inputWidgets": {},
     "nuid": "000923f6-c68e-4afd-a6ea-135325bcefae",
     "showTitle": false,
     "title": ""
    }
   },
   "source": [
    "\n",
    "# Transform & apply function \n",
    "\n"
   ]
  },
  {
   "cell_type": "code",
   "execution_count": 0,
   "metadata": {
    "application/vnd.databricks.v1+cell": {
     "cellMetadata": {
      "byteLimit": 2048000,
      "rowLimit": 10000
     },
     "inputWidgets": {},
     "nuid": "8b0fbcb3-0fa3-479a-ac97-4b5049602676",
     "showTitle": false,
     "title": ""
    }
   },
   "outputs": [
    {
     "output_type": "execute_result",
     "data": {
      "text/html": [
       "<div>\n",
       "<style scoped>\n",
       "    .dataframe tbody tr th:only-of-type {\n",
       "        vertical-align: middle;\n",
       "    }\n",
       "\n",
       "    .dataframe tbody tr th {\n",
       "        vertical-align: top;\n",
       "    }\n",
       "\n",
       "    .dataframe thead th {\n",
       "        text-align: right;\n",
       "    }\n",
       "</style>\n",
       "<table border=\"1\" class=\"dataframe\">\n",
       "  <thead>\n",
       "    <tr style=\"text-align: right;\">\n",
       "      <th></th>\n",
       "      <th>a</th>\n",
       "      <th>b</th>\n",
       "    </tr>\n",
       "  </thead>\n",
       "  <tbody>\n",
       "    <tr>\n",
       "      <th>0</th>\n",
       "      <td>2</td>\n",
       "      <td>5</td>\n",
       "    </tr>\n",
       "    <tr>\n",
       "      <th>1</th>\n",
       "      <td>3</td>\n",
       "      <td>6</td>\n",
       "    </tr>\n",
       "    <tr>\n",
       "      <th>2</th>\n",
       "      <td>4</td>\n",
       "      <td>7</td>\n",
       "    </tr>\n",
       "  </tbody>\n",
       "</table>\n",
       "</div>"
      ],
      "text/plain": [
       "   a  b\n",
       "0  2  5\n",
       "1  3  6\n",
       "2  4  7"
      ]
     },
     "execution_count": 64,
     "metadata": {},
     "output_type": "execute_result"
    }
   ],
   "source": [
    "psdf = ps.DataFrame({'a':[1,2,3],'b': [4,5,6]})\n",
    "\n",
    "def pandas_plus(pser):\n",
    "    return pser + 1 \n",
    "\n",
    "psdf.transform(pandas_plus)"
   ]
  },
  {
   "cell_type": "code",
   "execution_count": 0,
   "metadata": {
    "application/vnd.databricks.v1+cell": {
     "cellMetadata": {
      "byteLimit": 2048000,
      "rowLimit": 10000
     },
     "inputWidgets": {},
     "nuid": "a70bf7c1-d2bd-49df-9bcb-31b0feb73742",
     "showTitle": false,
     "title": ""
    }
   },
   "outputs": [
    {
     "output_type": "execute_result",
     "data": {
      "text/html": [
       "<div>\n",
       "<style scoped>\n",
       "    .dataframe tbody tr th:only-of-type {\n",
       "        vertical-align: middle;\n",
       "    }\n",
       "\n",
       "    .dataframe tbody tr th {\n",
       "        vertical-align: top;\n",
       "    }\n",
       "\n",
       "    .dataframe thead th {\n",
       "        text-align: right;\n",
       "    }\n",
       "</style>\n",
       "<table border=\"1\" class=\"dataframe\">\n",
       "  <thead>\n",
       "    <tr style=\"text-align: right;\">\n",
       "      <th></th>\n",
       "      <th>a</th>\n",
       "      <th>b</th>\n",
       "    </tr>\n",
       "  </thead>\n",
       "  <tbody>\n",
       "    <tr>\n",
       "      <th>0</th>\n",
       "      <td>1.0</td>\n",
       "      <td>NaN</td>\n",
       "    </tr>\n",
       "    <tr>\n",
       "      <th>1</th>\n",
       "      <td>NaN</td>\n",
       "      <td>5.0</td>\n",
       "    </tr>\n",
       "    <tr>\n",
       "      <th>2</th>\n",
       "      <td>3.0</td>\n",
       "      <td>NaN</td>\n",
       "    </tr>\n",
       "  </tbody>\n",
       "</table>\n",
       "</div>"
      ],
      "text/plain": [
       "     a    b\n",
       "0  1.0  NaN\n",
       "1  NaN  5.0\n",
       "2  3.0  NaN"
      ]
     },
     "execution_count": 65,
     "metadata": {},
     "output_type": "execute_result"
    }
   ],
   "source": [
    "psdf = ps.DataFrame({'a':[1,2,3],'b': [4,5,6]})\n",
    "\n",
    "def pandas_plus(pser):\n",
    "    return pser[pser % 2 == 1]\n",
    "\n",
    "psdf.apply(pandas_plus)"
   ]
  },
  {
   "cell_type": "code",
   "execution_count": 0,
   "metadata": {
    "application/vnd.databricks.v1+cell": {
     "cellMetadata": {
      "byteLimit": 2048000,
      "rowLimit": 10000
     },
     "inputWidgets": {},
     "nuid": "1917b31f-653b-4355-935b-aff70c731970",
     "showTitle": false,
     "title": ""
    }
   },
   "outputs": [
    {
     "output_type": "execute_result",
     "data": {
      "text/plain": [
       "0    5\n",
       "1    7\n",
       "2    9\n",
       "dtype: int64"
      ]
     },
     "execution_count": 66,
     "metadata": {},
     "output_type": "execute_result"
    }
   ],
   "source": [
    "psdf = ps.DataFrame({'a':[1,2,3], 'b':[4,5,6]})\n",
    "def pandas_plus(pser):\n",
    "    return sum(pser)\n",
    "\n",
    "psdf.apply(pandas_plus,axis='columns')"
   ]
  },
  {
   "cell_type": "code",
   "execution_count": 0,
   "metadata": {
    "application/vnd.databricks.v1+cell": {
     "cellMetadata": {
      "byteLimit": 2048000,
      "rowLimit": 10000
     },
     "inputWidgets": {},
     "nuid": "70a98a40-56e0-4f1a-9929-555b4d865022",
     "showTitle": false,
     "title": ""
    }
   },
   "outputs": [
    {
     "output_type": "execute_result",
     "data": {
      "text/html": [
       "<div>\n",
       "<style scoped>\n",
       "    .dataframe tbody tr th:only-of-type {\n",
       "        vertical-align: middle;\n",
       "    }\n",
       "\n",
       "    .dataframe tbody tr th {\n",
       "        vertical-align: top;\n",
       "    }\n",
       "\n",
       "    .dataframe thead th {\n",
       "        text-align: right;\n",
       "    }\n",
       "</style>\n",
       "<table border=\"1\" class=\"dataframe\">\n",
       "  <thead>\n",
       "    <tr style=\"text-align: right;\">\n",
       "      <th></th>\n",
       "      <th>a</th>\n",
       "      <th>b</th>\n",
       "    </tr>\n",
       "  </thead>\n",
       "  <tbody>\n",
       "    <tr>\n",
       "      <th>0</th>\n",
       "      <td>2</td>\n",
       "      <td>5</td>\n",
       "    </tr>\n",
       "    <tr>\n",
       "      <th>1</th>\n",
       "      <td>3</td>\n",
       "      <td>6</td>\n",
       "    </tr>\n",
       "    <tr>\n",
       "      <th>2</th>\n",
       "      <td>4</td>\n",
       "      <td>7</td>\n",
       "    </tr>\n",
       "  </tbody>\n",
       "</table>\n",
       "</div>"
      ],
      "text/plain": [
       "   a  b\n",
       "0  2  5\n",
       "1  3  6\n",
       "2  4  7"
      ]
     },
     "execution_count": 67,
     "metadata": {},
     "output_type": "execute_result"
    }
   ],
   "source": [
    "psdf = ps.DataFrame({'a':[1,2,3],'b':[4,5,6]})\n",
    "\n",
    "def pandas_plus(pdf):\n",
    "    return pdf + 1\n",
    "\n",
    "psdf.pandas_on_spark.transform_batch(pandas_plus)\n"
   ]
  },
  {
   "cell_type": "code",
   "execution_count": 0,
   "metadata": {
    "application/vnd.databricks.v1+cell": {
     "cellMetadata": {
      "byteLimit": 2048000,
      "rowLimit": 10000
     },
     "inputWidgets": {},
     "nuid": "8775d1f0-1eff-45de-adfa-33f996c18160",
     "showTitle": false,
     "title": ""
    }
   },
   "outputs": [
    {
     "output_type": "execute_result",
     "data": {
      "text/html": [
       "<div>\n",
       "<style scoped>\n",
       "    .dataframe tbody tr th:only-of-type {\n",
       "        vertical-align: middle;\n",
       "    }\n",
       "\n",
       "    .dataframe tbody tr th {\n",
       "        vertical-align: top;\n",
       "    }\n",
       "\n",
       "    .dataframe thead th {\n",
       "        text-align: right;\n",
       "    }\n",
       "</style>\n",
       "<table border=\"1\" class=\"dataframe\">\n",
       "  <thead>\n",
       "    <tr style=\"text-align: right;\">\n",
       "      <th></th>\n",
       "      <th>a</th>\n",
       "      <th>b</th>\n",
       "    </tr>\n",
       "  </thead>\n",
       "  <tbody>\n",
       "    <tr>\n",
       "      <th>1</th>\n",
       "      <td>2</td>\n",
       "      <td>5</td>\n",
       "    </tr>\n",
       "    <tr>\n",
       "      <th>2</th>\n",
       "      <td>3</td>\n",
       "      <td>6</td>\n",
       "    </tr>\n",
       "  </tbody>\n",
       "</table>\n",
       "</div>"
      ],
      "text/plain": [
       "   a  b\n",
       "1  2  5\n",
       "2  3  6"
      ]
     },
     "execution_count": 68,
     "metadata": {},
     "output_type": "execute_result"
    }
   ],
   "source": [
    "psdf = ps.DataFrame({'a':[1,2,3],'b':[4,5,6]})\n",
    "\n",
    "def pandas_plus(pdf):\n",
    "    return pdf[pdf.a > 1]\n",
    "\n",
    "psdf.pandas_on_spark.apply_batch(pandas_plus)"
   ]
  },
  {
   "cell_type": "code",
   "execution_count": 0,
   "metadata": {
    "application/vnd.databricks.v1+cell": {
     "cellMetadata": {
      "byteLimit": 2048000,
      "rowLimit": 10000
     },
     "inputWidgets": {},
     "nuid": "b7857453-5b46-408c-9a5a-6fd7b96d77d8",
     "showTitle": false,
     "title": ""
    }
   },
   "outputs": [
    {
     "output_type": "execute_result",
     "data": {
      "text/plain": [
       "0    2\n",
       "1    3\n",
       "2    4\n",
       "Name: a, dtype: int64"
      ]
     },
     "execution_count": 69,
     "metadata": {},
     "output_type": "execute_result"
    }
   ],
   "source": [
    "psdf = ps.DataFrame({'a':[1,2,3],'b':[4,5,6]})\n",
    "\n",
    "def pandas_plus(pser):\n",
    "    return pser + 1\n",
    "\n",
    "psdf.a.pandas_on_spark.transform_batch(pandas_plus)"
   ]
  },
  {
   "cell_type": "markdown",
   "metadata": {
    "application/vnd.databricks.v1+cell": {
     "cellMetadata": {
      "byteLimit": 2048000,
      "rowLimit": 10000
     },
     "inputWidgets": {},
     "nuid": "3d0338ca-12fa-4532-94b9-5a2f7075d83c",
     "showTitle": false,
     "title": ""
    }
   },
   "source": [
    "\n",
    "# Type casting "
   ]
  },
  {
   "cell_type": "code",
   "execution_count": 0,
   "metadata": {
    "application/vnd.databricks.v1+cell": {
     "cellMetadata": {
      "byteLimit": 2048000,
      "rowLimit": 10000
     },
     "inputWidgets": {},
     "nuid": "ee0ad0c1-c534-4cff-89c6-5e9e83859a57",
     "showTitle": false,
     "title": ""
    }
   },
   "outputs": [
    {
     "output_type": "display_data",
     "data": {
      "text/plain": [
       "\u001B[0;31m---------------------------------------------------------------------------\u001B[0m\n",
       "\u001B[0;31mPySparkTypeError\u001B[0m                          Traceback (most recent call last)\n",
       "File \u001B[0;32m<command-1329073826761124>, line 3\u001B[0m\n",
       "\u001B[1;32m      1\u001B[0m \u001B[38;5;66;03m# spark df\u001B[39;00m\n",
       "\u001B[0;32m----> 3\u001B[0m sdf \u001B[38;5;241m=\u001B[39m \u001B[43mspark\u001B[49m\u001B[38;5;241;43m.\u001B[39;49m\u001B[43mcreateDataFrame\u001B[49m\u001B[43m(\u001B[49m\u001B[43m[\u001B[49m\n",
       "\u001B[1;32m      4\u001B[0m \u001B[43m    \u001B[49m\u001B[43m(\u001B[49m\u001B[38;5;241;43m1\u001B[39;49m\u001B[43m,\u001B[49m\u001B[43m(\u001B[49m\u001B[38;5;241;43m1.3\u001B[39;49m\u001B[43m)\u001B[49m\u001B[43m,\u001B[49m\u001B[43m \u001B[49m\u001B[38;5;241;43m1.2\u001B[39;49m\u001B[43m,\u001B[49m\u001B[43m \u001B[49m\u001B[38;5;241;43m1.3\u001B[39;49m\u001B[43m,\u001B[49m\u001B[43m \u001B[49m\u001B[38;5;241;43m1\u001B[39;49m\u001B[43m,\u001B[49m\u001B[43m \u001B[49m\u001B[38;5;241;43m1\u001B[39;49m\u001B[43m,\u001B[49m\u001B[43m \u001B[49m\u001B[38;5;241;43m1\u001B[39;49m\u001B[43m,\u001B[49m\u001B[43m \u001B[49m\u001B[43mdatetime\u001B[49m\u001B[43m(\u001B[49m\u001B[38;5;241;43m2020\u001B[39;49m\u001B[43m,\u001B[49m\u001B[38;5;241;43m10\u001B[39;49m\u001B[43m,\u001B[49m\u001B[38;5;241;43m27\u001B[39;49m\u001B[43m)\u001B[49m\u001B[43m,\u001B[49m\u001B[43m \u001B[49m\u001B[38;5;124;43m\"\u001B[39;49m\u001B[38;5;124;43m1\u001B[39;49m\u001B[38;5;124;43m\"\u001B[39;49m\u001B[43m,\u001B[49m\u001B[43m \u001B[49m\u001B[38;5;28;43;01mTrue\u001B[39;49;00m\u001B[43m,\u001B[49m\u001B[43m \u001B[49m\u001B[43mdatetime\u001B[49m\u001B[43m(\u001B[49m\u001B[38;5;241;43m2023\u001B[39;49m\u001B[43m,\u001B[49m\u001B[38;5;241;43m12\u001B[39;49m\u001B[43m,\u001B[49m\u001B[43m \u001B[49m\u001B[38;5;241;43m4\u001B[39;49m\u001B[43m)\u001B[49m\u001B[43m)\u001B[49m\u001B[43m]\u001B[49m\u001B[43m,\u001B[49m\n",
       "\u001B[1;32m      5\u001B[0m \u001B[43m                            \u001B[49m\u001B[38;5;124;43m'\u001B[39;49m\u001B[38;5;124;43mtinyint tinyint,decimal decimal,float float,double double, integer integer,long long,short short,timestamp timestamp,string string,boolean boolean, date: date\u001B[39;49m\u001B[38;5;124;43m'\u001B[39;49m\u001B[43m)\u001B[49m\n",
       "\n",
       "File \u001B[0;32m/databricks/spark/python/pyspark/instrumentation_utils.py:48\u001B[0m, in \u001B[0;36m_wrap_function.<locals>.wrapper\u001B[0;34m(*args, **kwargs)\u001B[0m\n",
       "\u001B[1;32m     46\u001B[0m start \u001B[38;5;241m=\u001B[39m time\u001B[38;5;241m.\u001B[39mperf_counter()\n",
       "\u001B[1;32m     47\u001B[0m \u001B[38;5;28;01mtry\u001B[39;00m:\n",
       "\u001B[0;32m---> 48\u001B[0m     res \u001B[38;5;241m=\u001B[39m \u001B[43mfunc\u001B[49m\u001B[43m(\u001B[49m\u001B[38;5;241;43m*\u001B[39;49m\u001B[43margs\u001B[49m\u001B[43m,\u001B[49m\u001B[43m \u001B[49m\u001B[38;5;241;43m*\u001B[39;49m\u001B[38;5;241;43m*\u001B[39;49m\u001B[43mkwargs\u001B[49m\u001B[43m)\u001B[49m\n",
       "\u001B[1;32m     49\u001B[0m     logger\u001B[38;5;241m.\u001B[39mlog_success(\n",
       "\u001B[1;32m     50\u001B[0m         module_name, class_name, function_name, time\u001B[38;5;241m.\u001B[39mperf_counter() \u001B[38;5;241m-\u001B[39m start, signature\n",
       "\u001B[1;32m     51\u001B[0m     )\n",
       "\u001B[1;32m     52\u001B[0m     \u001B[38;5;28;01mreturn\u001B[39;00m res\n",
       "\n",
       "File \u001B[0;32m/databricks/spark/python/pyspark/sql/session.py:1407\u001B[0m, in \u001B[0;36mSparkSession.createDataFrame\u001B[0;34m(self, data, schema, samplingRatio, verifySchema)\u001B[0m\n",
       "\u001B[1;32m   1402\u001B[0m \u001B[38;5;28;01mif\u001B[39;00m has_pandas \u001B[38;5;129;01mand\u001B[39;00m \u001B[38;5;28misinstance\u001B[39m(data, pd\u001B[38;5;241m.\u001B[39mDataFrame):\n",
       "\u001B[1;32m   1403\u001B[0m     \u001B[38;5;66;03m# Create a DataFrame from pandas DataFrame.\u001B[39;00m\n",
       "\u001B[1;32m   1404\u001B[0m     \u001B[38;5;28;01mreturn\u001B[39;00m \u001B[38;5;28msuper\u001B[39m(SparkSession, \u001B[38;5;28mself\u001B[39m)\u001B[38;5;241m.\u001B[39mcreateDataFrame(  \u001B[38;5;66;03m# type: ignore[call-overload]\u001B[39;00m\n",
       "\u001B[1;32m   1405\u001B[0m         data, schema, samplingRatio, verifySchema\n",
       "\u001B[1;32m   1406\u001B[0m     )\n",
       "\u001B[0;32m-> 1407\u001B[0m \u001B[38;5;28;01mreturn\u001B[39;00m \u001B[38;5;28;43mself\u001B[39;49m\u001B[38;5;241;43m.\u001B[39;49m\u001B[43m_create_dataframe\u001B[49m\u001B[43m(\u001B[49m\n",
       "\u001B[1;32m   1408\u001B[0m \u001B[43m    \u001B[49m\u001B[43mdata\u001B[49m\u001B[43m,\u001B[49m\u001B[43m \u001B[49m\u001B[43mschema\u001B[49m\u001B[43m,\u001B[49m\u001B[43m \u001B[49m\u001B[43msamplingRatio\u001B[49m\u001B[43m,\u001B[49m\u001B[43m \u001B[49m\u001B[43mverifySchema\u001B[49m\u001B[43m  \u001B[49m\u001B[38;5;66;43;03m# type: ignore[arg-type]\u001B[39;49;00m\n",
       "\u001B[1;32m   1409\u001B[0m \u001B[43m\u001B[49m\u001B[43m)\u001B[49m\n",
       "\n",
       "File \u001B[0;32m/databricks/spark/python/pyspark/sql/session.py:1457\u001B[0m, in \u001B[0;36mSparkSession._create_dataframe\u001B[0;34m(self, data, schema, samplingRatio, verifySchema)\u001B[0m\n",
       "\u001B[1;32m   1455\u001B[0m     rdd, struct \u001B[38;5;241m=\u001B[39m \u001B[38;5;28mself\u001B[39m\u001B[38;5;241m.\u001B[39m_createFromRDD(data\u001B[38;5;241m.\u001B[39mmap(prepare), schema, samplingRatio)\n",
       "\u001B[1;32m   1456\u001B[0m \u001B[38;5;28;01melse\u001B[39;00m:\n",
       "\u001B[0;32m-> 1457\u001B[0m     rdd, struct \u001B[38;5;241m=\u001B[39m \u001B[38;5;28;43mself\u001B[39;49m\u001B[38;5;241;43m.\u001B[39;49m\u001B[43m_createFromLocal\u001B[49m\u001B[43m(\u001B[49m\u001B[38;5;28;43mmap\u001B[39;49m\u001B[43m(\u001B[49m\u001B[43mprepare\u001B[49m\u001B[43m,\u001B[49m\u001B[43m \u001B[49m\u001B[43mdata\u001B[49m\u001B[43m)\u001B[49m\u001B[43m,\u001B[49m\u001B[43m \u001B[49m\u001B[43mschema\u001B[49m\u001B[43m)\u001B[49m\n",
       "\u001B[1;32m   1458\u001B[0m jrdd \u001B[38;5;241m=\u001B[39m \u001B[38;5;28mself\u001B[39m\u001B[38;5;241m.\u001B[39m_jvm\u001B[38;5;241m.\u001B[39mSerDeUtil\u001B[38;5;241m.\u001B[39mtoJavaArray(rdd\u001B[38;5;241m.\u001B[39m_to_java_object_rdd())\n",
       "\u001B[1;32m   1459\u001B[0m jdf \u001B[38;5;241m=\u001B[39m \u001B[38;5;28mself\u001B[39m\u001B[38;5;241m.\u001B[39m_jsparkSession\u001B[38;5;241m.\u001B[39mapplySchemaToPythonRDD(jrdd\u001B[38;5;241m.\u001B[39mrdd(), struct\u001B[38;5;241m.\u001B[39mjson())\n",
       "\n",
       "File \u001B[0;32m/databricks/spark/python/pyspark/sql/session.py:1059\u001B[0m, in \u001B[0;36mSparkSession._createFromLocal\u001B[0;34m(self, data, schema)\u001B[0m\n",
       "\u001B[1;32m   1051\u001B[0m \u001B[38;5;28;01mdef\u001B[39;00m \u001B[38;5;21m_createFromLocal\u001B[39m(\n",
       "\u001B[1;32m   1052\u001B[0m     \u001B[38;5;28mself\u001B[39m, data: Iterable[Any], schema: Optional[Union[DataType, List[\u001B[38;5;28mstr\u001B[39m]]]\n",
       "\u001B[1;32m   1053\u001B[0m ) \u001B[38;5;241m-\u001B[39m\u001B[38;5;241m>\u001B[39m Tuple[\u001B[38;5;124m\"\u001B[39m\u001B[38;5;124mRDD[Tuple]\u001B[39m\u001B[38;5;124m\"\u001B[39m, StructType]:\n",
       "\u001B[1;32m   1054\u001B[0m     \u001B[38;5;124;03m\"\"\"\u001B[39;00m\n",
       "\u001B[1;32m   1055\u001B[0m \u001B[38;5;124;03m    Create an RDD for DataFrame from a list or pandas.DataFrame, returns the RDD and schema.\u001B[39;00m\n",
       "\u001B[1;32m   1056\u001B[0m \u001B[38;5;124;03m    This would be broken with table acl enabled as user process does not have permission to\u001B[39;00m\n",
       "\u001B[1;32m   1057\u001B[0m \u001B[38;5;124;03m    write temp files.\u001B[39;00m\n",
       "\u001B[1;32m   1058\u001B[0m \u001B[38;5;124;03m    \"\"\"\u001B[39;00m\n",
       "\u001B[0;32m-> 1059\u001B[0m     internal_data, struct \u001B[38;5;241m=\u001B[39m \u001B[38;5;28;43mself\u001B[39;49m\u001B[38;5;241;43m.\u001B[39;49m\u001B[43m_wrap_data_schema\u001B[49m\u001B[43m(\u001B[49m\u001B[43mdata\u001B[49m\u001B[43m,\u001B[49m\u001B[43m \u001B[49m\u001B[43mschema\u001B[49m\u001B[43m)\u001B[49m\n",
       "\u001B[1;32m   1060\u001B[0m     \u001B[38;5;28;01mreturn\u001B[39;00m \u001B[38;5;28mself\u001B[39m\u001B[38;5;241m.\u001B[39m_sc\u001B[38;5;241m.\u001B[39mparallelize(internal_data), struct\n",
       "\n",
       "File \u001B[0;32m/databricks/spark/python/pyspark/sql/session.py:1023\u001B[0m, in \u001B[0;36mSparkSession._wrap_data_schema\u001B[0;34m(self, data, schema)\u001B[0m\n",
       "\u001B[1;32m   1018\u001B[0m \u001B[38;5;28;01mdef\u001B[39;00m \u001B[38;5;21m_wrap_data_schema\u001B[39m(\n",
       "\u001B[1;32m   1019\u001B[0m     \u001B[38;5;28mself\u001B[39m, data: Iterable[Any], schema: Optional[Union[DataType, List[\u001B[38;5;28mstr\u001B[39m]]]\n",
       "\u001B[1;32m   1020\u001B[0m ) \u001B[38;5;241m-\u001B[39m\u001B[38;5;241m>\u001B[39m Tuple[Iterable[Tuple], StructType]:\n",
       "\u001B[1;32m   1021\u001B[0m     \u001B[38;5;66;03m# make sure data could consumed multiple times\u001B[39;00m\n",
       "\u001B[1;32m   1022\u001B[0m     \u001B[38;5;28;01mif\u001B[39;00m \u001B[38;5;129;01mnot\u001B[39;00m \u001B[38;5;28misinstance\u001B[39m(data, \u001B[38;5;28mlist\u001B[39m):\n",
       "\u001B[0;32m-> 1023\u001B[0m         data \u001B[38;5;241m=\u001B[39m \u001B[38;5;28;43mlist\u001B[39;49m\u001B[43m(\u001B[49m\u001B[43mdata\u001B[49m\u001B[43m)\u001B[49m\n",
       "\u001B[1;32m   1025\u001B[0m     \u001B[38;5;28;01mif\u001B[39;00m schema \u001B[38;5;129;01mis\u001B[39;00m \u001B[38;5;28;01mNone\u001B[39;00m \u001B[38;5;129;01mor\u001B[39;00m \u001B[38;5;28misinstance\u001B[39m(schema, (\u001B[38;5;28mlist\u001B[39m, \u001B[38;5;28mtuple\u001B[39m)):\n",
       "\u001B[1;32m   1026\u001B[0m         struct \u001B[38;5;241m=\u001B[39m \u001B[38;5;28mself\u001B[39m\u001B[38;5;241m.\u001B[39m_inferSchemaFromList(data, names\u001B[38;5;241m=\u001B[39mschema)\n",
       "\n",
       "File \u001B[0;32m/databricks/spark/python/pyspark/sql/session.py:1423\u001B[0m, in \u001B[0;36mSparkSession._create_dataframe.<locals>.prepare\u001B[0;34m(obj)\u001B[0m\n",
       "\u001B[1;32m   1421\u001B[0m \u001B[38;5;129m@no_type_check\u001B[39m\n",
       "\u001B[1;32m   1422\u001B[0m \u001B[38;5;28;01mdef\u001B[39;00m \u001B[38;5;21mprepare\u001B[39m(obj):\n",
       "\u001B[0;32m-> 1423\u001B[0m     \u001B[43mverify_func\u001B[49m\u001B[43m(\u001B[49m\u001B[43mobj\u001B[49m\u001B[43m)\u001B[49m\n",
       "\u001B[1;32m   1424\u001B[0m     \u001B[38;5;28;01mreturn\u001B[39;00m obj\n",
       "\n",
       "File \u001B[0;32m/databricks/spark/python/pyspark/sql/types.py:2187\u001B[0m, in \u001B[0;36m_make_type_verifier.<locals>.verify\u001B[0;34m(obj)\u001B[0m\n",
       "\u001B[1;32m   2185\u001B[0m \u001B[38;5;28;01mdef\u001B[39;00m \u001B[38;5;21mverify\u001B[39m(obj: Any) \u001B[38;5;241m-\u001B[39m\u001B[38;5;241m>\u001B[39m \u001B[38;5;28;01mNone\u001B[39;00m:\n",
       "\u001B[1;32m   2186\u001B[0m     \u001B[38;5;28;01mif\u001B[39;00m \u001B[38;5;129;01mnot\u001B[39;00m verify_nullability(obj):\n",
       "\u001B[0;32m-> 2187\u001B[0m         \u001B[43mverify_value\u001B[49m\u001B[43m(\u001B[49m\u001B[43mobj\u001B[49m\u001B[43m)\u001B[49m\n",
       "\n",
       "File \u001B[0;32m/databricks/spark/python/pyspark/sql/types.py:2160\u001B[0m, in \u001B[0;36m_make_type_verifier.<locals>.verify_struct\u001B[0;34m(obj)\u001B[0m\n",
       "\u001B[1;32m   2150\u001B[0m         \u001B[38;5;28;01mraise\u001B[39;00m PySparkValueError(\n",
       "\u001B[1;32m   2151\u001B[0m             error_class\u001B[38;5;241m=\u001B[39m\u001B[38;5;124m\"\u001B[39m\u001B[38;5;124mLENGTH_SHOULD_BE_THE_SAME\u001B[39m\u001B[38;5;124m\"\u001B[39m,\n",
       "\u001B[1;32m   2152\u001B[0m             message_parameters\u001B[38;5;241m=\u001B[39m{\n",
       "\u001B[0;32m   (...)\u001B[0m\n",
       "\u001B[1;32m   2157\u001B[0m             },\n",
       "\u001B[1;32m   2158\u001B[0m         )\n",
       "\u001B[1;32m   2159\u001B[0m     \u001B[38;5;28;01mfor\u001B[39;00m v, (_, verifier) \u001B[38;5;129;01min\u001B[39;00m \u001B[38;5;28mzip\u001B[39m(obj, verifiers):\n",
       "\u001B[0;32m-> 2160\u001B[0m         \u001B[43mverifier\u001B[49m\u001B[43m(\u001B[49m\u001B[43mv\u001B[49m\u001B[43m)\u001B[49m\n",
       "\u001B[1;32m   2161\u001B[0m \u001B[38;5;28;01melif\u001B[39;00m \u001B[38;5;28mhasattr\u001B[39m(obj, \u001B[38;5;124m\"\u001B[39m\u001B[38;5;124m__dict__\u001B[39m\u001B[38;5;124m\"\u001B[39m):\n",
       "\u001B[1;32m   2162\u001B[0m     d \u001B[38;5;241m=\u001B[39m obj\u001B[38;5;241m.\u001B[39m\u001B[38;5;18m__dict__\u001B[39m\n",
       "\n",
       "File \u001B[0;32m/databricks/spark/python/pyspark/sql/types.py:2187\u001B[0m, in \u001B[0;36m_make_type_verifier.<locals>.verify\u001B[0;34m(obj)\u001B[0m\n",
       "\u001B[1;32m   2185\u001B[0m \u001B[38;5;28;01mdef\u001B[39;00m \u001B[38;5;21mverify\u001B[39m(obj: Any) \u001B[38;5;241m-\u001B[39m\u001B[38;5;241m>\u001B[39m \u001B[38;5;28;01mNone\u001B[39;00m:\n",
       "\u001B[1;32m   2186\u001B[0m     \u001B[38;5;28;01mif\u001B[39;00m \u001B[38;5;129;01mnot\u001B[39;00m verify_nullability(obj):\n",
       "\u001B[0;32m-> 2187\u001B[0m         \u001B[43mverify_value\u001B[49m\u001B[43m(\u001B[49m\u001B[43mobj\u001B[49m\u001B[43m)\u001B[49m\n",
       "\n",
       "File \u001B[0;32m/databricks/spark/python/pyspark/sql/types.py:2181\u001B[0m, in \u001B[0;36m_make_type_verifier.<locals>.verify_default\u001B[0;34m(obj)\u001B[0m\n",
       "\u001B[1;32m   2179\u001B[0m \u001B[38;5;28;01mdef\u001B[39;00m \u001B[38;5;21mverify_default\u001B[39m(obj: Any) \u001B[38;5;241m-\u001B[39m\u001B[38;5;241m>\u001B[39m \u001B[38;5;28;01mNone\u001B[39;00m:\n",
       "\u001B[1;32m   2180\u001B[0m     assert_acceptable_types(obj)\n",
       "\u001B[0;32m-> 2181\u001B[0m     \u001B[43mverify_acceptable_types\u001B[49m\u001B[43m(\u001B[49m\u001B[43mobj\u001B[49m\u001B[43m)\u001B[49m\n",
       "\n",
       "File \u001B[0;32m/databricks/spark/python/pyspark/sql/types.py:2006\u001B[0m, in \u001B[0;36m_make_type_verifier.<locals>.verify_acceptable_types\u001B[0;34m(obj)\u001B[0m\n",
       "\u001B[1;32m   2003\u001B[0m \u001B[38;5;28;01mdef\u001B[39;00m \u001B[38;5;21mverify_acceptable_types\u001B[39m(obj: Any) \u001B[38;5;241m-\u001B[39m\u001B[38;5;241m>\u001B[39m \u001B[38;5;28;01mNone\u001B[39;00m:\n",
       "\u001B[1;32m   2004\u001B[0m     \u001B[38;5;66;03m# subclass of them can not be fromInternal in JVM\u001B[39;00m\n",
       "\u001B[1;32m   2005\u001B[0m     \u001B[38;5;28;01mif\u001B[39;00m \u001B[38;5;28mtype\u001B[39m(obj) \u001B[38;5;129;01mnot\u001B[39;00m \u001B[38;5;129;01min\u001B[39;00m _acceptable_types[_type]:\n",
       "\u001B[0;32m-> 2006\u001B[0m         \u001B[38;5;28;01mraise\u001B[39;00m PySparkTypeError(\n",
       "\u001B[1;32m   2007\u001B[0m             error_class\u001B[38;5;241m=\u001B[39m\u001B[38;5;124m\"\u001B[39m\u001B[38;5;124mCANNOT_ACCEPT_OBJECT_IN_TYPE\u001B[39m\u001B[38;5;124m\"\u001B[39m,\n",
       "\u001B[1;32m   2008\u001B[0m             message_parameters\u001B[38;5;241m=\u001B[39m{\n",
       "\u001B[1;32m   2009\u001B[0m                 \u001B[38;5;124m\"\u001B[39m\u001B[38;5;124mdata_type\u001B[39m\u001B[38;5;124m\"\u001B[39m: \u001B[38;5;28mstr\u001B[39m(dataType),\n",
       "\u001B[1;32m   2010\u001B[0m                 \u001B[38;5;124m\"\u001B[39m\u001B[38;5;124mobj_name\u001B[39m\u001B[38;5;124m\"\u001B[39m: \u001B[38;5;28mstr\u001B[39m(obj),\n",
       "\u001B[1;32m   2011\u001B[0m                 \u001B[38;5;124m\"\u001B[39m\u001B[38;5;124mobj_type\u001B[39m\u001B[38;5;124m\"\u001B[39m: \u001B[38;5;28mtype\u001B[39m(obj)\u001B[38;5;241m.\u001B[39m\u001B[38;5;18m__name__\u001B[39m,\n",
       "\u001B[1;32m   2012\u001B[0m             },\n",
       "\u001B[1;32m   2013\u001B[0m         )\n",
       "\n",
       "\u001B[0;31mPySparkTypeError\u001B[0m: [CANNOT_ACCEPT_OBJECT_IN_TYPE] `DecimalType(10,0)` can not accept object `1.3` in type `float`."
      ]
     },
     "metadata": {
      "application/vnd.databricks.v1+output": {
       "arguments": {},
       "data": "\u001B[0;31m---------------------------------------------------------------------------\u001B[0m\n\u001B[0;31mPySparkTypeError\u001B[0m                          Traceback (most recent call last)\nFile \u001B[0;32m<command-1329073826761124>, line 3\u001B[0m\n\u001B[1;32m      1\u001B[0m \u001B[38;5;66;03m# spark df\u001B[39;00m\n\u001B[0;32m----> 3\u001B[0m sdf \u001B[38;5;241m=\u001B[39m \u001B[43mspark\u001B[49m\u001B[38;5;241;43m.\u001B[39;49m\u001B[43mcreateDataFrame\u001B[49m\u001B[43m(\u001B[49m\u001B[43m[\u001B[49m\n\u001B[1;32m      4\u001B[0m \u001B[43m    \u001B[49m\u001B[43m(\u001B[49m\u001B[38;5;241;43m1\u001B[39;49m\u001B[43m,\u001B[49m\u001B[43m(\u001B[49m\u001B[38;5;241;43m1.3\u001B[39;49m\u001B[43m)\u001B[49m\u001B[43m,\u001B[49m\u001B[43m \u001B[49m\u001B[38;5;241;43m1.2\u001B[39;49m\u001B[43m,\u001B[49m\u001B[43m \u001B[49m\u001B[38;5;241;43m1.3\u001B[39;49m\u001B[43m,\u001B[49m\u001B[43m \u001B[49m\u001B[38;5;241;43m1\u001B[39;49m\u001B[43m,\u001B[49m\u001B[43m \u001B[49m\u001B[38;5;241;43m1\u001B[39;49m\u001B[43m,\u001B[49m\u001B[43m \u001B[49m\u001B[38;5;241;43m1\u001B[39;49m\u001B[43m,\u001B[49m\u001B[43m \u001B[49m\u001B[43mdatetime\u001B[49m\u001B[43m(\u001B[49m\u001B[38;5;241;43m2020\u001B[39;49m\u001B[43m,\u001B[49m\u001B[38;5;241;43m10\u001B[39;49m\u001B[43m,\u001B[49m\u001B[38;5;241;43m27\u001B[39;49m\u001B[43m)\u001B[49m\u001B[43m,\u001B[49m\u001B[43m \u001B[49m\u001B[38;5;124;43m\"\u001B[39;49m\u001B[38;5;124;43m1\u001B[39;49m\u001B[38;5;124;43m\"\u001B[39;49m\u001B[43m,\u001B[49m\u001B[43m \u001B[49m\u001B[38;5;28;43;01mTrue\u001B[39;49;00m\u001B[43m,\u001B[49m\u001B[43m \u001B[49m\u001B[43mdatetime\u001B[49m\u001B[43m(\u001B[49m\u001B[38;5;241;43m2023\u001B[39;49m\u001B[43m,\u001B[49m\u001B[38;5;241;43m12\u001B[39;49m\u001B[43m,\u001B[49m\u001B[43m \u001B[49m\u001B[38;5;241;43m4\u001B[39;49m\u001B[43m)\u001B[49m\u001B[43m)\u001B[49m\u001B[43m]\u001B[49m\u001B[43m,\u001B[49m\n\u001B[1;32m      5\u001B[0m \u001B[43m                            \u001B[49m\u001B[38;5;124;43m'\u001B[39;49m\u001B[38;5;124;43mtinyint tinyint,decimal decimal,float float,double double, integer integer,long long,short short,timestamp timestamp,string string,boolean boolean, date: date\u001B[39;49m\u001B[38;5;124;43m'\u001B[39;49m\u001B[43m)\u001B[49m\n\nFile \u001B[0;32m/databricks/spark/python/pyspark/instrumentation_utils.py:48\u001B[0m, in \u001B[0;36m_wrap_function.<locals>.wrapper\u001B[0;34m(*args, **kwargs)\u001B[0m\n\u001B[1;32m     46\u001B[0m start \u001B[38;5;241m=\u001B[39m time\u001B[38;5;241m.\u001B[39mperf_counter()\n\u001B[1;32m     47\u001B[0m \u001B[38;5;28;01mtry\u001B[39;00m:\n\u001B[0;32m---> 48\u001B[0m     res \u001B[38;5;241m=\u001B[39m \u001B[43mfunc\u001B[49m\u001B[43m(\u001B[49m\u001B[38;5;241;43m*\u001B[39;49m\u001B[43margs\u001B[49m\u001B[43m,\u001B[49m\u001B[43m \u001B[49m\u001B[38;5;241;43m*\u001B[39;49m\u001B[38;5;241;43m*\u001B[39;49m\u001B[43mkwargs\u001B[49m\u001B[43m)\u001B[49m\n\u001B[1;32m     49\u001B[0m     logger\u001B[38;5;241m.\u001B[39mlog_success(\n\u001B[1;32m     50\u001B[0m         module_name, class_name, function_name, time\u001B[38;5;241m.\u001B[39mperf_counter() \u001B[38;5;241m-\u001B[39m start, signature\n\u001B[1;32m     51\u001B[0m     )\n\u001B[1;32m     52\u001B[0m     \u001B[38;5;28;01mreturn\u001B[39;00m res\n\nFile \u001B[0;32m/databricks/spark/python/pyspark/sql/session.py:1407\u001B[0m, in \u001B[0;36mSparkSession.createDataFrame\u001B[0;34m(self, data, schema, samplingRatio, verifySchema)\u001B[0m\n\u001B[1;32m   1402\u001B[0m \u001B[38;5;28;01mif\u001B[39;00m has_pandas \u001B[38;5;129;01mand\u001B[39;00m \u001B[38;5;28misinstance\u001B[39m(data, pd\u001B[38;5;241m.\u001B[39mDataFrame):\n\u001B[1;32m   1403\u001B[0m     \u001B[38;5;66;03m# Create a DataFrame from pandas DataFrame.\u001B[39;00m\n\u001B[1;32m   1404\u001B[0m     \u001B[38;5;28;01mreturn\u001B[39;00m \u001B[38;5;28msuper\u001B[39m(SparkSession, \u001B[38;5;28mself\u001B[39m)\u001B[38;5;241m.\u001B[39mcreateDataFrame(  \u001B[38;5;66;03m# type: ignore[call-overload]\u001B[39;00m\n\u001B[1;32m   1405\u001B[0m         data, schema, samplingRatio, verifySchema\n\u001B[1;32m   1406\u001B[0m     )\n\u001B[0;32m-> 1407\u001B[0m \u001B[38;5;28;01mreturn\u001B[39;00m \u001B[38;5;28;43mself\u001B[39;49m\u001B[38;5;241;43m.\u001B[39;49m\u001B[43m_create_dataframe\u001B[49m\u001B[43m(\u001B[49m\n\u001B[1;32m   1408\u001B[0m \u001B[43m    \u001B[49m\u001B[43mdata\u001B[49m\u001B[43m,\u001B[49m\u001B[43m \u001B[49m\u001B[43mschema\u001B[49m\u001B[43m,\u001B[49m\u001B[43m \u001B[49m\u001B[43msamplingRatio\u001B[49m\u001B[43m,\u001B[49m\u001B[43m \u001B[49m\u001B[43mverifySchema\u001B[49m\u001B[43m  \u001B[49m\u001B[38;5;66;43;03m# type: ignore[arg-type]\u001B[39;49;00m\n\u001B[1;32m   1409\u001B[0m \u001B[43m\u001B[49m\u001B[43m)\u001B[49m\n\nFile \u001B[0;32m/databricks/spark/python/pyspark/sql/session.py:1457\u001B[0m, in \u001B[0;36mSparkSession._create_dataframe\u001B[0;34m(self, data, schema, samplingRatio, verifySchema)\u001B[0m\n\u001B[1;32m   1455\u001B[0m     rdd, struct \u001B[38;5;241m=\u001B[39m \u001B[38;5;28mself\u001B[39m\u001B[38;5;241m.\u001B[39m_createFromRDD(data\u001B[38;5;241m.\u001B[39mmap(prepare), schema, samplingRatio)\n\u001B[1;32m   1456\u001B[0m \u001B[38;5;28;01melse\u001B[39;00m:\n\u001B[0;32m-> 1457\u001B[0m     rdd, struct \u001B[38;5;241m=\u001B[39m \u001B[38;5;28;43mself\u001B[39;49m\u001B[38;5;241;43m.\u001B[39;49m\u001B[43m_createFromLocal\u001B[49m\u001B[43m(\u001B[49m\u001B[38;5;28;43mmap\u001B[39;49m\u001B[43m(\u001B[49m\u001B[43mprepare\u001B[49m\u001B[43m,\u001B[49m\u001B[43m \u001B[49m\u001B[43mdata\u001B[49m\u001B[43m)\u001B[49m\u001B[43m,\u001B[49m\u001B[43m \u001B[49m\u001B[43mschema\u001B[49m\u001B[43m)\u001B[49m\n\u001B[1;32m   1458\u001B[0m jrdd \u001B[38;5;241m=\u001B[39m \u001B[38;5;28mself\u001B[39m\u001B[38;5;241m.\u001B[39m_jvm\u001B[38;5;241m.\u001B[39mSerDeUtil\u001B[38;5;241m.\u001B[39mtoJavaArray(rdd\u001B[38;5;241m.\u001B[39m_to_java_object_rdd())\n\u001B[1;32m   1459\u001B[0m jdf \u001B[38;5;241m=\u001B[39m \u001B[38;5;28mself\u001B[39m\u001B[38;5;241m.\u001B[39m_jsparkSession\u001B[38;5;241m.\u001B[39mapplySchemaToPythonRDD(jrdd\u001B[38;5;241m.\u001B[39mrdd(), struct\u001B[38;5;241m.\u001B[39mjson())\n\nFile \u001B[0;32m/databricks/spark/python/pyspark/sql/session.py:1059\u001B[0m, in \u001B[0;36mSparkSession._createFromLocal\u001B[0;34m(self, data, schema)\u001B[0m\n\u001B[1;32m   1051\u001B[0m \u001B[38;5;28;01mdef\u001B[39;00m \u001B[38;5;21m_createFromLocal\u001B[39m(\n\u001B[1;32m   1052\u001B[0m     \u001B[38;5;28mself\u001B[39m, data: Iterable[Any], schema: Optional[Union[DataType, List[\u001B[38;5;28mstr\u001B[39m]]]\n\u001B[1;32m   1053\u001B[0m ) \u001B[38;5;241m-\u001B[39m\u001B[38;5;241m>\u001B[39m Tuple[\u001B[38;5;124m\"\u001B[39m\u001B[38;5;124mRDD[Tuple]\u001B[39m\u001B[38;5;124m\"\u001B[39m, StructType]:\n\u001B[1;32m   1054\u001B[0m     \u001B[38;5;124;03m\"\"\"\u001B[39;00m\n\u001B[1;32m   1055\u001B[0m \u001B[38;5;124;03m    Create an RDD for DataFrame from a list or pandas.DataFrame, returns the RDD and schema.\u001B[39;00m\n\u001B[1;32m   1056\u001B[0m \u001B[38;5;124;03m    This would be broken with table acl enabled as user process does not have permission to\u001B[39;00m\n\u001B[1;32m   1057\u001B[0m \u001B[38;5;124;03m    write temp files.\u001B[39;00m\n\u001B[1;32m   1058\u001B[0m \u001B[38;5;124;03m    \"\"\"\u001B[39;00m\n\u001B[0;32m-> 1059\u001B[0m     internal_data, struct \u001B[38;5;241m=\u001B[39m \u001B[38;5;28;43mself\u001B[39;49m\u001B[38;5;241;43m.\u001B[39;49m\u001B[43m_wrap_data_schema\u001B[49m\u001B[43m(\u001B[49m\u001B[43mdata\u001B[49m\u001B[43m,\u001B[49m\u001B[43m \u001B[49m\u001B[43mschema\u001B[49m\u001B[43m)\u001B[49m\n\u001B[1;32m   1060\u001B[0m     \u001B[38;5;28;01mreturn\u001B[39;00m \u001B[38;5;28mself\u001B[39m\u001B[38;5;241m.\u001B[39m_sc\u001B[38;5;241m.\u001B[39mparallelize(internal_data), struct\n\nFile \u001B[0;32m/databricks/spark/python/pyspark/sql/session.py:1023\u001B[0m, in \u001B[0;36mSparkSession._wrap_data_schema\u001B[0;34m(self, data, schema)\u001B[0m\n\u001B[1;32m   1018\u001B[0m \u001B[38;5;28;01mdef\u001B[39;00m \u001B[38;5;21m_wrap_data_schema\u001B[39m(\n\u001B[1;32m   1019\u001B[0m     \u001B[38;5;28mself\u001B[39m, data: Iterable[Any], schema: Optional[Union[DataType, List[\u001B[38;5;28mstr\u001B[39m]]]\n\u001B[1;32m   1020\u001B[0m ) \u001B[38;5;241m-\u001B[39m\u001B[38;5;241m>\u001B[39m Tuple[Iterable[Tuple], StructType]:\n\u001B[1;32m   1021\u001B[0m     \u001B[38;5;66;03m# make sure data could consumed multiple times\u001B[39;00m\n\u001B[1;32m   1022\u001B[0m     \u001B[38;5;28;01mif\u001B[39;00m \u001B[38;5;129;01mnot\u001B[39;00m \u001B[38;5;28misinstance\u001B[39m(data, \u001B[38;5;28mlist\u001B[39m):\n\u001B[0;32m-> 1023\u001B[0m         data \u001B[38;5;241m=\u001B[39m \u001B[38;5;28;43mlist\u001B[39;49m\u001B[43m(\u001B[49m\u001B[43mdata\u001B[49m\u001B[43m)\u001B[49m\n\u001B[1;32m   1025\u001B[0m     \u001B[38;5;28;01mif\u001B[39;00m schema \u001B[38;5;129;01mis\u001B[39;00m \u001B[38;5;28;01mNone\u001B[39;00m \u001B[38;5;129;01mor\u001B[39;00m \u001B[38;5;28misinstance\u001B[39m(schema, (\u001B[38;5;28mlist\u001B[39m, \u001B[38;5;28mtuple\u001B[39m)):\n\u001B[1;32m   1026\u001B[0m         struct \u001B[38;5;241m=\u001B[39m \u001B[38;5;28mself\u001B[39m\u001B[38;5;241m.\u001B[39m_inferSchemaFromList(data, names\u001B[38;5;241m=\u001B[39mschema)\n\nFile \u001B[0;32m/databricks/spark/python/pyspark/sql/session.py:1423\u001B[0m, in \u001B[0;36mSparkSession._create_dataframe.<locals>.prepare\u001B[0;34m(obj)\u001B[0m\n\u001B[1;32m   1421\u001B[0m \u001B[38;5;129m@no_type_check\u001B[39m\n\u001B[1;32m   1422\u001B[0m \u001B[38;5;28;01mdef\u001B[39;00m \u001B[38;5;21mprepare\u001B[39m(obj):\n\u001B[0;32m-> 1423\u001B[0m     \u001B[43mverify_func\u001B[49m\u001B[43m(\u001B[49m\u001B[43mobj\u001B[49m\u001B[43m)\u001B[49m\n\u001B[1;32m   1424\u001B[0m     \u001B[38;5;28;01mreturn\u001B[39;00m obj\n\nFile \u001B[0;32m/databricks/spark/python/pyspark/sql/types.py:2187\u001B[0m, in \u001B[0;36m_make_type_verifier.<locals>.verify\u001B[0;34m(obj)\u001B[0m\n\u001B[1;32m   2185\u001B[0m \u001B[38;5;28;01mdef\u001B[39;00m \u001B[38;5;21mverify\u001B[39m(obj: Any) \u001B[38;5;241m-\u001B[39m\u001B[38;5;241m>\u001B[39m \u001B[38;5;28;01mNone\u001B[39;00m:\n\u001B[1;32m   2186\u001B[0m     \u001B[38;5;28;01mif\u001B[39;00m \u001B[38;5;129;01mnot\u001B[39;00m verify_nullability(obj):\n\u001B[0;32m-> 2187\u001B[0m         \u001B[43mverify_value\u001B[49m\u001B[43m(\u001B[49m\u001B[43mobj\u001B[49m\u001B[43m)\u001B[49m\n\nFile \u001B[0;32m/databricks/spark/python/pyspark/sql/types.py:2160\u001B[0m, in \u001B[0;36m_make_type_verifier.<locals>.verify_struct\u001B[0;34m(obj)\u001B[0m\n\u001B[1;32m   2150\u001B[0m         \u001B[38;5;28;01mraise\u001B[39;00m PySparkValueError(\n\u001B[1;32m   2151\u001B[0m             error_class\u001B[38;5;241m=\u001B[39m\u001B[38;5;124m\"\u001B[39m\u001B[38;5;124mLENGTH_SHOULD_BE_THE_SAME\u001B[39m\u001B[38;5;124m\"\u001B[39m,\n\u001B[1;32m   2152\u001B[0m             message_parameters\u001B[38;5;241m=\u001B[39m{\n\u001B[0;32m   (...)\u001B[0m\n\u001B[1;32m   2157\u001B[0m             },\n\u001B[1;32m   2158\u001B[0m         )\n\u001B[1;32m   2159\u001B[0m     \u001B[38;5;28;01mfor\u001B[39;00m v, (_, verifier) \u001B[38;5;129;01min\u001B[39;00m \u001B[38;5;28mzip\u001B[39m(obj, verifiers):\n\u001B[0;32m-> 2160\u001B[0m         \u001B[43mverifier\u001B[49m\u001B[43m(\u001B[49m\u001B[43mv\u001B[49m\u001B[43m)\u001B[49m\n\u001B[1;32m   2161\u001B[0m \u001B[38;5;28;01melif\u001B[39;00m \u001B[38;5;28mhasattr\u001B[39m(obj, \u001B[38;5;124m\"\u001B[39m\u001B[38;5;124m__dict__\u001B[39m\u001B[38;5;124m\"\u001B[39m):\n\u001B[1;32m   2162\u001B[0m     d \u001B[38;5;241m=\u001B[39m obj\u001B[38;5;241m.\u001B[39m\u001B[38;5;18m__dict__\u001B[39m\n\nFile \u001B[0;32m/databricks/spark/python/pyspark/sql/types.py:2187\u001B[0m, in \u001B[0;36m_make_type_verifier.<locals>.verify\u001B[0;34m(obj)\u001B[0m\n\u001B[1;32m   2185\u001B[0m \u001B[38;5;28;01mdef\u001B[39;00m \u001B[38;5;21mverify\u001B[39m(obj: Any) \u001B[38;5;241m-\u001B[39m\u001B[38;5;241m>\u001B[39m \u001B[38;5;28;01mNone\u001B[39;00m:\n\u001B[1;32m   2186\u001B[0m     \u001B[38;5;28;01mif\u001B[39;00m \u001B[38;5;129;01mnot\u001B[39;00m verify_nullability(obj):\n\u001B[0;32m-> 2187\u001B[0m         \u001B[43mverify_value\u001B[49m\u001B[43m(\u001B[49m\u001B[43mobj\u001B[49m\u001B[43m)\u001B[49m\n\nFile \u001B[0;32m/databricks/spark/python/pyspark/sql/types.py:2181\u001B[0m, in \u001B[0;36m_make_type_verifier.<locals>.verify_default\u001B[0;34m(obj)\u001B[0m\n\u001B[1;32m   2179\u001B[0m \u001B[38;5;28;01mdef\u001B[39;00m \u001B[38;5;21mverify_default\u001B[39m(obj: Any) \u001B[38;5;241m-\u001B[39m\u001B[38;5;241m>\u001B[39m \u001B[38;5;28;01mNone\u001B[39;00m:\n\u001B[1;32m   2180\u001B[0m     assert_acceptable_types(obj)\n\u001B[0;32m-> 2181\u001B[0m     \u001B[43mverify_acceptable_types\u001B[49m\u001B[43m(\u001B[49m\u001B[43mobj\u001B[49m\u001B[43m)\u001B[49m\n\nFile \u001B[0;32m/databricks/spark/python/pyspark/sql/types.py:2006\u001B[0m, in \u001B[0;36m_make_type_verifier.<locals>.verify_acceptable_types\u001B[0;34m(obj)\u001B[0m\n\u001B[1;32m   2003\u001B[0m \u001B[38;5;28;01mdef\u001B[39;00m \u001B[38;5;21mverify_acceptable_types\u001B[39m(obj: Any) \u001B[38;5;241m-\u001B[39m\u001B[38;5;241m>\u001B[39m \u001B[38;5;28;01mNone\u001B[39;00m:\n\u001B[1;32m   2004\u001B[0m     \u001B[38;5;66;03m# subclass of them can not be fromInternal in JVM\u001B[39;00m\n\u001B[1;32m   2005\u001B[0m     \u001B[38;5;28;01mif\u001B[39;00m \u001B[38;5;28mtype\u001B[39m(obj) \u001B[38;5;129;01mnot\u001B[39;00m \u001B[38;5;129;01min\u001B[39;00m _acceptable_types[_type]:\n\u001B[0;32m-> 2006\u001B[0m         \u001B[38;5;28;01mraise\u001B[39;00m PySparkTypeError(\n\u001B[1;32m   2007\u001B[0m             error_class\u001B[38;5;241m=\u001B[39m\u001B[38;5;124m\"\u001B[39m\u001B[38;5;124mCANNOT_ACCEPT_OBJECT_IN_TYPE\u001B[39m\u001B[38;5;124m\"\u001B[39m,\n\u001B[1;32m   2008\u001B[0m             message_parameters\u001B[38;5;241m=\u001B[39m{\n\u001B[1;32m   2009\u001B[0m                 \u001B[38;5;124m\"\u001B[39m\u001B[38;5;124mdata_type\u001B[39m\u001B[38;5;124m\"\u001B[39m: \u001B[38;5;28mstr\u001B[39m(dataType),\n\u001B[1;32m   2010\u001B[0m                 \u001B[38;5;124m\"\u001B[39m\u001B[38;5;124mobj_name\u001B[39m\u001B[38;5;124m\"\u001B[39m: \u001B[38;5;28mstr\u001B[39m(obj),\n\u001B[1;32m   2011\u001B[0m                 \u001B[38;5;124m\"\u001B[39m\u001B[38;5;124mobj_type\u001B[39m\u001B[38;5;124m\"\u001B[39m: \u001B[38;5;28mtype\u001B[39m(obj)\u001B[38;5;241m.\u001B[39m\u001B[38;5;18m__name__\u001B[39m,\n\u001B[1;32m   2012\u001B[0m             },\n\u001B[1;32m   2013\u001B[0m         )\n\n\u001B[0;31mPySparkTypeError\u001B[0m: [CANNOT_ACCEPT_OBJECT_IN_TYPE] `DecimalType(10,0)` can not accept object `1.3` in type `float`.",
       "errorSummary": "<span class='ansi-red-fg'>PySparkTypeError</span>: [CANNOT_ACCEPT_OBJECT_IN_TYPE] `DecimalType(10,0)` can not accept object `1.3` in type `float`.",
       "errorTraceType": "ansi",
       "metadata": {},
       "type": "ipynbError"
      }
     },
     "output_type": "display_data"
    }
   ],
   "source": [
    "# spark df\n",
    "\n",
    "sdf = spark.createDataFrame([\n",
    "    (1,(1.3), 1.2, 1.3, 1, 1, 1, datetime(2020,10,27), \"1\", True, datetime(2023,12, 4))],\n",
    "                            'tinyint tinyint,decimal decimal,float float,double double, integer integer,long long,short short,timestamp timestamp,string string,boolean boolean, date: date')"
   ]
  },
  {
   "cell_type": "code",
   "execution_count": 0,
   "metadata": {
    "application/vnd.databricks.v1+cell": {
     "cellMetadata": {
      "byteLimit": 2048000,
      "rowLimit": 10000
     },
     "inputWidgets": {},
     "nuid": "ddab0b8e-97e1-494c-ba88-fc577a883f89",
     "showTitle": false,
     "title": ""
    }
   },
   "outputs": [
    {
     "output_type": "execute_result",
     "data": {
      "text/html": [
       "<table border='1'>\n",
       "<tr><th>int8</th><th>bool</th><th>float32</th><th>float64</th><th>int32</th><th>int64</th><th>int16</th><th>datetime</th><th>object_string</th><th>object_decimal</th><th>object_date</th></tr>\n",
       "<tr><td>1</td><td>true</td><td>1.0</td><td>1.0</td><td>1</td><td>1</td><td>1</td><td>2020-10-27 00:00:00</td><td>1</td><td>1.1</td><td>2020-10-27</td></tr>\n",
       "</table>\n"
      ],
      "text/plain": [
       "DataFrame[int8: tinyint, bool: boolean, float32: float, float64: double, int32: int, int64: bigint, int16: smallint, datetime: timestamp, object_string: string, object_decimal: string, object_date: date]"
      ]
     },
     "execution_count": 132,
     "metadata": {},
     "output_type": "execute_result"
    }
   ],
   "source": [
    "sdf"
   ]
  },
  {
   "cell_type": "code",
   "execution_count": 0,
   "metadata": {
    "application/vnd.databricks.v1+cell": {
     "cellMetadata": {
      "byteLimit": 2048000,
      "rowLimit": 10000
     },
     "inputWidgets": {},
     "nuid": "f37c70ca-80c2-49cb-9d19-f0e0371c1678",
     "showTitle": false,
     "title": ""
    }
   },
   "outputs": [
    {
     "output_type": "execute_result",
     "data": {
      "text/plain": [
       "[('int8', 'tinyint'),\n",
       " ('bool', 'boolean'),\n",
       " ('float32', 'float'),\n",
       " ('float64', 'double'),\n",
       " ('int32', 'int'),\n",
       " ('int64', 'bigint'),\n",
       " ('int16', 'smallint'),\n",
       " ('datetime', 'timestamp'),\n",
       " ('object_string', 'string'),\n",
       " ('object_decimal', 'string'),\n",
       " ('object_date', 'date')]"
      ]
     },
     "execution_count": 133,
     "metadata": {},
     "output_type": "execute_result"
    }
   ],
   "source": [
    "sdf.dtypes"
   ]
  },
  {
   "cell_type": "code",
   "execution_count": 0,
   "metadata": {
    "application/vnd.databricks.v1+cell": {
     "cellMetadata": {
      "byteLimit": 2048000,
      "rowLimit": 10000
     },
     "inputWidgets": {},
     "nuid": "6e32de53-96c9-45bf-89ed-5a80573dd765",
     "showTitle": false,
     "title": ""
    }
   },
   "outputs": [
    {
     "output_type": "execute_result",
     "data": {
      "text/plain": [
       "int8                        int8\n",
       "bool                        bool\n",
       "float32                  float32\n",
       "float64                  float64\n",
       "int32                      int32\n",
       "int64                      int64\n",
       "int16                      int16\n",
       "datetime          datetime64[ns]\n",
       "object_string             object\n",
       "object_decimal            object\n",
       "object_date               object\n",
       "dtype: object"
      ]
     },
     "execution_count": 134,
     "metadata": {},
     "output_type": "execute_result"
    }
   ],
   "source": [
    "# pandas-on-spark data types\n",
    "\n",
    "psdf = sdf.pandas_api()\n",
    "\n",
    "psdf.dtypes "
   ]
  },
  {
   "cell_type": "code",
   "execution_count": 0,
   "metadata": {
    "application/vnd.databricks.v1+cell": {
     "cellMetadata": {
      "byteLimit": 2048000,
      "rowLimit": 10000
     },
     "inputWidgets": {},
     "nuid": "ff671e69-9b32-4696-ae70-f9745c978459",
     "showTitle": false,
     "title": ""
    }
   },
   "outputs": [
    {
     "output_type": "execute_result",
     "data": {
      "text/html": [
       "<div>\n",
       "<style scoped>\n",
       "    .dataframe tbody tr th:only-of-type {\n",
       "        vertical-align: middle;\n",
       "    }\n",
       "\n",
       "    .dataframe tbody tr th {\n",
       "        vertical-align: top;\n",
       "    }\n",
       "\n",
       "    .dataframe thead th {\n",
       "        text-align: right;\n",
       "    }\n",
       "</style>\n",
       "<table border=\"1\" class=\"dataframe\">\n",
       "  <thead>\n",
       "    <tr style=\"text-align: right;\">\n",
       "      <th></th>\n",
       "      <th>int8</th>\n",
       "      <th>bool</th>\n",
       "      <th>float32</th>\n",
       "      <th>float64</th>\n",
       "      <th>int32</th>\n",
       "      <th>int64</th>\n",
       "      <th>int16</th>\n",
       "      <th>datetime</th>\n",
       "      <th>object_string</th>\n",
       "      <th>object_decimal</th>\n",
       "      <th>object_date</th>\n",
       "    </tr>\n",
       "  </thead>\n",
       "  <tbody>\n",
       "    <tr>\n",
       "      <th>0</th>\n",
       "      <td>1</td>\n",
       "      <td>True</td>\n",
       "      <td>1.0</td>\n",
       "      <td>1.0</td>\n",
       "      <td>1</td>\n",
       "      <td>1</td>\n",
       "      <td>1</td>\n",
       "      <td>2020-10-27</td>\n",
       "      <td>1</td>\n",
       "      <td>1.1</td>\n",
       "      <td>2020-10-27</td>\n",
       "    </tr>\n",
       "  </tbody>\n",
       "</table>\n",
       "</div>"
      ],
      "text/plain": [
       "   int8  bool  float32  float64  int32  int64  int16   datetime object_string object_decimal object_date\n",
       "0     1  True      1.0      1.0      1      1      1 2020-10-27             1            1.1  2020-10-27"
      ]
     },
     "execution_count": 135,
     "metadata": {},
     "output_type": "execute_result"
    }
   ],
   "source": [
    "psdf = ps.DataFrame({\n",
    "    \"int8\" :[1],\n",
    "    \"bool\" : [True],\n",
    "    \"float32\" : [1.0],\n",
    "    \"float64\" : [1.0],\n",
    "    \"int32\" : [1],\n",
    "    \"int64\" :[1] , \n",
    "    \"int16\" : [1],\n",
    "    \"datetime\" : [datetime(2020,10,27)],\n",
    "    \"object_string\" : [\"1\"],\n",
    "    \"object_decimal\" : [\"1.1\"],\n",
    "    \"object_date\" : [date(2020,10,27)]\n",
    "})\n",
    "\n",
    "psdf"
   ]
  },
  {
   "cell_type": "code",
   "execution_count": 0,
   "metadata": {
    "application/vnd.databricks.v1+cell": {
     "cellMetadata": {
      "byteLimit": 2048000,
      "rowLimit": 10000
     },
     "inputWidgets": {},
     "nuid": "50a3bcb5-5649-4d79-ac82-0392c54ac72f",
     "showTitle": false,
     "title": ""
    }
   },
   "outputs": [
    {
     "output_type": "execute_result",
     "data": {
      "text/plain": [
       "int8                        int8\n",
       "bool                        bool\n",
       "float32                  float32\n",
       "float64                  float64\n",
       "int32                      int32\n",
       "int64                      int64\n",
       "int16                      int16\n",
       "datetime          datetime64[ns]\n",
       "object_string             object\n",
       "object_decimal            object\n",
       "object_date               object\n",
       "dtype: object"
      ]
     },
     "execution_count": 136,
     "metadata": {},
     "output_type": "execute_result"
    }
   ],
   "source": [
    "# type casting pandas-on spark df\n",
    "\n",
    "psdf['int8'] = psdf['int8'].astype('int8')\n",
    "\n",
    "psdf['int16'] = psdf['int16'].astype('int16')\n",
    "\n",
    "psdf['int32'] = psdf['int32'].astype('int32')\n",
    "\n",
    "psdf['float32'] = psdf['float32'].astype('float32')\n",
    "\n",
    "psdf.dtypes "
   ]
  },
  {
   "cell_type": "code",
   "execution_count": 0,
   "metadata": {
    "application/vnd.databricks.v1+cell": {
     "cellMetadata": {
      "byteLimit": 2048000,
      "rowLimit": 10000
     },
     "inputWidgets": {},
     "nuid": "ddb87bc6-7c98-4bd1-968b-5578d37ae2d0",
     "showTitle": false,
     "title": ""
    }
   },
   "outputs": [],
   "source": [
    "# converting pandas on spark df to pyspark df \n",
    "\n",
    "sdf = psdf.to_spark()"
   ]
  },
  {
   "cell_type": "code",
   "execution_count": 0,
   "metadata": {
    "application/vnd.databricks.v1+cell": {
     "cellMetadata": {
      "byteLimit": 2048000,
      "rowLimit": 10000
     },
     "inputWidgets": {},
     "nuid": "c137730d-6aeb-49cd-b370-eafbb4bc0708",
     "showTitle": false,
     "title": ""
    }
   },
   "outputs": [
    {
     "output_type": "execute_result",
     "data": {
      "text/html": [
       "<table border='1'>\n",
       "<tr><th>int8</th><th>bool</th><th>float32</th><th>float64</th><th>int32</th><th>int64</th><th>int16</th><th>datetime</th><th>object_string</th><th>object_decimal</th><th>object_date</th></tr>\n",
       "<tr><td>1</td><td>true</td><td>1.0</td><td>1.0</td><td>1</td><td>1</td><td>1</td><td>2020-10-27 00:00:00</td><td>1</td><td>1.1</td><td>2020-10-27</td></tr>\n",
       "</table>\n"
      ],
      "text/plain": [
       "+----+----+-------+-------+-----+-----+-----+-------------------+-------------+--------------+-----------+\n",
       "|int8|bool|float32|float64|int32|int64|int16|           datetime|object_string|object_decimal|object_date|\n",
       "+----+----+-------+-------+-----+-----+-----+-------------------+-------------+--------------+-----------+\n",
       "|   1|true|    1.0|    1.0|    1|    1|    1|2020-10-27 00:00:00|            1|           1.1| 2020-10-27|\n",
       "+----+----+-------+-------+-----+-----+-----+-------------------+-------------+--------------+-----------+"
      ]
     },
     "execution_count": 138,
     "metadata": {},
     "output_type": "execute_result"
    }
   ],
   "source": [
    "sdf "
   ]
  },
  {
   "cell_type": "code",
   "execution_count": 0,
   "metadata": {
    "application/vnd.databricks.v1+cell": {
     "cellMetadata": {
      "byteLimit": 2048000,
      "rowLimit": 10000
     },
     "inputWidgets": {},
     "nuid": "eef066f8-9b62-4458-bf6f-02896409a36c",
     "showTitle": false,
     "title": ""
    }
   },
   "outputs": [
    {
     "output_type": "execute_result",
     "data": {
      "text/plain": [
       "[('int8', 'tinyint'),\n",
       " ('bool', 'boolean'),\n",
       " ('float32', 'float'),\n",
       " ('float64', 'double'),\n",
       " ('int32', 'int'),\n",
       " ('int64', 'bigint'),\n",
       " ('int16', 'smallint'),\n",
       " ('datetime', 'timestamp'),\n",
       " ('object_string', 'string'),\n",
       " ('object_decimal', 'string'),\n",
       " ('object_date', 'date')]"
      ]
     },
     "execution_count": 139,
     "metadata": {},
     "output_type": "execute_result"
    }
   ],
   "source": [
    "sdf.dtypes"
   ]
  },
  {
   "cell_type": "code",
   "execution_count": 0,
   "metadata": {
    "application/vnd.databricks.v1+cell": {
     "cellMetadata": {
      "byteLimit": 2048000,
      "rowLimit": 10000
     },
     "inputWidgets": {},
     "nuid": "77870177-74d1-49c5-a30d-aad129162bc8",
     "showTitle": false,
     "title": ""
    }
   },
   "outputs": [
    {
     "output_type": "execute_result",
     "data": {
      "text/plain": [
       "int8                        int8\n",
       "bool                        bool\n",
       "float32                  float32\n",
       "float64                  float64\n",
       "int32                      int32\n",
       "int64                      int64\n",
       "int16                      int16\n",
       "datetime          datetime64[ns]\n",
       "object_string             object\n",
       "object_decimal            object\n",
       "object_date               object\n",
       "dtype: object"
      ]
     },
     "execution_count": 140,
     "metadata": {},
     "output_type": "execute_result"
    }
   ],
   "source": [
    "# convert pandas=on-spark df to pandas df\n",
    "\n",
    "pdf = psdf.to_pandas()\n",
    "\n",
    "pdf.dtypes"
   ]
  },
  {
   "cell_type": "code",
   "execution_count": 0,
   "metadata": {
    "application/vnd.databricks.v1+cell": {
     "cellMetadata": {
      "byteLimit": 2048000,
      "rowLimit": 10000
     },
     "inputWidgets": {},
     "nuid": "4a8ac499-ba24-4288-87f5-bd77998bce15",
     "showTitle": false,
     "title": ""
    }
   },
   "outputs": [],
   "source": [
    "\n",
    "# categorical data casting is not supported in pyspark \n",
    "\n",
    "# ps.Series([pd.Categorical(1,2,3)])"
   ]
  },
  {
   "cell_type": "code",
   "execution_count": 0,
   "metadata": {
    "application/vnd.databricks.v1+cell": {
     "cellMetadata": {
      "byteLimit": 2048000,
      "rowLimit": 10000
     },
     "inputWidgets": {},
     "nuid": "1edf25a0-2327-4a53-8910-f45d980afbef",
     "showTitle": false,
     "title": ""
    }
   },
   "outputs": [
    {
     "output_type": "execute_result",
     "data": {
      "text/plain": [
       "LongType()"
      ]
     },
     "execution_count": 142,
     "metadata": {},
     "output_type": "execute_result"
    }
   ],
   "source": [
    "# pandas api on spark\n",
    "\n",
    "from pyspark.pandas.typedef import as_spark_type \n",
    "\n",
    "as_spark_type(int)"
   ]
  },
  {
   "cell_type": "code",
   "execution_count": 0,
   "metadata": {
    "application/vnd.databricks.v1+cell": {
     "cellMetadata": {
      "byteLimit": 2048000,
      "rowLimit": 10000
     },
     "inputWidgets": {},
     "nuid": "7f583cc5-03ec-4b5b-a93d-09e6fbbec333",
     "showTitle": false,
     "title": ""
    }
   },
   "outputs": [
    {
     "output_type": "execute_result",
     "data": {
      "text/plain": [
       "IntegerType()"
      ]
     },
     "execution_count": 143,
     "metadata": {},
     "output_type": "execute_result"
    }
   ],
   "source": [
    "as_spark_type(np.int32)"
   ]
  },
  {
   "cell_type": "code",
   "execution_count": 0,
   "metadata": {
    "application/vnd.databricks.v1+cell": {
     "cellMetadata": {
      "byteLimit": 2048000,
      "rowLimit": 10000
     },
     "inputWidgets": {},
     "nuid": "51fc0549-fadb-4850-9c14-b44fe7386172",
     "showTitle": false,
     "title": ""
    }
   },
   "outputs": [
    {
     "output_type": "execute_result",
     "data": {
      "text/plain": [
       "ArrayType(DoubleType(), True)"
      ]
     },
     "execution_count": 144,
     "metadata": {},
     "output_type": "execute_result"
    }
   ],
   "source": [
    "import typing \n",
    "\n",
    "as_spark_type(typing.List[float])"
   ]
  },
  {
   "cell_type": "code",
   "execution_count": 0,
   "metadata": {
    "application/vnd.databricks.v1+cell": {
     "cellMetadata": {
      "byteLimit": 2048000,
      "rowLimit": 10000
     },
     "inputWidgets": {},
     "nuid": "e3752569-fe39-471b-ab04-2237182f739a",
     "showTitle": false,
     "title": ""
    }
   },
   "outputs": [
    {
     "output_type": "execute_result",
     "data": {
      "text/plain": [
       "DoubleType()"
      ]
     },
     "execution_count": 145,
     "metadata": {},
     "output_type": "execute_result"
    }
   ],
   "source": [
    "ps.Series([0.3,0.1,0.8]).spark.data_type "
   ]
  },
  {
   "cell_type": "code",
   "execution_count": 0,
   "metadata": {
    "application/vnd.databricks.v1+cell": {
     "cellMetadata": {
      "byteLimit": 2048000,
      "rowLimit": 10000
     },
     "inputWidgets": {},
     "nuid": "aa477007-795c-4a09-8240-f616f77936a4",
     "showTitle": false,
     "title": ""
    }
   },
   "outputs": [
    {
     "output_type": "execute_result",
     "data": {
      "text/plain": [
       "StringType()"
      ]
     },
     "execution_count": 146,
     "metadata": {},
     "output_type": "execute_result"
    }
   ],
   "source": [
    "ps.Series([\"welcome\",\"to\",\"pandas-on-spark\"]).spark.data_type"
   ]
  },
  {
   "cell_type": "code",
   "execution_count": 0,
   "metadata": {
    "application/vnd.databricks.v1+cell": {
     "cellMetadata": {
      "byteLimit": 2048000,
      "rowLimit": 10000
     },
     "inputWidgets": {},
     "nuid": "8ce80d60-15ef-489c-9033-4c478a593af4",
     "showTitle": false,
     "title": ""
    }
   },
   "outputs": [
    {
     "output_type": "stream",
     "name": "stdout",
     "output_type": "stream",
     "text": [
      "root\n |-- d: double (nullable = false)\n |-- e: string (nullable = false)\n |-- f: boolean (nullable = false)\n\n"
     ]
    }
   ],
   "source": [
    "ps.DataFrame({\"d\" : [0.3,0.24,0.8],\n",
    "              \"e\" : [\"welcome\",\"to\",\"pandas-on-spark\"],\n",
    "              \"f\" : [False,True,False] }).spark.print_schema()"
   ]
  },
  {
   "cell_type": "code",
   "execution_count": 0,
   "metadata": {
    "application/vnd.databricks.v1+cell": {
     "cellMetadata": {
      "byteLimit": 2048000,
      "rowLimit": 10000
     },
     "inputWidgets": {},
     "nuid": "005e3676-391f-4cf1-b548-0fc01a8e9843",
     "showTitle": false,
     "title": ""
    }
   },
   "outputs": [],
   "source": [
    "# Multiple datatypes are not supported by pandas api on spark\n",
    "# ps.Series([1,\"A\"])"
   ]
  },
  {
   "cell_type": "markdown",
   "metadata": {
    "application/vnd.databricks.v1+cell": {
     "cellMetadata": {
      "byteLimit": 2048000,
      "rowLimit": 10000
     },
     "inputWidgets": {},
     "nuid": "b88ca07b-9e75-4417-8e0b-c9d91c364650",
     "showTitle": false,
     "title": ""
    }
   },
   "source": [
    "\n",
    "# Plotting "
   ]
  },
  {
   "cell_type": "code",
   "execution_count": 0,
   "metadata": {
    "application/vnd.databricks.v1+cell": {
     "cellMetadata": {
      "byteLimit": 2048000,
      "rowLimit": 10000
     },
     "inputWidgets": {},
     "nuid": "b5929b88-140b-4538-94b1-6ef9cffd6c06",
     "showTitle": false,
     "title": ""
    }
   },
   "outputs": [
    {
     "output_type": "display_data",
     "data": {
      "text/html": [
       "<html>\n",
       "<head><meta charset=\"utf-8\" /></head>\n",
       "<body>\n",
       "    <div>            <script src=\"https://cdnjs.cloudflare.com/ajax/libs/mathjax/2.7.5/MathJax.js?config=TeX-AMS-MML_SVG\"></script><script type=\"text/javascript\">if (window.MathJax && window.MathJax.Hub && window.MathJax.Hub.Config) {window.MathJax.Hub.Config({SVG: {font: \"STIX-Web\"}});}</script>                <script type=\"text/javascript\">window.PlotlyConfig = {MathJaxConfig: 'local'};</script>\n",
       "        <script src=\"https://cdn.plot.ly/plotly-2.12.1.min.js\"></script>                <div id=\"b0dba292-d2ea-430c-8ac1-52985981d1f9\" class=\"plotly-graph-div\" style=\"height:100%; width:100%;\"></div>            <script type=\"text/javascript\">                                    window.PLOTLYENV=window.PLOTLYENV || {};                                    if (document.getElementById(\"b0dba292-d2ea-430c-8ac1-52985981d1f9\")) {                    Plotly.newPlot(                        \"b0dba292-d2ea-430c-8ac1-52985981d1f9\",                        [{\"hovertemplate\":\"variable=0<br>index=%{x}<br>value=%{y}<extra></extra>\",\"legendgroup\":\"0\",\"line\":{\"color\":\"#636efa\",\"dash\":\"solid\"},\"marker\":{\"symbol\":\"circle\"},\"mode\":\"lines\",\"name\":\"0\",\"orientation\":\"v\",\"showlegend\":true,\"x\":[\"2000-01-01T00:00:00\",\"2000-01-02T00:00:00\",\"2000-01-03T00:00:00\",\"2000-01-04T00:00:00\",\"2000-01-05T00:00:00\",\"2000-01-06T00:00:00\",\"2000-01-07T00:00:00\",\"2000-01-08T00:00:00\",\"2000-01-09T00:00:00\",\"2000-01-10T00:00:00\",\"2000-01-11T00:00:00\",\"2000-01-12T00:00:00\",\"2000-01-13T00:00:00\",\"2000-01-14T00:00:00\",\"2000-01-15T00:00:00\",\"2000-01-16T00:00:00\",\"2000-01-17T00:00:00\",\"2000-01-18T00:00:00\",\"2000-01-19T00:00:00\",\"2000-01-20T00:00:00\",\"2000-01-21T00:00:00\",\"2000-01-22T00:00:00\",\"2000-01-23T00:00:00\",\"2000-01-24T00:00:00\",\"2000-01-25T00:00:00\",\"2000-01-26T00:00:00\",\"2000-01-27T00:00:00\",\"2000-01-28T00:00:00\",\"2000-01-29T00:00:00\",\"2000-01-30T00:00:00\",\"2000-01-31T00:00:00\",\"2000-02-01T00:00:00\",\"2000-02-02T00:00:00\",\"2000-02-03T00:00:00\",\"2000-02-04T00:00:00\",\"2000-02-05T00:00:00\",\"2000-02-06T00:00:00\",\"2000-02-07T00:00:00\",\"2000-02-08T00:00:00\",\"2000-02-09T00:00:00\",\"2000-02-10T00:00:00\",\"2000-02-11T00:00:00\",\"2000-02-12T00:00:00\",\"2000-02-13T00:00:00\",\"2000-02-14T00:00:00\",\"2000-02-15T00:00:00\",\"2000-02-16T00:00:00\",\"2000-02-17T00:00:00\",\"2000-02-18T00:00:00\",\"2000-02-19T00:00:00\",\"2000-02-20T00:00:00\",\"2000-02-21T00:00:00\",\"2000-02-22T00:00:00\",\"2000-02-23T00:00:00\",\"2000-02-24T00:00:00\",\"2000-02-25T00:00:00\",\"2000-02-26T00:00:00\",\"2000-02-27T00:00:00\",\"2000-02-28T00:00:00\",\"2000-02-29T00:00:00\",\"2000-03-01T00:00:00\",\"2000-03-02T00:00:00\",\"2000-03-03T00:00:00\",\"2000-03-04T00:00:00\",\"2000-03-05T00:00:00\",\"2000-03-06T00:00:00\",\"2000-03-07T00:00:00\",\"2000-03-08T00:00:00\",\"2000-03-09T00:00:00\",\"2000-03-10T00:00:00\",\"2000-03-11T00:00:00\",\"2000-03-12T00:00:00\",\"2000-03-13T00:00:00\",\"2000-03-14T00:00:00\",\"2000-03-15T00:00:00\",\"2000-03-16T00:00:00\",\"2000-03-17T00:00:00\",\"2000-03-18T00:00:00\",\"2000-03-19T00:00:00\",\"2000-03-20T00:00:00\",\"2000-03-21T00:00:00\",\"2000-03-22T00:00:00\",\"2000-03-23T00:00:00\",\"2000-03-24T00:00:00\",\"2000-03-25T00:00:00\",\"2000-03-26T00:00:00\",\"2000-03-27T00:00:00\",\"2000-03-28T00:00:00\",\"2000-03-29T00:00:00\",\"2000-03-30T00:00:00\",\"2000-03-31T00:00:00\",\"2000-04-01T00:00:00\",\"2000-04-02T00:00:00\",\"2000-04-03T00:00:00\",\"2000-04-04T00:00:00\",\"2000-04-05T00:00:00\",\"2000-04-06T00:00:00\",\"2000-04-07T00:00:00\",\"2000-04-08T00:00:00\",\"2000-04-09T00:00:00\",\"2000-04-10T00:00:00\",\"2000-04-11T00:00:00\",\"2000-04-12T00:00:00\",\"2000-04-13T00:00:00\",\"2000-04-14T00:00:00\",\"2000-04-15T00:00:00\",\"2000-04-16T00:00:00\",\"2000-04-17T00:00:00\",\"2000-04-18T00:00:00\",\"2000-04-19T00:00:00\",\"2000-04-20T00:00:00\",\"2000-04-21T00:00:00\",\"2000-04-22T00:00:00\",\"2000-04-23T00:00:00\",\"2000-04-24T00:00:00\",\"2000-04-25T00:00:00\",\"2000-04-26T00:00:00\",\"2000-04-27T00:00:00\",\"2000-04-28T00:00:00\",\"2000-04-29T00:00:00\",\"2000-04-30T00:00:00\",\"2000-05-01T00:00:00\",\"2000-05-02T00:00:00\",\"2000-05-03T00:00:00\",\"2000-05-04T00:00:00\",\"2000-05-05T00:00:00\",\"2000-05-06T00:00:00\",\"2000-05-07T00:00:00\",\"2000-05-08T00:00:00\",\"2000-05-09T00:00:00\",\"2000-05-10T00:00:00\",\"2000-05-11T00:00:00\",\"2000-05-12T00:00:00\",\"2000-05-13T00:00:00\",\"2000-05-14T00:00:00\",\"2000-05-15T00:00:00\",\"2000-05-16T00:00:00\",\"2000-05-17T00:00:00\",\"2000-05-18T00:00:00\",\"2000-05-19T00:00:00\",\"2000-05-20T00:00:00\",\"2000-05-21T00:00:00\",\"2000-05-22T00:00:00\",\"2000-05-23T00:00:00\",\"2000-05-24T00:00:00\",\"2000-05-25T00:00:00\",\"2000-05-26T00:00:00\",\"2000-05-27T00:00:00\",\"2000-05-28T00:00:00\",\"2000-05-29T00:00:00\",\"2000-05-30T00:00:00\",\"2000-05-31T00:00:00\",\"2000-06-01T00:00:00\",\"2000-06-02T00:00:00\",\"2000-06-03T00:00:00\",\"2000-06-04T00:00:00\",\"2000-06-05T00:00:00\",\"2000-06-06T00:00:00\",\"2000-06-07T00:00:00\",\"2000-06-08T00:00:00\",\"2000-06-09T00:00:00\",\"2000-06-10T00:00:00\",\"2000-06-11T00:00:00\",\"2000-06-12T00:00:00\",\"2000-06-13T00:00:00\",\"2000-06-14T00:00:00\",\"2000-06-15T00:00:00\",\"2000-06-16T00:00:00\",\"2000-06-17T00:00:00\",\"2000-06-18T00:00:00\",\"2000-06-19T00:00:00\",\"2000-06-20T00:00:00\",\"2000-06-21T00:00:00\",\"2000-06-22T00:00:00\",\"2000-06-23T00:00:00\",\"2000-06-24T00:00:00\",\"2000-06-25T00:00:00\",\"2000-06-26T00:00:00\",\"2000-06-27T00:00:00\",\"2000-06-28T00:00:00\",\"2000-06-29T00:00:00\",\"2000-06-30T00:00:00\",\"2000-07-01T00:00:00\",\"2000-07-02T00:00:00\",\"2000-07-03T00:00:00\",\"2000-07-04T00:00:00\",\"2000-07-05T00:00:00\",\"2000-07-06T00:00:00\",\"2000-07-07T00:00:00\",\"2000-07-08T00:00:00\",\"2000-07-09T00:00:00\",\"2000-07-10T00:00:00\",\"2000-07-11T00:00:00\",\"2000-07-12T00:00:00\",\"2000-07-13T00:00:00\",\"2000-07-14T00:00:00\",\"2000-07-15T00:00:00\",\"2000-07-16T00:00:00\",\"2000-07-17T00:00:00\",\"2000-07-18T00:00:00\",\"2000-07-19T00:00:00\",\"2000-07-20T00:00:00\",\"2000-07-21T00:00:00\",\"2000-07-22T00:00:00\",\"2000-07-23T00:00:00\",\"2000-07-24T00:00:00\",\"2000-07-25T00:00:00\",\"2000-07-26T00:00:00\",\"2000-07-27T00:00:00\",\"2000-07-28T00:00:00\",\"2000-07-29T00:00:00\",\"2000-07-30T00:00:00\",\"2000-07-31T00:00:00\",\"2000-08-01T00:00:00\",\"2000-08-02T00:00:00\",\"2000-08-03T00:00:00\",\"2000-08-04T00:00:00\",\"2000-08-05T00:00:00\",\"2000-08-06T00:00:00\",\"2000-08-07T00:00:00\",\"2000-08-08T00:00:00\",\"2000-08-09T00:00:00\",\"2000-08-10T00:00:00\",\"2000-08-11T00:00:00\",\"2000-08-12T00:00:00\",\"2000-08-13T00:00:00\",\"2000-08-14T00:00:00\",\"2000-08-15T00:00:00\",\"2000-08-16T00:00:00\",\"2000-08-17T00:00:00\",\"2000-08-18T00:00:00\",\"2000-08-19T00:00:00\",\"2000-08-20T00:00:00\",\"2000-08-21T00:00:00\",\"2000-08-22T00:00:00\",\"2000-08-23T00:00:00\",\"2000-08-24T00:00:00\",\"2000-08-25T00:00:00\",\"2000-08-26T00:00:00\",\"2000-08-27T00:00:00\",\"2000-08-28T00:00:00\",\"2000-08-29T00:00:00\",\"2000-08-30T00:00:00\",\"2000-08-31T00:00:00\",\"2000-09-01T00:00:00\",\"2000-09-02T00:00:00\",\"2000-09-03T00:00:00\",\"2000-09-04T00:00:00\",\"2000-09-05T00:00:00\",\"2000-09-06T00:00:00\",\"2000-09-07T00:00:00\",\"2000-09-08T00:00:00\",\"2000-09-09T00:00:00\",\"2000-09-10T00:00:00\",\"2000-09-11T00:00:00\",\"2000-09-12T00:00:00\",\"2000-09-13T00:00:00\",\"2000-09-14T00:00:00\",\"2000-09-15T00:00:00\",\"2000-09-16T00:00:00\",\"2000-09-17T00:00:00\",\"2000-09-18T00:00:00\",\"2000-09-19T00:00:00\",\"2000-09-20T00:00:00\",\"2000-09-21T00:00:00\",\"2000-09-22T00:00:00\",\"2000-09-23T00:00:00\",\"2000-09-24T00:00:00\",\"2000-09-25T00:00:00\",\"2000-09-26T00:00:00\",\"2000-09-27T00:00:00\",\"2000-09-28T00:00:00\",\"2000-09-29T00:00:00\",\"2000-09-30T00:00:00\",\"2000-10-01T00:00:00\",\"2000-10-02T00:00:00\",\"2000-10-03T00:00:00\",\"2000-10-04T00:00:00\",\"2000-10-05T00:00:00\",\"2000-10-06T00:00:00\",\"2000-10-07T00:00:00\",\"2000-10-08T00:00:00\",\"2000-10-09T00:00:00\",\"2000-10-10T00:00:00\",\"2000-10-11T00:00:00\",\"2000-10-12T00:00:00\",\"2000-10-13T00:00:00\",\"2000-10-14T00:00:00\",\"2000-10-15T00:00:00\",\"2000-10-16T00:00:00\",\"2000-10-17T00:00:00\",\"2000-10-18T00:00:00\",\"2000-10-19T00:00:00\",\"2000-10-20T00:00:00\",\"2000-10-21T00:00:00\",\"2000-10-22T00:00:00\",\"2000-10-23T00:00:00\",\"2000-10-24T00:00:00\",\"2000-10-25T00:00:00\",\"2000-10-26T00:00:00\",\"2000-10-27T00:00:00\",\"2000-10-28T00:00:00\",\"2000-10-29T00:00:00\",\"2000-10-30T00:00:00\",\"2000-10-31T00:00:00\",\"2000-11-01T00:00:00\",\"2000-11-02T00:00:00\",\"2000-11-03T00:00:00\",\"2000-11-04T00:00:00\",\"2000-11-05T00:00:00\",\"2000-11-06T00:00:00\",\"2000-11-07T00:00:00\",\"2000-11-08T00:00:00\",\"2000-11-09T00:00:00\",\"2000-11-10T00:00:00\",\"2000-11-11T00:00:00\",\"2000-11-12T00:00:00\",\"2000-11-13T00:00:00\",\"2000-11-14T00:00:00\",\"2000-11-15T00:00:00\",\"2000-11-16T00:00:00\",\"2000-11-17T00:00:00\",\"2000-11-18T00:00:00\",\"2000-11-19T00:00:00\",\"2000-11-20T00:00:00\",\"2000-11-21T00:00:00\",\"2000-11-22T00:00:00\",\"2000-11-23T00:00:00\",\"2000-11-24T00:00:00\",\"2000-11-25T00:00:00\",\"2000-11-26T00:00:00\",\"2000-11-27T00:00:00\",\"2000-11-28T00:00:00\",\"2000-11-29T00:00:00\",\"2000-11-30T00:00:00\",\"2000-12-01T00:00:00\",\"2000-12-02T00:00:00\",\"2000-12-03T00:00:00\",\"2000-12-04T00:00:00\",\"2000-12-05T00:00:00\",\"2000-12-06T00:00:00\",\"2000-12-07T00:00:00\",\"2000-12-08T00:00:00\",\"2000-12-09T00:00:00\",\"2000-12-10T00:00:00\",\"2000-12-11T00:00:00\",\"2000-12-12T00:00:00\",\"2000-12-13T00:00:00\",\"2000-12-14T00:00:00\",\"2000-12-15T00:00:00\",\"2000-12-16T00:00:00\",\"2000-12-17T00:00:00\",\"2000-12-18T00:00:00\",\"2000-12-19T00:00:00\",\"2000-12-20T00:00:00\",\"2000-12-21T00:00:00\",\"2000-12-22T00:00:00\",\"2000-12-23T00:00:00\",\"2000-12-24T00:00:00\",\"2000-12-25T00:00:00\",\"2000-12-26T00:00:00\",\"2000-12-27T00:00:00\",\"2000-12-28T00:00:00\",\"2000-12-29T00:00:00\",\"2000-12-30T00:00:00\",\"2000-12-31T00:00:00\",\"2001-01-01T00:00:00\",\"2001-01-02T00:00:00\",\"2001-01-03T00:00:00\",\"2001-01-04T00:00:00\",\"2001-01-05T00:00:00\",\"2001-01-06T00:00:00\",\"2001-01-07T00:00:00\",\"2001-01-08T00:00:00\",\"2001-01-09T00:00:00\",\"2001-01-10T00:00:00\",\"2001-01-11T00:00:00\",\"2001-01-12T00:00:00\",\"2001-01-13T00:00:00\",\"2001-01-14T00:00:00\",\"2001-01-15T00:00:00\",\"2001-01-16T00:00:00\",\"2001-01-17T00:00:00\",\"2001-01-18T00:00:00\",\"2001-01-19T00:00:00\",\"2001-01-20T00:00:00\",\"2001-01-21T00:00:00\",\"2001-01-22T00:00:00\",\"2001-01-23T00:00:00\",\"2001-01-24T00:00:00\",\"2001-01-25T00:00:00\",\"2001-01-26T00:00:00\",\"2001-01-27T00:00:00\",\"2001-01-28T00:00:00\",\"2001-01-29T00:00:00\",\"2001-01-30T00:00:00\",\"2001-01-31T00:00:00\",\"2001-02-01T00:00:00\",\"2001-02-02T00:00:00\",\"2001-02-03T00:00:00\",\"2001-02-04T00:00:00\",\"2001-02-05T00:00:00\",\"2001-02-06T00:00:00\",\"2001-02-07T00:00:00\",\"2001-02-08T00:00:00\",\"2001-02-09T00:00:00\",\"2001-02-10T00:00:00\",\"2001-02-11T00:00:00\",\"2001-02-12T00:00:00\",\"2001-02-13T00:00:00\",\"2001-02-14T00:00:00\",\"2001-02-15T00:00:00\",\"2001-02-16T00:00:00\",\"2001-02-17T00:00:00\",\"2001-02-18T00:00:00\",\"2001-02-19T00:00:00\",\"2001-02-20T00:00:00\",\"2001-02-21T00:00:00\",\"2001-02-22T00:00:00\",\"2001-02-23T00:00:00\",\"2001-02-24T00:00:00\",\"2001-02-25T00:00:00\",\"2001-02-26T00:00:00\",\"2001-02-27T00:00:00\",\"2001-02-28T00:00:00\",\"2001-03-01T00:00:00\",\"2001-03-02T00:00:00\",\"2001-03-03T00:00:00\",\"2001-03-04T00:00:00\",\"2001-03-05T00:00:00\",\"2001-03-06T00:00:00\",\"2001-03-07T00:00:00\",\"2001-03-08T00:00:00\",\"2001-03-09T00:00:00\",\"2001-03-10T00:00:00\",\"2001-03-11T00:00:00\",\"2001-03-12T00:00:00\",\"2001-03-13T00:00:00\",\"2001-03-14T00:00:00\",\"2001-03-15T00:00:00\",\"2001-03-16T00:00:00\",\"2001-03-17T00:00:00\",\"2001-03-18T00:00:00\",\"2001-03-19T00:00:00\",\"2001-03-20T00:00:00\",\"2001-03-21T00:00:00\",\"2001-03-22T00:00:00\",\"2001-03-23T00:00:00\",\"2001-03-24T00:00:00\",\"2001-03-25T00:00:00\",\"2001-03-26T00:00:00\",\"2001-03-27T00:00:00\",\"2001-03-28T00:00:00\",\"2001-03-29T00:00:00\",\"2001-03-30T00:00:00\",\"2001-03-31T00:00:00\",\"2001-04-01T00:00:00\",\"2001-04-02T00:00:00\",\"2001-04-03T00:00:00\",\"2001-04-04T00:00:00\",\"2001-04-05T00:00:00\",\"2001-04-06T00:00:00\",\"2001-04-07T00:00:00\",\"2001-04-08T00:00:00\",\"2001-04-09T00:00:00\",\"2001-04-10T00:00:00\",\"2001-04-11T00:00:00\",\"2001-04-12T00:00:00\",\"2001-04-13T00:00:00\",\"2001-04-14T00:00:00\",\"2001-04-15T00:00:00\",\"2001-04-16T00:00:00\",\"2001-04-17T00:00:00\",\"2001-04-18T00:00:00\",\"2001-04-19T00:00:00\",\"2001-04-20T00:00:00\",\"2001-04-21T00:00:00\",\"2001-04-22T00:00:00\",\"2001-04-23T00:00:00\",\"2001-04-24T00:00:00\",\"2001-04-25T00:00:00\",\"2001-04-26T00:00:00\",\"2001-04-27T00:00:00\",\"2001-04-28T00:00:00\",\"2001-04-29T00:00:00\",\"2001-04-30T00:00:00\",\"2001-05-01T00:00:00\",\"2001-05-02T00:00:00\",\"2001-05-03T00:00:00\",\"2001-05-04T00:00:00\",\"2001-05-05T00:00:00\",\"2001-05-06T00:00:00\",\"2001-05-07T00:00:00\",\"2001-05-08T00:00:00\",\"2001-05-09T00:00:00\",\"2001-05-10T00:00:00\",\"2001-05-11T00:00:00\",\"2001-05-12T00:00:00\",\"2001-05-13T00:00:00\",\"2001-05-14T00:00:00\",\"2001-05-15T00:00:00\",\"2001-05-16T00:00:00\",\"2001-05-17T00:00:00\",\"2001-05-18T00:00:00\",\"2001-05-19T00:00:00\",\"2001-05-20T00:00:00\",\"2001-05-21T00:00:00\",\"2001-05-22T00:00:00\",\"2001-05-23T00:00:00\",\"2001-05-24T00:00:00\",\"2001-05-25T00:00:00\",\"2001-05-26T00:00:00\",\"2001-05-27T00:00:00\",\"2001-05-28T00:00:00\",\"2001-05-29T00:00:00\",\"2001-05-30T00:00:00\",\"2001-05-31T00:00:00\",\"2001-06-01T00:00:00\",\"2001-06-02T00:00:00\",\"2001-06-03T00:00:00\",\"2001-06-04T00:00:00\",\"2001-06-05T00:00:00\",\"2001-06-06T00:00:00\",\"2001-06-07T00:00:00\",\"2001-06-08T00:00:00\",\"2001-06-09T00:00:00\",\"2001-06-10T00:00:00\",\"2001-06-11T00:00:00\",\"2001-06-12T00:00:00\",\"2001-06-13T00:00:00\",\"2001-06-14T00:00:00\",\"2001-06-15T00:00:00\",\"2001-06-16T00:00:00\",\"2001-06-17T00:00:00\",\"2001-06-18T00:00:00\",\"2001-06-19T00:00:00\",\"2001-06-20T00:00:00\",\"2001-06-21T00:00:00\",\"2001-06-22T00:00:00\",\"2001-06-23T00:00:00\",\"2001-06-24T00:00:00\",\"2001-06-25T00:00:00\",\"2001-06-26T00:00:00\",\"2001-06-27T00:00:00\",\"2001-06-28T00:00:00\",\"2001-06-29T00:00:00\",\"2001-06-30T00:00:00\",\"2001-07-01T00:00:00\",\"2001-07-02T00:00:00\",\"2001-07-03T00:00:00\",\"2001-07-04T00:00:00\",\"2001-07-05T00:00:00\",\"2001-07-06T00:00:00\",\"2001-07-07T00:00:00\",\"2001-07-08T00:00:00\",\"2001-07-09T00:00:00\",\"2001-07-10T00:00:00\",\"2001-07-11T00:00:00\",\"2001-07-12T00:00:00\",\"2001-07-13T00:00:00\",\"2001-07-14T00:00:00\",\"2001-07-15T00:00:00\",\"2001-07-16T00:00:00\",\"2001-07-17T00:00:00\",\"2001-07-18T00:00:00\",\"2001-07-19T00:00:00\",\"2001-07-20T00:00:00\",\"2001-07-21T00:00:00\",\"2001-07-22T00:00:00\",\"2001-07-23T00:00:00\",\"2001-07-24T00:00:00\",\"2001-07-25T00:00:00\",\"2001-07-26T00:00:00\",\"2001-07-27T00:00:00\",\"2001-07-28T00:00:00\",\"2001-07-29T00:00:00\",\"2001-07-30T00:00:00\",\"2001-07-31T00:00:00\",\"2001-08-01T00:00:00\",\"2001-08-02T00:00:00\",\"2001-08-03T00:00:00\",\"2001-08-04T00:00:00\",\"2001-08-05T00:00:00\",\"2001-08-06T00:00:00\",\"2001-08-07T00:00:00\",\"2001-08-08T00:00:00\",\"2001-08-09T00:00:00\",\"2001-08-10T00:00:00\",\"2001-08-11T00:00:00\",\"2001-08-12T00:00:00\",\"2001-08-13T00:00:00\",\"2001-08-14T00:00:00\",\"2001-08-15T00:00:00\",\"2001-08-16T00:00:00\",\"2001-08-17T00:00:00\",\"2001-08-18T00:00:00\",\"2001-08-19T00:00:00\",\"2001-08-20T00:00:00\",\"2001-08-21T00:00:00\",\"2001-08-22T00:00:00\",\"2001-08-23T00:00:00\",\"2001-08-24T00:00:00\",\"2001-08-25T00:00:00\",\"2001-08-26T00:00:00\",\"2001-08-27T00:00:00\",\"2001-08-28T00:00:00\",\"2001-08-29T00:00:00\",\"2001-08-30T00:00:00\",\"2001-08-31T00:00:00\",\"2001-09-01T00:00:00\",\"2001-09-02T00:00:00\",\"2001-09-03T00:00:00\",\"2001-09-04T00:00:00\",\"2001-09-05T00:00:00\",\"2001-09-06T00:00:00\",\"2001-09-07T00:00:00\",\"2001-09-08T00:00:00\",\"2001-09-09T00:00:00\",\"2001-09-10T00:00:00\",\"2001-09-11T00:00:00\",\"2001-09-12T00:00:00\",\"2001-09-13T00:00:00\",\"2001-09-14T00:00:00\",\"2001-09-15T00:00:00\",\"2001-09-16T00:00:00\",\"2001-09-17T00:00:00\",\"2001-09-18T00:00:00\",\"2001-09-19T00:00:00\",\"2001-09-20T00:00:00\",\"2001-09-21T00:00:00\",\"2001-09-22T00:00:00\",\"2001-09-23T00:00:00\",\"2001-09-24T00:00:00\",\"2001-09-25T00:00:00\",\"2001-09-26T00:00:00\",\"2001-09-27T00:00:00\",\"2001-09-28T00:00:00\",\"2001-09-29T00:00:00\",\"2001-09-30T00:00:00\",\"2001-10-01T00:00:00\",\"2001-10-02T00:00:00\",\"2001-10-03T00:00:00\",\"2001-10-04T00:00:00\",\"2001-10-05T00:00:00\",\"2001-10-06T00:00:00\",\"2001-10-07T00:00:00\",\"2001-10-08T00:00:00\",\"2001-10-09T00:00:00\",\"2001-10-10T00:00:00\",\"2001-10-11T00:00:00\",\"2001-10-12T00:00:00\",\"2001-10-13T00:00:00\",\"2001-10-14T00:00:00\",\"2001-10-15T00:00:00\",\"2001-10-16T00:00:00\",\"2001-10-17T00:00:00\",\"2001-10-18T00:00:00\",\"2001-10-19T00:00:00\",\"2001-10-20T00:00:00\",\"2001-10-21T00:00:00\",\"2001-10-22T00:00:00\",\"2001-10-23T00:00:00\",\"2001-10-24T00:00:00\",\"2001-10-25T00:00:00\",\"2001-10-26T00:00:00\",\"2001-10-27T00:00:00\",\"2001-10-28T00:00:00\",\"2001-10-29T00:00:00\",\"2001-10-30T00:00:00\",\"2001-10-31T00:00:00\",\"2001-11-01T00:00:00\",\"2001-11-02T00:00:00\",\"2001-11-03T00:00:00\",\"2001-11-04T00:00:00\",\"2001-11-05T00:00:00\",\"2001-11-06T00:00:00\",\"2001-11-07T00:00:00\",\"2001-11-08T00:00:00\",\"2001-11-09T00:00:00\",\"2001-11-10T00:00:00\",\"2001-11-11T00:00:00\",\"2001-11-12T00:00:00\",\"2001-11-13T00:00:00\",\"2001-11-14T00:00:00\",\"2001-11-15T00:00:00\",\"2001-11-16T00:00:00\",\"2001-11-17T00:00:00\",\"2001-11-18T00:00:00\",\"2001-11-19T00:00:00\",\"2001-11-20T00:00:00\",\"2001-11-21T00:00:00\",\"2001-11-22T00:00:00\",\"2001-11-23T00:00:00\",\"2001-11-24T00:00:00\",\"2001-11-25T00:00:00\",\"2001-11-26T00:00:00\",\"2001-11-27T00:00:00\",\"2001-11-28T00:00:00\",\"2001-11-29T00:00:00\",\"2001-11-30T00:00:00\",\"2001-12-01T00:00:00\",\"2001-12-02T00:00:00\",\"2001-12-03T00:00:00\",\"2001-12-04T00:00:00\",\"2001-12-05T00:00:00\",\"2001-12-06T00:00:00\",\"2001-12-07T00:00:00\",\"2001-12-08T00:00:00\",\"2001-12-09T00:00:00\",\"2001-12-10T00:00:00\",\"2001-12-11T00:00:00\",\"2001-12-12T00:00:00\",\"2001-12-13T00:00:00\",\"2001-12-14T00:00:00\",\"2001-12-15T00:00:00\",\"2001-12-16T00:00:00\",\"2001-12-17T00:00:00\",\"2001-12-18T00:00:00\",\"2001-12-19T00:00:00\",\"2001-12-20T00:00:00\",\"2001-12-21T00:00:00\",\"2001-12-22T00:00:00\",\"2001-12-23T00:00:00\",\"2001-12-24T00:00:00\",\"2001-12-25T00:00:00\",\"2001-12-26T00:00:00\",\"2001-12-27T00:00:00\",\"2001-12-28T00:00:00\",\"2001-12-29T00:00:00\",\"2001-12-30T00:00:00\",\"2001-12-31T00:00:00\",\"2002-01-01T00:00:00\",\"2002-01-02T00:00:00\",\"2002-01-03T00:00:00\",\"2002-01-04T00:00:00\",\"2002-01-05T00:00:00\",\"2002-01-06T00:00:00\",\"2002-01-07T00:00:00\",\"2002-01-08T00:00:00\",\"2002-01-09T00:00:00\",\"2002-01-10T00:00:00\",\"2002-01-11T00:00:00\",\"2002-01-12T00:00:00\",\"2002-01-13T00:00:00\",\"2002-01-14T00:00:00\",\"2002-01-15T00:00:00\",\"2002-01-16T00:00:00\",\"2002-01-17T00:00:00\",\"2002-01-18T00:00:00\",\"2002-01-19T00:00:00\",\"2002-01-20T00:00:00\",\"2002-01-21T00:00:00\",\"2002-01-22T00:00:00\",\"2002-01-23T00:00:00\",\"2002-01-24T00:00:00\",\"2002-01-25T00:00:00\",\"2002-01-26T00:00:00\",\"2002-01-27T00:00:00\",\"2002-01-28T00:00:00\",\"2002-01-29T00:00:00\",\"2002-01-30T00:00:00\",\"2002-01-31T00:00:00\",\"2002-02-01T00:00:00\",\"2002-02-02T00:00:00\",\"2002-02-03T00:00:00\",\"2002-02-04T00:00:00\",\"2002-02-05T00:00:00\",\"2002-02-06T00:00:00\",\"2002-02-07T00:00:00\",\"2002-02-08T00:00:00\",\"2002-02-09T00:00:00\",\"2002-02-10T00:00:00\",\"2002-02-11T00:00:00\",\"2002-02-12T00:00:00\",\"2002-02-13T00:00:00\",\"2002-02-14T00:00:00\",\"2002-02-15T00:00:00\",\"2002-02-16T00:00:00\",\"2002-02-17T00:00:00\",\"2002-02-18T00:00:00\",\"2002-02-19T00:00:00\",\"2002-02-20T00:00:00\",\"2002-02-21T00:00:00\",\"2002-02-22T00:00:00\",\"2002-02-23T00:00:00\",\"2002-02-24T00:00:00\",\"2002-02-25T00:00:00\",\"2002-02-26T00:00:00\",\"2002-02-27T00:00:00\",\"2002-02-28T00:00:00\",\"2002-03-01T00:00:00\",\"2002-03-02T00:00:00\",\"2002-03-03T00:00:00\",\"2002-03-04T00:00:00\",\"2002-03-05T00:00:00\",\"2002-03-06T00:00:00\",\"2002-03-07T00:00:00\",\"2002-03-08T00:00:00\",\"2002-03-09T00:00:00\",\"2002-03-10T00:00:00\",\"2002-03-11T00:00:00\",\"2002-03-12T00:00:00\",\"2002-03-13T00:00:00\",\"2002-03-14T00:00:00\",\"2002-03-15T00:00:00\",\"2002-03-16T00:00:00\",\"2002-03-17T00:00:00\",\"2002-03-18T00:00:00\",\"2002-03-19T00:00:00\",\"2002-03-20T00:00:00\",\"2002-03-21T00:00:00\",\"2002-03-22T00:00:00\",\"2002-03-23T00:00:00\",\"2002-03-24T00:00:00\",\"2002-03-25T00:00:00\",\"2002-03-26T00:00:00\",\"2002-03-27T00:00:00\",\"2002-03-28T00:00:00\",\"2002-03-29T00:00:00\",\"2002-03-30T00:00:00\",\"2002-03-31T00:00:00\",\"2002-04-01T00:00:00\",\"2002-04-02T00:00:00\",\"2002-04-03T00:00:00\",\"2002-04-04T00:00:00\",\"2002-04-05T00:00:00\",\"2002-04-06T00:00:00\",\"2002-04-07T00:00:00\",\"2002-04-08T00:00:00\",\"2002-04-09T00:00:00\",\"2002-04-10T00:00:00\",\"2002-04-11T00:00:00\",\"2002-04-12T00:00:00\",\"2002-04-13T00:00:00\",\"2002-04-14T00:00:00\",\"2002-04-15T00:00:00\",\"2002-04-16T00:00:00\",\"2002-04-17T00:00:00\",\"2002-04-18T00:00:00\",\"2002-04-19T00:00:00\",\"2002-04-20T00:00:00\",\"2002-04-21T00:00:00\",\"2002-04-22T00:00:00\",\"2002-04-23T00:00:00\",\"2002-04-24T00:00:00\",\"2002-04-25T00:00:00\",\"2002-04-26T00:00:00\",\"2002-04-27T00:00:00\",\"2002-04-28T00:00:00\",\"2002-04-29T00:00:00\",\"2002-04-30T00:00:00\",\"2002-05-01T00:00:00\",\"2002-05-02T00:00:00\",\"2002-05-03T00:00:00\",\"2002-05-04T00:00:00\",\"2002-05-05T00:00:00\",\"2002-05-06T00:00:00\",\"2002-05-07T00:00:00\",\"2002-05-08T00:00:00\",\"2002-05-09T00:00:00\",\"2002-05-10T00:00:00\",\"2002-05-11T00:00:00\",\"2002-05-12T00:00:00\",\"2002-05-13T00:00:00\",\"2002-05-14T00:00:00\",\"2002-05-15T00:00:00\",\"2002-05-16T00:00:00\",\"2002-05-17T00:00:00\",\"2002-05-18T00:00:00\",\"2002-05-19T00:00:00\",\"2002-05-20T00:00:00\",\"2002-05-21T00:00:00\",\"2002-05-22T00:00:00\",\"2002-05-23T00:00:00\",\"2002-05-24T00:00:00\",\"2002-05-25T00:00:00\",\"2002-05-26T00:00:00\",\"2002-05-27T00:00:00\",\"2002-05-28T00:00:00\",\"2002-05-29T00:00:00\",\"2002-05-30T00:00:00\",\"2002-05-31T00:00:00\",\"2002-06-01T00:00:00\",\"2002-06-02T00:00:00\",\"2002-06-03T00:00:00\",\"2002-06-04T00:00:00\",\"2002-06-05T00:00:00\",\"2002-06-06T00:00:00\",\"2002-06-07T00:00:00\",\"2002-06-08T00:00:00\",\"2002-06-09T00:00:00\",\"2002-06-10T00:00:00\",\"2002-06-11T00:00:00\",\"2002-06-12T00:00:00\",\"2002-06-13T00:00:00\",\"2002-06-14T00:00:00\",\"2002-06-15T00:00:00\",\"2002-06-16T00:00:00\",\"2002-06-17T00:00:00\",\"2002-06-18T00:00:00\",\"2002-06-19T00:00:00\",\"2002-06-20T00:00:00\",\"2002-06-21T00:00:00\",\"2002-06-22T00:00:00\",\"2002-06-23T00:00:00\",\"2002-06-24T00:00:00\",\"2002-06-25T00:00:00\",\"2002-06-26T00:00:00\",\"2002-06-27T00:00:00\",\"2002-06-28T00:00:00\",\"2002-06-29T00:00:00\",\"2002-06-30T00:00:00\",\"2002-07-01T00:00:00\",\"2002-07-02T00:00:00\",\"2002-07-03T00:00:00\",\"2002-07-04T00:00:00\",\"2002-07-05T00:00:00\",\"2002-07-06T00:00:00\",\"2002-07-07T00:00:00\",\"2002-07-08T00:00:00\",\"2002-07-09T00:00:00\",\"2002-07-10T00:00:00\",\"2002-07-11T00:00:00\",\"2002-07-12T00:00:00\",\"2002-07-13T00:00:00\",\"2002-07-14T00:00:00\",\"2002-07-15T00:00:00\",\"2002-07-16T00:00:00\",\"2002-07-17T00:00:00\",\"2002-07-18T00:00:00\",\"2002-07-19T00:00:00\",\"2002-07-20T00:00:00\",\"2002-07-21T00:00:00\",\"2002-07-22T00:00:00\",\"2002-07-23T00:00:00\",\"2002-07-24T00:00:00\",\"2002-07-25T00:00:00\",\"2002-07-26T00:00:00\",\"2002-07-27T00:00:00\",\"2002-07-28T00:00:00\",\"2002-07-29T00:00:00\",\"2002-07-30T00:00:00\",\"2002-07-31T00:00:00\",\"2002-08-01T00:00:00\",\"2002-08-02T00:00:00\",\"2002-08-03T00:00:00\",\"2002-08-04T00:00:00\",\"2002-08-05T00:00:00\",\"2002-08-06T00:00:00\",\"2002-08-07T00:00:00\",\"2002-08-08T00:00:00\",\"2002-08-09T00:00:00\",\"2002-08-10T00:00:00\",\"2002-08-11T00:00:00\",\"2002-08-12T00:00:00\",\"2002-08-13T00:00:00\",\"2002-08-14T00:00:00\",\"2002-08-15T00:00:00\",\"2002-08-16T00:00:00\",\"2002-08-17T00:00:00\",\"2002-08-18T00:00:00\",\"2002-08-19T00:00:00\",\"2002-08-20T00:00:00\",\"2002-08-21T00:00:00\",\"2002-08-22T00:00:00\",\"2002-08-23T00:00:00\",\"2002-08-24T00:00:00\",\"2002-08-25T00:00:00\",\"2002-08-26T00:00:00\",\"2002-08-27T00:00:00\",\"2002-08-28T00:00:00\",\"2002-08-29T00:00:00\",\"2002-08-30T00:00:00\",\"2002-08-31T00:00:00\",\"2002-09-01T00:00:00\",\"2002-09-02T00:00:00\",\"2002-09-03T00:00:00\",\"2002-09-04T00:00:00\",\"2002-09-05T00:00:00\",\"2002-09-06T00:00:00\",\"2002-09-07T00:00:00\",\"2002-09-08T00:00:00\",\"2002-09-09T00:00:00\",\"2002-09-10T00:00:00\",\"2002-09-11T00:00:00\",\"2002-09-12T00:00:00\",\"2002-09-13T00:00:00\",\"2002-09-14T00:00:00\",\"2002-09-15T00:00:00\",\"2002-09-16T00:00:00\",\"2002-09-17T00:00:00\",\"2002-09-18T00:00:00\",\"2002-09-19T00:00:00\",\"2002-09-20T00:00:00\",\"2002-09-21T00:00:00\",\"2002-09-22T00:00:00\",\"2002-09-23T00:00:00\",\"2002-09-24T00:00:00\",\"2002-09-25T00:00:00\",\"2002-09-26T00:00:00\"],\"xaxis\":\"x\",\"y\":[0.08350662414083344,0.08350662414083344,0.6966734813516546,2.300085934790972,2.300085934790972,2.300085934790972,2.300085934790972,2.300085934790972,2.300085934790972,2.300085934790972,2.300085934790972,2.300085934790972,2.300085934790972,2.300085934790972,2.300085934790972,2.300085934790972,2.300085934790972,2.300085934790972,2.300085934790972,2.300085934790972,2.300085934790972,2.300085934790972,2.300085934790972,2.300085934790972,2.300085934790972,2.300085934790972,2.300085934790972,2.300085934790972,2.300085934790972,2.300085934790972,2.300085934790972,2.300085934790972,2.300085934790972,2.300085934790972,2.300085934790972,2.300085934790972,2.300085934790972,2.300085934790972,2.300085934790972,2.300085934790972,2.300085934790972,2.300085934790972,2.300085934790972,2.300085934790972,2.300085934790972,2.300085934790972,2.300085934790972,2.300085934790972,2.300085934790972,2.300085934790972,2.300085934790972,2.300085934790972,2.300085934790972,2.300085934790972,2.300085934790972,2.300085934790972,2.300085934790972,2.300085934790972,2.300085934790972,2.300085934790972,2.300085934790972,2.300085934790972,2.300085934790972,2.300085934790972,2.300085934790972,2.300085934790972,2.300085934790972,2.300085934790972,2.300085934790972,2.300085934790972,2.300085934790972,2.300085934790972,2.300085934790972,2.300085934790972,2.300085934790972,2.300085934790972,2.300085934790972,2.300085934790972,2.300085934790972,2.300085934790972,2.300085934790972,2.300085934790972,2.300085934790972,2.300085934790972,2.300085934790972,2.300085934790972,2.300085934790972,2.300085934790972,2.300085934790972,2.300085934790972,2.300085934790972,2.300085934790972,2.300085934790972,2.300085934790972,2.300085934790972,2.300085934790972,2.300085934790972,2.300085934790972,2.300085934790972,2.300085934790972,2.300085934790972,2.300085934790972,2.300085934790972,2.300085934790972,2.300085934790972,2.300085934790972,2.300085934790972,2.300085934790972,2.300085934790972,2.300085934790972,2.300085934790972,2.300085934790972,2.300085934790972,2.300085934790972,2.300085934790972,2.300085934790972,2.3173863669291555,2.3173863669291555,2.3173863669291555,2.3173863669291555,2.3173863669291555,2.3173863669291555,2.3173863669291555,2.3173863669291555,2.3173863669291555,2.3173863669291555,2.3173863669291555,2.3173863669291555,2.3173863669291555,2.3173863669291555,2.3173863669291555,2.3173863669291555,2.3173863669291555,2.3173863669291555,2.3173863669291555,2.3173863669291555,2.3173863669291555,2.3173863669291555,2.3173863669291555,2.3173863669291555,2.3173863669291555,2.3173863669291555,2.3173863669291555,2.3173863669291555,2.3173863669291555,3.379052447396093,3.379052447396093,3.379052447396093,3.379052447396093,3.379052447396093,3.379052447396093,3.379052447396093,3.379052447396093,3.379052447396093,3.379052447396093,3.379052447396093,3.379052447396093,3.379052447396093,3.379052447396093,3.379052447396093,3.379052447396093,3.379052447396093,3.379052447396093,3.379052447396093,3.379052447396093,3.379052447396093,3.379052447396093,3.379052447396093,3.379052447396093,3.379052447396093,3.379052447396093,3.379052447396093,3.379052447396093,3.379052447396093,3.379052447396093,3.379052447396093,3.379052447396093,3.379052447396093,3.379052447396093,3.379052447396093,3.379052447396093,3.379052447396093,3.379052447396093,3.379052447396093,3.379052447396093,3.379052447396093,3.379052447396093,3.379052447396093,3.379052447396093,3.379052447396093,3.379052447396093,3.379052447396093,3.379052447396093,3.379052447396093,3.379052447396093,3.379052447396093,3.379052447396093,3.379052447396093,3.379052447396093,3.379052447396093,3.379052447396093,3.379052447396093,3.379052447396093,3.379052447396093,3.379052447396093,3.379052447396093,3.379052447396093,3.379052447396093,3.379052447396093,3.379052447396093,3.379052447396093,3.379052447396093,3.379052447396093,3.379052447396093,3.379052447396093,3.379052447396093,3.379052447396093,3.379052447396093,3.379052447396093,3.379052447396093,3.379052447396093,3.379052447396093,3.379052447396093,3.379052447396093,3.379052447396093,3.379052447396093,3.379052447396093,3.379052447396093,3.379052447396093,3.379052447396093,3.379052447396093,3.379052447396093,3.379052447396093,3.379052447396093,3.379052447396093,3.379052447396093,3.379052447396093,3.379052447396093,3.379052447396093,3.379052447396093,3.379052447396093,3.379052447396093,3.379052447396093,3.379052447396093,3.379052447396093,3.379052447396093,3.379052447396093,3.379052447396093,3.379052447396093,3.379052447396093,3.379052447396093,3.379052447396093,3.379052447396093,3.379052447396093,3.379052447396093,3.379052447396093,3.379052447396093,3.379052447396093,3.379052447396093,3.379052447396093,3.379052447396093,3.379052447396093,3.379052447396093,3.379052447396093,3.379052447396093,3.379052447396093,3.379052447396093,3.379052447396093,3.379052447396093,3.379052447396093,3.379052447396093,3.379052447396093,3.379052447396093,3.379052447396093,3.379052447396093,3.379052447396093,3.379052447396093,3.379052447396093,3.379052447396093,3.379052447396093,3.379052447396093,3.379052447396093,3.379052447396093,3.379052447396093,3.379052447396093,3.379052447396093,3.379052447396093,3.379052447396093,3.379052447396093,3.379052447396093,3.379052447396093,3.379052447396093,3.379052447396093,3.379052447396093,3.379052447396093,3.379052447396093,3.379052447396093,3.379052447396093,3.379052447396093,3.379052447396093,3.379052447396093,3.379052447396093,3.379052447396093,3.379052447396093,3.379052447396093,3.379052447396093,3.379052447396093,3.379052447396093,3.379052447396093,3.379052447396093,3.379052447396093,3.379052447396093,3.379052447396093,3.379052447396093,3.379052447396093,3.379052447396093,3.379052447396093,3.379052447396093,3.379052447396093,3.379052447396093,3.379052447396093,3.379052447396093,3.379052447396093,3.379052447396093,3.379052447396093,3.379052447396093,3.379052447396093,3.379052447396093,3.379052447396093,3.379052447396093,3.379052447396093,3.379052447396093,3.379052447396093,3.379052447396093,3.379052447396093,3.379052447396093,3.379052447396093,3.379052447396093,3.379052447396093,3.379052447396093,3.379052447396093,3.379052447396093,3.379052447396093,3.379052447396093,3.379052447396093,3.379052447396093,3.379052447396093,3.379052447396093,3.379052447396093,3.379052447396093,3.379052447396093,3.379052447396093,3.379052447396093,3.379052447396093,3.379052447396093,3.379052447396093,3.379052447396093,3.379052447396093,3.379052447396093,3.379052447396093,3.379052447396093,3.379052447396093,3.379052447396093,3.379052447396093,3.379052447396093,3.379052447396093,3.379052447396093,3.379052447396093,3.379052447396093,3.379052447396093,3.379052447396093,3.379052447396093,3.379052447396093,3.379052447396093,3.379052447396093,3.379052447396093,3.379052447396093,3.379052447396093,3.379052447396093,3.379052447396093,3.379052447396093,3.379052447396093,3.379052447396093,3.379052447396093,3.379052447396093,3.379052447396093,3.379052447396093,3.379052447396093,3.379052447396093,3.379052447396093,3.379052447396093,3.379052447396093,3.379052447396093,3.379052447396093,3.379052447396093,3.379052447396093,3.379052447396093,3.379052447396093,3.379052447396093,3.379052447396093,3.379052447396093,3.379052447396093,3.379052447396093,3.379052447396093,3.379052447396093,3.379052447396093,3.379052447396093,3.379052447396093,3.379052447396093,3.379052447396093,3.379052447396093,3.379052447396093,3.379052447396093,3.379052447396093,3.379052447396093,3.379052447396093,3.379052447396093,3.379052447396093,3.379052447396093,3.379052447396093,3.379052447396093,3.379052447396093,3.379052447396093,3.379052447396093,3.379052447396093,3.379052447396093,3.379052447396093,3.379052447396093,3.379052447396093,3.379052447396093,3.379052447396093,3.379052447396093,3.379052447396093,3.379052447396093,3.379052447396093,3.379052447396093,3.379052447396093,3.379052447396093,3.379052447396093,3.379052447396093,3.379052447396093,3.379052447396093,3.379052447396093,3.379052447396093,3.379052447396093,3.379052447396093,3.379052447396093,3.379052447396093,3.379052447396093,3.379052447396093,3.379052447396093,3.379052447396093,3.379052447396093,3.379052447396093,3.379052447396093,3.379052447396093,3.379052447396093,3.379052447396093,3.379052447396093,3.379052447396093,3.379052447396093,3.379052447396093,3.379052447396093,3.379052447396093,3.379052447396093,3.379052447396093,3.379052447396093,3.379052447396093,3.379052447396093,3.379052447396093,3.379052447396093,3.379052447396093,3.379052447396093,3.379052447396093,3.379052447396093,3.379052447396093,3.379052447396093,3.379052447396093,3.379052447396093,3.379052447396093,3.379052447396093,3.379052447396093,3.379052447396093,3.379052447396093,3.379052447396093,3.379052447396093,3.379052447396093,3.379052447396093,3.379052447396093,3.379052447396093,3.379052447396093,3.379052447396093,3.379052447396093,3.379052447396093,3.379052447396093,3.379052447396093,3.379052447396093,3.379052447396093,3.379052447396093,3.379052447396093,3.379052447396093,3.379052447396093,3.379052447396093,3.379052447396093,3.379052447396093,3.379052447396093,3.379052447396093,3.379052447396093,3.379052447396093,3.379052447396093,3.379052447396093,3.379052447396093,3.379052447396093,3.379052447396093,3.379052447396093,3.379052447396093,3.379052447396093,3.379052447396093,3.379052447396093,3.379052447396093,3.379052447396093,3.379052447396093,3.379052447396093,3.379052447396093,3.379052447396093,3.379052447396093,3.379052447396093,3.379052447396093,3.379052447396093,3.379052447396093,3.379052447396093,3.379052447396093,3.379052447396093,3.379052447396093,3.379052447396093,3.379052447396093,3.379052447396093,3.379052447396093,3.379052447396093,3.379052447396093,3.379052447396093,3.379052447396093,3.379052447396093,3.379052447396093,3.379052447396093,3.379052447396093,3.379052447396093,3.379052447396093,3.379052447396093,3.379052447396093,3.379052447396093,3.379052447396093,3.379052447396093,3.379052447396093,3.379052447396093,3.379052447396093,3.379052447396093,3.379052447396093,3.379052447396093,3.379052447396093,3.379052447396093,3.379052447396093,3.379052447396093,3.379052447396093,3.379052447396093,3.379052447396093,3.379052447396093,3.379052447396093,3.379052447396093,3.379052447396093,3.379052447396093,3.379052447396093,3.379052447396093,3.379052447396093,3.379052447396093,3.379052447396093,3.379052447396093,3.379052447396093,3.379052447396093,3.379052447396093,3.379052447396093,3.379052447396093,3.379052447396093,3.379052447396093,3.379052447396093,3.379052447396093,3.379052447396093,3.379052447396093,3.379052447396093,3.379052447396093,3.379052447396093,3.379052447396093,3.379052447396093,3.379052447396093,3.379052447396093,3.379052447396093,3.379052447396093,3.379052447396093,3.379052447396093,3.379052447396093,3.379052447396093,3.379052447396093,3.379052447396093,3.379052447396093,3.379052447396093,3.379052447396093,3.379052447396093,3.379052447396093,3.379052447396093,3.379052447396093,3.379052447396093,3.379052447396093,3.379052447396093,3.379052447396093,3.379052447396093,3.379052447396093,3.379052447396093,3.379052447396093,3.379052447396093,3.379052447396093,3.379052447396093,3.379052447396093,3.379052447396093,3.379052447396093,3.379052447396093,3.379052447396093,3.379052447396093,3.379052447396093,3.379052447396093,3.379052447396093,3.379052447396093,3.379052447396093,3.379052447396093,3.379052447396093,3.379052447396093,3.379052447396093,3.379052447396093,3.379052447396093,3.379052447396093,3.379052447396093,3.379052447396093,3.379052447396093,3.379052447396093,3.379052447396093,3.379052447396093,3.379052447396093,3.379052447396093,3.379052447396093,3.379052447396093,3.379052447396093,3.379052447396093,3.379052447396093,3.379052447396093,3.379052447396093,3.379052447396093,3.379052447396093,3.379052447396093,3.379052447396093,3.379052447396093,3.379052447396093,3.379052447396093,3.379052447396093,3.379052447396093,3.379052447396093,3.379052447396093,3.379052447396093,3.379052447396093,3.379052447396093,3.379052447396093,3.379052447396093,3.379052447396093,3.379052447396093,3.379052447396093,3.379052447396093,3.379052447396093,3.379052447396093,3.379052447396093,3.379052447396093,3.379052447396093,3.379052447396093,3.379052447396093,3.379052447396093,3.379052447396093,3.379052447396093,3.379052447396093,3.379052447396093,3.379052447396093,3.379052447396093,3.379052447396093,3.379052447396093,3.379052447396093,3.379052447396093,3.379052447396093,3.379052447396093,3.379052447396093,3.379052447396093,3.379052447396093,3.379052447396093,3.379052447396093,3.379052447396093,3.379052447396093,3.379052447396093,3.379052447396093,3.379052447396093,3.379052447396093,3.379052447396093,3.379052447396093,3.379052447396093,3.379052447396093,3.379052447396093,3.379052447396093,3.379052447396093,3.379052447396093,3.379052447396093,3.379052447396093,3.379052447396093,3.379052447396093,3.379052447396093,3.379052447396093,3.379052447396093,3.379052447396093,3.379052447396093,3.379052447396093,3.379052447396093,3.379052447396093,3.379052447396093,3.379052447396093,3.379052447396093,3.379052447396093,3.379052447396093,3.379052447396093,3.379052447396093,3.379052447396093,3.379052447396093,3.379052447396093,3.379052447396093,3.379052447396093,3.379052447396093,3.379052447396093,3.379052447396093,3.379052447396093,3.379052447396093,3.379052447396093,3.379052447396093,3.379052447396093,3.379052447396093,3.379052447396093,3.379052447396093,3.379052447396093,3.379052447396093,3.379052447396093,3.379052447396093,3.379052447396093,3.379052447396093,3.379052447396093,3.379052447396093,3.379052447396093,3.379052447396093,3.379052447396093,3.379052447396093,3.379052447396093,3.379052447396093,3.379052447396093,3.379052447396093,3.379052447396093,3.379052447396093,3.379052447396093,3.379052447396093,3.379052447396093,3.379052447396093,3.379052447396093,3.379052447396093,3.379052447396093,3.379052447396093,3.379052447396093,3.379052447396093,3.379052447396093,3.379052447396093,3.379052447396093,3.379052447396093,3.379052447396093,3.379052447396093,3.379052447396093,3.379052447396093,3.379052447396093,3.379052447396093,3.379052447396093,3.379052447396093,3.379052447396093,3.379052447396093,3.379052447396093,3.379052447396093,3.379052447396093,3.379052447396093,3.379052447396093,3.379052447396093,3.379052447396093,3.379052447396093,3.379052447396093,3.379052447396093,3.379052447396093,3.379052447396093,3.379052447396093,3.379052447396093,3.379052447396093,3.379052447396093,3.379052447396093,3.379052447396093,3.379052447396093,3.379052447396093,3.379052447396093,3.379052447396093,3.379052447396093,3.379052447396093,3.379052447396093,3.379052447396093,3.379052447396093,3.379052447396093,3.379052447396093,3.379052447396093,3.379052447396093,3.379052447396093,3.379052447396093,3.379052447396093,3.379052447396093,3.379052447396093,3.379052447396093,3.379052447396093,3.379052447396093,3.379052447396093,3.379052447396093,3.379052447396093,3.379052447396093,3.379052447396093,3.379052447396093,3.379052447396093,3.379052447396093,3.379052447396093,3.379052447396093,3.379052447396093,3.379052447396093,3.379052447396093,3.379052447396093,3.379052447396093,3.379052447396093,3.379052447396093,3.379052447396093,3.379052447396093,3.379052447396093,3.379052447396093,3.379052447396093,3.379052447396093,3.379052447396093,3.379052447396093,3.379052447396093,3.379052447396093,3.379052447396093,3.379052447396093,3.379052447396093,3.379052447396093,3.379052447396093,3.379052447396093,3.379052447396093,3.379052447396093,3.379052447396093,3.379052447396093,3.379052447396093,3.379052447396093,3.379052447396093,3.379052447396093,3.379052447396093,3.379052447396093,3.379052447396093,3.379052447396093,3.379052447396093,3.379052447396093,3.379052447396093,3.379052447396093,3.379052447396093,3.379052447396093,3.379052447396093,3.379052447396093,3.379052447396093,3.379052447396093,3.379052447396093,3.379052447396093,3.379052447396093,3.379052447396093,3.379052447396093,3.379052447396093,3.379052447396093,3.379052447396093,3.379052447396093,3.379052447396093,3.379052447396093,3.379052447396093,3.379052447396093,3.379052447396093,3.379052447396093,3.379052447396093,3.379052447396093,3.379052447396093,3.379052447396093,3.379052447396093,3.379052447396093,3.379052447396093,3.379052447396093,3.379052447396093,3.379052447396093,3.379052447396093,3.379052447396093,3.379052447396093,3.379052447396093,3.379052447396093,3.379052447396093,3.379052447396093,3.379052447396093,3.379052447396093,3.379052447396093,3.379052447396093,3.379052447396093,3.379052447396093,3.379052447396093,3.379052447396093,3.379052447396093,3.379052447396093,3.379052447396093,3.379052447396093,3.379052447396093,3.379052447396093,3.379052447396093,3.379052447396093,3.379052447396093,3.379052447396093,3.379052447396093,3.379052447396093,3.379052447396093,3.379052447396093,3.379052447396093,3.379052447396093,3.379052447396093,3.379052447396093,3.379052447396093,3.379052447396093,3.379052447396093,3.379052447396093,3.379052447396093,3.379052447396093,3.379052447396093,3.379052447396093,3.379052447396093,3.379052447396093,3.379052447396093,3.379052447396093,3.379052447396093,3.379052447396093,3.379052447396093,3.379052447396093,3.379052447396093,3.379052447396093,3.379052447396093,3.379052447396093,3.379052447396093,3.379052447396093,3.379052447396093,3.379052447396093,3.379052447396093,3.379052447396093,3.379052447396093,3.379052447396093,3.379052447396093,3.379052447396093,3.379052447396093,3.379052447396093,3.379052447396093,3.379052447396093,3.379052447396093,3.379052447396093,3.379052447396093,3.379052447396093,3.379052447396093,3.379052447396093,3.379052447396093,3.379052447396093,3.379052447396093,3.379052447396093,3.379052447396093,3.379052447396093,3.379052447396093,3.379052447396093,3.379052447396093,3.379052447396093,3.379052447396093,3.379052447396093,3.379052447396093,3.379052447396093,3.379052447396093,3.379052447396093,3.379052447396093,3.379052447396093],\"yaxis\":\"y\",\"type\":\"scatter\"}],                        {\"template\":{\"data\":{\"histogram2dcontour\":[{\"type\":\"histogram2dcontour\",\"colorbar\":{\"outlinewidth\":0,\"ticks\":\"\"},\"colorscale\":[[0.0,\"#0d0887\"],[0.1111111111111111,\"#46039f\"],[0.2222222222222222,\"#7201a8\"],[0.3333333333333333,\"#9c179e\"],[0.4444444444444444,\"#bd3786\"],[0.5555555555555556,\"#d8576b\"],[0.6666666666666666,\"#ed7953\"],[0.7777777777777778,\"#fb9f3a\"],[0.8888888888888888,\"#fdca26\"],[1.0,\"#f0f921\"]]}],\"choropleth\":[{\"type\":\"choropleth\",\"colorbar\":{\"outlinewidth\":0,\"ticks\":\"\"}}],\"histogram2d\":[{\"type\":\"histogram2d\",\"colorbar\":{\"outlinewidth\":0,\"ticks\":\"\"},\"colorscale\":[[0.0,\"#0d0887\"],[0.1111111111111111,\"#46039f\"],[0.2222222222222222,\"#7201a8\"],[0.3333333333333333,\"#9c179e\"],[0.4444444444444444,\"#bd3786\"],[0.5555555555555556,\"#d8576b\"],[0.6666666666666666,\"#ed7953\"],[0.7777777777777778,\"#fb9f3a\"],[0.8888888888888888,\"#fdca26\"],[1.0,\"#f0f921\"]]}],\"heatmap\":[{\"type\":\"heatmap\",\"colorbar\":{\"outlinewidth\":0,\"ticks\":\"\"},\"colorscale\":[[0.0,\"#0d0887\"],[0.1111111111111111,\"#46039f\"],[0.2222222222222222,\"#7201a8\"],[0.3333333333333333,\"#9c179e\"],[0.4444444444444444,\"#bd3786\"],[0.5555555555555556,\"#d8576b\"],[0.6666666666666666,\"#ed7953\"],[0.7777777777777778,\"#fb9f3a\"],[0.8888888888888888,\"#fdca26\"],[1.0,\"#f0f921\"]]}],\"heatmapgl\":[{\"type\":\"heatmapgl\",\"colorbar\":{\"outlinewidth\":0,\"ticks\":\"\"},\"colorscale\":[[0.0,\"#0d0887\"],[0.1111111111111111,\"#46039f\"],[0.2222222222222222,\"#7201a8\"],[0.3333333333333333,\"#9c179e\"],[0.4444444444444444,\"#bd3786\"],[0.5555555555555556,\"#d8576b\"],[0.6666666666666666,\"#ed7953\"],[0.7777777777777778,\"#fb9f3a\"],[0.8888888888888888,\"#fdca26\"],[1.0,\"#f0f921\"]]}],\"contourcarpet\":[{\"type\":\"contourcarpet\",\"colorbar\":{\"outlinewidth\":0,\"ticks\":\"\"}}],\"contour\":[{\"type\":\"contour\",\"colorbar\":{\"outlinewidth\":0,\"ticks\":\"\"},\"colorscale\":[[0.0,\"#0d0887\"],[0.1111111111111111,\"#46039f\"],[0.2222222222222222,\"#7201a8\"],[0.3333333333333333,\"#9c179e\"],[0.4444444444444444,\"#bd3786\"],[0.5555555555555556,\"#d8576b\"],[0.6666666666666666,\"#ed7953\"],[0.7777777777777778,\"#fb9f3a\"],[0.8888888888888888,\"#fdca26\"],[1.0,\"#f0f921\"]]}],\"surface\":[{\"type\":\"surface\",\"colorbar\":{\"outlinewidth\":0,\"ticks\":\"\"},\"colorscale\":[[0.0,\"#0d0887\"],[0.1111111111111111,\"#46039f\"],[0.2222222222222222,\"#7201a8\"],[0.3333333333333333,\"#9c179e\"],[0.4444444444444444,\"#bd3786\"],[0.5555555555555556,\"#d8576b\"],[0.6666666666666666,\"#ed7953\"],[0.7777777777777778,\"#fb9f3a\"],[0.8888888888888888,\"#fdca26\"],[1.0,\"#f0f921\"]]}],\"mesh3d\":[{\"type\":\"mesh3d\",\"colorbar\":{\"outlinewidth\":0,\"ticks\":\"\"}}],\"scatter\":[{\"fillpattern\":{\"fillmode\":\"overlay\",\"size\":10,\"solidity\":0.2},\"type\":\"scatter\"}],\"parcoords\":[{\"type\":\"parcoords\",\"line\":{\"colorbar\":{\"outlinewidth\":0,\"ticks\":\"\"}}}],\"scatterpolargl\":[{\"type\":\"scatterpolargl\",\"marker\":{\"colorbar\":{\"outlinewidth\":0,\"ticks\":\"\"}}}],\"bar\":[{\"error_x\":{\"color\":\"#2a3f5f\"},\"error_y\":{\"color\":\"#2a3f5f\"},\"marker\":{\"line\":{\"color\":\"#E5ECF6\",\"width\":0.5},\"pattern\":{\"fillmode\":\"overlay\",\"size\":10,\"solidity\":0.2}},\"type\":\"bar\"}],\"scattergeo\":[{\"type\":\"scattergeo\",\"marker\":{\"colorbar\":{\"outlinewidth\":0,\"ticks\":\"\"}}}],\"scatterpolar\":[{\"type\":\"scatterpolar\",\"marker\":{\"colorbar\":{\"outlinewidth\":0,\"ticks\":\"\"}}}],\"histogram\":[{\"marker\":{\"pattern\":{\"fillmode\":\"overlay\",\"size\":10,\"solidity\":0.2}},\"type\":\"histogram\"}],\"scattergl\":[{\"type\":\"scattergl\",\"marker\":{\"colorbar\":{\"outlinewidth\":0,\"ticks\":\"\"}}}],\"scatter3d\":[{\"type\":\"scatter3d\",\"line\":{\"colorbar\":{\"outlinewidth\":0,\"ticks\":\"\"}},\"marker\":{\"colorbar\":{\"outlinewidth\":0,\"ticks\":\"\"}}}],\"scattermapbox\":[{\"type\":\"scattermapbox\",\"marker\":{\"colorbar\":{\"outlinewidth\":0,\"ticks\":\"\"}}}],\"scatterternary\":[{\"type\":\"scatterternary\",\"marker\":{\"colorbar\":{\"outlinewidth\":0,\"ticks\":\"\"}}}],\"scattercarpet\":[{\"type\":\"scattercarpet\",\"marker\":{\"colorbar\":{\"outlinewidth\":0,\"ticks\":\"\"}}}],\"carpet\":[{\"aaxis\":{\"endlinecolor\":\"#2a3f5f\",\"gridcolor\":\"white\",\"linecolor\":\"white\",\"minorgridcolor\":\"white\",\"startlinecolor\":\"#2a3f5f\"},\"baxis\":{\"endlinecolor\":\"#2a3f5f\",\"gridcolor\":\"white\",\"linecolor\":\"white\",\"minorgridcolor\":\"white\",\"startlinecolor\":\"#2a3f5f\"},\"type\":\"carpet\"}],\"table\":[{\"cells\":{\"fill\":{\"color\":\"#EBF0F8\"},\"line\":{\"color\":\"white\"}},\"header\":{\"fill\":{\"color\":\"#C8D4E3\"},\"line\":{\"color\":\"white\"}},\"type\":\"table\"}],\"barpolar\":[{\"marker\":{\"line\":{\"color\":\"#E5ECF6\",\"width\":0.5},\"pattern\":{\"fillmode\":\"overlay\",\"size\":10,\"solidity\":0.2}},\"type\":\"barpolar\"}],\"pie\":[{\"automargin\":true,\"type\":\"pie\"}]},\"layout\":{\"autotypenumbers\":\"strict\",\"colorway\":[\"#636efa\",\"#EF553B\",\"#00cc96\",\"#ab63fa\",\"#FFA15A\",\"#19d3f3\",\"#FF6692\",\"#B6E880\",\"#FF97FF\",\"#FECB52\"],\"font\":{\"color\":\"#2a3f5f\"},\"hovermode\":\"closest\",\"hoverlabel\":{\"align\":\"left\"},\"paper_bgcolor\":\"white\",\"plot_bgcolor\":\"#E5ECF6\",\"polar\":{\"bgcolor\":\"#E5ECF6\",\"angularaxis\":{\"gridcolor\":\"white\",\"linecolor\":\"white\",\"ticks\":\"\"},\"radialaxis\":{\"gridcolor\":\"white\",\"linecolor\":\"white\",\"ticks\":\"\"}},\"ternary\":{\"bgcolor\":\"#E5ECF6\",\"aaxis\":{\"gridcolor\":\"white\",\"linecolor\":\"white\",\"ticks\":\"\"},\"baxis\":{\"gridcolor\":\"white\",\"linecolor\":\"white\",\"ticks\":\"\"},\"caxis\":{\"gridcolor\":\"white\",\"linecolor\":\"white\",\"ticks\":\"\"}},\"coloraxis\":{\"colorbar\":{\"outlinewidth\":0,\"ticks\":\"\"}},\"colorscale\":{\"sequential\":[[0.0,\"#0d0887\"],[0.1111111111111111,\"#46039f\"],[0.2222222222222222,\"#7201a8\"],[0.3333333333333333,\"#9c179e\"],[0.4444444444444444,\"#bd3786\"],[0.5555555555555556,\"#d8576b\"],[0.6666666666666666,\"#ed7953\"],[0.7777777777777778,\"#fb9f3a\"],[0.8888888888888888,\"#fdca26\"],[1.0,\"#f0f921\"]],\"sequentialminus\":[[0.0,\"#0d0887\"],[0.1111111111111111,\"#46039f\"],[0.2222222222222222,\"#7201a8\"],[0.3333333333333333,\"#9c179e\"],[0.4444444444444444,\"#bd3786\"],[0.5555555555555556,\"#d8576b\"],[0.6666666666666666,\"#ed7953\"],[0.7777777777777778,\"#fb9f3a\"],[0.8888888888888888,\"#fdca26\"],[1.0,\"#f0f921\"]],\"diverging\":[[0,\"#8e0152\"],[0.1,\"#c51b7d\"],[0.2,\"#de77ae\"],[0.3,\"#f1b6da\"],[0.4,\"#fde0ef\"],[0.5,\"#f7f7f7\"],[0.6,\"#e6f5d0\"],[0.7,\"#b8e186\"],[0.8,\"#7fbc41\"],[0.9,\"#4d9221\"],[1,\"#276419\"]]},\"xaxis\":{\"gridcolor\":\"white\",\"linecolor\":\"white\",\"ticks\":\"\",\"title\":{\"standoff\":15},\"zerolinecolor\":\"white\",\"automargin\":true,\"zerolinewidth\":2},\"yaxis\":{\"gridcolor\":\"white\",\"linecolor\":\"white\",\"ticks\":\"\",\"title\":{\"standoff\":15},\"zerolinecolor\":\"white\",\"automargin\":true,\"zerolinewidth\":2},\"scene\":{\"xaxis\":{\"backgroundcolor\":\"#E5ECF6\",\"gridcolor\":\"white\",\"linecolor\":\"white\",\"showbackground\":true,\"ticks\":\"\",\"zerolinecolor\":\"white\",\"gridwidth\":2},\"yaxis\":{\"backgroundcolor\":\"#E5ECF6\",\"gridcolor\":\"white\",\"linecolor\":\"white\",\"showbackground\":true,\"ticks\":\"\",\"zerolinecolor\":\"white\",\"gridwidth\":2},\"zaxis\":{\"backgroundcolor\":\"#E5ECF6\",\"gridcolor\":\"white\",\"linecolor\":\"white\",\"showbackground\":true,\"ticks\":\"\",\"zerolinecolor\":\"white\",\"gridwidth\":2}},\"shapedefaults\":{\"line\":{\"color\":\"#2a3f5f\"}},\"annotationdefaults\":{\"arrowcolor\":\"#2a3f5f\",\"arrowhead\":0,\"arrowwidth\":1},\"geo\":{\"bgcolor\":\"white\",\"landcolor\":\"#E5ECF6\",\"subunitcolor\":\"white\",\"showland\":true,\"showlakes\":true,\"lakecolor\":\"white\"},\"title\":{\"x\":0.05},\"mapbox\":{\"style\":\"light\"}}},\"xaxis\":{\"anchor\":\"y\",\"domain\":[0.0,1.0],\"title\":{\"text\":\"index\"}},\"yaxis\":{\"anchor\":\"x\",\"domain\":[0.0,1.0],\"title\":{\"text\":\"value\"}},\"legend\":{\"title\":{\"text\":\"variable\"},\"tracegroupgap\":0},\"margin\":{\"t\":60}},                        {\"responsive\": true}                    )                };                            </script>        </div>\n",
       "</body>\n",
       "</html>"
      ]
     },
     "metadata": {},
     "output_type": "display_data"
    }
   ],
   "source": [
    "pser = pd.Series(np.random.randn(1000),\n",
    "                 index = pd.date_range('1/1/2000',periods=1000))\n",
    "\n",
    "psser = ps.Series(pser)\n",
    "\n",
    "psser = psser.cummax()\n",
    "\n",
    "psser.plot()"
   ]
  },
  {
   "cell_type": "code",
   "execution_count": 0,
   "metadata": {
    "application/vnd.databricks.v1+cell": {
     "cellMetadata": {
      "byteLimit": 2048000,
      "rowLimit": 10000
     },
     "inputWidgets": {},
     "nuid": "d4d79ca1-4457-4b62-8115-2162e80c178f",
     "showTitle": false,
     "title": ""
    }
   },
   "outputs": [
    {
     "output_type": "display_data",
     "data": {
      "text/html": [
       "<html>\n",
       "<head><meta charset=\"utf-8\" /></head>\n",
       "<body>\n",
       "    <div>            <script src=\"https://cdnjs.cloudflare.com/ajax/libs/mathjax/2.7.5/MathJax.js?config=TeX-AMS-MML_SVG\"></script><script type=\"text/javascript\">if (window.MathJax && window.MathJax.Hub && window.MathJax.Hub.Config) {window.MathJax.Hub.Config({SVG: {font: \"STIX-Web\"}});}</script>                <script type=\"text/javascript\">window.PlotlyConfig = {MathJaxConfig: 'local'};</script>\n",
       "        <script src=\"https://cdn.plot.ly/plotly-2.12.1.min.js\"></script>                <div id=\"002f519a-c389-4590-b3e7-bf589baacdb9\" class=\"plotly-graph-div\" style=\"height:100%; width:100%;\"></div>            <script type=\"text/javascript\">                                    window.PLOTLYENV=window.PLOTLYENV || {};                                    if (document.getElementById(\"002f519a-c389-4590-b3e7-bf589baacdb9\")) {                    Plotly.newPlot(                        \"002f519a-c389-4590-b3e7-bf589baacdb9\",                        [{\"hovertemplate\":\"variable=A<br>index=%{x}<br>value=%{y}<extra></extra>\",\"legendgroup\":\"A\",\"line\":{\"color\":\"#636efa\",\"dash\":\"solid\"},\"marker\":{\"symbol\":\"circle\"},\"mode\":\"lines\",\"name\":\"A\",\"showlegend\":true,\"x\":[\"2000-01-01T00:00:00\",\"2000-01-02T00:00:00\",\"2000-01-03T00:00:00\",\"2000-01-04T00:00:00\",\"2000-01-05T00:00:00\",\"2000-01-06T00:00:00\",\"2000-01-07T00:00:00\",\"2000-01-08T00:00:00\",\"2000-01-09T00:00:00\",\"2000-01-10T00:00:00\",\"2000-01-11T00:00:00\",\"2000-01-12T00:00:00\",\"2000-01-13T00:00:00\",\"2000-01-14T00:00:00\",\"2000-01-15T00:00:00\",\"2000-01-16T00:00:00\",\"2000-01-17T00:00:00\",\"2000-01-18T00:00:00\",\"2000-01-19T00:00:00\",\"2000-01-20T00:00:00\",\"2000-01-21T00:00:00\",\"2000-01-22T00:00:00\",\"2000-01-23T00:00:00\",\"2000-01-24T00:00:00\",\"2000-01-25T00:00:00\",\"2000-01-26T00:00:00\",\"2000-01-27T00:00:00\",\"2000-01-28T00:00:00\",\"2000-01-29T00:00:00\",\"2000-01-30T00:00:00\",\"2000-01-31T00:00:00\",\"2000-02-01T00:00:00\",\"2000-02-02T00:00:00\",\"2000-02-03T00:00:00\",\"2000-02-04T00:00:00\",\"2000-02-05T00:00:00\",\"2000-02-06T00:00:00\",\"2000-02-07T00:00:00\",\"2000-02-08T00:00:00\",\"2000-02-09T00:00:00\",\"2000-02-10T00:00:00\",\"2000-02-11T00:00:00\",\"2000-02-12T00:00:00\",\"2000-02-13T00:00:00\",\"2000-02-14T00:00:00\",\"2000-02-15T00:00:00\",\"2000-02-16T00:00:00\",\"2000-02-17T00:00:00\",\"2000-02-18T00:00:00\",\"2000-02-19T00:00:00\",\"2000-02-20T00:00:00\",\"2000-02-21T00:00:00\",\"2000-02-22T00:00:00\",\"2000-02-23T00:00:00\",\"2000-02-24T00:00:00\",\"2000-02-25T00:00:00\",\"2000-02-26T00:00:00\",\"2000-02-27T00:00:00\",\"2000-02-28T00:00:00\",\"2000-02-29T00:00:00\",\"2000-03-01T00:00:00\",\"2000-03-02T00:00:00\",\"2000-03-03T00:00:00\",\"2000-03-04T00:00:00\",\"2000-03-05T00:00:00\",\"2000-03-06T00:00:00\",\"2000-03-07T00:00:00\",\"2000-03-08T00:00:00\",\"2000-03-09T00:00:00\",\"2000-03-10T00:00:00\",\"2000-03-11T00:00:00\",\"2000-03-12T00:00:00\",\"2000-03-13T00:00:00\",\"2000-03-14T00:00:00\",\"2000-03-15T00:00:00\",\"2000-03-16T00:00:00\",\"2000-03-17T00:00:00\",\"2000-03-18T00:00:00\",\"2000-03-19T00:00:00\",\"2000-03-20T00:00:00\",\"2000-03-21T00:00:00\",\"2000-03-22T00:00:00\",\"2000-03-23T00:00:00\",\"2000-03-24T00:00:00\",\"2000-03-25T00:00:00\",\"2000-03-26T00:00:00\",\"2000-03-27T00:00:00\",\"2000-03-28T00:00:00\",\"2000-03-29T00:00:00\",\"2000-03-30T00:00:00\",\"2000-03-31T00:00:00\",\"2000-04-01T00:00:00\",\"2000-04-02T00:00:00\",\"2000-04-03T00:00:00\",\"2000-04-04T00:00:00\",\"2000-04-05T00:00:00\",\"2000-04-06T00:00:00\",\"2000-04-07T00:00:00\",\"2000-04-08T00:00:00\",\"2000-04-09T00:00:00\",\"2000-04-10T00:00:00\",\"2000-04-11T00:00:00\",\"2000-04-12T00:00:00\",\"2000-04-13T00:00:00\",\"2000-04-14T00:00:00\",\"2000-04-15T00:00:00\",\"2000-04-16T00:00:00\",\"2000-04-17T00:00:00\",\"2000-04-18T00:00:00\",\"2000-04-19T00:00:00\",\"2000-04-20T00:00:00\",\"2000-04-21T00:00:00\",\"2000-04-22T00:00:00\",\"2000-04-23T00:00:00\",\"2000-04-24T00:00:00\",\"2000-04-25T00:00:00\",\"2000-04-26T00:00:00\",\"2000-04-27T00:00:00\",\"2000-04-28T00:00:00\",\"2000-04-29T00:00:00\",\"2000-04-30T00:00:00\",\"2000-05-01T00:00:00\",\"2000-05-02T00:00:00\",\"2000-05-03T00:00:00\",\"2000-05-04T00:00:00\",\"2000-05-05T00:00:00\",\"2000-05-06T00:00:00\",\"2000-05-07T00:00:00\",\"2000-05-08T00:00:00\",\"2000-05-09T00:00:00\",\"2000-05-10T00:00:00\",\"2000-05-11T00:00:00\",\"2000-05-12T00:00:00\",\"2000-05-13T00:00:00\",\"2000-05-14T00:00:00\",\"2000-05-15T00:00:00\",\"2000-05-16T00:00:00\",\"2000-05-17T00:00:00\",\"2000-05-18T00:00:00\",\"2000-05-19T00:00:00\",\"2000-05-20T00:00:00\",\"2000-05-21T00:00:00\",\"2000-05-22T00:00:00\",\"2000-05-23T00:00:00\",\"2000-05-24T00:00:00\",\"2000-05-25T00:00:00\",\"2000-05-26T00:00:00\",\"2000-05-27T00:00:00\",\"2000-05-28T00:00:00\",\"2000-05-29T00:00:00\",\"2000-05-30T00:00:00\",\"2000-05-31T00:00:00\",\"2000-06-01T00:00:00\",\"2000-06-02T00:00:00\",\"2000-06-03T00:00:00\",\"2000-06-04T00:00:00\",\"2000-06-05T00:00:00\",\"2000-06-06T00:00:00\",\"2000-06-07T00:00:00\",\"2000-06-08T00:00:00\",\"2000-06-09T00:00:00\",\"2000-06-10T00:00:00\",\"2000-06-11T00:00:00\",\"2000-06-12T00:00:00\",\"2000-06-13T00:00:00\",\"2000-06-14T00:00:00\",\"2000-06-15T00:00:00\",\"2000-06-16T00:00:00\",\"2000-06-17T00:00:00\",\"2000-06-18T00:00:00\",\"2000-06-19T00:00:00\",\"2000-06-20T00:00:00\",\"2000-06-21T00:00:00\",\"2000-06-22T00:00:00\",\"2000-06-23T00:00:00\",\"2000-06-24T00:00:00\",\"2000-06-25T00:00:00\",\"2000-06-26T00:00:00\",\"2000-06-27T00:00:00\",\"2000-06-28T00:00:00\",\"2000-06-29T00:00:00\",\"2000-06-30T00:00:00\",\"2000-07-01T00:00:00\",\"2000-07-02T00:00:00\",\"2000-07-03T00:00:00\",\"2000-07-04T00:00:00\",\"2000-07-05T00:00:00\",\"2000-07-06T00:00:00\",\"2000-07-07T00:00:00\",\"2000-07-08T00:00:00\",\"2000-07-09T00:00:00\",\"2000-07-10T00:00:00\",\"2000-07-11T00:00:00\",\"2000-07-12T00:00:00\",\"2000-07-13T00:00:00\",\"2000-07-14T00:00:00\",\"2000-07-15T00:00:00\",\"2000-07-16T00:00:00\",\"2000-07-17T00:00:00\",\"2000-07-18T00:00:00\",\"2000-07-19T00:00:00\",\"2000-07-20T00:00:00\",\"2000-07-21T00:00:00\",\"2000-07-22T00:00:00\",\"2000-07-23T00:00:00\",\"2000-07-24T00:00:00\",\"2000-07-25T00:00:00\",\"2000-07-26T00:00:00\",\"2000-07-27T00:00:00\",\"2000-07-28T00:00:00\",\"2000-07-29T00:00:00\",\"2000-07-30T00:00:00\",\"2000-07-31T00:00:00\",\"2000-08-01T00:00:00\",\"2000-08-02T00:00:00\",\"2000-08-03T00:00:00\",\"2000-08-04T00:00:00\",\"2000-08-05T00:00:00\",\"2000-08-06T00:00:00\",\"2000-08-07T00:00:00\",\"2000-08-08T00:00:00\",\"2000-08-09T00:00:00\",\"2000-08-10T00:00:00\",\"2000-08-11T00:00:00\",\"2000-08-12T00:00:00\",\"2000-08-13T00:00:00\",\"2000-08-14T00:00:00\",\"2000-08-15T00:00:00\",\"2000-08-16T00:00:00\",\"2000-08-17T00:00:00\",\"2000-08-18T00:00:00\",\"2000-08-19T00:00:00\",\"2000-08-20T00:00:00\",\"2000-08-21T00:00:00\",\"2000-08-22T00:00:00\",\"2000-08-23T00:00:00\",\"2000-08-24T00:00:00\",\"2000-08-25T00:00:00\",\"2000-08-26T00:00:00\",\"2000-08-27T00:00:00\",\"2000-08-28T00:00:00\",\"2000-08-29T00:00:00\",\"2000-08-30T00:00:00\",\"2000-08-31T00:00:00\",\"2000-09-01T00:00:00\",\"2000-09-02T00:00:00\",\"2000-09-03T00:00:00\",\"2000-09-04T00:00:00\",\"2000-09-05T00:00:00\",\"2000-09-06T00:00:00\",\"2000-09-07T00:00:00\",\"2000-09-08T00:00:00\",\"2000-09-09T00:00:00\",\"2000-09-10T00:00:00\",\"2000-09-11T00:00:00\",\"2000-09-12T00:00:00\",\"2000-09-13T00:00:00\",\"2000-09-14T00:00:00\",\"2000-09-15T00:00:00\",\"2000-09-16T00:00:00\",\"2000-09-17T00:00:00\",\"2000-09-18T00:00:00\",\"2000-09-19T00:00:00\",\"2000-09-20T00:00:00\",\"2000-09-21T00:00:00\",\"2000-09-22T00:00:00\",\"2000-09-23T00:00:00\",\"2000-09-24T00:00:00\",\"2000-09-25T00:00:00\",\"2000-09-26T00:00:00\",\"2000-09-27T00:00:00\",\"2000-09-28T00:00:00\",\"2000-09-29T00:00:00\",\"2000-09-30T00:00:00\",\"2000-10-01T00:00:00\",\"2000-10-02T00:00:00\",\"2000-10-03T00:00:00\",\"2000-10-04T00:00:00\",\"2000-10-05T00:00:00\",\"2000-10-06T00:00:00\",\"2000-10-07T00:00:00\",\"2000-10-08T00:00:00\",\"2000-10-09T00:00:00\",\"2000-10-10T00:00:00\",\"2000-10-11T00:00:00\",\"2000-10-12T00:00:00\",\"2000-10-13T00:00:00\",\"2000-10-14T00:00:00\",\"2000-10-15T00:00:00\",\"2000-10-16T00:00:00\",\"2000-10-17T00:00:00\",\"2000-10-18T00:00:00\",\"2000-10-19T00:00:00\",\"2000-10-20T00:00:00\",\"2000-10-21T00:00:00\",\"2000-10-22T00:00:00\",\"2000-10-23T00:00:00\",\"2000-10-24T00:00:00\",\"2000-10-25T00:00:00\",\"2000-10-26T00:00:00\",\"2000-10-27T00:00:00\",\"2000-10-28T00:00:00\",\"2000-10-29T00:00:00\",\"2000-10-30T00:00:00\",\"2000-10-31T00:00:00\",\"2000-11-01T00:00:00\",\"2000-11-02T00:00:00\",\"2000-11-03T00:00:00\",\"2000-11-04T00:00:00\",\"2000-11-05T00:00:00\",\"2000-11-06T00:00:00\",\"2000-11-07T00:00:00\",\"2000-11-08T00:00:00\",\"2000-11-09T00:00:00\",\"2000-11-10T00:00:00\",\"2000-11-11T00:00:00\",\"2000-11-12T00:00:00\",\"2000-11-13T00:00:00\",\"2000-11-14T00:00:00\",\"2000-11-15T00:00:00\",\"2000-11-16T00:00:00\",\"2000-11-17T00:00:00\",\"2000-11-18T00:00:00\",\"2000-11-19T00:00:00\",\"2000-11-20T00:00:00\",\"2000-11-21T00:00:00\",\"2000-11-22T00:00:00\",\"2000-11-23T00:00:00\",\"2000-11-24T00:00:00\",\"2000-11-25T00:00:00\",\"2000-11-26T00:00:00\",\"2000-11-27T00:00:00\",\"2000-11-28T00:00:00\",\"2000-11-29T00:00:00\",\"2000-11-30T00:00:00\",\"2000-12-01T00:00:00\",\"2000-12-02T00:00:00\",\"2000-12-03T00:00:00\",\"2000-12-04T00:00:00\",\"2000-12-05T00:00:00\",\"2000-12-06T00:00:00\",\"2000-12-07T00:00:00\",\"2000-12-08T00:00:00\",\"2000-12-09T00:00:00\",\"2000-12-10T00:00:00\",\"2000-12-11T00:00:00\",\"2000-12-12T00:00:00\",\"2000-12-13T00:00:00\",\"2000-12-14T00:00:00\",\"2000-12-15T00:00:00\",\"2000-12-16T00:00:00\",\"2000-12-17T00:00:00\",\"2000-12-18T00:00:00\",\"2000-12-19T00:00:00\",\"2000-12-20T00:00:00\",\"2000-12-21T00:00:00\",\"2000-12-22T00:00:00\",\"2000-12-23T00:00:00\",\"2000-12-24T00:00:00\",\"2000-12-25T00:00:00\",\"2000-12-26T00:00:00\",\"2000-12-27T00:00:00\",\"2000-12-28T00:00:00\",\"2000-12-29T00:00:00\",\"2000-12-30T00:00:00\",\"2000-12-31T00:00:00\",\"2001-01-01T00:00:00\",\"2001-01-02T00:00:00\",\"2001-01-03T00:00:00\",\"2001-01-04T00:00:00\",\"2001-01-05T00:00:00\",\"2001-01-06T00:00:00\",\"2001-01-07T00:00:00\",\"2001-01-08T00:00:00\",\"2001-01-09T00:00:00\",\"2001-01-10T00:00:00\",\"2001-01-11T00:00:00\",\"2001-01-12T00:00:00\",\"2001-01-13T00:00:00\",\"2001-01-14T00:00:00\",\"2001-01-15T00:00:00\",\"2001-01-16T00:00:00\",\"2001-01-17T00:00:00\",\"2001-01-18T00:00:00\",\"2001-01-19T00:00:00\",\"2001-01-20T00:00:00\",\"2001-01-21T00:00:00\",\"2001-01-22T00:00:00\",\"2001-01-23T00:00:00\",\"2001-01-24T00:00:00\",\"2001-01-25T00:00:00\",\"2001-01-26T00:00:00\",\"2001-01-27T00:00:00\",\"2001-01-28T00:00:00\",\"2001-01-29T00:00:00\",\"2001-01-30T00:00:00\",\"2001-01-31T00:00:00\",\"2001-02-01T00:00:00\",\"2001-02-02T00:00:00\",\"2001-02-03T00:00:00\",\"2001-02-04T00:00:00\",\"2001-02-05T00:00:00\",\"2001-02-06T00:00:00\",\"2001-02-07T00:00:00\",\"2001-02-08T00:00:00\",\"2001-02-09T00:00:00\",\"2001-02-10T00:00:00\",\"2001-02-11T00:00:00\",\"2001-02-12T00:00:00\",\"2001-02-13T00:00:00\",\"2001-02-14T00:00:00\",\"2001-02-15T00:00:00\",\"2001-02-16T00:00:00\",\"2001-02-17T00:00:00\",\"2001-02-18T00:00:00\",\"2001-02-19T00:00:00\",\"2001-02-20T00:00:00\",\"2001-02-21T00:00:00\",\"2001-02-22T00:00:00\",\"2001-02-23T00:00:00\",\"2001-02-24T00:00:00\",\"2001-02-25T00:00:00\",\"2001-02-26T00:00:00\",\"2001-02-27T00:00:00\",\"2001-02-28T00:00:00\",\"2001-03-01T00:00:00\",\"2001-03-02T00:00:00\",\"2001-03-03T00:00:00\",\"2001-03-04T00:00:00\",\"2001-03-05T00:00:00\",\"2001-03-06T00:00:00\",\"2001-03-07T00:00:00\",\"2001-03-08T00:00:00\",\"2001-03-09T00:00:00\",\"2001-03-10T00:00:00\",\"2001-03-11T00:00:00\",\"2001-03-12T00:00:00\",\"2001-03-13T00:00:00\",\"2001-03-14T00:00:00\",\"2001-03-15T00:00:00\",\"2001-03-16T00:00:00\",\"2001-03-17T00:00:00\",\"2001-03-18T00:00:00\",\"2001-03-19T00:00:00\",\"2001-03-20T00:00:00\",\"2001-03-21T00:00:00\",\"2001-03-22T00:00:00\",\"2001-03-23T00:00:00\",\"2001-03-24T00:00:00\",\"2001-03-25T00:00:00\",\"2001-03-26T00:00:00\",\"2001-03-27T00:00:00\",\"2001-03-28T00:00:00\",\"2001-03-29T00:00:00\",\"2001-03-30T00:00:00\",\"2001-03-31T00:00:00\",\"2001-04-01T00:00:00\",\"2001-04-02T00:00:00\",\"2001-04-03T00:00:00\",\"2001-04-04T00:00:00\",\"2001-04-05T00:00:00\",\"2001-04-06T00:00:00\",\"2001-04-07T00:00:00\",\"2001-04-08T00:00:00\",\"2001-04-09T00:00:00\",\"2001-04-10T00:00:00\",\"2001-04-11T00:00:00\",\"2001-04-12T00:00:00\",\"2001-04-13T00:00:00\",\"2001-04-14T00:00:00\",\"2001-04-15T00:00:00\",\"2001-04-16T00:00:00\",\"2001-04-17T00:00:00\",\"2001-04-18T00:00:00\",\"2001-04-19T00:00:00\",\"2001-04-20T00:00:00\",\"2001-04-21T00:00:00\",\"2001-04-22T00:00:00\",\"2001-04-23T00:00:00\",\"2001-04-24T00:00:00\",\"2001-04-25T00:00:00\",\"2001-04-26T00:00:00\",\"2001-04-27T00:00:00\",\"2001-04-28T00:00:00\",\"2001-04-29T00:00:00\",\"2001-04-30T00:00:00\",\"2001-05-01T00:00:00\",\"2001-05-02T00:00:00\",\"2001-05-03T00:00:00\",\"2001-05-04T00:00:00\",\"2001-05-05T00:00:00\",\"2001-05-06T00:00:00\",\"2001-05-07T00:00:00\",\"2001-05-08T00:00:00\",\"2001-05-09T00:00:00\",\"2001-05-10T00:00:00\",\"2001-05-11T00:00:00\",\"2001-05-12T00:00:00\",\"2001-05-13T00:00:00\",\"2001-05-14T00:00:00\",\"2001-05-15T00:00:00\",\"2001-05-16T00:00:00\",\"2001-05-17T00:00:00\",\"2001-05-18T00:00:00\",\"2001-05-19T00:00:00\",\"2001-05-20T00:00:00\",\"2001-05-21T00:00:00\",\"2001-05-22T00:00:00\",\"2001-05-23T00:00:00\",\"2001-05-24T00:00:00\",\"2001-05-25T00:00:00\",\"2001-05-26T00:00:00\",\"2001-05-27T00:00:00\",\"2001-05-28T00:00:00\",\"2001-05-29T00:00:00\",\"2001-05-30T00:00:00\",\"2001-05-31T00:00:00\",\"2001-06-01T00:00:00\",\"2001-06-02T00:00:00\",\"2001-06-03T00:00:00\",\"2001-06-04T00:00:00\",\"2001-06-05T00:00:00\",\"2001-06-06T00:00:00\",\"2001-06-07T00:00:00\",\"2001-06-08T00:00:00\",\"2001-06-09T00:00:00\",\"2001-06-10T00:00:00\",\"2001-06-11T00:00:00\",\"2001-06-12T00:00:00\",\"2001-06-13T00:00:00\",\"2001-06-14T00:00:00\",\"2001-06-15T00:00:00\",\"2001-06-16T00:00:00\",\"2001-06-17T00:00:00\",\"2001-06-18T00:00:00\",\"2001-06-19T00:00:00\",\"2001-06-20T00:00:00\",\"2001-06-21T00:00:00\",\"2001-06-22T00:00:00\",\"2001-06-23T00:00:00\",\"2001-06-24T00:00:00\",\"2001-06-25T00:00:00\",\"2001-06-26T00:00:00\",\"2001-06-27T00:00:00\",\"2001-06-28T00:00:00\",\"2001-06-29T00:00:00\",\"2001-06-30T00:00:00\",\"2001-07-01T00:00:00\",\"2001-07-02T00:00:00\",\"2001-07-03T00:00:00\",\"2001-07-04T00:00:00\",\"2001-07-05T00:00:00\",\"2001-07-06T00:00:00\",\"2001-07-07T00:00:00\",\"2001-07-08T00:00:00\",\"2001-07-09T00:00:00\",\"2001-07-10T00:00:00\",\"2001-07-11T00:00:00\",\"2001-07-12T00:00:00\",\"2001-07-13T00:00:00\",\"2001-07-14T00:00:00\",\"2001-07-15T00:00:00\",\"2001-07-16T00:00:00\",\"2001-07-17T00:00:00\",\"2001-07-18T00:00:00\",\"2001-07-19T00:00:00\",\"2001-07-20T00:00:00\",\"2001-07-21T00:00:00\",\"2001-07-22T00:00:00\",\"2001-07-23T00:00:00\",\"2001-07-24T00:00:00\",\"2001-07-25T00:00:00\",\"2001-07-26T00:00:00\",\"2001-07-27T00:00:00\",\"2001-07-28T00:00:00\",\"2001-07-29T00:00:00\",\"2001-07-30T00:00:00\",\"2001-07-31T00:00:00\",\"2001-08-01T00:00:00\",\"2001-08-02T00:00:00\",\"2001-08-03T00:00:00\",\"2001-08-04T00:00:00\",\"2001-08-05T00:00:00\",\"2001-08-06T00:00:00\",\"2001-08-07T00:00:00\",\"2001-08-08T00:00:00\",\"2001-08-09T00:00:00\",\"2001-08-10T00:00:00\",\"2001-08-11T00:00:00\",\"2001-08-12T00:00:00\",\"2001-08-13T00:00:00\",\"2001-08-14T00:00:00\",\"2001-08-15T00:00:00\",\"2001-08-16T00:00:00\",\"2001-08-17T00:00:00\",\"2001-08-18T00:00:00\",\"2001-08-19T00:00:00\",\"2001-08-20T00:00:00\",\"2001-08-21T00:00:00\",\"2001-08-22T00:00:00\",\"2001-08-23T00:00:00\",\"2001-08-24T00:00:00\",\"2001-08-25T00:00:00\",\"2001-08-26T00:00:00\",\"2001-08-27T00:00:00\",\"2001-08-28T00:00:00\",\"2001-08-29T00:00:00\",\"2001-08-30T00:00:00\",\"2001-08-31T00:00:00\",\"2001-09-01T00:00:00\",\"2001-09-02T00:00:00\",\"2001-09-03T00:00:00\",\"2001-09-04T00:00:00\",\"2001-09-05T00:00:00\",\"2001-09-06T00:00:00\",\"2001-09-07T00:00:00\",\"2001-09-08T00:00:00\",\"2001-09-09T00:00:00\",\"2001-09-10T00:00:00\",\"2001-09-11T00:00:00\",\"2001-09-12T00:00:00\",\"2001-09-13T00:00:00\",\"2001-09-14T00:00:00\",\"2001-09-15T00:00:00\",\"2001-09-16T00:00:00\",\"2001-09-17T00:00:00\",\"2001-09-18T00:00:00\",\"2001-09-19T00:00:00\",\"2001-09-20T00:00:00\",\"2001-09-21T00:00:00\",\"2001-09-22T00:00:00\",\"2001-09-23T00:00:00\",\"2001-09-24T00:00:00\",\"2001-09-25T00:00:00\",\"2001-09-26T00:00:00\",\"2001-09-27T00:00:00\",\"2001-09-28T00:00:00\",\"2001-09-29T00:00:00\",\"2001-09-30T00:00:00\",\"2001-10-01T00:00:00\",\"2001-10-02T00:00:00\",\"2001-10-03T00:00:00\",\"2001-10-04T00:00:00\",\"2001-10-05T00:00:00\",\"2001-10-06T00:00:00\",\"2001-10-07T00:00:00\",\"2001-10-08T00:00:00\",\"2001-10-09T00:00:00\",\"2001-10-10T00:00:00\",\"2001-10-11T00:00:00\",\"2001-10-12T00:00:00\",\"2001-10-13T00:00:00\",\"2001-10-14T00:00:00\",\"2001-10-15T00:00:00\",\"2001-10-16T00:00:00\",\"2001-10-17T00:00:00\",\"2001-10-18T00:00:00\",\"2001-10-19T00:00:00\",\"2001-10-20T00:00:00\",\"2001-10-21T00:00:00\",\"2001-10-22T00:00:00\",\"2001-10-23T00:00:00\",\"2001-10-24T00:00:00\",\"2001-10-25T00:00:00\",\"2001-10-26T00:00:00\",\"2001-10-27T00:00:00\",\"2001-10-28T00:00:00\",\"2001-10-29T00:00:00\",\"2001-10-30T00:00:00\",\"2001-10-31T00:00:00\",\"2001-11-01T00:00:00\",\"2001-11-02T00:00:00\",\"2001-11-03T00:00:00\",\"2001-11-04T00:00:00\",\"2001-11-05T00:00:00\",\"2001-11-06T00:00:00\",\"2001-11-07T00:00:00\",\"2001-11-08T00:00:00\",\"2001-11-09T00:00:00\",\"2001-11-10T00:00:00\",\"2001-11-11T00:00:00\",\"2001-11-12T00:00:00\",\"2001-11-13T00:00:00\",\"2001-11-14T00:00:00\",\"2001-11-15T00:00:00\",\"2001-11-16T00:00:00\",\"2001-11-17T00:00:00\",\"2001-11-18T00:00:00\",\"2001-11-19T00:00:00\",\"2001-11-20T00:00:00\",\"2001-11-21T00:00:00\",\"2001-11-22T00:00:00\",\"2001-11-23T00:00:00\",\"2001-11-24T00:00:00\",\"2001-11-25T00:00:00\",\"2001-11-26T00:00:00\",\"2001-11-27T00:00:00\",\"2001-11-28T00:00:00\",\"2001-11-29T00:00:00\",\"2001-11-30T00:00:00\",\"2001-12-01T00:00:00\",\"2001-12-02T00:00:00\",\"2001-12-03T00:00:00\",\"2001-12-04T00:00:00\",\"2001-12-05T00:00:00\",\"2001-12-06T00:00:00\",\"2001-12-07T00:00:00\",\"2001-12-08T00:00:00\",\"2001-12-09T00:00:00\",\"2001-12-10T00:00:00\",\"2001-12-11T00:00:00\",\"2001-12-12T00:00:00\",\"2001-12-13T00:00:00\",\"2001-12-14T00:00:00\",\"2001-12-15T00:00:00\",\"2001-12-16T00:00:00\",\"2001-12-17T00:00:00\",\"2001-12-18T00:00:00\",\"2001-12-19T00:00:00\",\"2001-12-20T00:00:00\",\"2001-12-21T00:00:00\",\"2001-12-22T00:00:00\",\"2001-12-23T00:00:00\",\"2001-12-24T00:00:00\",\"2001-12-25T00:00:00\",\"2001-12-26T00:00:00\",\"2001-12-27T00:00:00\",\"2001-12-28T00:00:00\",\"2001-12-29T00:00:00\",\"2001-12-30T00:00:00\",\"2001-12-31T00:00:00\",\"2002-01-01T00:00:00\",\"2002-01-02T00:00:00\",\"2002-01-03T00:00:00\",\"2002-01-04T00:00:00\",\"2002-01-05T00:00:00\",\"2002-01-06T00:00:00\",\"2002-01-07T00:00:00\",\"2002-01-08T00:00:00\",\"2002-01-09T00:00:00\",\"2002-01-10T00:00:00\",\"2002-01-11T00:00:00\",\"2002-01-12T00:00:00\",\"2002-01-13T00:00:00\",\"2002-01-14T00:00:00\",\"2002-01-15T00:00:00\",\"2002-01-16T00:00:00\",\"2002-01-17T00:00:00\",\"2002-01-18T00:00:00\",\"2002-01-19T00:00:00\",\"2002-01-20T00:00:00\",\"2002-01-21T00:00:00\",\"2002-01-22T00:00:00\",\"2002-01-23T00:00:00\",\"2002-01-24T00:00:00\",\"2002-01-25T00:00:00\",\"2002-01-26T00:00:00\",\"2002-01-27T00:00:00\",\"2002-01-28T00:00:00\",\"2002-01-29T00:00:00\",\"2002-01-30T00:00:00\",\"2002-01-31T00:00:00\",\"2002-02-01T00:00:00\",\"2002-02-02T00:00:00\",\"2002-02-03T00:00:00\",\"2002-02-04T00:00:00\",\"2002-02-05T00:00:00\",\"2002-02-06T00:00:00\",\"2002-02-07T00:00:00\",\"2002-02-08T00:00:00\",\"2002-02-09T00:00:00\",\"2002-02-10T00:00:00\",\"2002-02-11T00:00:00\",\"2002-02-12T00:00:00\",\"2002-02-13T00:00:00\",\"2002-02-14T00:00:00\",\"2002-02-15T00:00:00\",\"2002-02-16T00:00:00\",\"2002-02-17T00:00:00\",\"2002-02-18T00:00:00\",\"2002-02-19T00:00:00\",\"2002-02-20T00:00:00\",\"2002-02-21T00:00:00\",\"2002-02-22T00:00:00\",\"2002-02-23T00:00:00\",\"2002-02-24T00:00:00\",\"2002-02-25T00:00:00\",\"2002-02-26T00:00:00\",\"2002-02-27T00:00:00\",\"2002-02-28T00:00:00\",\"2002-03-01T00:00:00\",\"2002-03-02T00:00:00\",\"2002-03-03T00:00:00\",\"2002-03-04T00:00:00\",\"2002-03-05T00:00:00\",\"2002-03-06T00:00:00\",\"2002-03-07T00:00:00\",\"2002-03-08T00:00:00\",\"2002-03-09T00:00:00\",\"2002-03-10T00:00:00\",\"2002-03-11T00:00:00\",\"2002-03-12T00:00:00\",\"2002-03-13T00:00:00\",\"2002-03-14T00:00:00\",\"2002-03-15T00:00:00\",\"2002-03-16T00:00:00\",\"2002-03-17T00:00:00\",\"2002-03-18T00:00:00\",\"2002-03-19T00:00:00\",\"2002-03-20T00:00:00\",\"2002-03-21T00:00:00\",\"2002-03-22T00:00:00\",\"2002-03-23T00:00:00\",\"2002-03-24T00:00:00\",\"2002-03-25T00:00:00\",\"2002-03-26T00:00:00\",\"2002-03-27T00:00:00\",\"2002-03-28T00:00:00\",\"2002-03-29T00:00:00\",\"2002-03-30T00:00:00\",\"2002-03-31T00:00:00\",\"2002-04-01T00:00:00\",\"2002-04-02T00:00:00\",\"2002-04-03T00:00:00\",\"2002-04-04T00:00:00\",\"2002-04-05T00:00:00\",\"2002-04-06T00:00:00\",\"2002-04-07T00:00:00\",\"2002-04-08T00:00:00\",\"2002-04-09T00:00:00\",\"2002-04-10T00:00:00\",\"2002-04-11T00:00:00\",\"2002-04-12T00:00:00\",\"2002-04-13T00:00:00\",\"2002-04-14T00:00:00\",\"2002-04-15T00:00:00\",\"2002-04-16T00:00:00\",\"2002-04-17T00:00:00\",\"2002-04-18T00:00:00\",\"2002-04-19T00:00:00\",\"2002-04-20T00:00:00\",\"2002-04-21T00:00:00\",\"2002-04-22T00:00:00\",\"2002-04-23T00:00:00\",\"2002-04-24T00:00:00\",\"2002-04-25T00:00:00\",\"2002-04-26T00:00:00\",\"2002-04-27T00:00:00\",\"2002-04-28T00:00:00\",\"2002-04-29T00:00:00\",\"2002-04-30T00:00:00\",\"2002-05-01T00:00:00\",\"2002-05-02T00:00:00\",\"2002-05-03T00:00:00\",\"2002-05-04T00:00:00\",\"2002-05-05T00:00:00\",\"2002-05-06T00:00:00\",\"2002-05-07T00:00:00\",\"2002-05-08T00:00:00\",\"2002-05-09T00:00:00\",\"2002-05-10T00:00:00\",\"2002-05-11T00:00:00\",\"2002-05-12T00:00:00\",\"2002-05-13T00:00:00\",\"2002-05-14T00:00:00\",\"2002-05-15T00:00:00\",\"2002-05-16T00:00:00\",\"2002-05-17T00:00:00\",\"2002-05-18T00:00:00\",\"2002-05-19T00:00:00\",\"2002-05-20T00:00:00\",\"2002-05-21T00:00:00\",\"2002-05-22T00:00:00\",\"2002-05-23T00:00:00\",\"2002-05-24T00:00:00\",\"2002-05-25T00:00:00\",\"2002-05-26T00:00:00\",\"2002-05-27T00:00:00\",\"2002-05-28T00:00:00\",\"2002-05-29T00:00:00\",\"2002-05-30T00:00:00\",\"2002-05-31T00:00:00\",\"2002-06-01T00:00:00\",\"2002-06-02T00:00:00\",\"2002-06-03T00:00:00\",\"2002-06-04T00:00:00\",\"2002-06-05T00:00:00\",\"2002-06-06T00:00:00\",\"2002-06-07T00:00:00\",\"2002-06-08T00:00:00\",\"2002-06-09T00:00:00\",\"2002-06-10T00:00:00\",\"2002-06-11T00:00:00\",\"2002-06-12T00:00:00\",\"2002-06-13T00:00:00\",\"2002-06-14T00:00:00\",\"2002-06-15T00:00:00\",\"2002-06-16T00:00:00\",\"2002-06-17T00:00:00\",\"2002-06-18T00:00:00\",\"2002-06-19T00:00:00\",\"2002-06-20T00:00:00\",\"2002-06-21T00:00:00\",\"2002-06-22T00:00:00\",\"2002-06-23T00:00:00\",\"2002-06-24T00:00:00\",\"2002-06-25T00:00:00\",\"2002-06-26T00:00:00\",\"2002-06-27T00:00:00\",\"2002-06-28T00:00:00\",\"2002-06-29T00:00:00\",\"2002-06-30T00:00:00\",\"2002-07-01T00:00:00\",\"2002-07-02T00:00:00\",\"2002-07-03T00:00:00\",\"2002-07-04T00:00:00\",\"2002-07-05T00:00:00\",\"2002-07-06T00:00:00\",\"2002-07-07T00:00:00\",\"2002-07-08T00:00:00\",\"2002-07-09T00:00:00\",\"2002-07-10T00:00:00\",\"2002-07-11T00:00:00\",\"2002-07-12T00:00:00\",\"2002-07-13T00:00:00\",\"2002-07-14T00:00:00\",\"2002-07-15T00:00:00\",\"2002-07-16T00:00:00\",\"2002-07-17T00:00:00\",\"2002-07-18T00:00:00\",\"2002-07-19T00:00:00\",\"2002-07-20T00:00:00\",\"2002-07-21T00:00:00\",\"2002-07-22T00:00:00\",\"2002-07-23T00:00:00\",\"2002-07-24T00:00:00\",\"2002-07-25T00:00:00\",\"2002-07-26T00:00:00\",\"2002-07-27T00:00:00\",\"2002-07-28T00:00:00\",\"2002-07-29T00:00:00\",\"2002-07-30T00:00:00\",\"2002-07-31T00:00:00\",\"2002-08-01T00:00:00\",\"2002-08-02T00:00:00\",\"2002-08-03T00:00:00\",\"2002-08-04T00:00:00\",\"2002-08-05T00:00:00\",\"2002-08-06T00:00:00\",\"2002-08-07T00:00:00\",\"2002-08-08T00:00:00\",\"2002-08-09T00:00:00\",\"2002-08-10T00:00:00\",\"2002-08-11T00:00:00\",\"2002-08-12T00:00:00\",\"2002-08-13T00:00:00\",\"2002-08-14T00:00:00\",\"2002-08-15T00:00:00\",\"2002-08-16T00:00:00\",\"2002-08-17T00:00:00\",\"2002-08-18T00:00:00\",\"2002-08-19T00:00:00\",\"2002-08-20T00:00:00\",\"2002-08-21T00:00:00\",\"2002-08-22T00:00:00\",\"2002-08-23T00:00:00\",\"2002-08-24T00:00:00\",\"2002-08-25T00:00:00\",\"2002-08-26T00:00:00\",\"2002-08-27T00:00:00\",\"2002-08-28T00:00:00\",\"2002-08-29T00:00:00\",\"2002-08-30T00:00:00\",\"2002-08-31T00:00:00\",\"2002-09-01T00:00:00\",\"2002-09-02T00:00:00\",\"2002-09-03T00:00:00\",\"2002-09-04T00:00:00\",\"2002-09-05T00:00:00\",\"2002-09-06T00:00:00\",\"2002-09-07T00:00:00\",\"2002-09-08T00:00:00\",\"2002-09-09T00:00:00\",\"2002-09-10T00:00:00\",\"2002-09-11T00:00:00\",\"2002-09-12T00:00:00\",\"2002-09-13T00:00:00\",\"2002-09-14T00:00:00\",\"2002-09-15T00:00:00\",\"2002-09-16T00:00:00\",\"2002-09-17T00:00:00\",\"2002-09-18T00:00:00\",\"2002-09-19T00:00:00\",\"2002-09-20T00:00:00\",\"2002-09-21T00:00:00\",\"2002-09-22T00:00:00\",\"2002-09-23T00:00:00\",\"2002-09-24T00:00:00\",\"2002-09-25T00:00:00\",\"2002-09-26T00:00:00\"],\"xaxis\":\"x\",\"y\":[0.8469348994761033,0.8469348994761033,0.8469348994761033,1.1443035407065256,1.1443035407065256,1.1443035407065256,1.1443035407065256,1.1443035407065256,1.1443035407065256,1.1443035407065256,1.1443035407065256,1.1443035407065256,1.5300453010040043,1.5300453010040043,1.5300453010040043,1.5417264502305261,1.5417264502305261,1.5417264502305261,1.5417264502305261,1.5417264502305261,1.5417264502305261,1.5417264502305261,1.5417264502305261,1.5417264502305261,1.5417264502305261,1.5417264502305261,1.5417264502305261,1.5417264502305261,1.5417264502305261,1.5417264502305261,1.5417264502305261,1.5417264502305261,1.5417264502305261,1.5417264502305261,1.5417264502305261,1.5417264502305261,1.5417264502305261,1.5417264502305261,1.5417264502305261,1.5417264502305261,1.5417264502305261,1.5417264502305261,1.5417264502305261,1.5417264502305261,1.5417264502305261,1.5417264502305261,1.5417264502305261,1.5417264502305261,1.5417264502305261,1.5417264502305261,1.5417264502305261,1.5417264502305261,1.5417264502305261,1.5417264502305261,1.8300207485744027,1.8300207485744027,1.8300207485744027,1.8300207485744027,1.8300207485744027,1.8300207485744027,1.8300207485744027,2.057395055862077,2.057395055862077,2.057395055862077,2.057395055862077,2.057395055862077,2.057395055862077,2.057395055862077,2.057395055862077,2.057395055862077,2.057395055862077,2.057395055862077,2.057395055862077,2.057395055862077,2.057395055862077,2.057395055862077,2.0701183353118537,2.0701183353118537,2.0701183353118537,2.0701183353118537,2.0701183353118537,2.0701183353118537,2.0701183353118537,2.0701183353118537,2.0701183353118537,2.0701183353118537,2.0701183353118537,2.0701183353118537,2.0701183353118537,2.0701183353118537,2.0701183353118537,2.0701183353118537,2.0701183353118537,2.0701183353118537,2.0701183353118537,2.0701183353118537,2.0701183353118537,2.0701183353118537,2.0701183353118537,2.0701183353118537,2.0701183353118537,2.0701183353118537,2.0701183353118537,2.0701183353118537,2.0701183353118537,2.0701183353118537,2.0701183353118537,2.0701183353118537,2.0701183353118537,2.0701183353118537,2.0701183353118537,2.0701183353118537,2.0701183353118537,2.0701183353118537,2.0701183353118537,2.0701183353118537,2.0701183353118537,2.0701183353118537,2.0701183353118537,2.0701183353118537,2.0701183353118537,2.0701183353118537,2.0701183353118537,2.0701183353118537,2.0701183353118537,2.0701183353118537,2.0701183353118537,2.0701183353118537,2.0701183353118537,2.0701183353118537,2.0701183353118537,2.0701183353118537,2.0701183353118537,2.0701183353118537,2.0701183353118537,2.0701183353118537,2.0701183353118537,2.0701183353118537,2.0701183353118537,2.0701183353118537,2.0701183353118537,2.0701183353118537,2.0701183353118537,2.0701183353118537,2.0701183353118537,2.0701183353118537,2.0701183353118537,2.0701183353118537,2.0701183353118537,2.0701183353118537,2.0701183353118537,2.0701183353118537,2.0701183353118537,2.0701183353118537,2.0701183353118537,2.0701183353118537,2.0701183353118537,2.0701183353118537,2.0701183353118537,2.21580078810737,2.21580078810737,2.21580078810737,2.21580078810737,2.21580078810737,2.21580078810737,2.21580078810737,2.21580078810737,2.21580078810737,2.21580078810737,2.21580078810737,2.21580078810737,2.21580078810737,2.21580078810737,2.21580078810737,2.21580078810737,2.21580078810737,2.21580078810737,2.21580078810737,2.21580078810737,2.21580078810737,2.21580078810737,2.21580078810737,2.21580078810737,2.21580078810737,2.21580078810737,2.21580078810737,2.21580078810737,2.21580078810737,2.21580078810737,2.356112233496655,2.356112233496655,2.356112233496655,2.356112233496655,2.356112233496655,2.356112233496655,2.356112233496655,2.356112233496655,2.356112233496655,2.356112233496655,2.356112233496655,2.356112233496655,2.356112233496655,2.356112233496655,2.356112233496655,2.356112233496655,2.356112233496655,2.356112233496655,2.356112233496655,2.356112233496655,2.356112233496655,2.356112233496655,2.356112233496655,2.356112233496655,2.356112233496655,2.356112233496655,2.356112233496655,2.356112233496655,2.356112233496655,2.356112233496655,2.356112233496655,2.356112233496655,2.356112233496655,2.356112233496655,2.356112233496655,2.356112233496655,2.356112233496655,2.356112233496655,2.356112233496655,2.356112233496655,2.356112233496655,2.356112233496655,2.356112233496655,2.356112233496655,2.356112233496655,2.356112233496655,2.356112233496655,2.356112233496655,2.356112233496655,2.356112233496655,2.356112233496655,2.356112233496655,2.356112233496655,2.356112233496655,2.356112233496655,2.356112233496655,2.356112233496655,2.356112233496655,2.356112233496655,2.356112233496655,2.356112233496655,2.356112233496655,2.356112233496655,2.356112233496655,2.356112233496655,2.356112233496655,2.356112233496655,2.356112233496655,2.356112233496655,2.356112233496655,2.356112233496655,2.356112233496655,2.356112233496655,2.356112233496655,2.356112233496655,2.356112233496655,3.0050727114971387,3.0050727114971387,3.0050727114971387,3.0050727114971387,3.0050727114971387,3.0050727114971387,3.0050727114971387,3.0050727114971387,3.0050727114971387,3.0050727114971387,3.0050727114971387,3.0050727114971387,3.0050727114971387,3.0050727114971387,3.0050727114971387,3.0050727114971387,3.0050727114971387,3.0050727114971387,3.0050727114971387,3.0050727114971387,3.0050727114971387,3.0050727114971387,3.0050727114971387,3.0050727114971387,3.0050727114971387,3.0050727114971387,3.0050727114971387,3.0050727114971387,3.0050727114971387,3.0050727114971387,3.0050727114971387,3.0050727114971387,3.0050727114971387,3.0050727114971387,3.0050727114971387,3.0050727114971387,3.0050727114971387,3.0050727114971387,3.0050727114971387,3.0050727114971387,3.0050727114971387,3.0050727114971387,3.0050727114971387,3.0050727114971387,3.0050727114971387,3.0050727114971387,3.0050727114971387,3.0050727114971387,3.0050727114971387,3.0050727114971387,3.0050727114971387,3.0050727114971387,3.0050727114971387,3.0050727114971387,3.0050727114971387,3.0050727114971387,3.0050727114971387,3.0050727114971387,3.0050727114971387,3.0050727114971387,3.0050727114971387,3.0050727114971387,3.0050727114971387,3.0050727114971387,3.0050727114971387,3.0050727114971387,3.0050727114971387,3.0050727114971387,3.0050727114971387,3.0050727114971387,3.0050727114971387,3.0050727114971387,3.0050727114971387,3.0050727114971387,3.0050727114971387,3.0050727114971387,3.0050727114971387,3.0050727114971387,3.0050727114971387,3.0050727114971387,3.0050727114971387,3.0050727114971387,3.0050727114971387,3.0050727114971387,3.0050727114971387,3.0050727114971387,3.0050727114971387,3.0050727114971387,3.0050727114971387,3.0050727114971387,3.0050727114971387,3.0050727114971387,3.0050727114971387,3.0050727114971387,3.0050727114971387,3.0050727114971387,3.0050727114971387,3.0050727114971387,3.0050727114971387,3.0050727114971387,3.0050727114971387,3.0050727114971387,3.0050727114971387,3.0050727114971387,3.0050727114971387,3.0050727114971387,3.0050727114971387,3.0050727114971387,3.0050727114971387,3.0050727114971387,3.0050727114971387,3.0050727114971387,3.0050727114971387,3.0050727114971387,3.0050727114971387,3.0050727114971387,3.0050727114971387,3.0050727114971387,3.0050727114971387,3.0050727114971387,3.0050727114971387,3.0050727114971387,3.0050727114971387,3.0050727114971387,3.0050727114971387,3.0050727114971387,3.0050727114971387,3.0050727114971387,3.0050727114971387,3.0050727114971387,3.0050727114971387,3.0050727114971387,3.0050727114971387,3.0050727114971387,3.0050727114971387,3.0050727114971387,3.0050727114971387,3.0050727114971387,3.0050727114971387,3.0050727114971387,3.0050727114971387,3.0050727114971387,3.0050727114971387,3.0050727114971387,3.0050727114971387,3.0050727114971387,3.0050727114971387,3.0050727114971387,3.0050727114971387,3.0050727114971387,3.0050727114971387,3.0050727114971387,3.0050727114971387,3.0050727114971387,3.0050727114971387,3.0050727114971387,3.0050727114971387,3.0050727114971387,3.0050727114971387,3.0050727114971387,3.0050727114971387,3.0050727114971387,3.0050727114971387,3.0050727114971387,3.0050727114971387,3.0050727114971387,3.0050727114971387,3.0050727114971387,3.0050727114971387,3.0050727114971387,3.0050727114971387,3.0050727114971387,3.0050727114971387,3.0050727114971387,3.0050727114971387,3.0050727114971387,3.0050727114971387,3.0050727114971387,3.0050727114971387,3.0050727114971387,3.0050727114971387,3.0050727114971387,3.0050727114971387,3.0050727114971387,3.0050727114971387,3.0050727114971387,3.0050727114971387,3.0050727114971387,3.0050727114971387,3.0050727114971387,3.0050727114971387,3.0050727114971387,3.0050727114971387,3.0050727114971387,3.0050727114971387,3.0050727114971387,3.0050727114971387,3.0050727114971387,3.0050727114971387,3.0050727114971387,3.0050727114971387,3.0050727114971387,3.0050727114971387,3.0050727114971387,3.0050727114971387,3.0050727114971387,3.0050727114971387,3.0050727114971387,3.0050727114971387,3.0050727114971387,3.0050727114971387,3.0050727114971387,3.0050727114971387,3.0050727114971387,3.0050727114971387,3.0050727114971387,3.0050727114971387,3.0050727114971387,3.0050727114971387,3.0050727114971387,3.0050727114971387,3.0050727114971387,3.0050727114971387,3.0050727114971387,3.0050727114971387,3.0050727114971387,3.0050727114971387,3.0050727114971387,3.0050727114971387,3.0050727114971387,3.0050727114971387,3.0050727114971387,3.0050727114971387,3.0050727114971387,3.0050727114971387,3.0050727114971387,3.0050727114971387,3.0050727114971387,3.0050727114971387,3.0050727114971387,3.0050727114971387,3.0050727114971387,3.0050727114971387,3.0050727114971387,3.0050727114971387,3.0050727114971387,3.0050727114971387,3.0050727114971387,3.0050727114971387,3.0050727114971387,3.0050727114971387,3.0050727114971387,3.0050727114971387,3.0050727114971387,3.0050727114971387,3.0050727114971387,3.0050727114971387,3.0050727114971387,3.0050727114971387,3.0050727114971387,3.0050727114971387,3.0050727114971387,3.0050727114971387,3.0050727114971387,3.0050727114971387,3.0050727114971387,3.0050727114971387,3.0050727114971387,3.0050727114971387,3.0050727114971387,3.0050727114971387,3.0050727114971387,3.0050727114971387,3.0050727114971387,3.0050727114971387,3.0050727114971387,3.0050727114971387,3.0050727114971387,3.0050727114971387,3.0050727114971387,3.0050727114971387,3.0050727114971387,3.0050727114971387,3.0050727114971387,3.0050727114971387,3.0050727114971387,3.0050727114971387,3.0050727114971387,3.0050727114971387,3.0050727114971387,3.0050727114971387,3.0050727114971387,3.0050727114971387,3.0050727114971387,3.0050727114971387,3.0050727114971387,3.0050727114971387,3.0050727114971387,3.0050727114971387,3.0050727114971387,3.0050727114971387,3.0050727114971387,3.0050727114971387,3.0050727114971387,3.0050727114971387,3.0050727114971387,3.0050727114971387,3.0050727114971387,3.0050727114971387,3.0050727114971387,3.0050727114971387,3.0050727114971387,3.0050727114971387,3.0050727114971387,3.0050727114971387,3.0050727114971387,3.0050727114971387,3.0050727114971387,3.0050727114971387,3.0050727114971387,3.0050727114971387,3.0050727114971387,3.0050727114971387,3.0050727114971387,3.0050727114971387,3.0050727114971387,3.0050727114971387,3.0050727114971387,3.0050727114971387,3.0050727114971387,3.0050727114971387,3.0050727114971387,3.0050727114971387,3.0050727114971387,3.0050727114971387,3.0050727114971387,3.0050727114971387,3.0050727114971387,3.0050727114971387,3.0050727114971387,3.0050727114971387,3.0050727114971387,3.0050727114971387,3.0050727114971387,3.0050727114971387,3.0050727114971387,3.0050727114971387,3.0050727114971387,3.0050727114971387,3.0050727114971387,3.0050727114971387,3.0050727114971387,3.0050727114971387,3.0050727114971387,3.0050727114971387,3.0050727114971387,3.0050727114971387,3.0050727114971387,3.0050727114971387,3.0050727114971387,3.0050727114971387,3.0050727114971387,3.0050727114971387,3.0050727114971387,3.0050727114971387,3.0050727114971387,3.0050727114971387,3.0050727114971387,3.0050727114971387,3.0050727114971387,3.0050727114971387,3.0050727114971387,3.0050727114971387,3.0050727114971387,3.0050727114971387,3.0050727114971387,3.0050727114971387,3.0050727114971387,3.0050727114971387,3.0050727114971387,3.0050727114971387,3.0050727114971387,3.0050727114971387,3.0050727114971387,3.0050727114971387,3.0050727114971387,3.0050727114971387,3.0050727114971387,3.0050727114971387,3.0050727114971387,3.0050727114971387,3.0050727114971387,3.0050727114971387,3.0050727114971387,3.0050727114971387,3.0050727114971387,3.0050727114971387,3.0050727114971387,3.0050727114971387,3.0050727114971387,3.0050727114971387,3.0050727114971387,3.0050727114971387,3.0050727114971387,3.0050727114971387,3.0050727114971387,3.0050727114971387,3.0050727114971387,3.0050727114971387,3.0050727114971387,3.0050727114971387,3.0050727114971387,3.0050727114971387,3.0050727114971387,3.0050727114971387,3.0050727114971387,3.0050727114971387,3.0050727114971387,3.0050727114971387,3.0050727114971387,3.0050727114971387,3.0050727114971387,3.0050727114971387,3.0050727114971387,3.0050727114971387,3.0050727114971387,3.0050727114971387,3.0050727114971387,3.0050727114971387,3.0050727114971387,3.0050727114971387,3.0050727114971387,3.0050727114971387,3.0050727114971387,3.0050727114971387,3.0050727114971387,3.0050727114971387,3.0050727114971387,3.0050727114971387,3.0050727114971387,3.0050727114971387,3.0050727114971387,3.0050727114971387,3.0050727114971387,3.0050727114971387,3.0050727114971387,3.0050727114971387,3.0050727114971387,3.0050727114971387,3.0050727114971387,3.0050727114971387,3.0050727114971387,3.0050727114971387,3.0050727114971387,3.0050727114971387,3.0050727114971387,3.0050727114971387,3.0050727114971387,3.0050727114971387,3.0050727114971387,3.0050727114971387,3.0050727114971387,3.0050727114971387,3.0050727114971387,3.0050727114971387,3.0050727114971387,3.0050727114971387,3.0050727114971387,3.0050727114971387,3.0050727114971387,3.0050727114971387,3.0050727114971387,3.0050727114971387,3.0050727114971387,3.0050727114971387,3.0050727114971387,3.0050727114971387,3.0050727114971387,3.0050727114971387,3.0050727114971387,3.0050727114971387,3.0050727114971387,3.0050727114971387,3.0050727114971387,3.0050727114971387,3.0050727114971387,3.0050727114971387,3.0050727114971387,3.0050727114971387,3.0050727114971387,3.0050727114971387,3.0050727114971387,3.0050727114971387,3.0050727114971387,3.0050727114971387,3.0050727114971387,3.0050727114971387,3.0050727114971387,3.0050727114971387,3.0050727114971387,3.0050727114971387,3.0050727114971387,3.0050727114971387,3.0050727114971387,3.0050727114971387,3.0050727114971387,3.0050727114971387,3.0050727114971387,3.0050727114971387,3.0050727114971387,3.0050727114971387,3.0050727114971387,3.0050727114971387,3.0050727114971387,3.0050727114971387,3.0050727114971387,3.0050727114971387,3.0050727114971387,3.0050727114971387,3.0050727114971387,3.0050727114971387,3.0050727114971387,3.0050727114971387,3.0050727114971387,3.0050727114971387,3.0050727114971387,3.0050727114971387,3.0050727114971387,3.0050727114971387,3.0050727114971387,3.0050727114971387,3.0050727114971387,3.0050727114971387,3.0050727114971387,3.0050727114971387,3.0050727114971387,3.0050727114971387,3.0050727114971387,3.0050727114971387,3.0050727114971387,3.0050727114971387,3.0050727114971387,3.0050727114971387,3.0050727114971387,3.0050727114971387,3.0050727114971387,3.0050727114971387,3.0050727114971387,3.0050727114971387,3.0050727114971387,3.0050727114971387,3.0050727114971387,3.0050727114971387,3.0050727114971387,3.0050727114971387,3.0050727114971387,3.0050727114971387,3.0050727114971387,3.0050727114971387,3.0050727114971387,3.0050727114971387,3.0050727114971387,3.0050727114971387,3.0050727114971387,3.0050727114971387,3.0050727114971387,3.0050727114971387,3.0050727114971387,3.0050727114971387,3.0050727114971387,3.0050727114971387,3.0050727114971387,3.0050727114971387,3.0050727114971387,3.0050727114971387,3.0050727114971387,3.0050727114971387,3.0050727114971387,3.0050727114971387,3.0050727114971387,3.0050727114971387,3.0050727114971387,3.0050727114971387,3.0050727114971387,3.0050727114971387,3.0050727114971387,3.0050727114971387,3.0050727114971387,3.0050727114971387,3.0050727114971387,3.0050727114971387,3.0050727114971387,3.0050727114971387,3.0050727114971387,3.0050727114971387,3.0050727114971387,3.0050727114971387,3.0050727114971387,3.0050727114971387,3.0050727114971387,3.0050727114971387,3.0050727114971387,3.0050727114971387,3.0050727114971387,3.0050727114971387,3.0050727114971387,3.0050727114971387,3.0050727114971387,3.0050727114971387,3.0050727114971387,3.0050727114971387,3.0050727114971387,3.0050727114971387,3.0050727114971387,3.0050727114971387,3.0050727114971387,3.0050727114971387,3.0050727114971387,3.0050727114971387,3.0050727114971387,3.0050727114971387,3.0050727114971387,3.0050727114971387,3.0050727114971387,3.0050727114971387,3.0050727114971387,3.0050727114971387,3.0050727114971387,3.0050727114971387,3.0050727114971387,3.0050727114971387,3.0050727114971387,3.0050727114971387,3.0050727114971387,3.0050727114971387,3.0050727114971387,3.0050727114971387,3.0050727114971387,3.0050727114971387,3.0050727114971387,3.0050727114971387,3.0050727114971387,3.0050727114971387,3.0050727114971387,3.0050727114971387,3.0050727114971387,3.0050727114971387,3.0050727114971387,3.0050727114971387,3.0050727114971387,3.0050727114971387,3.0050727114971387,3.0050727114971387,3.0050727114971387,3.0050727114971387,3.0050727114971387,3.0050727114971387,3.0050727114971387,3.0050727114971387,3.0050727114971387,3.0050727114971387,3.0050727114971387,3.0050727114971387,3.0050727114971387,3.0050727114971387,3.0050727114971387,3.0050727114971387,3.0050727114971387,3.0050727114971387,3.0050727114971387,3.0050727114971387,3.0050727114971387,3.0050727114971387,3.0050727114971387,3.0050727114971387,3.0050727114971387,3.0050727114971387,3.0050727114971387,3.0050727114971387,3.0050727114971387,3.0050727114971387,3.0050727114971387,3.0050727114971387,3.0050727114971387,3.0050727114971387,3.0050727114971387,3.0050727114971387,3.0050727114971387,3.0050727114971387,3.0050727114971387,3.0050727114971387,3.0050727114971387,3.0050727114971387,3.0050727114971387,3.0050727114971387,3.0050727114971387,3.0050727114971387,3.0050727114971387,3.0050727114971387,3.0050727114971387,3.0050727114971387,3.0050727114971387,3.0050727114971387,3.0050727114971387,3.0050727114971387,3.0050727114971387,3.0050727114971387,3.0050727114971387,3.0050727114971387,3.0050727114971387,3.0050727114971387,3.0050727114971387,3.0050727114971387,3.0050727114971387,3.0050727114971387,3.0050727114971387,3.0050727114971387,3.0050727114971387,3.0050727114971387,3.0050727114971387,3.0050727114971387,3.0050727114971387,3.0050727114971387,3.0050727114971387,3.0050727114971387,3.0050727114971387,3.0050727114971387,3.0050727114971387,3.0050727114971387,3.0050727114971387,3.0050727114971387,3.0050727114971387,3.0050727114971387,3.0050727114971387,3.0050727114971387],\"yaxis\":\"y\",\"type\":\"scattergl\"},{\"hovertemplate\":\"variable=B<br>index=%{x}<br>value=%{y}<extra></extra>\",\"legendgroup\":\"B\",\"line\":{\"color\":\"#EF553B\",\"dash\":\"solid\"},\"marker\":{\"symbol\":\"circle\"},\"mode\":\"lines\",\"name\":\"B\",\"showlegend\":true,\"x\":[\"2000-01-01T00:00:00\",\"2000-01-02T00:00:00\",\"2000-01-03T00:00:00\",\"2000-01-04T00:00:00\",\"2000-01-05T00:00:00\",\"2000-01-06T00:00:00\",\"2000-01-07T00:00:00\",\"2000-01-08T00:00:00\",\"2000-01-09T00:00:00\",\"2000-01-10T00:00:00\",\"2000-01-11T00:00:00\",\"2000-01-12T00:00:00\",\"2000-01-13T00:00:00\",\"2000-01-14T00:00:00\",\"2000-01-15T00:00:00\",\"2000-01-16T00:00:00\",\"2000-01-17T00:00:00\",\"2000-01-18T00:00:00\",\"2000-01-19T00:00:00\",\"2000-01-20T00:00:00\",\"2000-01-21T00:00:00\",\"2000-01-22T00:00:00\",\"2000-01-23T00:00:00\",\"2000-01-24T00:00:00\",\"2000-01-25T00:00:00\",\"2000-01-26T00:00:00\",\"2000-01-27T00:00:00\",\"2000-01-28T00:00:00\",\"2000-01-29T00:00:00\",\"2000-01-30T00:00:00\",\"2000-01-31T00:00:00\",\"2000-02-01T00:00:00\",\"2000-02-02T00:00:00\",\"2000-02-03T00:00:00\",\"2000-02-04T00:00:00\",\"2000-02-05T00:00:00\",\"2000-02-06T00:00:00\",\"2000-02-07T00:00:00\",\"2000-02-08T00:00:00\",\"2000-02-09T00:00:00\",\"2000-02-10T00:00:00\",\"2000-02-11T00:00:00\",\"2000-02-12T00:00:00\",\"2000-02-13T00:00:00\",\"2000-02-14T00:00:00\",\"2000-02-15T00:00:00\",\"2000-02-16T00:00:00\",\"2000-02-17T00:00:00\",\"2000-02-18T00:00:00\",\"2000-02-19T00:00:00\",\"2000-02-20T00:00:00\",\"2000-02-21T00:00:00\",\"2000-02-22T00:00:00\",\"2000-02-23T00:00:00\",\"2000-02-24T00:00:00\",\"2000-02-25T00:00:00\",\"2000-02-26T00:00:00\",\"2000-02-27T00:00:00\",\"2000-02-28T00:00:00\",\"2000-02-29T00:00:00\",\"2000-03-01T00:00:00\",\"2000-03-02T00:00:00\",\"2000-03-03T00:00:00\",\"2000-03-04T00:00:00\",\"2000-03-05T00:00:00\",\"2000-03-06T00:00:00\",\"2000-03-07T00:00:00\",\"2000-03-08T00:00:00\",\"2000-03-09T00:00:00\",\"2000-03-10T00:00:00\",\"2000-03-11T00:00:00\",\"2000-03-12T00:00:00\",\"2000-03-13T00:00:00\",\"2000-03-14T00:00:00\",\"2000-03-15T00:00:00\",\"2000-03-16T00:00:00\",\"2000-03-17T00:00:00\",\"2000-03-18T00:00:00\",\"2000-03-19T00:00:00\",\"2000-03-20T00:00:00\",\"2000-03-21T00:00:00\",\"2000-03-22T00:00:00\",\"2000-03-23T00:00:00\",\"2000-03-24T00:00:00\",\"2000-03-25T00:00:00\",\"2000-03-26T00:00:00\",\"2000-03-27T00:00:00\",\"2000-03-28T00:00:00\",\"2000-03-29T00:00:00\",\"2000-03-30T00:00:00\",\"2000-03-31T00:00:00\",\"2000-04-01T00:00:00\",\"2000-04-02T00:00:00\",\"2000-04-03T00:00:00\",\"2000-04-04T00:00:00\",\"2000-04-05T00:00:00\",\"2000-04-06T00:00:00\",\"2000-04-07T00:00:00\",\"2000-04-08T00:00:00\",\"2000-04-09T00:00:00\",\"2000-04-10T00:00:00\",\"2000-04-11T00:00:00\",\"2000-04-12T00:00:00\",\"2000-04-13T00:00:00\",\"2000-04-14T00:00:00\",\"2000-04-15T00:00:00\",\"2000-04-16T00:00:00\",\"2000-04-17T00:00:00\",\"2000-04-18T00:00:00\",\"2000-04-19T00:00:00\",\"2000-04-20T00:00:00\",\"2000-04-21T00:00:00\",\"2000-04-22T00:00:00\",\"2000-04-23T00:00:00\",\"2000-04-24T00:00:00\",\"2000-04-25T00:00:00\",\"2000-04-26T00:00:00\",\"2000-04-27T00:00:00\",\"2000-04-28T00:00:00\",\"2000-04-29T00:00:00\",\"2000-04-30T00:00:00\",\"2000-05-01T00:00:00\",\"2000-05-02T00:00:00\",\"2000-05-03T00:00:00\",\"2000-05-04T00:00:00\",\"2000-05-05T00:00:00\",\"2000-05-06T00:00:00\",\"2000-05-07T00:00:00\",\"2000-05-08T00:00:00\",\"2000-05-09T00:00:00\",\"2000-05-10T00:00:00\",\"2000-05-11T00:00:00\",\"2000-05-12T00:00:00\",\"2000-05-13T00:00:00\",\"2000-05-14T00:00:00\",\"2000-05-15T00:00:00\",\"2000-05-16T00:00:00\",\"2000-05-17T00:00:00\",\"2000-05-18T00:00:00\",\"2000-05-19T00:00:00\",\"2000-05-20T00:00:00\",\"2000-05-21T00:00:00\",\"2000-05-22T00:00:00\",\"2000-05-23T00:00:00\",\"2000-05-24T00:00:00\",\"2000-05-25T00:00:00\",\"2000-05-26T00:00:00\",\"2000-05-27T00:00:00\",\"2000-05-28T00:00:00\",\"2000-05-29T00:00:00\",\"2000-05-30T00:00:00\",\"2000-05-31T00:00:00\",\"2000-06-01T00:00:00\",\"2000-06-02T00:00:00\",\"2000-06-03T00:00:00\",\"2000-06-04T00:00:00\",\"2000-06-05T00:00:00\",\"2000-06-06T00:00:00\",\"2000-06-07T00:00:00\",\"2000-06-08T00:00:00\",\"2000-06-09T00:00:00\",\"2000-06-10T00:00:00\",\"2000-06-11T00:00:00\",\"2000-06-12T00:00:00\",\"2000-06-13T00:00:00\",\"2000-06-14T00:00:00\",\"2000-06-15T00:00:00\",\"2000-06-16T00:00:00\",\"2000-06-17T00:00:00\",\"2000-06-18T00:00:00\",\"2000-06-19T00:00:00\",\"2000-06-20T00:00:00\",\"2000-06-21T00:00:00\",\"2000-06-22T00:00:00\",\"2000-06-23T00:00:00\",\"2000-06-24T00:00:00\",\"2000-06-25T00:00:00\",\"2000-06-26T00:00:00\",\"2000-06-27T00:00:00\",\"2000-06-28T00:00:00\",\"2000-06-29T00:00:00\",\"2000-06-30T00:00:00\",\"2000-07-01T00:00:00\",\"2000-07-02T00:00:00\",\"2000-07-03T00:00:00\",\"2000-07-04T00:00:00\",\"2000-07-05T00:00:00\",\"2000-07-06T00:00:00\",\"2000-07-07T00:00:00\",\"2000-07-08T00:00:00\",\"2000-07-09T00:00:00\",\"2000-07-10T00:00:00\",\"2000-07-11T00:00:00\",\"2000-07-12T00:00:00\",\"2000-07-13T00:00:00\",\"2000-07-14T00:00:00\",\"2000-07-15T00:00:00\",\"2000-07-16T00:00:00\",\"2000-07-17T00:00:00\",\"2000-07-18T00:00:00\",\"2000-07-19T00:00:00\",\"2000-07-20T00:00:00\",\"2000-07-21T00:00:00\",\"2000-07-22T00:00:00\",\"2000-07-23T00:00:00\",\"2000-07-24T00:00:00\",\"2000-07-25T00:00:00\",\"2000-07-26T00:00:00\",\"2000-07-27T00:00:00\",\"2000-07-28T00:00:00\",\"2000-07-29T00:00:00\",\"2000-07-30T00:00:00\",\"2000-07-31T00:00:00\",\"2000-08-01T00:00:00\",\"2000-08-02T00:00:00\",\"2000-08-03T00:00:00\",\"2000-08-04T00:00:00\",\"2000-08-05T00:00:00\",\"2000-08-06T00:00:00\",\"2000-08-07T00:00:00\",\"2000-08-08T00:00:00\",\"2000-08-09T00:00:00\",\"2000-08-10T00:00:00\",\"2000-08-11T00:00:00\",\"2000-08-12T00:00:00\",\"2000-08-13T00:00:00\",\"2000-08-14T00:00:00\",\"2000-08-15T00:00:00\",\"2000-08-16T00:00:00\",\"2000-08-17T00:00:00\",\"2000-08-18T00:00:00\",\"2000-08-19T00:00:00\",\"2000-08-20T00:00:00\",\"2000-08-21T00:00:00\",\"2000-08-22T00:00:00\",\"2000-08-23T00:00:00\",\"2000-08-24T00:00:00\",\"2000-08-25T00:00:00\",\"2000-08-26T00:00:00\",\"2000-08-27T00:00:00\",\"2000-08-28T00:00:00\",\"2000-08-29T00:00:00\",\"2000-08-30T00:00:00\",\"2000-08-31T00:00:00\",\"2000-09-01T00:00:00\",\"2000-09-02T00:00:00\",\"2000-09-03T00:00:00\",\"2000-09-04T00:00:00\",\"2000-09-05T00:00:00\",\"2000-09-06T00:00:00\",\"2000-09-07T00:00:00\",\"2000-09-08T00:00:00\",\"2000-09-09T00:00:00\",\"2000-09-10T00:00:00\",\"2000-09-11T00:00:00\",\"2000-09-12T00:00:00\",\"2000-09-13T00:00:00\",\"2000-09-14T00:00:00\",\"2000-09-15T00:00:00\",\"2000-09-16T00:00:00\",\"2000-09-17T00:00:00\",\"2000-09-18T00:00:00\",\"2000-09-19T00:00:00\",\"2000-09-20T00:00:00\",\"2000-09-21T00:00:00\",\"2000-09-22T00:00:00\",\"2000-09-23T00:00:00\",\"2000-09-24T00:00:00\",\"2000-09-25T00:00:00\",\"2000-09-26T00:00:00\",\"2000-09-27T00:00:00\",\"2000-09-28T00:00:00\",\"2000-09-29T00:00:00\",\"2000-09-30T00:00:00\",\"2000-10-01T00:00:00\",\"2000-10-02T00:00:00\",\"2000-10-03T00:00:00\",\"2000-10-04T00:00:00\",\"2000-10-05T00:00:00\",\"2000-10-06T00:00:00\",\"2000-10-07T00:00:00\",\"2000-10-08T00:00:00\",\"2000-10-09T00:00:00\",\"2000-10-10T00:00:00\",\"2000-10-11T00:00:00\",\"2000-10-12T00:00:00\",\"2000-10-13T00:00:00\",\"2000-10-14T00:00:00\",\"2000-10-15T00:00:00\",\"2000-10-16T00:00:00\",\"2000-10-17T00:00:00\",\"2000-10-18T00:00:00\",\"2000-10-19T00:00:00\",\"2000-10-20T00:00:00\",\"2000-10-21T00:00:00\",\"2000-10-22T00:00:00\",\"2000-10-23T00:00:00\",\"2000-10-24T00:00:00\",\"2000-10-25T00:00:00\",\"2000-10-26T00:00:00\",\"2000-10-27T00:00:00\",\"2000-10-28T00:00:00\",\"2000-10-29T00:00:00\",\"2000-10-30T00:00:00\",\"2000-10-31T00:00:00\",\"2000-11-01T00:00:00\",\"2000-11-02T00:00:00\",\"2000-11-03T00:00:00\",\"2000-11-04T00:00:00\",\"2000-11-05T00:00:00\",\"2000-11-06T00:00:00\",\"2000-11-07T00:00:00\",\"2000-11-08T00:00:00\",\"2000-11-09T00:00:00\",\"2000-11-10T00:00:00\",\"2000-11-11T00:00:00\",\"2000-11-12T00:00:00\",\"2000-11-13T00:00:00\",\"2000-11-14T00:00:00\",\"2000-11-15T00:00:00\",\"2000-11-16T00:00:00\",\"2000-11-17T00:00:00\",\"2000-11-18T00:00:00\",\"2000-11-19T00:00:00\",\"2000-11-20T00:00:00\",\"2000-11-21T00:00:00\",\"2000-11-22T00:00:00\",\"2000-11-23T00:00:00\",\"2000-11-24T00:00:00\",\"2000-11-25T00:00:00\",\"2000-11-26T00:00:00\",\"2000-11-27T00:00:00\",\"2000-11-28T00:00:00\",\"2000-11-29T00:00:00\",\"2000-11-30T00:00:00\",\"2000-12-01T00:00:00\",\"2000-12-02T00:00:00\",\"2000-12-03T00:00:00\",\"2000-12-04T00:00:00\",\"2000-12-05T00:00:00\",\"2000-12-06T00:00:00\",\"2000-12-07T00:00:00\",\"2000-12-08T00:00:00\",\"2000-12-09T00:00:00\",\"2000-12-10T00:00:00\",\"2000-12-11T00:00:00\",\"2000-12-12T00:00:00\",\"2000-12-13T00:00:00\",\"2000-12-14T00:00:00\",\"2000-12-15T00:00:00\",\"2000-12-16T00:00:00\",\"2000-12-17T00:00:00\",\"2000-12-18T00:00:00\",\"2000-12-19T00:00:00\",\"2000-12-20T00:00:00\",\"2000-12-21T00:00:00\",\"2000-12-22T00:00:00\",\"2000-12-23T00:00:00\",\"2000-12-24T00:00:00\",\"2000-12-25T00:00:00\",\"2000-12-26T00:00:00\",\"2000-12-27T00:00:00\",\"2000-12-28T00:00:00\",\"2000-12-29T00:00:00\",\"2000-12-30T00:00:00\",\"2000-12-31T00:00:00\",\"2001-01-01T00:00:00\",\"2001-01-02T00:00:00\",\"2001-01-03T00:00:00\",\"2001-01-04T00:00:00\",\"2001-01-05T00:00:00\",\"2001-01-06T00:00:00\",\"2001-01-07T00:00:00\",\"2001-01-08T00:00:00\",\"2001-01-09T00:00:00\",\"2001-01-10T00:00:00\",\"2001-01-11T00:00:00\",\"2001-01-12T00:00:00\",\"2001-01-13T00:00:00\",\"2001-01-14T00:00:00\",\"2001-01-15T00:00:00\",\"2001-01-16T00:00:00\",\"2001-01-17T00:00:00\",\"2001-01-18T00:00:00\",\"2001-01-19T00:00:00\",\"2001-01-20T00:00:00\",\"2001-01-21T00:00:00\",\"2001-01-22T00:00:00\",\"2001-01-23T00:00:00\",\"2001-01-24T00:00:00\",\"2001-01-25T00:00:00\",\"2001-01-26T00:00:00\",\"2001-01-27T00:00:00\",\"2001-01-28T00:00:00\",\"2001-01-29T00:00:00\",\"2001-01-30T00:00:00\",\"2001-01-31T00:00:00\",\"2001-02-01T00:00:00\",\"2001-02-02T00:00:00\",\"2001-02-03T00:00:00\",\"2001-02-04T00:00:00\",\"2001-02-05T00:00:00\",\"2001-02-06T00:00:00\",\"2001-02-07T00:00:00\",\"2001-02-08T00:00:00\",\"2001-02-09T00:00:00\",\"2001-02-10T00:00:00\",\"2001-02-11T00:00:00\",\"2001-02-12T00:00:00\",\"2001-02-13T00:00:00\",\"2001-02-14T00:00:00\",\"2001-02-15T00:00:00\",\"2001-02-16T00:00:00\",\"2001-02-17T00:00:00\",\"2001-02-18T00:00:00\",\"2001-02-19T00:00:00\",\"2001-02-20T00:00:00\",\"2001-02-21T00:00:00\",\"2001-02-22T00:00:00\",\"2001-02-23T00:00:00\",\"2001-02-24T00:00:00\",\"2001-02-25T00:00:00\",\"2001-02-26T00:00:00\",\"2001-02-27T00:00:00\",\"2001-02-28T00:00:00\",\"2001-03-01T00:00:00\",\"2001-03-02T00:00:00\",\"2001-03-03T00:00:00\",\"2001-03-04T00:00:00\",\"2001-03-05T00:00:00\",\"2001-03-06T00:00:00\",\"2001-03-07T00:00:00\",\"2001-03-08T00:00:00\",\"2001-03-09T00:00:00\",\"2001-03-10T00:00:00\",\"2001-03-11T00:00:00\",\"2001-03-12T00:00:00\",\"2001-03-13T00:00:00\",\"2001-03-14T00:00:00\",\"2001-03-15T00:00:00\",\"2001-03-16T00:00:00\",\"2001-03-17T00:00:00\",\"2001-03-18T00:00:00\",\"2001-03-19T00:00:00\",\"2001-03-20T00:00:00\",\"2001-03-21T00:00:00\",\"2001-03-22T00:00:00\",\"2001-03-23T00:00:00\",\"2001-03-24T00:00:00\",\"2001-03-25T00:00:00\",\"2001-03-26T00:00:00\",\"2001-03-27T00:00:00\",\"2001-03-28T00:00:00\",\"2001-03-29T00:00:00\",\"2001-03-30T00:00:00\",\"2001-03-31T00:00:00\",\"2001-04-01T00:00:00\",\"2001-04-02T00:00:00\",\"2001-04-03T00:00:00\",\"2001-04-04T00:00:00\",\"2001-04-05T00:00:00\",\"2001-04-06T00:00:00\",\"2001-04-07T00:00:00\",\"2001-04-08T00:00:00\",\"2001-04-09T00:00:00\",\"2001-04-10T00:00:00\",\"2001-04-11T00:00:00\",\"2001-04-12T00:00:00\",\"2001-04-13T00:00:00\",\"2001-04-14T00:00:00\",\"2001-04-15T00:00:00\",\"2001-04-16T00:00:00\",\"2001-04-17T00:00:00\",\"2001-04-18T00:00:00\",\"2001-04-19T00:00:00\",\"2001-04-20T00:00:00\",\"2001-04-21T00:00:00\",\"2001-04-22T00:00:00\",\"2001-04-23T00:00:00\",\"2001-04-24T00:00:00\",\"2001-04-25T00:00:00\",\"2001-04-26T00:00:00\",\"2001-04-27T00:00:00\",\"2001-04-28T00:00:00\",\"2001-04-29T00:00:00\",\"2001-04-30T00:00:00\",\"2001-05-01T00:00:00\",\"2001-05-02T00:00:00\",\"2001-05-03T00:00:00\",\"2001-05-04T00:00:00\",\"2001-05-05T00:00:00\",\"2001-05-06T00:00:00\",\"2001-05-07T00:00:00\",\"2001-05-08T00:00:00\",\"2001-05-09T00:00:00\",\"2001-05-10T00:00:00\",\"2001-05-11T00:00:00\",\"2001-05-12T00:00:00\",\"2001-05-13T00:00:00\",\"2001-05-14T00:00:00\",\"2001-05-15T00:00:00\",\"2001-05-16T00:00:00\",\"2001-05-17T00:00:00\",\"2001-05-18T00:00:00\",\"2001-05-19T00:00:00\",\"2001-05-20T00:00:00\",\"2001-05-21T00:00:00\",\"2001-05-22T00:00:00\",\"2001-05-23T00:00:00\",\"2001-05-24T00:00:00\",\"2001-05-25T00:00:00\",\"2001-05-26T00:00:00\",\"2001-05-27T00:00:00\",\"2001-05-28T00:00:00\",\"2001-05-29T00:00:00\",\"2001-05-30T00:00:00\",\"2001-05-31T00:00:00\",\"2001-06-01T00:00:00\",\"2001-06-02T00:00:00\",\"2001-06-03T00:00:00\",\"2001-06-04T00:00:00\",\"2001-06-05T00:00:00\",\"2001-06-06T00:00:00\",\"2001-06-07T00:00:00\",\"2001-06-08T00:00:00\",\"2001-06-09T00:00:00\",\"2001-06-10T00:00:00\",\"2001-06-11T00:00:00\",\"2001-06-12T00:00:00\",\"2001-06-13T00:00:00\",\"2001-06-14T00:00:00\",\"2001-06-15T00:00:00\",\"2001-06-16T00:00:00\",\"2001-06-17T00:00:00\",\"2001-06-18T00:00:00\",\"2001-06-19T00:00:00\",\"2001-06-20T00:00:00\",\"2001-06-21T00:00:00\",\"2001-06-22T00:00:00\",\"2001-06-23T00:00:00\",\"2001-06-24T00:00:00\",\"2001-06-25T00:00:00\",\"2001-06-26T00:00:00\",\"2001-06-27T00:00:00\",\"2001-06-28T00:00:00\",\"2001-06-29T00:00:00\",\"2001-06-30T00:00:00\",\"2001-07-01T00:00:00\",\"2001-07-02T00:00:00\",\"2001-07-03T00:00:00\",\"2001-07-04T00:00:00\",\"2001-07-05T00:00:00\",\"2001-07-06T00:00:00\",\"2001-07-07T00:00:00\",\"2001-07-08T00:00:00\",\"2001-07-09T00:00:00\",\"2001-07-10T00:00:00\",\"2001-07-11T00:00:00\",\"2001-07-12T00:00:00\",\"2001-07-13T00:00:00\",\"2001-07-14T00:00:00\",\"2001-07-15T00:00:00\",\"2001-07-16T00:00:00\",\"2001-07-17T00:00:00\",\"2001-07-18T00:00:00\",\"2001-07-19T00:00:00\",\"2001-07-20T00:00:00\",\"2001-07-21T00:00:00\",\"2001-07-22T00:00:00\",\"2001-07-23T00:00:00\",\"2001-07-24T00:00:00\",\"2001-07-25T00:00:00\",\"2001-07-26T00:00:00\",\"2001-07-27T00:00:00\",\"2001-07-28T00:00:00\",\"2001-07-29T00:00:00\",\"2001-07-30T00:00:00\",\"2001-07-31T00:00:00\",\"2001-08-01T00:00:00\",\"2001-08-02T00:00:00\",\"2001-08-03T00:00:00\",\"2001-08-04T00:00:00\",\"2001-08-05T00:00:00\",\"2001-08-06T00:00:00\",\"2001-08-07T00:00:00\",\"2001-08-08T00:00:00\",\"2001-08-09T00:00:00\",\"2001-08-10T00:00:00\",\"2001-08-11T00:00:00\",\"2001-08-12T00:00:00\",\"2001-08-13T00:00:00\",\"2001-08-14T00:00:00\",\"2001-08-15T00:00:00\",\"2001-08-16T00:00:00\",\"2001-08-17T00:00:00\",\"2001-08-18T00:00:00\",\"2001-08-19T00:00:00\",\"2001-08-20T00:00:00\",\"2001-08-21T00:00:00\",\"2001-08-22T00:00:00\",\"2001-08-23T00:00:00\",\"2001-08-24T00:00:00\",\"2001-08-25T00:00:00\",\"2001-08-26T00:00:00\",\"2001-08-27T00:00:00\",\"2001-08-28T00:00:00\",\"2001-08-29T00:00:00\",\"2001-08-30T00:00:00\",\"2001-08-31T00:00:00\",\"2001-09-01T00:00:00\",\"2001-09-02T00:00:00\",\"2001-09-03T00:00:00\",\"2001-09-04T00:00:00\",\"2001-09-05T00:00:00\",\"2001-09-06T00:00:00\",\"2001-09-07T00:00:00\",\"2001-09-08T00:00:00\",\"2001-09-09T00:00:00\",\"2001-09-10T00:00:00\",\"2001-09-11T00:00:00\",\"2001-09-12T00:00:00\",\"2001-09-13T00:00:00\",\"2001-09-14T00:00:00\",\"2001-09-15T00:00:00\",\"2001-09-16T00:00:00\",\"2001-09-17T00:00:00\",\"2001-09-18T00:00:00\",\"2001-09-19T00:00:00\",\"2001-09-20T00:00:00\",\"2001-09-21T00:00:00\",\"2001-09-22T00:00:00\",\"2001-09-23T00:00:00\",\"2001-09-24T00:00:00\",\"2001-09-25T00:00:00\",\"2001-09-26T00:00:00\",\"2001-09-27T00:00:00\",\"2001-09-28T00:00:00\",\"2001-09-29T00:00:00\",\"2001-09-30T00:00:00\",\"2001-10-01T00:00:00\",\"2001-10-02T00:00:00\",\"2001-10-03T00:00:00\",\"2001-10-04T00:00:00\",\"2001-10-05T00:00:00\",\"2001-10-06T00:00:00\",\"2001-10-07T00:00:00\",\"2001-10-08T00:00:00\",\"2001-10-09T00:00:00\",\"2001-10-10T00:00:00\",\"2001-10-11T00:00:00\",\"2001-10-12T00:00:00\",\"2001-10-13T00:00:00\",\"2001-10-14T00:00:00\",\"2001-10-15T00:00:00\",\"2001-10-16T00:00:00\",\"2001-10-17T00:00:00\",\"2001-10-18T00:00:00\",\"2001-10-19T00:00:00\",\"2001-10-20T00:00:00\",\"2001-10-21T00:00:00\",\"2001-10-22T00:00:00\",\"2001-10-23T00:00:00\",\"2001-10-24T00:00:00\",\"2001-10-25T00:00:00\",\"2001-10-26T00:00:00\",\"2001-10-27T00:00:00\",\"2001-10-28T00:00:00\",\"2001-10-29T00:00:00\",\"2001-10-30T00:00:00\",\"2001-10-31T00:00:00\",\"2001-11-01T00:00:00\",\"2001-11-02T00:00:00\",\"2001-11-03T00:00:00\",\"2001-11-04T00:00:00\",\"2001-11-05T00:00:00\",\"2001-11-06T00:00:00\",\"2001-11-07T00:00:00\",\"2001-11-08T00:00:00\",\"2001-11-09T00:00:00\",\"2001-11-10T00:00:00\",\"2001-11-11T00:00:00\",\"2001-11-12T00:00:00\",\"2001-11-13T00:00:00\",\"2001-11-14T00:00:00\",\"2001-11-15T00:00:00\",\"2001-11-16T00:00:00\",\"2001-11-17T00:00:00\",\"2001-11-18T00:00:00\",\"2001-11-19T00:00:00\",\"2001-11-20T00:00:00\",\"2001-11-21T00:00:00\",\"2001-11-22T00:00:00\",\"2001-11-23T00:00:00\",\"2001-11-24T00:00:00\",\"2001-11-25T00:00:00\",\"2001-11-26T00:00:00\",\"2001-11-27T00:00:00\",\"2001-11-28T00:00:00\",\"2001-11-29T00:00:00\",\"2001-11-30T00:00:00\",\"2001-12-01T00:00:00\",\"2001-12-02T00:00:00\",\"2001-12-03T00:00:00\",\"2001-12-04T00:00:00\",\"2001-12-05T00:00:00\",\"2001-12-06T00:00:00\",\"2001-12-07T00:00:00\",\"2001-12-08T00:00:00\",\"2001-12-09T00:00:00\",\"2001-12-10T00:00:00\",\"2001-12-11T00:00:00\",\"2001-12-12T00:00:00\",\"2001-12-13T00:00:00\",\"2001-12-14T00:00:00\",\"2001-12-15T00:00:00\",\"2001-12-16T00:00:00\",\"2001-12-17T00:00:00\",\"2001-12-18T00:00:00\",\"2001-12-19T00:00:00\",\"2001-12-20T00:00:00\",\"2001-12-21T00:00:00\",\"2001-12-22T00:00:00\",\"2001-12-23T00:00:00\",\"2001-12-24T00:00:00\",\"2001-12-25T00:00:00\",\"2001-12-26T00:00:00\",\"2001-12-27T00:00:00\",\"2001-12-28T00:00:00\",\"2001-12-29T00:00:00\",\"2001-12-30T00:00:00\",\"2001-12-31T00:00:00\",\"2002-01-01T00:00:00\",\"2002-01-02T00:00:00\",\"2002-01-03T00:00:00\",\"2002-01-04T00:00:00\",\"2002-01-05T00:00:00\",\"2002-01-06T00:00:00\",\"2002-01-07T00:00:00\",\"2002-01-08T00:00:00\",\"2002-01-09T00:00:00\",\"2002-01-10T00:00:00\",\"2002-01-11T00:00:00\",\"2002-01-12T00:00:00\",\"2002-01-13T00:00:00\",\"2002-01-14T00:00:00\",\"2002-01-15T00:00:00\",\"2002-01-16T00:00:00\",\"2002-01-17T00:00:00\",\"2002-01-18T00:00:00\",\"2002-01-19T00:00:00\",\"2002-01-20T00:00:00\",\"2002-01-21T00:00:00\",\"2002-01-22T00:00:00\",\"2002-01-23T00:00:00\",\"2002-01-24T00:00:00\",\"2002-01-25T00:00:00\",\"2002-01-26T00:00:00\",\"2002-01-27T00:00:00\",\"2002-01-28T00:00:00\",\"2002-01-29T00:00:00\",\"2002-01-30T00:00:00\",\"2002-01-31T00:00:00\",\"2002-02-01T00:00:00\",\"2002-02-02T00:00:00\",\"2002-02-03T00:00:00\",\"2002-02-04T00:00:00\",\"2002-02-05T00:00:00\",\"2002-02-06T00:00:00\",\"2002-02-07T00:00:00\",\"2002-02-08T00:00:00\",\"2002-02-09T00:00:00\",\"2002-02-10T00:00:00\",\"2002-02-11T00:00:00\",\"2002-02-12T00:00:00\",\"2002-02-13T00:00:00\",\"2002-02-14T00:00:00\",\"2002-02-15T00:00:00\",\"2002-02-16T00:00:00\",\"2002-02-17T00:00:00\",\"2002-02-18T00:00:00\",\"2002-02-19T00:00:00\",\"2002-02-20T00:00:00\",\"2002-02-21T00:00:00\",\"2002-02-22T00:00:00\",\"2002-02-23T00:00:00\",\"2002-02-24T00:00:00\",\"2002-02-25T00:00:00\",\"2002-02-26T00:00:00\",\"2002-02-27T00:00:00\",\"2002-02-28T00:00:00\",\"2002-03-01T00:00:00\",\"2002-03-02T00:00:00\",\"2002-03-03T00:00:00\",\"2002-03-04T00:00:00\",\"2002-03-05T00:00:00\",\"2002-03-06T00:00:00\",\"2002-03-07T00:00:00\",\"2002-03-08T00:00:00\",\"2002-03-09T00:00:00\",\"2002-03-10T00:00:00\",\"2002-03-11T00:00:00\",\"2002-03-12T00:00:00\",\"2002-03-13T00:00:00\",\"2002-03-14T00:00:00\",\"2002-03-15T00:00:00\",\"2002-03-16T00:00:00\",\"2002-03-17T00:00:00\",\"2002-03-18T00:00:00\",\"2002-03-19T00:00:00\",\"2002-03-20T00:00:00\",\"2002-03-21T00:00:00\",\"2002-03-22T00:00:00\",\"2002-03-23T00:00:00\",\"2002-03-24T00:00:00\",\"2002-03-25T00:00:00\",\"2002-03-26T00:00:00\",\"2002-03-27T00:00:00\",\"2002-03-28T00:00:00\",\"2002-03-29T00:00:00\",\"2002-03-30T00:00:00\",\"2002-03-31T00:00:00\",\"2002-04-01T00:00:00\",\"2002-04-02T00:00:00\",\"2002-04-03T00:00:00\",\"2002-04-04T00:00:00\",\"2002-04-05T00:00:00\",\"2002-04-06T00:00:00\",\"2002-04-07T00:00:00\",\"2002-04-08T00:00:00\",\"2002-04-09T00:00:00\",\"2002-04-10T00:00:00\",\"2002-04-11T00:00:00\",\"2002-04-12T00:00:00\",\"2002-04-13T00:00:00\",\"2002-04-14T00:00:00\",\"2002-04-15T00:00:00\",\"2002-04-16T00:00:00\",\"2002-04-17T00:00:00\",\"2002-04-18T00:00:00\",\"2002-04-19T00:00:00\",\"2002-04-20T00:00:00\",\"2002-04-21T00:00:00\",\"2002-04-22T00:00:00\",\"2002-04-23T00:00:00\",\"2002-04-24T00:00:00\",\"2002-04-25T00:00:00\",\"2002-04-26T00:00:00\",\"2002-04-27T00:00:00\",\"2002-04-28T00:00:00\",\"2002-04-29T00:00:00\",\"2002-04-30T00:00:00\",\"2002-05-01T00:00:00\",\"2002-05-02T00:00:00\",\"2002-05-03T00:00:00\",\"2002-05-04T00:00:00\",\"2002-05-05T00:00:00\",\"2002-05-06T00:00:00\",\"2002-05-07T00:00:00\",\"2002-05-08T00:00:00\",\"2002-05-09T00:00:00\",\"2002-05-10T00:00:00\",\"2002-05-11T00:00:00\",\"2002-05-12T00:00:00\",\"2002-05-13T00:00:00\",\"2002-05-14T00:00:00\",\"2002-05-15T00:00:00\",\"2002-05-16T00:00:00\",\"2002-05-17T00:00:00\",\"2002-05-18T00:00:00\",\"2002-05-19T00:00:00\",\"2002-05-20T00:00:00\",\"2002-05-21T00:00:00\",\"2002-05-22T00:00:00\",\"2002-05-23T00:00:00\",\"2002-05-24T00:00:00\",\"2002-05-25T00:00:00\",\"2002-05-26T00:00:00\",\"2002-05-27T00:00:00\",\"2002-05-28T00:00:00\",\"2002-05-29T00:00:00\",\"2002-05-30T00:00:00\",\"2002-05-31T00:00:00\",\"2002-06-01T00:00:00\",\"2002-06-02T00:00:00\",\"2002-06-03T00:00:00\",\"2002-06-04T00:00:00\",\"2002-06-05T00:00:00\",\"2002-06-06T00:00:00\",\"2002-06-07T00:00:00\",\"2002-06-08T00:00:00\",\"2002-06-09T00:00:00\",\"2002-06-10T00:00:00\",\"2002-06-11T00:00:00\",\"2002-06-12T00:00:00\",\"2002-06-13T00:00:00\",\"2002-06-14T00:00:00\",\"2002-06-15T00:00:00\",\"2002-06-16T00:00:00\",\"2002-06-17T00:00:00\",\"2002-06-18T00:00:00\",\"2002-06-19T00:00:00\",\"2002-06-20T00:00:00\",\"2002-06-21T00:00:00\",\"2002-06-22T00:00:00\",\"2002-06-23T00:00:00\",\"2002-06-24T00:00:00\",\"2002-06-25T00:00:00\",\"2002-06-26T00:00:00\",\"2002-06-27T00:00:00\",\"2002-06-28T00:00:00\",\"2002-06-29T00:00:00\",\"2002-06-30T00:00:00\",\"2002-07-01T00:00:00\",\"2002-07-02T00:00:00\",\"2002-07-03T00:00:00\",\"2002-07-04T00:00:00\",\"2002-07-05T00:00:00\",\"2002-07-06T00:00:00\",\"2002-07-07T00:00:00\",\"2002-07-08T00:00:00\",\"2002-07-09T00:00:00\",\"2002-07-10T00:00:00\",\"2002-07-11T00:00:00\",\"2002-07-12T00:00:00\",\"2002-07-13T00:00:00\",\"2002-07-14T00:00:00\",\"2002-07-15T00:00:00\",\"2002-07-16T00:00:00\",\"2002-07-17T00:00:00\",\"2002-07-18T00:00:00\",\"2002-07-19T00:00:00\",\"2002-07-20T00:00:00\",\"2002-07-21T00:00:00\",\"2002-07-22T00:00:00\",\"2002-07-23T00:00:00\",\"2002-07-24T00:00:00\",\"2002-07-25T00:00:00\",\"2002-07-26T00:00:00\",\"2002-07-27T00:00:00\",\"2002-07-28T00:00:00\",\"2002-07-29T00:00:00\",\"2002-07-30T00:00:00\",\"2002-07-31T00:00:00\",\"2002-08-01T00:00:00\",\"2002-08-02T00:00:00\",\"2002-08-03T00:00:00\",\"2002-08-04T00:00:00\",\"2002-08-05T00:00:00\",\"2002-08-06T00:00:00\",\"2002-08-07T00:00:00\",\"2002-08-08T00:00:00\",\"2002-08-09T00:00:00\",\"2002-08-10T00:00:00\",\"2002-08-11T00:00:00\",\"2002-08-12T00:00:00\",\"2002-08-13T00:00:00\",\"2002-08-14T00:00:00\",\"2002-08-15T00:00:00\",\"2002-08-16T00:00:00\",\"2002-08-17T00:00:00\",\"2002-08-18T00:00:00\",\"2002-08-19T00:00:00\",\"2002-08-20T00:00:00\",\"2002-08-21T00:00:00\",\"2002-08-22T00:00:00\",\"2002-08-23T00:00:00\",\"2002-08-24T00:00:00\",\"2002-08-25T00:00:00\",\"2002-08-26T00:00:00\",\"2002-08-27T00:00:00\",\"2002-08-28T00:00:00\",\"2002-08-29T00:00:00\",\"2002-08-30T00:00:00\",\"2002-08-31T00:00:00\",\"2002-09-01T00:00:00\",\"2002-09-02T00:00:00\",\"2002-09-03T00:00:00\",\"2002-09-04T00:00:00\",\"2002-09-05T00:00:00\",\"2002-09-06T00:00:00\",\"2002-09-07T00:00:00\",\"2002-09-08T00:00:00\",\"2002-09-09T00:00:00\",\"2002-09-10T00:00:00\",\"2002-09-11T00:00:00\",\"2002-09-12T00:00:00\",\"2002-09-13T00:00:00\",\"2002-09-14T00:00:00\",\"2002-09-15T00:00:00\",\"2002-09-16T00:00:00\",\"2002-09-17T00:00:00\",\"2002-09-18T00:00:00\",\"2002-09-19T00:00:00\",\"2002-09-20T00:00:00\",\"2002-09-21T00:00:00\",\"2002-09-22T00:00:00\",\"2002-09-23T00:00:00\",\"2002-09-24T00:00:00\",\"2002-09-25T00:00:00\",\"2002-09-26T00:00:00\"],\"xaxis\":\"x\",\"y\":[0.24044724335675502,0.24044724335675502,0.7002172029366533,0.7002172029366533,0.7002172029366533,0.7002172029366533,3.228300973745621,3.228300973745621,3.228300973745621,3.228300973745621,3.228300973745621,3.228300973745621,3.228300973745621,3.228300973745621,3.228300973745621,3.228300973745621,3.228300973745621,3.228300973745621,3.228300973745621,3.228300973745621,3.228300973745621,3.228300973745621,3.228300973745621,3.228300973745621,3.228300973745621,3.228300973745621,3.228300973745621,3.228300973745621,3.228300973745621,3.228300973745621,3.228300973745621,3.228300973745621,3.228300973745621,3.228300973745621,3.228300973745621,3.228300973745621,3.228300973745621,3.228300973745621,3.228300973745621,3.228300973745621,3.228300973745621,3.228300973745621,3.228300973745621,3.228300973745621,3.228300973745621,3.228300973745621,3.228300973745621,3.228300973745621,3.228300973745621,3.228300973745621,3.228300973745621,3.228300973745621,3.228300973745621,3.228300973745621,3.228300973745621,3.228300973745621,3.228300973745621,3.228300973745621,3.228300973745621,3.228300973745621,3.228300973745621,3.228300973745621,3.228300973745621,3.228300973745621,3.228300973745621,3.228300973745621,3.228300973745621,3.228300973745621,3.228300973745621,3.228300973745621,3.228300973745621,3.228300973745621,3.228300973745621,3.228300973745621,3.228300973745621,3.228300973745621,3.228300973745621,3.228300973745621,3.228300973745621,3.228300973745621,3.228300973745621,3.228300973745621,3.228300973745621,3.228300973745621,3.228300973745621,3.228300973745621,3.228300973745621,3.228300973745621,3.228300973745621,3.228300973745621,3.228300973745621,3.228300973745621,3.228300973745621,3.228300973745621,3.228300973745621,3.228300973745621,3.228300973745621,3.228300973745621,3.228300973745621,3.228300973745621,3.228300973745621,3.228300973745621,3.228300973745621,3.228300973745621,3.228300973745621,3.228300973745621,3.228300973745621,3.228300973745621,3.228300973745621,3.228300973745621,3.228300973745621,3.228300973745621,3.228300973745621,3.228300973745621,3.228300973745621,3.228300973745621,3.228300973745621,3.228300973745621,3.228300973745621,3.228300973745621,3.228300973745621,3.228300973745621,3.228300973745621,3.228300973745621,3.228300973745621,3.228300973745621,3.228300973745621,3.228300973745621,3.228300973745621,3.228300973745621,3.228300973745621,3.228300973745621,3.228300973745621,3.228300973745621,3.228300973745621,3.228300973745621,3.228300973745621,3.228300973745621,3.228300973745621,3.228300973745621,3.228300973745621,3.228300973745621,3.228300973745621,3.228300973745621,3.228300973745621,3.228300973745621,3.228300973745621,3.228300973745621,3.228300973745621,3.228300973745621,3.228300973745621,3.228300973745621,3.228300973745621,3.228300973745621,3.228300973745621,3.228300973745621,3.228300973745621,3.228300973745621,3.228300973745621,3.228300973745621,3.228300973745621,3.228300973745621,3.228300973745621,3.228300973745621,3.228300973745621,3.228300973745621,3.228300973745621,3.228300973745621,3.228300973745621,3.228300973745621,3.228300973745621,3.228300973745621,3.228300973745621,3.228300973745621,3.228300973745621,3.228300973745621,3.228300973745621,3.228300973745621,3.228300973745621,3.228300973745621,3.228300973745621,3.228300973745621,3.228300973745621,3.228300973745621,3.228300973745621,3.228300973745621,3.228300973745621,3.228300973745621,3.228300973745621,3.228300973745621,3.228300973745621,3.228300973745621,3.228300973745621,3.228300973745621,3.228300973745621,3.228300973745621,3.228300973745621,3.228300973745621,3.228300973745621,3.228300973745621,3.228300973745621,3.228300973745621,3.228300973745621,3.228300973745621,3.228300973745621,3.228300973745621,3.228300973745621,3.228300973745621,3.228300973745621,3.228300973745621,3.228300973745621,3.228300973745621,3.228300973745621,3.228300973745621,3.228300973745621,3.228300973745621,3.228300973745621,3.228300973745621,3.228300973745621,3.228300973745621,3.228300973745621,3.228300973745621,3.228300973745621,3.228300973745621,3.228300973745621,3.228300973745621,3.228300973745621,3.228300973745621,3.228300973745621,3.228300973745621,3.228300973745621,3.228300973745621,3.228300973745621,3.228300973745621,3.228300973745621,3.228300973745621,3.228300973745621,3.228300973745621,3.228300973745621,3.228300973745621,3.228300973745621,3.228300973745621,3.228300973745621,3.228300973745621,3.228300973745621,3.228300973745621,3.228300973745621,3.228300973745621,3.228300973745621,3.228300973745621,3.228300973745621,3.228300973745621,3.228300973745621,3.228300973745621,3.228300973745621,3.228300973745621,3.228300973745621,3.228300973745621,3.228300973745621,3.228300973745621,3.228300973745621,3.228300973745621,3.228300973745621,3.228300973745621,3.228300973745621,3.228300973745621,3.228300973745621,3.228300973745621,3.228300973745621,3.228300973745621,3.228300973745621,3.228300973745621,3.228300973745621,3.228300973745621,3.228300973745621,3.228300973745621,3.228300973745621,3.228300973745621,3.228300973745621,3.228300973745621,3.228300973745621,3.228300973745621,3.228300973745621,3.228300973745621,3.228300973745621,3.228300973745621,3.228300973745621,3.228300973745621,3.228300973745621,3.228300973745621,3.228300973745621,3.228300973745621,3.228300973745621,3.228300973745621,3.228300973745621,3.228300973745621,3.228300973745621,3.228300973745621,3.228300973745621,3.228300973745621,3.228300973745621,3.228300973745621,3.228300973745621,3.228300973745621,3.228300973745621,3.228300973745621,3.228300973745621,3.228300973745621,3.228300973745621,3.228300973745621,3.228300973745621,3.228300973745621,3.228300973745621,3.228300973745621,3.228300973745621,3.228300973745621,3.228300973745621,3.228300973745621,3.228300973745621,3.228300973745621,3.228300973745621,3.228300973745621,3.228300973745621,3.228300973745621,3.228300973745621,3.228300973745621,3.228300973745621,3.228300973745621,3.228300973745621,3.228300973745621,3.228300973745621,3.228300973745621,3.228300973745621,3.228300973745621,3.228300973745621,3.228300973745621,3.228300973745621,3.228300973745621,3.228300973745621,3.228300973745621,3.228300973745621,3.228300973745621,3.228300973745621,3.228300973745621,3.228300973745621,3.228300973745621,3.228300973745621,3.228300973745621,3.228300973745621,3.228300973745621,3.228300973745621,3.228300973745621,3.228300973745621,3.228300973745621,3.228300973745621,3.228300973745621,3.228300973745621,3.228300973745621,3.228300973745621,3.228300973745621,3.228300973745621,3.228300973745621,3.228300973745621,3.228300973745621,3.228300973745621,3.228300973745621,3.228300973745621,3.228300973745621,3.228300973745621,3.228300973745621,3.228300973745621,3.228300973745621,3.228300973745621,3.228300973745621,3.228300973745621,3.228300973745621,3.228300973745621,3.228300973745621,3.228300973745621,3.228300973745621,3.228300973745621,3.228300973745621,3.228300973745621,3.228300973745621,3.228300973745621,3.228300973745621,3.228300973745621,3.228300973745621,3.228300973745621,3.228300973745621,3.228300973745621,3.228300973745621,3.228300973745621,3.228300973745621,3.228300973745621,3.228300973745621,3.228300973745621,3.228300973745621,3.228300973745621,3.228300973745621,3.228300973745621,3.228300973745621,3.228300973745621,3.228300973745621,3.228300973745621,3.228300973745621,3.228300973745621,3.228300973745621,3.228300973745621,3.228300973745621,3.228300973745621,3.228300973745621,3.228300973745621,3.228300973745621,3.228300973745621,3.228300973745621,3.228300973745621,3.228300973745621,3.228300973745621,3.228300973745621,3.228300973745621,3.228300973745621,3.228300973745621,3.228300973745621,3.228300973745621,3.228300973745621,3.228300973745621,3.228300973745621,3.228300973745621,3.228300973745621,3.228300973745621,3.228300973745621,3.228300973745621,3.228300973745621,3.228300973745621,3.228300973745621,3.228300973745621,3.228300973745621,3.228300973745621,3.228300973745621,3.228300973745621,3.228300973745621,3.228300973745621,3.228300973745621,3.228300973745621,3.228300973745621,3.228300973745621,3.228300973745621,3.228300973745621,3.228300973745621,3.228300973745621,3.228300973745621,3.228300973745621,3.228300973745621,3.228300973745621,3.228300973745621,3.228300973745621,3.228300973745621,3.228300973745621,3.228300973745621,3.228300973745621,3.228300973745621,3.228300973745621,3.228300973745621,3.228300973745621,3.228300973745621,3.228300973745621,3.228300973745621,3.228300973745621,3.228300973745621,3.228300973745621,3.228300973745621,3.228300973745621,3.228300973745621,3.228300973745621,3.228300973745621,3.228300973745621,3.228300973745621,3.228300973745621,3.228300973745621,3.228300973745621,3.228300973745621,3.228300973745621,3.228300973745621,3.228300973745621,3.228300973745621,3.228300973745621,3.228300973745621,3.228300973745621,3.228300973745621,3.228300973745621,3.228300973745621,3.228300973745621,3.228300973745621,3.228300973745621,3.228300973745621,3.228300973745621,3.228300973745621,3.228300973745621,3.228300973745621,3.228300973745621,3.228300973745621,3.228300973745621,3.228300973745621,3.228300973745621,3.228300973745621,3.228300973745621,3.228300973745621,3.228300973745621,3.228300973745621,3.228300973745621,3.228300973745621,3.228300973745621,3.228300973745621,3.228300973745621,3.228300973745621,3.228300973745621,3.228300973745621,3.228300973745621,3.228300973745621,3.228300973745621,3.228300973745621,3.228300973745621,3.228300973745621,3.228300973745621,3.228300973745621,3.228300973745621,3.228300973745621,3.228300973745621,3.228300973745621,3.228300973745621,3.228300973745621,3.228300973745621,3.228300973745621,3.228300973745621,3.228300973745621,3.228300973745621,3.228300973745621,3.228300973745621,3.228300973745621,3.228300973745621,3.228300973745621,3.228300973745621,3.228300973745621,3.228300973745621,3.228300973745621,3.228300973745621,3.228300973745621,3.228300973745621,3.228300973745621,3.228300973745621,3.228300973745621,3.228300973745621,3.228300973745621,3.228300973745621,3.228300973745621,3.228300973745621,3.228300973745621,3.228300973745621,3.228300973745621,3.228300973745621,3.228300973745621,3.228300973745621,3.228300973745621,3.228300973745621,3.228300973745621,3.228300973745621,3.228300973745621,3.228300973745621,3.228300973745621,3.228300973745621,3.228300973745621,3.228300973745621,3.228300973745621,3.228300973745621,3.228300973745621,3.228300973745621,3.228300973745621,3.228300973745621,3.228300973745621,3.228300973745621,3.228300973745621,3.228300973745621,3.228300973745621,3.228300973745621,3.228300973745621,3.228300973745621,3.228300973745621,3.228300973745621,3.228300973745621,3.228300973745621,3.228300973745621,3.228300973745621,3.228300973745621,3.228300973745621,3.228300973745621,3.228300973745621,3.228300973745621,3.228300973745621,3.228300973745621,3.228300973745621,3.228300973745621,3.228300973745621,3.228300973745621,3.228300973745621,3.228300973745621,3.228300973745621,3.228300973745621,3.228300973745621,3.228300973745621,3.228300973745621,3.228300973745621,3.228300973745621,3.228300973745621,3.228300973745621,3.228300973745621,3.228300973745621,3.228300973745621,3.228300973745621,3.228300973745621,3.228300973745621,3.228300973745621,3.228300973745621,3.228300973745621,3.228300973745621,3.228300973745621,3.228300973745621,3.228300973745621,3.228300973745621,3.228300973745621,3.228300973745621,3.228300973745621,3.228300973745621,3.228300973745621,3.228300973745621,3.228300973745621,3.228300973745621,3.228300973745621,3.228300973745621,3.228300973745621,3.228300973745621,3.228300973745621,3.228300973745621,3.228300973745621,3.228300973745621,3.228300973745621,3.228300973745621,3.228300973745621,3.228300973745621,3.228300973745621,3.228300973745621,3.228300973745621,3.228300973745621,3.228300973745621,3.228300973745621,3.228300973745621,3.228300973745621,3.228300973745621,3.228300973745621,3.228300973745621,3.228300973745621,3.228300973745621,3.228300973745621,3.228300973745621,3.228300973745621,3.228300973745621,3.228300973745621,3.228300973745621,3.228300973745621,3.228300973745621,3.228300973745621,3.228300973745621,3.228300973745621,3.228300973745621,3.228300973745621,3.228300973745621,3.228300973745621,3.228300973745621,3.228300973745621,3.228300973745621,3.228300973745621,3.228300973745621,3.228300973745621,3.228300973745621,3.228300973745621,3.228300973745621,3.228300973745621,3.228300973745621,3.228300973745621,3.228300973745621,3.228300973745621,3.228300973745621,3.228300973745621,3.228300973745621,3.228300973745621,3.228300973745621,3.228300973745621,3.228300973745621,3.228300973745621,3.228300973745621,3.228300973745621,3.228300973745621,3.228300973745621,3.228300973745621,3.228300973745621,3.228300973745621,3.228300973745621,3.228300973745621,3.228300973745621,3.228300973745621,3.228300973745621,3.228300973745621,3.228300973745621,3.228300973745621,3.228300973745621,3.228300973745621,3.228300973745621,3.228300973745621,3.228300973745621,3.228300973745621,3.228300973745621,3.228300973745621,3.228300973745621,3.228300973745621,3.228300973745621,3.228300973745621,3.228300973745621,3.228300973745621,3.228300973745621,3.228300973745621,3.228300973745621,3.228300973745621,3.228300973745621,3.228300973745621,3.228300973745621,3.228300973745621,3.228300973745621,3.228300973745621,3.228300973745621,3.228300973745621,3.228300973745621,3.228300973745621,3.228300973745621,3.228300973745621,3.228300973745621,3.228300973745621,3.228300973745621,3.228300973745621,3.228300973745621,3.228300973745621,3.228300973745621,3.228300973745621,3.228300973745621,3.228300973745621,3.228300973745621,3.228300973745621,3.228300973745621,3.228300973745621,3.228300973745621,3.228300973745621,3.228300973745621,3.228300973745621,3.228300973745621,3.228300973745621,3.228300973745621,3.228300973745621,3.228300973745621,3.228300973745621,3.228300973745621,3.228300973745621,3.228300973745621,3.228300973745621,3.228300973745621,3.228300973745621,3.228300973745621,3.228300973745621,3.228300973745621,3.228300973745621,3.228300973745621,3.228300973745621,3.228300973745621,3.228300973745621,3.228300973745621,3.228300973745621,3.228300973745621,3.228300973745621,3.228300973745621,3.228300973745621,3.228300973745621,3.228300973745621,3.228300973745621,3.228300973745621,3.228300973745621,3.228300973745621,3.228300973745621,3.228300973745621,3.228300973745621,3.228300973745621,3.228300973745621,3.228300973745621,3.228300973745621,3.228300973745621,3.228300973745621,3.228300973745621,3.228300973745621,3.228300973745621,3.228300973745621,3.228300973745621,3.228300973745621,3.228300973745621,3.228300973745621,3.228300973745621,3.228300973745621,3.228300973745621,3.228300973745621,3.228300973745621,3.228300973745621,3.228300973745621,3.228300973745621,3.228300973745621,3.228300973745621,3.228300973745621,3.228300973745621,3.228300973745621,3.228300973745621,3.228300973745621,3.228300973745621,3.228300973745621,3.228300973745621,3.228300973745621,3.228300973745621,3.228300973745621,3.228300973745621,3.228300973745621,3.228300973745621,3.228300973745621,3.228300973745621,3.228300973745621,3.228300973745621,3.228300973745621,3.228300973745621,3.228300973745621,3.228300973745621,3.228300973745621,3.228300973745621,3.228300973745621,3.228300973745621,3.228300973745621,3.228300973745621,3.228300973745621,3.228300973745621,3.228300973745621,3.228300973745621,3.228300973745621,3.228300973745621,3.228300973745621,3.228300973745621,3.228300973745621,3.228300973745621,3.228300973745621,3.228300973745621,3.228300973745621,3.228300973745621,3.228300973745621,3.228300973745621,3.228300973745621,3.228300973745621,3.228300973745621,3.228300973745621,3.228300973745621,3.228300973745621,3.228300973745621,3.228300973745621,3.228300973745621,3.228300973745621,3.228300973745621,3.228300973745621,3.228300973745621,3.228300973745621,3.228300973745621,3.228300973745621,3.228300973745621,3.228300973745621,3.228300973745621,3.228300973745621,3.228300973745621,3.228300973745621,3.228300973745621,3.228300973745621,3.228300973745621,3.228300973745621,3.228300973745621,3.228300973745621,3.228300973745621,3.228300973745621,3.228300973745621,3.228300973745621,3.228300973745621,3.228300973745621,3.228300973745621,3.228300973745621,3.228300973745621,3.228300973745621,3.228300973745621,3.228300973745621,3.228300973745621,3.228300973745621,3.228300973745621,3.228300973745621,3.228300973745621,3.228300973745621,3.228300973745621,3.228300973745621,3.228300973745621,3.228300973745621,3.228300973745621,3.228300973745621,3.228300973745621,3.228300973745621,3.228300973745621,3.228300973745621,3.228300973745621,3.228300973745621,3.228300973745621,3.228300973745621,3.228300973745621,3.228300973745621,3.228300973745621,3.228300973745621,3.228300973745621,3.228300973745621,3.228300973745621,3.228300973745621,3.228300973745621,3.228300973745621,3.228300973745621,3.228300973745621,3.228300973745621,3.228300973745621,3.228300973745621,3.228300973745621,3.228300973745621,3.228300973745621,3.228300973745621,3.228300973745621,3.228300973745621,3.228300973745621,3.228300973745621,3.228300973745621,3.228300973745621,3.228300973745621,3.228300973745621,3.228300973745621,3.228300973745621,3.228300973745621,3.228300973745621,3.228300973745621,3.228300973745621,3.228300973745621,3.228300973745621,3.228300973745621,3.228300973745621,3.228300973745621,3.228300973745621,3.228300973745621,3.228300973745621,3.228300973745621,3.228300973745621,3.228300973745621,3.228300973745621,3.228300973745621,3.228300973745621,3.228300973745621,3.228300973745621,3.228300973745621,3.228300973745621,3.228300973745621,3.228300973745621,3.228300973745621,3.228300973745621,3.228300973745621,3.228300973745621,3.228300973745621,3.228300973745621,3.228300973745621,3.228300973745621,3.228300973745621,3.228300973745621,3.228300973745621,3.228300973745621,3.228300973745621,3.228300973745621,3.228300973745621,3.228300973745621,3.228300973745621,3.228300973745621,3.228300973745621,3.228300973745621,3.228300973745621,3.228300973745621],\"yaxis\":\"y\",\"type\":\"scattergl\"},{\"hovertemplate\":\"variable=C<br>index=%{x}<br>value=%{y}<extra></extra>\",\"legendgroup\":\"C\",\"line\":{\"color\":\"#00cc96\",\"dash\":\"solid\"},\"marker\":{\"symbol\":\"circle\"},\"mode\":\"lines\",\"name\":\"C\",\"showlegend\":true,\"x\":[\"2000-01-01T00:00:00\",\"2000-01-02T00:00:00\",\"2000-01-03T00:00:00\",\"2000-01-04T00:00:00\",\"2000-01-05T00:00:00\",\"2000-01-06T00:00:00\",\"2000-01-07T00:00:00\",\"2000-01-08T00:00:00\",\"2000-01-09T00:00:00\",\"2000-01-10T00:00:00\",\"2000-01-11T00:00:00\",\"2000-01-12T00:00:00\",\"2000-01-13T00:00:00\",\"2000-01-14T00:00:00\",\"2000-01-15T00:00:00\",\"2000-01-16T00:00:00\",\"2000-01-17T00:00:00\",\"2000-01-18T00:00:00\",\"2000-01-19T00:00:00\",\"2000-01-20T00:00:00\",\"2000-01-21T00:00:00\",\"2000-01-22T00:00:00\",\"2000-01-23T00:00:00\",\"2000-01-24T00:00:00\",\"2000-01-25T00:00:00\",\"2000-01-26T00:00:00\",\"2000-01-27T00:00:00\",\"2000-01-28T00:00:00\",\"2000-01-29T00:00:00\",\"2000-01-30T00:00:00\",\"2000-01-31T00:00:00\",\"2000-02-01T00:00:00\",\"2000-02-02T00:00:00\",\"2000-02-03T00:00:00\",\"2000-02-04T00:00:00\",\"2000-02-05T00:00:00\",\"2000-02-06T00:00:00\",\"2000-02-07T00:00:00\",\"2000-02-08T00:00:00\",\"2000-02-09T00:00:00\",\"2000-02-10T00:00:00\",\"2000-02-11T00:00:00\",\"2000-02-12T00:00:00\",\"2000-02-13T00:00:00\",\"2000-02-14T00:00:00\",\"2000-02-15T00:00:00\",\"2000-02-16T00:00:00\",\"2000-02-17T00:00:00\",\"2000-02-18T00:00:00\",\"2000-02-19T00:00:00\",\"2000-02-20T00:00:00\",\"2000-02-21T00:00:00\",\"2000-02-22T00:00:00\",\"2000-02-23T00:00:00\",\"2000-02-24T00:00:00\",\"2000-02-25T00:00:00\",\"2000-02-26T00:00:00\",\"2000-02-27T00:00:00\",\"2000-02-28T00:00:00\",\"2000-02-29T00:00:00\",\"2000-03-01T00:00:00\",\"2000-03-02T00:00:00\",\"2000-03-03T00:00:00\",\"2000-03-04T00:00:00\",\"2000-03-05T00:00:00\",\"2000-03-06T00:00:00\",\"2000-03-07T00:00:00\",\"2000-03-08T00:00:00\",\"2000-03-09T00:00:00\",\"2000-03-10T00:00:00\",\"2000-03-11T00:00:00\",\"2000-03-12T00:00:00\",\"2000-03-13T00:00:00\",\"2000-03-14T00:00:00\",\"2000-03-15T00:00:00\",\"2000-03-16T00:00:00\",\"2000-03-17T00:00:00\",\"2000-03-18T00:00:00\",\"2000-03-19T00:00:00\",\"2000-03-20T00:00:00\",\"2000-03-21T00:00:00\",\"2000-03-22T00:00:00\",\"2000-03-23T00:00:00\",\"2000-03-24T00:00:00\",\"2000-03-25T00:00:00\",\"2000-03-26T00:00:00\",\"2000-03-27T00:00:00\",\"2000-03-28T00:00:00\",\"2000-03-29T00:00:00\",\"2000-03-30T00:00:00\",\"2000-03-31T00:00:00\",\"2000-04-01T00:00:00\",\"2000-04-02T00:00:00\",\"2000-04-03T00:00:00\",\"2000-04-04T00:00:00\",\"2000-04-05T00:00:00\",\"2000-04-06T00:00:00\",\"2000-04-07T00:00:00\",\"2000-04-08T00:00:00\",\"2000-04-09T00:00:00\",\"2000-04-10T00:00:00\",\"2000-04-11T00:00:00\",\"2000-04-12T00:00:00\",\"2000-04-13T00:00:00\",\"2000-04-14T00:00:00\",\"2000-04-15T00:00:00\",\"2000-04-16T00:00:00\",\"2000-04-17T00:00:00\",\"2000-04-18T00:00:00\",\"2000-04-19T00:00:00\",\"2000-04-20T00:00:00\",\"2000-04-21T00:00:00\",\"2000-04-22T00:00:00\",\"2000-04-23T00:00:00\",\"2000-04-24T00:00:00\",\"2000-04-25T00:00:00\",\"2000-04-26T00:00:00\",\"2000-04-27T00:00:00\",\"2000-04-28T00:00:00\",\"2000-04-29T00:00:00\",\"2000-04-30T00:00:00\",\"2000-05-01T00:00:00\",\"2000-05-02T00:00:00\",\"2000-05-03T00:00:00\",\"2000-05-04T00:00:00\",\"2000-05-05T00:00:00\",\"2000-05-06T00:00:00\",\"2000-05-07T00:00:00\",\"2000-05-08T00:00:00\",\"2000-05-09T00:00:00\",\"2000-05-10T00:00:00\",\"2000-05-11T00:00:00\",\"2000-05-12T00:00:00\",\"2000-05-13T00:00:00\",\"2000-05-14T00:00:00\",\"2000-05-15T00:00:00\",\"2000-05-16T00:00:00\",\"2000-05-17T00:00:00\",\"2000-05-18T00:00:00\",\"2000-05-19T00:00:00\",\"2000-05-20T00:00:00\",\"2000-05-21T00:00:00\",\"2000-05-22T00:00:00\",\"2000-05-23T00:00:00\",\"2000-05-24T00:00:00\",\"2000-05-25T00:00:00\",\"2000-05-26T00:00:00\",\"2000-05-27T00:00:00\",\"2000-05-28T00:00:00\",\"2000-05-29T00:00:00\",\"2000-05-30T00:00:00\",\"2000-05-31T00:00:00\",\"2000-06-01T00:00:00\",\"2000-06-02T00:00:00\",\"2000-06-03T00:00:00\",\"2000-06-04T00:00:00\",\"2000-06-05T00:00:00\",\"2000-06-06T00:00:00\",\"2000-06-07T00:00:00\",\"2000-06-08T00:00:00\",\"2000-06-09T00:00:00\",\"2000-06-10T00:00:00\",\"2000-06-11T00:00:00\",\"2000-06-12T00:00:00\",\"2000-06-13T00:00:00\",\"2000-06-14T00:00:00\",\"2000-06-15T00:00:00\",\"2000-06-16T00:00:00\",\"2000-06-17T00:00:00\",\"2000-06-18T00:00:00\",\"2000-06-19T00:00:00\",\"2000-06-20T00:00:00\",\"2000-06-21T00:00:00\",\"2000-06-22T00:00:00\",\"2000-06-23T00:00:00\",\"2000-06-24T00:00:00\",\"2000-06-25T00:00:00\",\"2000-06-26T00:00:00\",\"2000-06-27T00:00:00\",\"2000-06-28T00:00:00\",\"2000-06-29T00:00:00\",\"2000-06-30T00:00:00\",\"2000-07-01T00:00:00\",\"2000-07-02T00:00:00\",\"2000-07-03T00:00:00\",\"2000-07-04T00:00:00\",\"2000-07-05T00:00:00\",\"2000-07-06T00:00:00\",\"2000-07-07T00:00:00\",\"2000-07-08T00:00:00\",\"2000-07-09T00:00:00\",\"2000-07-10T00:00:00\",\"2000-07-11T00:00:00\",\"2000-07-12T00:00:00\",\"2000-07-13T00:00:00\",\"2000-07-14T00:00:00\",\"2000-07-15T00:00:00\",\"2000-07-16T00:00:00\",\"2000-07-17T00:00:00\",\"2000-07-18T00:00:00\",\"2000-07-19T00:00:00\",\"2000-07-20T00:00:00\",\"2000-07-21T00:00:00\",\"2000-07-22T00:00:00\",\"2000-07-23T00:00:00\",\"2000-07-24T00:00:00\",\"2000-07-25T00:00:00\",\"2000-07-26T00:00:00\",\"2000-07-27T00:00:00\",\"2000-07-28T00:00:00\",\"2000-07-29T00:00:00\",\"2000-07-30T00:00:00\",\"2000-07-31T00:00:00\",\"2000-08-01T00:00:00\",\"2000-08-02T00:00:00\",\"2000-08-03T00:00:00\",\"2000-08-04T00:00:00\",\"2000-08-05T00:00:00\",\"2000-08-06T00:00:00\",\"2000-08-07T00:00:00\",\"2000-08-08T00:00:00\",\"2000-08-09T00:00:00\",\"2000-08-10T00:00:00\",\"2000-08-11T00:00:00\",\"2000-08-12T00:00:00\",\"2000-08-13T00:00:00\",\"2000-08-14T00:00:00\",\"2000-08-15T00:00:00\",\"2000-08-16T00:00:00\",\"2000-08-17T00:00:00\",\"2000-08-18T00:00:00\",\"2000-08-19T00:00:00\",\"2000-08-20T00:00:00\",\"2000-08-21T00:00:00\",\"2000-08-22T00:00:00\",\"2000-08-23T00:00:00\",\"2000-08-24T00:00:00\",\"2000-08-25T00:00:00\",\"2000-08-26T00:00:00\",\"2000-08-27T00:00:00\",\"2000-08-28T00:00:00\",\"2000-08-29T00:00:00\",\"2000-08-30T00:00:00\",\"2000-08-31T00:00:00\",\"2000-09-01T00:00:00\",\"2000-09-02T00:00:00\",\"2000-09-03T00:00:00\",\"2000-09-04T00:00:00\",\"2000-09-05T00:00:00\",\"2000-09-06T00:00:00\",\"2000-09-07T00:00:00\",\"2000-09-08T00:00:00\",\"2000-09-09T00:00:00\",\"2000-09-10T00:00:00\",\"2000-09-11T00:00:00\",\"2000-09-12T00:00:00\",\"2000-09-13T00:00:00\",\"2000-09-14T00:00:00\",\"2000-09-15T00:00:00\",\"2000-09-16T00:00:00\",\"2000-09-17T00:00:00\",\"2000-09-18T00:00:00\",\"2000-09-19T00:00:00\",\"2000-09-20T00:00:00\",\"2000-09-21T00:00:00\",\"2000-09-22T00:00:00\",\"2000-09-23T00:00:00\",\"2000-09-24T00:00:00\",\"2000-09-25T00:00:00\",\"2000-09-26T00:00:00\",\"2000-09-27T00:00:00\",\"2000-09-28T00:00:00\",\"2000-09-29T00:00:00\",\"2000-09-30T00:00:00\",\"2000-10-01T00:00:00\",\"2000-10-02T00:00:00\",\"2000-10-03T00:00:00\",\"2000-10-04T00:00:00\",\"2000-10-05T00:00:00\",\"2000-10-06T00:00:00\",\"2000-10-07T00:00:00\",\"2000-10-08T00:00:00\",\"2000-10-09T00:00:00\",\"2000-10-10T00:00:00\",\"2000-10-11T00:00:00\",\"2000-10-12T00:00:00\",\"2000-10-13T00:00:00\",\"2000-10-14T00:00:00\",\"2000-10-15T00:00:00\",\"2000-10-16T00:00:00\",\"2000-10-17T00:00:00\",\"2000-10-18T00:00:00\",\"2000-10-19T00:00:00\",\"2000-10-20T00:00:00\",\"2000-10-21T00:00:00\",\"2000-10-22T00:00:00\",\"2000-10-23T00:00:00\",\"2000-10-24T00:00:00\",\"2000-10-25T00:00:00\",\"2000-10-26T00:00:00\",\"2000-10-27T00:00:00\",\"2000-10-28T00:00:00\",\"2000-10-29T00:00:00\",\"2000-10-30T00:00:00\",\"2000-10-31T00:00:00\",\"2000-11-01T00:00:00\",\"2000-11-02T00:00:00\",\"2000-11-03T00:00:00\",\"2000-11-04T00:00:00\",\"2000-11-05T00:00:00\",\"2000-11-06T00:00:00\",\"2000-11-07T00:00:00\",\"2000-11-08T00:00:00\",\"2000-11-09T00:00:00\",\"2000-11-10T00:00:00\",\"2000-11-11T00:00:00\",\"2000-11-12T00:00:00\",\"2000-11-13T00:00:00\",\"2000-11-14T00:00:00\",\"2000-11-15T00:00:00\",\"2000-11-16T00:00:00\",\"2000-11-17T00:00:00\",\"2000-11-18T00:00:00\",\"2000-11-19T00:00:00\",\"2000-11-20T00:00:00\",\"2000-11-21T00:00:00\",\"2000-11-22T00:00:00\",\"2000-11-23T00:00:00\",\"2000-11-24T00:00:00\",\"2000-11-25T00:00:00\",\"2000-11-26T00:00:00\",\"2000-11-27T00:00:00\",\"2000-11-28T00:00:00\",\"2000-11-29T00:00:00\",\"2000-11-30T00:00:00\",\"2000-12-01T00:00:00\",\"2000-12-02T00:00:00\",\"2000-12-03T00:00:00\",\"2000-12-04T00:00:00\",\"2000-12-05T00:00:00\",\"2000-12-06T00:00:00\",\"2000-12-07T00:00:00\",\"2000-12-08T00:00:00\",\"2000-12-09T00:00:00\",\"2000-12-10T00:00:00\",\"2000-12-11T00:00:00\",\"2000-12-12T00:00:00\",\"2000-12-13T00:00:00\",\"2000-12-14T00:00:00\",\"2000-12-15T00:00:00\",\"2000-12-16T00:00:00\",\"2000-12-17T00:00:00\",\"2000-12-18T00:00:00\",\"2000-12-19T00:00:00\",\"2000-12-20T00:00:00\",\"2000-12-21T00:00:00\",\"2000-12-22T00:00:00\",\"2000-12-23T00:00:00\",\"2000-12-24T00:00:00\",\"2000-12-25T00:00:00\",\"2000-12-26T00:00:00\",\"2000-12-27T00:00:00\",\"2000-12-28T00:00:00\",\"2000-12-29T00:00:00\",\"2000-12-30T00:00:00\",\"2000-12-31T00:00:00\",\"2001-01-01T00:00:00\",\"2001-01-02T00:00:00\",\"2001-01-03T00:00:00\",\"2001-01-04T00:00:00\",\"2001-01-05T00:00:00\",\"2001-01-06T00:00:00\",\"2001-01-07T00:00:00\",\"2001-01-08T00:00:00\",\"2001-01-09T00:00:00\",\"2001-01-10T00:00:00\",\"2001-01-11T00:00:00\",\"2001-01-12T00:00:00\",\"2001-01-13T00:00:00\",\"2001-01-14T00:00:00\",\"2001-01-15T00:00:00\",\"2001-01-16T00:00:00\",\"2001-01-17T00:00:00\",\"2001-01-18T00:00:00\",\"2001-01-19T00:00:00\",\"2001-01-20T00:00:00\",\"2001-01-21T00:00:00\",\"2001-01-22T00:00:00\",\"2001-01-23T00:00:00\",\"2001-01-24T00:00:00\",\"2001-01-25T00:00:00\",\"2001-01-26T00:00:00\",\"2001-01-27T00:00:00\",\"2001-01-28T00:00:00\",\"2001-01-29T00:00:00\",\"2001-01-30T00:00:00\",\"2001-01-31T00:00:00\",\"2001-02-01T00:00:00\",\"2001-02-02T00:00:00\",\"2001-02-03T00:00:00\",\"2001-02-04T00:00:00\",\"2001-02-05T00:00:00\",\"2001-02-06T00:00:00\",\"2001-02-07T00:00:00\",\"2001-02-08T00:00:00\",\"2001-02-09T00:00:00\",\"2001-02-10T00:00:00\",\"2001-02-11T00:00:00\",\"2001-02-12T00:00:00\",\"2001-02-13T00:00:00\",\"2001-02-14T00:00:00\",\"2001-02-15T00:00:00\",\"2001-02-16T00:00:00\",\"2001-02-17T00:00:00\",\"2001-02-18T00:00:00\",\"2001-02-19T00:00:00\",\"2001-02-20T00:00:00\",\"2001-02-21T00:00:00\",\"2001-02-22T00:00:00\",\"2001-02-23T00:00:00\",\"2001-02-24T00:00:00\",\"2001-02-25T00:00:00\",\"2001-02-26T00:00:00\",\"2001-02-27T00:00:00\",\"2001-02-28T00:00:00\",\"2001-03-01T00:00:00\",\"2001-03-02T00:00:00\",\"2001-03-03T00:00:00\",\"2001-03-04T00:00:00\",\"2001-03-05T00:00:00\",\"2001-03-06T00:00:00\",\"2001-03-07T00:00:00\",\"2001-03-08T00:00:00\",\"2001-03-09T00:00:00\",\"2001-03-10T00:00:00\",\"2001-03-11T00:00:00\",\"2001-03-12T00:00:00\",\"2001-03-13T00:00:00\",\"2001-03-14T00:00:00\",\"2001-03-15T00:00:00\",\"2001-03-16T00:00:00\",\"2001-03-17T00:00:00\",\"2001-03-18T00:00:00\",\"2001-03-19T00:00:00\",\"2001-03-20T00:00:00\",\"2001-03-21T00:00:00\",\"2001-03-22T00:00:00\",\"2001-03-23T00:00:00\",\"2001-03-24T00:00:00\",\"2001-03-25T00:00:00\",\"2001-03-26T00:00:00\",\"2001-03-27T00:00:00\",\"2001-03-28T00:00:00\",\"2001-03-29T00:00:00\",\"2001-03-30T00:00:00\",\"2001-03-31T00:00:00\",\"2001-04-01T00:00:00\",\"2001-04-02T00:00:00\",\"2001-04-03T00:00:00\",\"2001-04-04T00:00:00\",\"2001-04-05T00:00:00\",\"2001-04-06T00:00:00\",\"2001-04-07T00:00:00\",\"2001-04-08T00:00:00\",\"2001-04-09T00:00:00\",\"2001-04-10T00:00:00\",\"2001-04-11T00:00:00\",\"2001-04-12T00:00:00\",\"2001-04-13T00:00:00\",\"2001-04-14T00:00:00\",\"2001-04-15T00:00:00\",\"2001-04-16T00:00:00\",\"2001-04-17T00:00:00\",\"2001-04-18T00:00:00\",\"2001-04-19T00:00:00\",\"2001-04-20T00:00:00\",\"2001-04-21T00:00:00\",\"2001-04-22T00:00:00\",\"2001-04-23T00:00:00\",\"2001-04-24T00:00:00\",\"2001-04-25T00:00:00\",\"2001-04-26T00:00:00\",\"2001-04-27T00:00:00\",\"2001-04-28T00:00:00\",\"2001-04-29T00:00:00\",\"2001-04-30T00:00:00\",\"2001-05-01T00:00:00\",\"2001-05-02T00:00:00\",\"2001-05-03T00:00:00\",\"2001-05-04T00:00:00\",\"2001-05-05T00:00:00\",\"2001-05-06T00:00:00\",\"2001-05-07T00:00:00\",\"2001-05-08T00:00:00\",\"2001-05-09T00:00:00\",\"2001-05-10T00:00:00\",\"2001-05-11T00:00:00\",\"2001-05-12T00:00:00\",\"2001-05-13T00:00:00\",\"2001-05-14T00:00:00\",\"2001-05-15T00:00:00\",\"2001-05-16T00:00:00\",\"2001-05-17T00:00:00\",\"2001-05-18T00:00:00\",\"2001-05-19T00:00:00\",\"2001-05-20T00:00:00\",\"2001-05-21T00:00:00\",\"2001-05-22T00:00:00\",\"2001-05-23T00:00:00\",\"2001-05-24T00:00:00\",\"2001-05-25T00:00:00\",\"2001-05-26T00:00:00\",\"2001-05-27T00:00:00\",\"2001-05-28T00:00:00\",\"2001-05-29T00:00:00\",\"2001-05-30T00:00:00\",\"2001-05-31T00:00:00\",\"2001-06-01T00:00:00\",\"2001-06-02T00:00:00\",\"2001-06-03T00:00:00\",\"2001-06-04T00:00:00\",\"2001-06-05T00:00:00\",\"2001-06-06T00:00:00\",\"2001-06-07T00:00:00\",\"2001-06-08T00:00:00\",\"2001-06-09T00:00:00\",\"2001-06-10T00:00:00\",\"2001-06-11T00:00:00\",\"2001-06-12T00:00:00\",\"2001-06-13T00:00:00\",\"2001-06-14T00:00:00\",\"2001-06-15T00:00:00\",\"2001-06-16T00:00:00\",\"2001-06-17T00:00:00\",\"2001-06-18T00:00:00\",\"2001-06-19T00:00:00\",\"2001-06-20T00:00:00\",\"2001-06-21T00:00:00\",\"2001-06-22T00:00:00\",\"2001-06-23T00:00:00\",\"2001-06-24T00:00:00\",\"2001-06-25T00:00:00\",\"2001-06-26T00:00:00\",\"2001-06-27T00:00:00\",\"2001-06-28T00:00:00\",\"2001-06-29T00:00:00\",\"2001-06-30T00:00:00\",\"2001-07-01T00:00:00\",\"2001-07-02T00:00:00\",\"2001-07-03T00:00:00\",\"2001-07-04T00:00:00\",\"2001-07-05T00:00:00\",\"2001-07-06T00:00:00\",\"2001-07-07T00:00:00\",\"2001-07-08T00:00:00\",\"2001-07-09T00:00:00\",\"2001-07-10T00:00:00\",\"2001-07-11T00:00:00\",\"2001-07-12T00:00:00\",\"2001-07-13T00:00:00\",\"2001-07-14T00:00:00\",\"2001-07-15T00:00:00\",\"2001-07-16T00:00:00\",\"2001-07-17T00:00:00\",\"2001-07-18T00:00:00\",\"2001-07-19T00:00:00\",\"2001-07-20T00:00:00\",\"2001-07-21T00:00:00\",\"2001-07-22T00:00:00\",\"2001-07-23T00:00:00\",\"2001-07-24T00:00:00\",\"2001-07-25T00:00:00\",\"2001-07-26T00:00:00\",\"2001-07-27T00:00:00\",\"2001-07-28T00:00:00\",\"2001-07-29T00:00:00\",\"2001-07-30T00:00:00\",\"2001-07-31T00:00:00\",\"2001-08-01T00:00:00\",\"2001-08-02T00:00:00\",\"2001-08-03T00:00:00\",\"2001-08-04T00:00:00\",\"2001-08-05T00:00:00\",\"2001-08-06T00:00:00\",\"2001-08-07T00:00:00\",\"2001-08-08T00:00:00\",\"2001-08-09T00:00:00\",\"2001-08-10T00:00:00\",\"2001-08-11T00:00:00\",\"2001-08-12T00:00:00\",\"2001-08-13T00:00:00\",\"2001-08-14T00:00:00\",\"2001-08-15T00:00:00\",\"2001-08-16T00:00:00\",\"2001-08-17T00:00:00\",\"2001-08-18T00:00:00\",\"2001-08-19T00:00:00\",\"2001-08-20T00:00:00\",\"2001-08-21T00:00:00\",\"2001-08-22T00:00:00\",\"2001-08-23T00:00:00\",\"2001-08-24T00:00:00\",\"2001-08-25T00:00:00\",\"2001-08-26T00:00:00\",\"2001-08-27T00:00:00\",\"2001-08-28T00:00:00\",\"2001-08-29T00:00:00\",\"2001-08-30T00:00:00\",\"2001-08-31T00:00:00\",\"2001-09-01T00:00:00\",\"2001-09-02T00:00:00\",\"2001-09-03T00:00:00\",\"2001-09-04T00:00:00\",\"2001-09-05T00:00:00\",\"2001-09-06T00:00:00\",\"2001-09-07T00:00:00\",\"2001-09-08T00:00:00\",\"2001-09-09T00:00:00\",\"2001-09-10T00:00:00\",\"2001-09-11T00:00:00\",\"2001-09-12T00:00:00\",\"2001-09-13T00:00:00\",\"2001-09-14T00:00:00\",\"2001-09-15T00:00:00\",\"2001-09-16T00:00:00\",\"2001-09-17T00:00:00\",\"2001-09-18T00:00:00\",\"2001-09-19T00:00:00\",\"2001-09-20T00:00:00\",\"2001-09-21T00:00:00\",\"2001-09-22T00:00:00\",\"2001-09-23T00:00:00\",\"2001-09-24T00:00:00\",\"2001-09-25T00:00:00\",\"2001-09-26T00:00:00\",\"2001-09-27T00:00:00\",\"2001-09-28T00:00:00\",\"2001-09-29T00:00:00\",\"2001-09-30T00:00:00\",\"2001-10-01T00:00:00\",\"2001-10-02T00:00:00\",\"2001-10-03T00:00:00\",\"2001-10-04T00:00:00\",\"2001-10-05T00:00:00\",\"2001-10-06T00:00:00\",\"2001-10-07T00:00:00\",\"2001-10-08T00:00:00\",\"2001-10-09T00:00:00\",\"2001-10-10T00:00:00\",\"2001-10-11T00:00:00\",\"2001-10-12T00:00:00\",\"2001-10-13T00:00:00\",\"2001-10-14T00:00:00\",\"2001-10-15T00:00:00\",\"2001-10-16T00:00:00\",\"2001-10-17T00:00:00\",\"2001-10-18T00:00:00\",\"2001-10-19T00:00:00\",\"2001-10-20T00:00:00\",\"2001-10-21T00:00:00\",\"2001-10-22T00:00:00\",\"2001-10-23T00:00:00\",\"2001-10-24T00:00:00\",\"2001-10-25T00:00:00\",\"2001-10-26T00:00:00\",\"2001-10-27T00:00:00\",\"2001-10-28T00:00:00\",\"2001-10-29T00:00:00\",\"2001-10-30T00:00:00\",\"2001-10-31T00:00:00\",\"2001-11-01T00:00:00\",\"2001-11-02T00:00:00\",\"2001-11-03T00:00:00\",\"2001-11-04T00:00:00\",\"2001-11-05T00:00:00\",\"2001-11-06T00:00:00\",\"2001-11-07T00:00:00\",\"2001-11-08T00:00:00\",\"2001-11-09T00:00:00\",\"2001-11-10T00:00:00\",\"2001-11-11T00:00:00\",\"2001-11-12T00:00:00\",\"2001-11-13T00:00:00\",\"2001-11-14T00:00:00\",\"2001-11-15T00:00:00\",\"2001-11-16T00:00:00\",\"2001-11-17T00:00:00\",\"2001-11-18T00:00:00\",\"2001-11-19T00:00:00\",\"2001-11-20T00:00:00\",\"2001-11-21T00:00:00\",\"2001-11-22T00:00:00\",\"2001-11-23T00:00:00\",\"2001-11-24T00:00:00\",\"2001-11-25T00:00:00\",\"2001-11-26T00:00:00\",\"2001-11-27T00:00:00\",\"2001-11-28T00:00:00\",\"2001-11-29T00:00:00\",\"2001-11-30T00:00:00\",\"2001-12-01T00:00:00\",\"2001-12-02T00:00:00\",\"2001-12-03T00:00:00\",\"2001-12-04T00:00:00\",\"2001-12-05T00:00:00\",\"2001-12-06T00:00:00\",\"2001-12-07T00:00:00\",\"2001-12-08T00:00:00\",\"2001-12-09T00:00:00\",\"2001-12-10T00:00:00\",\"2001-12-11T00:00:00\",\"2001-12-12T00:00:00\",\"2001-12-13T00:00:00\",\"2001-12-14T00:00:00\",\"2001-12-15T00:00:00\",\"2001-12-16T00:00:00\",\"2001-12-17T00:00:00\",\"2001-12-18T00:00:00\",\"2001-12-19T00:00:00\",\"2001-12-20T00:00:00\",\"2001-12-21T00:00:00\",\"2001-12-22T00:00:00\",\"2001-12-23T00:00:00\",\"2001-12-24T00:00:00\",\"2001-12-25T00:00:00\",\"2001-12-26T00:00:00\",\"2001-12-27T00:00:00\",\"2001-12-28T00:00:00\",\"2001-12-29T00:00:00\",\"2001-12-30T00:00:00\",\"2001-12-31T00:00:00\",\"2002-01-01T00:00:00\",\"2002-01-02T00:00:00\",\"2002-01-03T00:00:00\",\"2002-01-04T00:00:00\",\"2002-01-05T00:00:00\",\"2002-01-06T00:00:00\",\"2002-01-07T00:00:00\",\"2002-01-08T00:00:00\",\"2002-01-09T00:00:00\",\"2002-01-10T00:00:00\",\"2002-01-11T00:00:00\",\"2002-01-12T00:00:00\",\"2002-01-13T00:00:00\",\"2002-01-14T00:00:00\",\"2002-01-15T00:00:00\",\"2002-01-16T00:00:00\",\"2002-01-17T00:00:00\",\"2002-01-18T00:00:00\",\"2002-01-19T00:00:00\",\"2002-01-20T00:00:00\",\"2002-01-21T00:00:00\",\"2002-01-22T00:00:00\",\"2002-01-23T00:00:00\",\"2002-01-24T00:00:00\",\"2002-01-25T00:00:00\",\"2002-01-26T00:00:00\",\"2002-01-27T00:00:00\",\"2002-01-28T00:00:00\",\"2002-01-29T00:00:00\",\"2002-01-30T00:00:00\",\"2002-01-31T00:00:00\",\"2002-02-01T00:00:00\",\"2002-02-02T00:00:00\",\"2002-02-03T00:00:00\",\"2002-02-04T00:00:00\",\"2002-02-05T00:00:00\",\"2002-02-06T00:00:00\",\"2002-02-07T00:00:00\",\"2002-02-08T00:00:00\",\"2002-02-09T00:00:00\",\"2002-02-10T00:00:00\",\"2002-02-11T00:00:00\",\"2002-02-12T00:00:00\",\"2002-02-13T00:00:00\",\"2002-02-14T00:00:00\",\"2002-02-15T00:00:00\",\"2002-02-16T00:00:00\",\"2002-02-17T00:00:00\",\"2002-02-18T00:00:00\",\"2002-02-19T00:00:00\",\"2002-02-20T00:00:00\",\"2002-02-21T00:00:00\",\"2002-02-22T00:00:00\",\"2002-02-23T00:00:00\",\"2002-02-24T00:00:00\",\"2002-02-25T00:00:00\",\"2002-02-26T00:00:00\",\"2002-02-27T00:00:00\",\"2002-02-28T00:00:00\",\"2002-03-01T00:00:00\",\"2002-03-02T00:00:00\",\"2002-03-03T00:00:00\",\"2002-03-04T00:00:00\",\"2002-03-05T00:00:00\",\"2002-03-06T00:00:00\",\"2002-03-07T00:00:00\",\"2002-03-08T00:00:00\",\"2002-03-09T00:00:00\",\"2002-03-10T00:00:00\",\"2002-03-11T00:00:00\",\"2002-03-12T00:00:00\",\"2002-03-13T00:00:00\",\"2002-03-14T00:00:00\",\"2002-03-15T00:00:00\",\"2002-03-16T00:00:00\",\"2002-03-17T00:00:00\",\"2002-03-18T00:00:00\",\"2002-03-19T00:00:00\",\"2002-03-20T00:00:00\",\"2002-03-21T00:00:00\",\"2002-03-22T00:00:00\",\"2002-03-23T00:00:00\",\"2002-03-24T00:00:00\",\"2002-03-25T00:00:00\",\"2002-03-26T00:00:00\",\"2002-03-27T00:00:00\",\"2002-03-28T00:00:00\",\"2002-03-29T00:00:00\",\"2002-03-30T00:00:00\",\"2002-03-31T00:00:00\",\"2002-04-01T00:00:00\",\"2002-04-02T00:00:00\",\"2002-04-03T00:00:00\",\"2002-04-04T00:00:00\",\"2002-04-05T00:00:00\",\"2002-04-06T00:00:00\",\"2002-04-07T00:00:00\",\"2002-04-08T00:00:00\",\"2002-04-09T00:00:00\",\"2002-04-10T00:00:00\",\"2002-04-11T00:00:00\",\"2002-04-12T00:00:00\",\"2002-04-13T00:00:00\",\"2002-04-14T00:00:00\",\"2002-04-15T00:00:00\",\"2002-04-16T00:00:00\",\"2002-04-17T00:00:00\",\"2002-04-18T00:00:00\",\"2002-04-19T00:00:00\",\"2002-04-20T00:00:00\",\"2002-04-21T00:00:00\",\"2002-04-22T00:00:00\",\"2002-04-23T00:00:00\",\"2002-04-24T00:00:00\",\"2002-04-25T00:00:00\",\"2002-04-26T00:00:00\",\"2002-04-27T00:00:00\",\"2002-04-28T00:00:00\",\"2002-04-29T00:00:00\",\"2002-04-30T00:00:00\",\"2002-05-01T00:00:00\",\"2002-05-02T00:00:00\",\"2002-05-03T00:00:00\",\"2002-05-04T00:00:00\",\"2002-05-05T00:00:00\",\"2002-05-06T00:00:00\",\"2002-05-07T00:00:00\",\"2002-05-08T00:00:00\",\"2002-05-09T00:00:00\",\"2002-05-10T00:00:00\",\"2002-05-11T00:00:00\",\"2002-05-12T00:00:00\",\"2002-05-13T00:00:00\",\"2002-05-14T00:00:00\",\"2002-05-15T00:00:00\",\"2002-05-16T00:00:00\",\"2002-05-17T00:00:00\",\"2002-05-18T00:00:00\",\"2002-05-19T00:00:00\",\"2002-05-20T00:00:00\",\"2002-05-21T00:00:00\",\"2002-05-22T00:00:00\",\"2002-05-23T00:00:00\",\"2002-05-24T00:00:00\",\"2002-05-25T00:00:00\",\"2002-05-26T00:00:00\",\"2002-05-27T00:00:00\",\"2002-05-28T00:00:00\",\"2002-05-29T00:00:00\",\"2002-05-30T00:00:00\",\"2002-05-31T00:00:00\",\"2002-06-01T00:00:00\",\"2002-06-02T00:00:00\",\"2002-06-03T00:00:00\",\"2002-06-04T00:00:00\",\"2002-06-05T00:00:00\",\"2002-06-06T00:00:00\",\"2002-06-07T00:00:00\",\"2002-06-08T00:00:00\",\"2002-06-09T00:00:00\",\"2002-06-10T00:00:00\",\"2002-06-11T00:00:00\",\"2002-06-12T00:00:00\",\"2002-06-13T00:00:00\",\"2002-06-14T00:00:00\",\"2002-06-15T00:00:00\",\"2002-06-16T00:00:00\",\"2002-06-17T00:00:00\",\"2002-06-18T00:00:00\",\"2002-06-19T00:00:00\",\"2002-06-20T00:00:00\",\"2002-06-21T00:00:00\",\"2002-06-22T00:00:00\",\"2002-06-23T00:00:00\",\"2002-06-24T00:00:00\",\"2002-06-25T00:00:00\",\"2002-06-26T00:00:00\",\"2002-06-27T00:00:00\",\"2002-06-28T00:00:00\",\"2002-06-29T00:00:00\",\"2002-06-30T00:00:00\",\"2002-07-01T00:00:00\",\"2002-07-02T00:00:00\",\"2002-07-03T00:00:00\",\"2002-07-04T00:00:00\",\"2002-07-05T00:00:00\",\"2002-07-06T00:00:00\",\"2002-07-07T00:00:00\",\"2002-07-08T00:00:00\",\"2002-07-09T00:00:00\",\"2002-07-10T00:00:00\",\"2002-07-11T00:00:00\",\"2002-07-12T00:00:00\",\"2002-07-13T00:00:00\",\"2002-07-14T00:00:00\",\"2002-07-15T00:00:00\",\"2002-07-16T00:00:00\",\"2002-07-17T00:00:00\",\"2002-07-18T00:00:00\",\"2002-07-19T00:00:00\",\"2002-07-20T00:00:00\",\"2002-07-21T00:00:00\",\"2002-07-22T00:00:00\",\"2002-07-23T00:00:00\",\"2002-07-24T00:00:00\",\"2002-07-25T00:00:00\",\"2002-07-26T00:00:00\",\"2002-07-27T00:00:00\",\"2002-07-28T00:00:00\",\"2002-07-29T00:00:00\",\"2002-07-30T00:00:00\",\"2002-07-31T00:00:00\",\"2002-08-01T00:00:00\",\"2002-08-02T00:00:00\",\"2002-08-03T00:00:00\",\"2002-08-04T00:00:00\",\"2002-08-05T00:00:00\",\"2002-08-06T00:00:00\",\"2002-08-07T00:00:00\",\"2002-08-08T00:00:00\",\"2002-08-09T00:00:00\",\"2002-08-10T00:00:00\",\"2002-08-11T00:00:00\",\"2002-08-12T00:00:00\",\"2002-08-13T00:00:00\",\"2002-08-14T00:00:00\",\"2002-08-15T00:00:00\",\"2002-08-16T00:00:00\",\"2002-08-17T00:00:00\",\"2002-08-18T00:00:00\",\"2002-08-19T00:00:00\",\"2002-08-20T00:00:00\",\"2002-08-21T00:00:00\",\"2002-08-22T00:00:00\",\"2002-08-23T00:00:00\",\"2002-08-24T00:00:00\",\"2002-08-25T00:00:00\",\"2002-08-26T00:00:00\",\"2002-08-27T00:00:00\",\"2002-08-28T00:00:00\",\"2002-08-29T00:00:00\",\"2002-08-30T00:00:00\",\"2002-08-31T00:00:00\",\"2002-09-01T00:00:00\",\"2002-09-02T00:00:00\",\"2002-09-03T00:00:00\",\"2002-09-04T00:00:00\",\"2002-09-05T00:00:00\",\"2002-09-06T00:00:00\",\"2002-09-07T00:00:00\",\"2002-09-08T00:00:00\",\"2002-09-09T00:00:00\",\"2002-09-10T00:00:00\",\"2002-09-11T00:00:00\",\"2002-09-12T00:00:00\",\"2002-09-13T00:00:00\",\"2002-09-14T00:00:00\",\"2002-09-15T00:00:00\",\"2002-09-16T00:00:00\",\"2002-09-17T00:00:00\",\"2002-09-18T00:00:00\",\"2002-09-19T00:00:00\",\"2002-09-20T00:00:00\",\"2002-09-21T00:00:00\",\"2002-09-22T00:00:00\",\"2002-09-23T00:00:00\",\"2002-09-24T00:00:00\",\"2002-09-25T00:00:00\",\"2002-09-26T00:00:00\"],\"xaxis\":\"x\",\"y\":[0.23043122537022326,0.8354453404023853,0.8354453404023853,0.8354453404023853,0.8354453404023853,0.8354453404023853,0.8354453404023853,1.6179367826304907,1.6179367826304907,1.6179367826304907,1.6455428044572198,1.6455428044572198,1.6455428044572198,1.6455428044572198,1.6455428044572198,1.6455428044572198,1.6455428044572198,1.6455428044572198,1.6455428044572198,1.6455428044572198,1.6455428044572198,1.6455428044572198,1.6455428044572198,1.6455428044572198,1.6455428044572198,1.6455428044572198,1.7144323071622563,1.7144323071622563,1.7144323071622563,1.7144323071622563,1.7144323071622563,1.7144323071622563,1.7144323071622563,1.7144323071622563,1.7144323071622563,1.7144323071622563,1.7144323071622563,1.7144323071622563,1.7144323071622563,1.7144323071622563,1.7144323071622563,1.7144323071622563,1.7144323071622563,1.7144323071622563,1.7144323071622563,1.7144323071622563,1.7144323071622563,1.7144323071622563,1.7144323071622563,1.7144323071622563,1.7144323071622563,1.7144323071622563,1.7144323071622563,1.7144323071622563,1.7144323071622563,1.7144323071622563,1.7144323071622563,1.7144323071622563,1.7144323071622563,1.7144323071622563,1.7144323071622563,1.7144323071622563,1.7144323071622563,1.7144323071622563,1.7144323071622563,1.821881971020723,1.821881971020723,1.821881971020723,1.821881971020723,1.821881971020723,1.821881971020723,1.821881971020723,1.821881971020723,1.821881971020723,1.821881971020723,1.821881971020723,1.821881971020723,1.821881971020723,1.821881971020723,1.821881971020723,1.821881971020723,1.821881971020723,1.821881971020723,1.821881971020723,1.821881971020723,1.821881971020723,2.0683958901953368,2.1509792141125406,2.1509792141125406,2.1509792141125406,2.1509792141125406,2.1509792141125406,2.1509792141125406,2.1509792141125406,2.1509792141125406,2.1509792141125406,2.1509792141125406,2.1509792141125406,2.1509792141125406,2.1509792141125406,2.1509792141125406,2.1509792141125406,2.1509792141125406,2.1509792141125406,2.1509792141125406,2.1509792141125406,2.1509792141125406,2.1509792141125406,2.1509792141125406,2.1509792141125406,2.1509792141125406,2.1509792141125406,2.1509792141125406,2.1509792141125406,2.1509792141125406,2.1509792141125406,2.1509792141125406,2.1509792141125406,2.1509792141125406,2.1509792141125406,2.1509792141125406,2.1509792141125406,2.1509792141125406,2.1509792141125406,2.1509792141125406,2.1509792141125406,2.1509792141125406,2.1509792141125406,2.1509792141125406,2.1509792141125406,2.1509792141125406,2.1509792141125406,2.1509792141125406,2.1509792141125406,2.1509792141125406,2.1509792141125406,2.1509792141125406,2.1509792141125406,2.1509792141125406,2.1509792141125406,2.1509792141125406,2.1509792141125406,2.1509792141125406,2.1509792141125406,2.1509792141125406,2.1509792141125406,2.1509792141125406,2.1509792141125406,2.207513007544641,2.207513007544641,2.207513007544641,2.207513007544641,2.207513007544641,2.207513007544641,2.207513007544641,2.207513007544641,2.207513007544641,2.207513007544641,2.207513007544641,2.207513007544641,2.207513007544641,2.207513007544641,2.207513007544641,2.207513007544641,2.207513007544641,2.207513007544641,2.207513007544641,2.207513007544641,2.207513007544641,2.207513007544641,2.207513007544641,2.207513007544641,2.207513007544641,2.207513007544641,2.207513007544641,2.207513007544641,2.207513007544641,2.207513007544641,2.207513007544641,2.207513007544641,2.207513007544641,2.207513007544641,2.207513007544641,2.207513007544641,2.207513007544641,2.207513007544641,2.207513007544641,2.207513007544641,2.207513007544641,2.207513007544641,2.207513007544641,2.207513007544641,2.207513007544641,2.207513007544641,2.207513007544641,2.207513007544641,2.207513007544641,2.207513007544641,2.207513007544641,2.207513007544641,2.207513007544641,2.207513007544641,2.207513007544641,2.207513007544641,2.207513007544641,2.207513007544641,2.207513007544641,2.207513007544641,2.207513007544641,2.207513007544641,2.207513007544641,2.207513007544641,2.207513007544641,2.207513007544641,2.207513007544641,2.207513007544641,2.207513007544641,2.207513007544641,2.207513007544641,2.207513007544641,2.207513007544641,2.207513007544641,2.207513007544641,2.207513007544641,2.207513007544641,2.207513007544641,2.207513007544641,2.207513007544641,2.207513007544641,2.207513007544641,2.207513007544641,2.207513007544641,2.207513007544641,2.207513007544641,2.207513007544641,2.207513007544641,2.207513007544641,2.207513007544641,2.207513007544641,2.207513007544641,2.207513007544641,2.207513007544641,2.207513007544641,2.207513007544641,2.207513007544641,2.207513007544641,2.207513007544641,2.207513007544641,2.207513007544641,2.207513007544641,2.207513007544641,2.207513007544641,2.207513007544641,2.207513007544641,2.207513007544641,2.207513007544641,2.207513007544641,2.207513007544641,2.207513007544641,2.506630662222371,2.506630662222371,2.506630662222371,2.506630662222371,2.506630662222371,2.506630662222371,2.506630662222371,2.506630662222371,2.506630662222371,2.506630662222371,2.506630662222371,2.506630662222371,2.506630662222371,2.506630662222371,2.506630662222371,2.506630662222371,2.506630662222371,2.506630662222371,2.506630662222371,2.506630662222371,2.506630662222371,2.506630662222371,2.506630662222371,2.506630662222371,2.506630662222371,2.506630662222371,2.506630662222371,2.506630662222371,2.506630662222371,2.506630662222371,2.506630662222371,2.506630662222371,2.506630662222371,2.506630662222371,2.506630662222371,2.506630662222371,2.506630662222371,2.506630662222371,2.506630662222371,2.506630662222371,2.506630662222371,2.506630662222371,2.506630662222371,2.506630662222371,2.506630662222371,2.506630662222371,2.506630662222371,2.506630662222371,2.506630662222371,2.506630662222371,2.506630662222371,2.506630662222371,2.506630662222371,2.506630662222371,2.506630662222371,2.506630662222371,2.506630662222371,2.506630662222371,2.506630662222371,2.506630662222371,2.506630662222371,2.506630662222371,2.506630662222371,2.506630662222371,2.506630662222371,2.506630662222371,2.506630662222371,2.506630662222371,2.506630662222371,2.506630662222371,2.506630662222371,2.506630662222371,2.506630662222371,2.506630662222371,2.506630662222371,2.506630662222371,2.506630662222371,2.506630662222371,2.506630662222371,2.506630662222371,2.506630662222371,2.506630662222371,2.506630662222371,2.506630662222371,2.506630662222371,2.506630662222371,2.506630662222371,2.506630662222371,2.506630662222371,2.506630662222371,2.506630662222371,2.506630662222371,2.506630662222371,2.506630662222371,2.506630662222371,2.506630662222371,2.506630662222371,2.506630662222371,2.506630662222371,2.506630662222371,2.506630662222371,2.506630662222371,2.506630662222371,2.506630662222371,2.506630662222371,2.506630662222371,2.506630662222371,2.506630662222371,2.506630662222371,2.506630662222371,2.506630662222371,2.506630662222371,2.506630662222371,2.506630662222371,2.506630662222371,2.506630662222371,2.506630662222371,2.506630662222371,2.506630662222371,2.506630662222371,2.506630662222371,2.506630662222371,2.506630662222371,2.506630662222371,2.506630662222371,2.506630662222371,2.506630662222371,2.506630662222371,2.506630662222371,2.506630662222371,2.506630662222371,2.506630662222371,2.506630662222371,2.506630662222371,2.506630662222371,2.506630662222371,2.506630662222371,2.506630662222371,2.506630662222371,2.506630662222371,2.506630662222371,2.6979980138353965,2.6979980138353965,2.6979980138353965,2.6979980138353965,2.6979980138353965,2.6979980138353965,2.6979980138353965,2.6979980138353965,2.6979980138353965,2.6979980138353965,2.6979980138353965,2.6979980138353965,2.6979980138353965,2.6979980138353965,2.6979980138353965,2.6979980138353965,2.6979980138353965,2.6979980138353965,2.6979980138353965,2.6979980138353965,2.6979980138353965,2.6979980138353965,2.6979980138353965,2.6979980138353965,2.6979980138353965,2.6979980138353965,2.6979980138353965,2.6979980138353965,2.6979980138353965,2.6979980138353965,2.6979980138353965,2.6979980138353965,2.6979980138353965,2.6979980138353965,2.6979980138353965,2.6979980138353965,2.6979980138353965,2.6979980138353965,2.6979980138353965,2.6979980138353965,2.6979980138353965,2.6979980138353965,2.6979980138353965,2.6979980138353965,2.6979980138353965,2.6979980138353965,2.6979980138353965,2.6979980138353965,2.6979980138353965,2.6979980138353965,2.6979980138353965,2.6979980138353965,2.6979980138353965,2.6979980138353965,2.6979980138353965,2.6979980138353965,2.6979980138353965,2.6979980138353965,2.6979980138353965,2.6979980138353965,2.6979980138353965,2.6979980138353965,2.6979980138353965,2.6979980138353965,2.6979980138353965,3.1701759785608,3.1701759785608,3.1701759785608,3.1701759785608,3.1701759785608,3.1701759785608,3.1701759785608,3.1701759785608,3.1701759785608,3.1701759785608,3.1701759785608,3.1701759785608,3.1701759785608,3.1701759785608,3.1701759785608,3.1701759785608,3.1701759785608,3.1701759785608,3.1701759785608,3.1701759785608,3.1701759785608,3.1701759785608,3.1701759785608,3.1701759785608,3.1701759785608,3.1701759785608,3.1701759785608,3.1701759785608,3.1701759785608,3.1701759785608,3.1701759785608,3.1701759785608,3.1701759785608,3.1701759785608,3.1701759785608,3.1701759785608,3.1701759785608,3.1701759785608,3.1701759785608,3.1701759785608,3.1701759785608,3.1701759785608,3.1701759785608,3.1701759785608,3.1701759785608,3.1701759785608,3.1701759785608,3.1701759785608,3.1701759785608,3.1701759785608,3.1701759785608,3.1701759785608,3.1701759785608,3.1701759785608,3.1701759785608,3.1701759785608,3.1701759785608,3.1701759785608,3.1701759785608,3.1701759785608,3.1701759785608,3.1701759785608,3.1701759785608,3.1701759785608,3.1701759785608,3.1701759785608,3.1701759785608,3.1701759785608,3.1701759785608,3.1701759785608,3.1701759785608,3.1701759785608,3.1701759785608,3.1701759785608,3.1701759785608,3.1701759785608,3.1701759785608,3.1701759785608,3.1701759785608,3.1701759785608,3.1701759785608,3.1701759785608,3.1701759785608,3.1701759785608,3.1701759785608,3.1701759785608,3.1701759785608,3.176323996251709,3.176323996251709,3.176323996251709,3.176323996251709,3.176323996251709,3.176323996251709,3.176323996251709,3.176323996251709,3.176323996251709,3.176323996251709,3.176323996251709,3.176323996251709,3.176323996251709,3.176323996251709,3.176323996251709,3.176323996251709,3.176323996251709,3.176323996251709,3.176323996251709,3.176323996251709,3.176323996251709,3.176323996251709,3.176323996251709,3.176323996251709,3.176323996251709,3.176323996251709,3.176323996251709,3.176323996251709,3.176323996251709,3.176323996251709,3.176323996251709,3.176323996251709,3.176323996251709,3.176323996251709,3.176323996251709,3.176323996251709,3.176323996251709,3.176323996251709,3.176323996251709,3.176323996251709,3.176323996251709,3.176323996251709,3.176323996251709,3.176323996251709,3.176323996251709,3.176323996251709,3.176323996251709,3.176323996251709,3.176323996251709,3.176323996251709,3.176323996251709,3.176323996251709,3.176323996251709,3.176323996251709,3.176323996251709,3.176323996251709,3.176323996251709,3.176323996251709,3.176323996251709,3.176323996251709,3.176323996251709,3.176323996251709,3.176323996251709,3.176323996251709,3.176323996251709,3.176323996251709,3.176323996251709,3.176323996251709,3.176323996251709,3.176323996251709,3.176323996251709,3.176323996251709,3.176323996251709,3.176323996251709,3.176323996251709,3.176323996251709,3.176323996251709,3.176323996251709,3.176323996251709,3.176323996251709,3.176323996251709,3.176323996251709,3.176323996251709,3.176323996251709,3.176323996251709,3.176323996251709,3.176323996251709,3.176323996251709,3.176323996251709,3.176323996251709,3.176323996251709,3.176323996251709,3.176323996251709,3.176323996251709,3.176323996251709,3.176323996251709,3.176323996251709,3.176323996251709,3.176323996251709,3.176323996251709,3.176323996251709,3.176323996251709,3.176323996251709,3.176323996251709,3.176323996251709,3.176323996251709,3.176323996251709,3.176323996251709,3.176323996251709,3.176323996251709,3.176323996251709,3.176323996251709,3.176323996251709,3.176323996251709,3.176323996251709,3.176323996251709,3.176323996251709,3.176323996251709,3.176323996251709,3.176323996251709,3.176323996251709,3.176323996251709,3.176323996251709,3.176323996251709,3.176323996251709,3.176323996251709,3.176323996251709,3.176323996251709,3.176323996251709,3.176323996251709,3.176323996251709,3.176323996251709,3.176323996251709,3.176323996251709,3.176323996251709,3.176323996251709,3.176323996251709,3.176323996251709,3.176323996251709,3.176323996251709,3.176323996251709,3.176323996251709,3.176323996251709,3.176323996251709,3.176323996251709,3.176323996251709,3.176323996251709,3.176323996251709,3.176323996251709,3.176323996251709,3.176323996251709,3.176323996251709,3.176323996251709,3.176323996251709,3.176323996251709,3.176323996251709,3.176323996251709,3.176323996251709,3.176323996251709,3.176323996251709,3.176323996251709,3.176323996251709,3.176323996251709,3.176323996251709,3.176323996251709,3.176323996251709,3.176323996251709,3.176323996251709,3.176323996251709,3.176323996251709,3.176323996251709,3.176323996251709,3.176323996251709,3.176323996251709,3.176323996251709,3.176323996251709,3.176323996251709,3.176323996251709,3.176323996251709,3.176323996251709,3.176323996251709,3.176323996251709,3.176323996251709,3.176323996251709,3.176323996251709,3.176323996251709,3.176323996251709,3.176323996251709,3.176323996251709,3.176323996251709,3.176323996251709,3.176323996251709,3.176323996251709,3.176323996251709,3.176323996251709,3.176323996251709,3.176323996251709,3.176323996251709,3.176323996251709,3.176323996251709,3.176323996251709,3.176323996251709,3.176323996251709,3.176323996251709,3.176323996251709,3.176323996251709,3.176323996251709,3.176323996251709,3.176323996251709,3.176323996251709,3.176323996251709,3.176323996251709,3.176323996251709,3.176323996251709,3.176323996251709,3.176323996251709,3.176323996251709,3.176323996251709,3.176323996251709,3.176323996251709,3.176323996251709,3.176323996251709,3.176323996251709,3.176323996251709,3.176323996251709,3.176323996251709,3.176323996251709,3.176323996251709,3.176323996251709,3.176323996251709,3.176323996251709,3.176323996251709,3.176323996251709,3.176323996251709,3.176323996251709,3.176323996251709,3.176323996251709,3.176323996251709,3.176323996251709,3.176323996251709,3.176323996251709,3.176323996251709,3.176323996251709,3.176323996251709,3.176323996251709,3.176323996251709,3.176323996251709,3.176323996251709,3.176323996251709,3.176323996251709,3.176323996251709,3.176323996251709,3.176323996251709,3.176323996251709,3.176323996251709,3.176323996251709,3.176323996251709,3.176323996251709,3.176323996251709,3.176323996251709,3.176323996251709,3.176323996251709,3.176323996251709,3.176323996251709,3.176323996251709,3.176323996251709,3.176323996251709,3.176323996251709,3.176323996251709,3.176323996251709,3.176323996251709,3.176323996251709,3.176323996251709,3.176323996251709,3.176323996251709,3.176323996251709,3.176323996251709,3.176323996251709,3.176323996251709,3.176323996251709,3.176323996251709,3.176323996251709,3.176323996251709,3.176323996251709,3.176323996251709,3.176323996251709,3.176323996251709,3.176323996251709,3.176323996251709,3.176323996251709,3.176323996251709,3.176323996251709,3.176323996251709,3.176323996251709,3.176323996251709,3.176323996251709,3.176323996251709,3.176323996251709,3.176323996251709,3.176323996251709,3.176323996251709,3.176323996251709,3.176323996251709,3.176323996251709,3.176323996251709,3.176323996251709,3.176323996251709,3.176323996251709,3.176323996251709,3.176323996251709,3.176323996251709,3.176323996251709,3.176323996251709,3.176323996251709,3.176323996251709,3.176323996251709,3.176323996251709,3.176323996251709,3.176323996251709,3.176323996251709,3.176323996251709,3.176323996251709,3.176323996251709,3.176323996251709,3.176323996251709,3.176323996251709,3.176323996251709,3.176323996251709,3.176323996251709,3.176323996251709,3.176323996251709,3.176323996251709,3.176323996251709,3.176323996251709,3.176323996251709,3.176323996251709,3.176323996251709,3.176323996251709,3.176323996251709,3.176323996251709,3.176323996251709,3.176323996251709,3.176323996251709,3.176323996251709,3.176323996251709,3.176323996251709,3.176323996251709,3.176323996251709,3.176323996251709,3.176323996251709,3.176323996251709,3.176323996251709,3.176323996251709,3.176323996251709,3.176323996251709,3.176323996251709,3.176323996251709,3.176323996251709,3.176323996251709,3.176323996251709,3.176323996251709,3.176323996251709,3.176323996251709,3.176323996251709,3.176323996251709,3.176323996251709,3.176323996251709,3.176323996251709,3.176323996251709,3.176323996251709,3.176323996251709,3.176323996251709,3.176323996251709,3.176323996251709,3.176323996251709,3.176323996251709,3.176323996251709,3.176323996251709,3.176323996251709,3.176323996251709,3.176323996251709,3.176323996251709,3.176323996251709,3.176323996251709,3.176323996251709,3.176323996251709,3.176323996251709,3.176323996251709,3.176323996251709,3.176323996251709,3.176323996251709,3.176323996251709,3.176323996251709,3.176323996251709,3.176323996251709,3.176323996251709,3.176323996251709,3.176323996251709,3.176323996251709,3.176323996251709,3.176323996251709,3.176323996251709,3.176323996251709,3.176323996251709,3.176323996251709,3.176323996251709,3.176323996251709,3.176323996251709,3.176323996251709,3.176323996251709,3.176323996251709,3.176323996251709,3.176323996251709,3.176323996251709,3.176323996251709,3.176323996251709,3.176323996251709,3.176323996251709,3.176323996251709,3.176323996251709,3.176323996251709,3.176323996251709,3.176323996251709,3.176323996251709,3.176323996251709,3.176323996251709,3.176323996251709,3.176323996251709,3.176323996251709,3.176323996251709,3.176323996251709,3.176323996251709,3.176323996251709,3.176323996251709,3.176323996251709,3.176323996251709,3.176323996251709,3.176323996251709,3.176323996251709,3.176323996251709,3.176323996251709,3.176323996251709,3.176323996251709,3.176323996251709,3.176323996251709,3.176323996251709,3.176323996251709,3.176323996251709],\"yaxis\":\"y\",\"type\":\"scattergl\"},{\"hovertemplate\":\"variable=D<br>index=%{x}<br>value=%{y}<extra></extra>\",\"legendgroup\":\"D\",\"line\":{\"color\":\"#ab63fa\",\"dash\":\"solid\"},\"marker\":{\"symbol\":\"circle\"},\"mode\":\"lines\",\"name\":\"D\",\"showlegend\":true,\"x\":[\"2000-01-01T00:00:00\",\"2000-01-02T00:00:00\",\"2000-01-03T00:00:00\",\"2000-01-04T00:00:00\",\"2000-01-05T00:00:00\",\"2000-01-06T00:00:00\",\"2000-01-07T00:00:00\",\"2000-01-08T00:00:00\",\"2000-01-09T00:00:00\",\"2000-01-10T00:00:00\",\"2000-01-11T00:00:00\",\"2000-01-12T00:00:00\",\"2000-01-13T00:00:00\",\"2000-01-14T00:00:00\",\"2000-01-15T00:00:00\",\"2000-01-16T00:00:00\",\"2000-01-17T00:00:00\",\"2000-01-18T00:00:00\",\"2000-01-19T00:00:00\",\"2000-01-20T00:00:00\",\"2000-01-21T00:00:00\",\"2000-01-22T00:00:00\",\"2000-01-23T00:00:00\",\"2000-01-24T00:00:00\",\"2000-01-25T00:00:00\",\"2000-01-26T00:00:00\",\"2000-01-27T00:00:00\",\"2000-01-28T00:00:00\",\"2000-01-29T00:00:00\",\"2000-01-30T00:00:00\",\"2000-01-31T00:00:00\",\"2000-02-01T00:00:00\",\"2000-02-02T00:00:00\",\"2000-02-03T00:00:00\",\"2000-02-04T00:00:00\",\"2000-02-05T00:00:00\",\"2000-02-06T00:00:00\",\"2000-02-07T00:00:00\",\"2000-02-08T00:00:00\",\"2000-02-09T00:00:00\",\"2000-02-10T00:00:00\",\"2000-02-11T00:00:00\",\"2000-02-12T00:00:00\",\"2000-02-13T00:00:00\",\"2000-02-14T00:00:00\",\"2000-02-15T00:00:00\",\"2000-02-16T00:00:00\",\"2000-02-17T00:00:00\",\"2000-02-18T00:00:00\",\"2000-02-19T00:00:00\",\"2000-02-20T00:00:00\",\"2000-02-21T00:00:00\",\"2000-02-22T00:00:00\",\"2000-02-23T00:00:00\",\"2000-02-24T00:00:00\",\"2000-02-25T00:00:00\",\"2000-02-26T00:00:00\",\"2000-02-27T00:00:00\",\"2000-02-28T00:00:00\",\"2000-02-29T00:00:00\",\"2000-03-01T00:00:00\",\"2000-03-02T00:00:00\",\"2000-03-03T00:00:00\",\"2000-03-04T00:00:00\",\"2000-03-05T00:00:00\",\"2000-03-06T00:00:00\",\"2000-03-07T00:00:00\",\"2000-03-08T00:00:00\",\"2000-03-09T00:00:00\",\"2000-03-10T00:00:00\",\"2000-03-11T00:00:00\",\"2000-03-12T00:00:00\",\"2000-03-13T00:00:00\",\"2000-03-14T00:00:00\",\"2000-03-15T00:00:00\",\"2000-03-16T00:00:00\",\"2000-03-17T00:00:00\",\"2000-03-18T00:00:00\",\"2000-03-19T00:00:00\",\"2000-03-20T00:00:00\",\"2000-03-21T00:00:00\",\"2000-03-22T00:00:00\",\"2000-03-23T00:00:00\",\"2000-03-24T00:00:00\",\"2000-03-25T00:00:00\",\"2000-03-26T00:00:00\",\"2000-03-27T00:00:00\",\"2000-03-28T00:00:00\",\"2000-03-29T00:00:00\",\"2000-03-30T00:00:00\",\"2000-03-31T00:00:00\",\"2000-04-01T00:00:00\",\"2000-04-02T00:00:00\",\"2000-04-03T00:00:00\",\"2000-04-04T00:00:00\",\"2000-04-05T00:00:00\",\"2000-04-06T00:00:00\",\"2000-04-07T00:00:00\",\"2000-04-08T00:00:00\",\"2000-04-09T00:00:00\",\"2000-04-10T00:00:00\",\"2000-04-11T00:00:00\",\"2000-04-12T00:00:00\",\"2000-04-13T00:00:00\",\"2000-04-14T00:00:00\",\"2000-04-15T00:00:00\",\"2000-04-16T00:00:00\",\"2000-04-17T00:00:00\",\"2000-04-18T00:00:00\",\"2000-04-19T00:00:00\",\"2000-04-20T00:00:00\",\"2000-04-21T00:00:00\",\"2000-04-22T00:00:00\",\"2000-04-23T00:00:00\",\"2000-04-24T00:00:00\",\"2000-04-25T00:00:00\",\"2000-04-26T00:00:00\",\"2000-04-27T00:00:00\",\"2000-04-28T00:00:00\",\"2000-04-29T00:00:00\",\"2000-04-30T00:00:00\",\"2000-05-01T00:00:00\",\"2000-05-02T00:00:00\",\"2000-05-03T00:00:00\",\"2000-05-04T00:00:00\",\"2000-05-05T00:00:00\",\"2000-05-06T00:00:00\",\"2000-05-07T00:00:00\",\"2000-05-08T00:00:00\",\"2000-05-09T00:00:00\",\"2000-05-10T00:00:00\",\"2000-05-11T00:00:00\",\"2000-05-12T00:00:00\",\"2000-05-13T00:00:00\",\"2000-05-14T00:00:00\",\"2000-05-15T00:00:00\",\"2000-05-16T00:00:00\",\"2000-05-17T00:00:00\",\"2000-05-18T00:00:00\",\"2000-05-19T00:00:00\",\"2000-05-20T00:00:00\",\"2000-05-21T00:00:00\",\"2000-05-22T00:00:00\",\"2000-05-23T00:00:00\",\"2000-05-24T00:00:00\",\"2000-05-25T00:00:00\",\"2000-05-26T00:00:00\",\"2000-05-27T00:00:00\",\"2000-05-28T00:00:00\",\"2000-05-29T00:00:00\",\"2000-05-30T00:00:00\",\"2000-05-31T00:00:00\",\"2000-06-01T00:00:00\",\"2000-06-02T00:00:00\",\"2000-06-03T00:00:00\",\"2000-06-04T00:00:00\",\"2000-06-05T00:00:00\",\"2000-06-06T00:00:00\",\"2000-06-07T00:00:00\",\"2000-06-08T00:00:00\",\"2000-06-09T00:00:00\",\"2000-06-10T00:00:00\",\"2000-06-11T00:00:00\",\"2000-06-12T00:00:00\",\"2000-06-13T00:00:00\",\"2000-06-14T00:00:00\",\"2000-06-15T00:00:00\",\"2000-06-16T00:00:00\",\"2000-06-17T00:00:00\",\"2000-06-18T00:00:00\",\"2000-06-19T00:00:00\",\"2000-06-20T00:00:00\",\"2000-06-21T00:00:00\",\"2000-06-22T00:00:00\",\"2000-06-23T00:00:00\",\"2000-06-24T00:00:00\",\"2000-06-25T00:00:00\",\"2000-06-26T00:00:00\",\"2000-06-27T00:00:00\",\"2000-06-28T00:00:00\",\"2000-06-29T00:00:00\",\"2000-06-30T00:00:00\",\"2000-07-01T00:00:00\",\"2000-07-02T00:00:00\",\"2000-07-03T00:00:00\",\"2000-07-04T00:00:00\",\"2000-07-05T00:00:00\",\"2000-07-06T00:00:00\",\"2000-07-07T00:00:00\",\"2000-07-08T00:00:00\",\"2000-07-09T00:00:00\",\"2000-07-10T00:00:00\",\"2000-07-11T00:00:00\",\"2000-07-12T00:00:00\",\"2000-07-13T00:00:00\",\"2000-07-14T00:00:00\",\"2000-07-15T00:00:00\",\"2000-07-16T00:00:00\",\"2000-07-17T00:00:00\",\"2000-07-18T00:00:00\",\"2000-07-19T00:00:00\",\"2000-07-20T00:00:00\",\"2000-07-21T00:00:00\",\"2000-07-22T00:00:00\",\"2000-07-23T00:00:00\",\"2000-07-24T00:00:00\",\"2000-07-25T00:00:00\",\"2000-07-26T00:00:00\",\"2000-07-27T00:00:00\",\"2000-07-28T00:00:00\",\"2000-07-29T00:00:00\",\"2000-07-30T00:00:00\",\"2000-07-31T00:00:00\",\"2000-08-01T00:00:00\",\"2000-08-02T00:00:00\",\"2000-08-03T00:00:00\",\"2000-08-04T00:00:00\",\"2000-08-05T00:00:00\",\"2000-08-06T00:00:00\",\"2000-08-07T00:00:00\",\"2000-08-08T00:00:00\",\"2000-08-09T00:00:00\",\"2000-08-10T00:00:00\",\"2000-08-11T00:00:00\",\"2000-08-12T00:00:00\",\"2000-08-13T00:00:00\",\"2000-08-14T00:00:00\",\"2000-08-15T00:00:00\",\"2000-08-16T00:00:00\",\"2000-08-17T00:00:00\",\"2000-08-18T00:00:00\",\"2000-08-19T00:00:00\",\"2000-08-20T00:00:00\",\"2000-08-21T00:00:00\",\"2000-08-22T00:00:00\",\"2000-08-23T00:00:00\",\"2000-08-24T00:00:00\",\"2000-08-25T00:00:00\",\"2000-08-26T00:00:00\",\"2000-08-27T00:00:00\",\"2000-08-28T00:00:00\",\"2000-08-29T00:00:00\",\"2000-08-30T00:00:00\",\"2000-08-31T00:00:00\",\"2000-09-01T00:00:00\",\"2000-09-02T00:00:00\",\"2000-09-03T00:00:00\",\"2000-09-04T00:00:00\",\"2000-09-05T00:00:00\",\"2000-09-06T00:00:00\",\"2000-09-07T00:00:00\",\"2000-09-08T00:00:00\",\"2000-09-09T00:00:00\",\"2000-09-10T00:00:00\",\"2000-09-11T00:00:00\",\"2000-09-12T00:00:00\",\"2000-09-13T00:00:00\",\"2000-09-14T00:00:00\",\"2000-09-15T00:00:00\",\"2000-09-16T00:00:00\",\"2000-09-17T00:00:00\",\"2000-09-18T00:00:00\",\"2000-09-19T00:00:00\",\"2000-09-20T00:00:00\",\"2000-09-21T00:00:00\",\"2000-09-22T00:00:00\",\"2000-09-23T00:00:00\",\"2000-09-24T00:00:00\",\"2000-09-25T00:00:00\",\"2000-09-26T00:00:00\",\"2000-09-27T00:00:00\",\"2000-09-28T00:00:00\",\"2000-09-29T00:00:00\",\"2000-09-30T00:00:00\",\"2000-10-01T00:00:00\",\"2000-10-02T00:00:00\",\"2000-10-03T00:00:00\",\"2000-10-04T00:00:00\",\"2000-10-05T00:00:00\",\"2000-10-06T00:00:00\",\"2000-10-07T00:00:00\",\"2000-10-08T00:00:00\",\"2000-10-09T00:00:00\",\"2000-10-10T00:00:00\",\"2000-10-11T00:00:00\",\"2000-10-12T00:00:00\",\"2000-10-13T00:00:00\",\"2000-10-14T00:00:00\",\"2000-10-15T00:00:00\",\"2000-10-16T00:00:00\",\"2000-10-17T00:00:00\",\"2000-10-18T00:00:00\",\"2000-10-19T00:00:00\",\"2000-10-20T00:00:00\",\"2000-10-21T00:00:00\",\"2000-10-22T00:00:00\",\"2000-10-23T00:00:00\",\"2000-10-24T00:00:00\",\"2000-10-25T00:00:00\",\"2000-10-26T00:00:00\",\"2000-10-27T00:00:00\",\"2000-10-28T00:00:00\",\"2000-10-29T00:00:00\",\"2000-10-30T00:00:00\",\"2000-10-31T00:00:00\",\"2000-11-01T00:00:00\",\"2000-11-02T00:00:00\",\"2000-11-03T00:00:00\",\"2000-11-04T00:00:00\",\"2000-11-05T00:00:00\",\"2000-11-06T00:00:00\",\"2000-11-07T00:00:00\",\"2000-11-08T00:00:00\",\"2000-11-09T00:00:00\",\"2000-11-10T00:00:00\",\"2000-11-11T00:00:00\",\"2000-11-12T00:00:00\",\"2000-11-13T00:00:00\",\"2000-11-14T00:00:00\",\"2000-11-15T00:00:00\",\"2000-11-16T00:00:00\",\"2000-11-17T00:00:00\",\"2000-11-18T00:00:00\",\"2000-11-19T00:00:00\",\"2000-11-20T00:00:00\",\"2000-11-21T00:00:00\",\"2000-11-22T00:00:00\",\"2000-11-23T00:00:00\",\"2000-11-24T00:00:00\",\"2000-11-25T00:00:00\",\"2000-11-26T00:00:00\",\"2000-11-27T00:00:00\",\"2000-11-28T00:00:00\",\"2000-11-29T00:00:00\",\"2000-11-30T00:00:00\",\"2000-12-01T00:00:00\",\"2000-12-02T00:00:00\",\"2000-12-03T00:00:00\",\"2000-12-04T00:00:00\",\"2000-12-05T00:00:00\",\"2000-12-06T00:00:00\",\"2000-12-07T00:00:00\",\"2000-12-08T00:00:00\",\"2000-12-09T00:00:00\",\"2000-12-10T00:00:00\",\"2000-12-11T00:00:00\",\"2000-12-12T00:00:00\",\"2000-12-13T00:00:00\",\"2000-12-14T00:00:00\",\"2000-12-15T00:00:00\",\"2000-12-16T00:00:00\",\"2000-12-17T00:00:00\",\"2000-12-18T00:00:00\",\"2000-12-19T00:00:00\",\"2000-12-20T00:00:00\",\"2000-12-21T00:00:00\",\"2000-12-22T00:00:00\",\"2000-12-23T00:00:00\",\"2000-12-24T00:00:00\",\"2000-12-25T00:00:00\",\"2000-12-26T00:00:00\",\"2000-12-27T00:00:00\",\"2000-12-28T00:00:00\",\"2000-12-29T00:00:00\",\"2000-12-30T00:00:00\",\"2000-12-31T00:00:00\",\"2001-01-01T00:00:00\",\"2001-01-02T00:00:00\",\"2001-01-03T00:00:00\",\"2001-01-04T00:00:00\",\"2001-01-05T00:00:00\",\"2001-01-06T00:00:00\",\"2001-01-07T00:00:00\",\"2001-01-08T00:00:00\",\"2001-01-09T00:00:00\",\"2001-01-10T00:00:00\",\"2001-01-11T00:00:00\",\"2001-01-12T00:00:00\",\"2001-01-13T00:00:00\",\"2001-01-14T00:00:00\",\"2001-01-15T00:00:00\",\"2001-01-16T00:00:00\",\"2001-01-17T00:00:00\",\"2001-01-18T00:00:00\",\"2001-01-19T00:00:00\",\"2001-01-20T00:00:00\",\"2001-01-21T00:00:00\",\"2001-01-22T00:00:00\",\"2001-01-23T00:00:00\",\"2001-01-24T00:00:00\",\"2001-01-25T00:00:00\",\"2001-01-26T00:00:00\",\"2001-01-27T00:00:00\",\"2001-01-28T00:00:00\",\"2001-01-29T00:00:00\",\"2001-01-30T00:00:00\",\"2001-01-31T00:00:00\",\"2001-02-01T00:00:00\",\"2001-02-02T00:00:00\",\"2001-02-03T00:00:00\",\"2001-02-04T00:00:00\",\"2001-02-05T00:00:00\",\"2001-02-06T00:00:00\",\"2001-02-07T00:00:00\",\"2001-02-08T00:00:00\",\"2001-02-09T00:00:00\",\"2001-02-10T00:00:00\",\"2001-02-11T00:00:00\",\"2001-02-12T00:00:00\",\"2001-02-13T00:00:00\",\"2001-02-14T00:00:00\",\"2001-02-15T00:00:00\",\"2001-02-16T00:00:00\",\"2001-02-17T00:00:00\",\"2001-02-18T00:00:00\",\"2001-02-19T00:00:00\",\"2001-02-20T00:00:00\",\"2001-02-21T00:00:00\",\"2001-02-22T00:00:00\",\"2001-02-23T00:00:00\",\"2001-02-24T00:00:00\",\"2001-02-25T00:00:00\",\"2001-02-26T00:00:00\",\"2001-02-27T00:00:00\",\"2001-02-28T00:00:00\",\"2001-03-01T00:00:00\",\"2001-03-02T00:00:00\",\"2001-03-03T00:00:00\",\"2001-03-04T00:00:00\",\"2001-03-05T00:00:00\",\"2001-03-06T00:00:00\",\"2001-03-07T00:00:00\",\"2001-03-08T00:00:00\",\"2001-03-09T00:00:00\",\"2001-03-10T00:00:00\",\"2001-03-11T00:00:00\",\"2001-03-12T00:00:00\",\"2001-03-13T00:00:00\",\"2001-03-14T00:00:00\",\"2001-03-15T00:00:00\",\"2001-03-16T00:00:00\",\"2001-03-17T00:00:00\",\"2001-03-18T00:00:00\",\"2001-03-19T00:00:00\",\"2001-03-20T00:00:00\",\"2001-03-21T00:00:00\",\"2001-03-22T00:00:00\",\"2001-03-23T00:00:00\",\"2001-03-24T00:00:00\",\"2001-03-25T00:00:00\",\"2001-03-26T00:00:00\",\"2001-03-27T00:00:00\",\"2001-03-28T00:00:00\",\"2001-03-29T00:00:00\",\"2001-03-30T00:00:00\",\"2001-03-31T00:00:00\",\"2001-04-01T00:00:00\",\"2001-04-02T00:00:00\",\"2001-04-03T00:00:00\",\"2001-04-04T00:00:00\",\"2001-04-05T00:00:00\",\"2001-04-06T00:00:00\",\"2001-04-07T00:00:00\",\"2001-04-08T00:00:00\",\"2001-04-09T00:00:00\",\"2001-04-10T00:00:00\",\"2001-04-11T00:00:00\",\"2001-04-12T00:00:00\",\"2001-04-13T00:00:00\",\"2001-04-14T00:00:00\",\"2001-04-15T00:00:00\",\"2001-04-16T00:00:00\",\"2001-04-17T00:00:00\",\"2001-04-18T00:00:00\",\"2001-04-19T00:00:00\",\"2001-04-20T00:00:00\",\"2001-04-21T00:00:00\",\"2001-04-22T00:00:00\",\"2001-04-23T00:00:00\",\"2001-04-24T00:00:00\",\"2001-04-25T00:00:00\",\"2001-04-26T00:00:00\",\"2001-04-27T00:00:00\",\"2001-04-28T00:00:00\",\"2001-04-29T00:00:00\",\"2001-04-30T00:00:00\",\"2001-05-01T00:00:00\",\"2001-05-02T00:00:00\",\"2001-05-03T00:00:00\",\"2001-05-04T00:00:00\",\"2001-05-05T00:00:00\",\"2001-05-06T00:00:00\",\"2001-05-07T00:00:00\",\"2001-05-08T00:00:00\",\"2001-05-09T00:00:00\",\"2001-05-10T00:00:00\",\"2001-05-11T00:00:00\",\"2001-05-12T00:00:00\",\"2001-05-13T00:00:00\",\"2001-05-14T00:00:00\",\"2001-05-15T00:00:00\",\"2001-05-16T00:00:00\",\"2001-05-17T00:00:00\",\"2001-05-18T00:00:00\",\"2001-05-19T00:00:00\",\"2001-05-20T00:00:00\",\"2001-05-21T00:00:00\",\"2001-05-22T00:00:00\",\"2001-05-23T00:00:00\",\"2001-05-24T00:00:00\",\"2001-05-25T00:00:00\",\"2001-05-26T00:00:00\",\"2001-05-27T00:00:00\",\"2001-05-28T00:00:00\",\"2001-05-29T00:00:00\",\"2001-05-30T00:00:00\",\"2001-05-31T00:00:00\",\"2001-06-01T00:00:00\",\"2001-06-02T00:00:00\",\"2001-06-03T00:00:00\",\"2001-06-04T00:00:00\",\"2001-06-05T00:00:00\",\"2001-06-06T00:00:00\",\"2001-06-07T00:00:00\",\"2001-06-08T00:00:00\",\"2001-06-09T00:00:00\",\"2001-06-10T00:00:00\",\"2001-06-11T00:00:00\",\"2001-06-12T00:00:00\",\"2001-06-13T00:00:00\",\"2001-06-14T00:00:00\",\"2001-06-15T00:00:00\",\"2001-06-16T00:00:00\",\"2001-06-17T00:00:00\",\"2001-06-18T00:00:00\",\"2001-06-19T00:00:00\",\"2001-06-20T00:00:00\",\"2001-06-21T00:00:00\",\"2001-06-22T00:00:00\",\"2001-06-23T00:00:00\",\"2001-06-24T00:00:00\",\"2001-06-25T00:00:00\",\"2001-06-26T00:00:00\",\"2001-06-27T00:00:00\",\"2001-06-28T00:00:00\",\"2001-06-29T00:00:00\",\"2001-06-30T00:00:00\",\"2001-07-01T00:00:00\",\"2001-07-02T00:00:00\",\"2001-07-03T00:00:00\",\"2001-07-04T00:00:00\",\"2001-07-05T00:00:00\",\"2001-07-06T00:00:00\",\"2001-07-07T00:00:00\",\"2001-07-08T00:00:00\",\"2001-07-09T00:00:00\",\"2001-07-10T00:00:00\",\"2001-07-11T00:00:00\",\"2001-07-12T00:00:00\",\"2001-07-13T00:00:00\",\"2001-07-14T00:00:00\",\"2001-07-15T00:00:00\",\"2001-07-16T00:00:00\",\"2001-07-17T00:00:00\",\"2001-07-18T00:00:00\",\"2001-07-19T00:00:00\",\"2001-07-20T00:00:00\",\"2001-07-21T00:00:00\",\"2001-07-22T00:00:00\",\"2001-07-23T00:00:00\",\"2001-07-24T00:00:00\",\"2001-07-25T00:00:00\",\"2001-07-26T00:00:00\",\"2001-07-27T00:00:00\",\"2001-07-28T00:00:00\",\"2001-07-29T00:00:00\",\"2001-07-30T00:00:00\",\"2001-07-31T00:00:00\",\"2001-08-01T00:00:00\",\"2001-08-02T00:00:00\",\"2001-08-03T00:00:00\",\"2001-08-04T00:00:00\",\"2001-08-05T00:00:00\",\"2001-08-06T00:00:00\",\"2001-08-07T00:00:00\",\"2001-08-08T00:00:00\",\"2001-08-09T00:00:00\",\"2001-08-10T00:00:00\",\"2001-08-11T00:00:00\",\"2001-08-12T00:00:00\",\"2001-08-13T00:00:00\",\"2001-08-14T00:00:00\",\"2001-08-15T00:00:00\",\"2001-08-16T00:00:00\",\"2001-08-17T00:00:00\",\"2001-08-18T00:00:00\",\"2001-08-19T00:00:00\",\"2001-08-20T00:00:00\",\"2001-08-21T00:00:00\",\"2001-08-22T00:00:00\",\"2001-08-23T00:00:00\",\"2001-08-24T00:00:00\",\"2001-08-25T00:00:00\",\"2001-08-26T00:00:00\",\"2001-08-27T00:00:00\",\"2001-08-28T00:00:00\",\"2001-08-29T00:00:00\",\"2001-08-30T00:00:00\",\"2001-08-31T00:00:00\",\"2001-09-01T00:00:00\",\"2001-09-02T00:00:00\",\"2001-09-03T00:00:00\",\"2001-09-04T00:00:00\",\"2001-09-05T00:00:00\",\"2001-09-06T00:00:00\",\"2001-09-07T00:00:00\",\"2001-09-08T00:00:00\",\"2001-09-09T00:00:00\",\"2001-09-10T00:00:00\",\"2001-09-11T00:00:00\",\"2001-09-12T00:00:00\",\"2001-09-13T00:00:00\",\"2001-09-14T00:00:00\",\"2001-09-15T00:00:00\",\"2001-09-16T00:00:00\",\"2001-09-17T00:00:00\",\"2001-09-18T00:00:00\",\"2001-09-19T00:00:00\",\"2001-09-20T00:00:00\",\"2001-09-21T00:00:00\",\"2001-09-22T00:00:00\",\"2001-09-23T00:00:00\",\"2001-09-24T00:00:00\",\"2001-09-25T00:00:00\",\"2001-09-26T00:00:00\",\"2001-09-27T00:00:00\",\"2001-09-28T00:00:00\",\"2001-09-29T00:00:00\",\"2001-09-30T00:00:00\",\"2001-10-01T00:00:00\",\"2001-10-02T00:00:00\",\"2001-10-03T00:00:00\",\"2001-10-04T00:00:00\",\"2001-10-05T00:00:00\",\"2001-10-06T00:00:00\",\"2001-10-07T00:00:00\",\"2001-10-08T00:00:00\",\"2001-10-09T00:00:00\",\"2001-10-10T00:00:00\",\"2001-10-11T00:00:00\",\"2001-10-12T00:00:00\",\"2001-10-13T00:00:00\",\"2001-10-14T00:00:00\",\"2001-10-15T00:00:00\",\"2001-10-16T00:00:00\",\"2001-10-17T00:00:00\",\"2001-10-18T00:00:00\",\"2001-10-19T00:00:00\",\"2001-10-20T00:00:00\",\"2001-10-21T00:00:00\",\"2001-10-22T00:00:00\",\"2001-10-23T00:00:00\",\"2001-10-24T00:00:00\",\"2001-10-25T00:00:00\",\"2001-10-26T00:00:00\",\"2001-10-27T00:00:00\",\"2001-10-28T00:00:00\",\"2001-10-29T00:00:00\",\"2001-10-30T00:00:00\",\"2001-10-31T00:00:00\",\"2001-11-01T00:00:00\",\"2001-11-02T00:00:00\",\"2001-11-03T00:00:00\",\"2001-11-04T00:00:00\",\"2001-11-05T00:00:00\",\"2001-11-06T00:00:00\",\"2001-11-07T00:00:00\",\"2001-11-08T00:00:00\",\"2001-11-09T00:00:00\",\"2001-11-10T00:00:00\",\"2001-11-11T00:00:00\",\"2001-11-12T00:00:00\",\"2001-11-13T00:00:00\",\"2001-11-14T00:00:00\",\"2001-11-15T00:00:00\",\"2001-11-16T00:00:00\",\"2001-11-17T00:00:00\",\"2001-11-18T00:00:00\",\"2001-11-19T00:00:00\",\"2001-11-20T00:00:00\",\"2001-11-21T00:00:00\",\"2001-11-22T00:00:00\",\"2001-11-23T00:00:00\",\"2001-11-24T00:00:00\",\"2001-11-25T00:00:00\",\"2001-11-26T00:00:00\",\"2001-11-27T00:00:00\",\"2001-11-28T00:00:00\",\"2001-11-29T00:00:00\",\"2001-11-30T00:00:00\",\"2001-12-01T00:00:00\",\"2001-12-02T00:00:00\",\"2001-12-03T00:00:00\",\"2001-12-04T00:00:00\",\"2001-12-05T00:00:00\",\"2001-12-06T00:00:00\",\"2001-12-07T00:00:00\",\"2001-12-08T00:00:00\",\"2001-12-09T00:00:00\",\"2001-12-10T00:00:00\",\"2001-12-11T00:00:00\",\"2001-12-12T00:00:00\",\"2001-12-13T00:00:00\",\"2001-12-14T00:00:00\",\"2001-12-15T00:00:00\",\"2001-12-16T00:00:00\",\"2001-12-17T00:00:00\",\"2001-12-18T00:00:00\",\"2001-12-19T00:00:00\",\"2001-12-20T00:00:00\",\"2001-12-21T00:00:00\",\"2001-12-22T00:00:00\",\"2001-12-23T00:00:00\",\"2001-12-24T00:00:00\",\"2001-12-25T00:00:00\",\"2001-12-26T00:00:00\",\"2001-12-27T00:00:00\",\"2001-12-28T00:00:00\",\"2001-12-29T00:00:00\",\"2001-12-30T00:00:00\",\"2001-12-31T00:00:00\",\"2002-01-01T00:00:00\",\"2002-01-02T00:00:00\",\"2002-01-03T00:00:00\",\"2002-01-04T00:00:00\",\"2002-01-05T00:00:00\",\"2002-01-06T00:00:00\",\"2002-01-07T00:00:00\",\"2002-01-08T00:00:00\",\"2002-01-09T00:00:00\",\"2002-01-10T00:00:00\",\"2002-01-11T00:00:00\",\"2002-01-12T00:00:00\",\"2002-01-13T00:00:00\",\"2002-01-14T00:00:00\",\"2002-01-15T00:00:00\",\"2002-01-16T00:00:00\",\"2002-01-17T00:00:00\",\"2002-01-18T00:00:00\",\"2002-01-19T00:00:00\",\"2002-01-20T00:00:00\",\"2002-01-21T00:00:00\",\"2002-01-22T00:00:00\",\"2002-01-23T00:00:00\",\"2002-01-24T00:00:00\",\"2002-01-25T00:00:00\",\"2002-01-26T00:00:00\",\"2002-01-27T00:00:00\",\"2002-01-28T00:00:00\",\"2002-01-29T00:00:00\",\"2002-01-30T00:00:00\",\"2002-01-31T00:00:00\",\"2002-02-01T00:00:00\",\"2002-02-02T00:00:00\",\"2002-02-03T00:00:00\",\"2002-02-04T00:00:00\",\"2002-02-05T00:00:00\",\"2002-02-06T00:00:00\",\"2002-02-07T00:00:00\",\"2002-02-08T00:00:00\",\"2002-02-09T00:00:00\",\"2002-02-10T00:00:00\",\"2002-02-11T00:00:00\",\"2002-02-12T00:00:00\",\"2002-02-13T00:00:00\",\"2002-02-14T00:00:00\",\"2002-02-15T00:00:00\",\"2002-02-16T00:00:00\",\"2002-02-17T00:00:00\",\"2002-02-18T00:00:00\",\"2002-02-19T00:00:00\",\"2002-02-20T00:00:00\",\"2002-02-21T00:00:00\",\"2002-02-22T00:00:00\",\"2002-02-23T00:00:00\",\"2002-02-24T00:00:00\",\"2002-02-25T00:00:00\",\"2002-02-26T00:00:00\",\"2002-02-27T00:00:00\",\"2002-02-28T00:00:00\",\"2002-03-01T00:00:00\",\"2002-03-02T00:00:00\",\"2002-03-03T00:00:00\",\"2002-03-04T00:00:00\",\"2002-03-05T00:00:00\",\"2002-03-06T00:00:00\",\"2002-03-07T00:00:00\",\"2002-03-08T00:00:00\",\"2002-03-09T00:00:00\",\"2002-03-10T00:00:00\",\"2002-03-11T00:00:00\",\"2002-03-12T00:00:00\",\"2002-03-13T00:00:00\",\"2002-03-14T00:00:00\",\"2002-03-15T00:00:00\",\"2002-03-16T00:00:00\",\"2002-03-17T00:00:00\",\"2002-03-18T00:00:00\",\"2002-03-19T00:00:00\",\"2002-03-20T00:00:00\",\"2002-03-21T00:00:00\",\"2002-03-22T00:00:00\",\"2002-03-23T00:00:00\",\"2002-03-24T00:00:00\",\"2002-03-25T00:00:00\",\"2002-03-26T00:00:00\",\"2002-03-27T00:00:00\",\"2002-03-28T00:00:00\",\"2002-03-29T00:00:00\",\"2002-03-30T00:00:00\",\"2002-03-31T00:00:00\",\"2002-04-01T00:00:00\",\"2002-04-02T00:00:00\",\"2002-04-03T00:00:00\",\"2002-04-04T00:00:00\",\"2002-04-05T00:00:00\",\"2002-04-06T00:00:00\",\"2002-04-07T00:00:00\",\"2002-04-08T00:00:00\",\"2002-04-09T00:00:00\",\"2002-04-10T00:00:00\",\"2002-04-11T00:00:00\",\"2002-04-12T00:00:00\",\"2002-04-13T00:00:00\",\"2002-04-14T00:00:00\",\"2002-04-15T00:00:00\",\"2002-04-16T00:00:00\",\"2002-04-17T00:00:00\",\"2002-04-18T00:00:00\",\"2002-04-19T00:00:00\",\"2002-04-20T00:00:00\",\"2002-04-21T00:00:00\",\"2002-04-22T00:00:00\",\"2002-04-23T00:00:00\",\"2002-04-24T00:00:00\",\"2002-04-25T00:00:00\",\"2002-04-26T00:00:00\",\"2002-04-27T00:00:00\",\"2002-04-28T00:00:00\",\"2002-04-29T00:00:00\",\"2002-04-30T00:00:00\",\"2002-05-01T00:00:00\",\"2002-05-02T00:00:00\",\"2002-05-03T00:00:00\",\"2002-05-04T00:00:00\",\"2002-05-05T00:00:00\",\"2002-05-06T00:00:00\",\"2002-05-07T00:00:00\",\"2002-05-08T00:00:00\",\"2002-05-09T00:00:00\",\"2002-05-10T00:00:00\",\"2002-05-11T00:00:00\",\"2002-05-12T00:00:00\",\"2002-05-13T00:00:00\",\"2002-05-14T00:00:00\",\"2002-05-15T00:00:00\",\"2002-05-16T00:00:00\",\"2002-05-17T00:00:00\",\"2002-05-18T00:00:00\",\"2002-05-19T00:00:00\",\"2002-05-20T00:00:00\",\"2002-05-21T00:00:00\",\"2002-05-22T00:00:00\",\"2002-05-23T00:00:00\",\"2002-05-24T00:00:00\",\"2002-05-25T00:00:00\",\"2002-05-26T00:00:00\",\"2002-05-27T00:00:00\",\"2002-05-28T00:00:00\",\"2002-05-29T00:00:00\",\"2002-05-30T00:00:00\",\"2002-05-31T00:00:00\",\"2002-06-01T00:00:00\",\"2002-06-02T00:00:00\",\"2002-06-03T00:00:00\",\"2002-06-04T00:00:00\",\"2002-06-05T00:00:00\",\"2002-06-06T00:00:00\",\"2002-06-07T00:00:00\",\"2002-06-08T00:00:00\",\"2002-06-09T00:00:00\",\"2002-06-10T00:00:00\",\"2002-06-11T00:00:00\",\"2002-06-12T00:00:00\",\"2002-06-13T00:00:00\",\"2002-06-14T00:00:00\",\"2002-06-15T00:00:00\",\"2002-06-16T00:00:00\",\"2002-06-17T00:00:00\",\"2002-06-18T00:00:00\",\"2002-06-19T00:00:00\",\"2002-06-20T00:00:00\",\"2002-06-21T00:00:00\",\"2002-06-22T00:00:00\",\"2002-06-23T00:00:00\",\"2002-06-24T00:00:00\",\"2002-06-25T00:00:00\",\"2002-06-26T00:00:00\",\"2002-06-27T00:00:00\",\"2002-06-28T00:00:00\",\"2002-06-29T00:00:00\",\"2002-06-30T00:00:00\",\"2002-07-01T00:00:00\",\"2002-07-02T00:00:00\",\"2002-07-03T00:00:00\",\"2002-07-04T00:00:00\",\"2002-07-05T00:00:00\",\"2002-07-06T00:00:00\",\"2002-07-07T00:00:00\",\"2002-07-08T00:00:00\",\"2002-07-09T00:00:00\",\"2002-07-10T00:00:00\",\"2002-07-11T00:00:00\",\"2002-07-12T00:00:00\",\"2002-07-13T00:00:00\",\"2002-07-14T00:00:00\",\"2002-07-15T00:00:00\",\"2002-07-16T00:00:00\",\"2002-07-17T00:00:00\",\"2002-07-18T00:00:00\",\"2002-07-19T00:00:00\",\"2002-07-20T00:00:00\",\"2002-07-21T00:00:00\",\"2002-07-22T00:00:00\",\"2002-07-23T00:00:00\",\"2002-07-24T00:00:00\",\"2002-07-25T00:00:00\",\"2002-07-26T00:00:00\",\"2002-07-27T00:00:00\",\"2002-07-28T00:00:00\",\"2002-07-29T00:00:00\",\"2002-07-30T00:00:00\",\"2002-07-31T00:00:00\",\"2002-08-01T00:00:00\",\"2002-08-02T00:00:00\",\"2002-08-03T00:00:00\",\"2002-08-04T00:00:00\",\"2002-08-05T00:00:00\",\"2002-08-06T00:00:00\",\"2002-08-07T00:00:00\",\"2002-08-08T00:00:00\",\"2002-08-09T00:00:00\",\"2002-08-10T00:00:00\",\"2002-08-11T00:00:00\",\"2002-08-12T00:00:00\",\"2002-08-13T00:00:00\",\"2002-08-14T00:00:00\",\"2002-08-15T00:00:00\",\"2002-08-16T00:00:00\",\"2002-08-17T00:00:00\",\"2002-08-18T00:00:00\",\"2002-08-19T00:00:00\",\"2002-08-20T00:00:00\",\"2002-08-21T00:00:00\",\"2002-08-22T00:00:00\",\"2002-08-23T00:00:00\",\"2002-08-24T00:00:00\",\"2002-08-25T00:00:00\",\"2002-08-26T00:00:00\",\"2002-08-27T00:00:00\",\"2002-08-28T00:00:00\",\"2002-08-29T00:00:00\",\"2002-08-30T00:00:00\",\"2002-08-31T00:00:00\",\"2002-09-01T00:00:00\",\"2002-09-02T00:00:00\",\"2002-09-03T00:00:00\",\"2002-09-04T00:00:00\",\"2002-09-05T00:00:00\",\"2002-09-06T00:00:00\",\"2002-09-07T00:00:00\",\"2002-09-08T00:00:00\",\"2002-09-09T00:00:00\",\"2002-09-10T00:00:00\",\"2002-09-11T00:00:00\",\"2002-09-12T00:00:00\",\"2002-09-13T00:00:00\",\"2002-09-14T00:00:00\",\"2002-09-15T00:00:00\",\"2002-09-16T00:00:00\",\"2002-09-17T00:00:00\",\"2002-09-18T00:00:00\",\"2002-09-19T00:00:00\",\"2002-09-20T00:00:00\",\"2002-09-21T00:00:00\",\"2002-09-22T00:00:00\",\"2002-09-23T00:00:00\",\"2002-09-24T00:00:00\",\"2002-09-25T00:00:00\",\"2002-09-26T00:00:00\"],\"xaxis\":\"x\",\"y\":[0.2492424043053593,0.2492424043053593,0.2492424043053593,0.2492424043053593,0.2492424043053593,0.2492424043053593,0.42203206546881383,0.42203206546881383,0.42203206546881383,0.42203206546881383,0.42203206546881383,1.1598462569056647,1.1598462569056647,1.1598462569056647,1.1598462569056647,1.1598462569056647,1.1598462569056647,1.1598462569056647,1.1598462569056647,1.1598462569056647,1.1598462569056647,1.1598462569056647,1.1598462569056647,1.1598462569056647,1.1598462569056647,1.1598462569056647,1.3633682144703645,2.5436142570854217,2.5436142570854217,2.5436142570854217,2.5436142570854217,2.5436142570854217,2.5436142570854217,2.5436142570854217,2.5436142570854217,2.5436142570854217,2.5436142570854217,2.5436142570854217,2.5436142570854217,2.5436142570854217,2.5436142570854217,2.5436142570854217,2.5436142570854217,2.5436142570854217,2.5436142570854217,2.5436142570854217,2.5436142570854217,2.5436142570854217,2.5436142570854217,2.5436142570854217,2.5436142570854217,2.5436142570854217,2.5436142570854217,2.5436142570854217,2.5436142570854217,2.5436142570854217,2.5436142570854217,2.5436142570854217,2.5436142570854217,2.5436142570854217,2.5436142570854217,2.5436142570854217,2.5436142570854217,2.5436142570854217,2.5436142570854217,2.5436142570854217,2.5436142570854217,2.5436142570854217,2.5436142570854217,2.5436142570854217,2.5436142570854217,2.5436142570854217,2.5436142570854217,2.5436142570854217,2.5436142570854217,2.5436142570854217,2.5436142570854217,2.5436142570854217,2.5436142570854217,2.5436142570854217,2.5436142570854217,2.5436142570854217,2.5436142570854217,2.5436142570854217,2.5436142570854217,2.5436142570854217,2.5436142570854217,2.5436142570854217,2.5436142570854217,2.5436142570854217,2.5436142570854217,2.5436142570854217,2.5436142570854217,2.5436142570854217,2.5436142570854217,2.5436142570854217,2.5436142570854217,2.5436142570854217,2.5436142570854217,2.5436142570854217,2.5436142570854217,2.5436142570854217,2.5436142570854217,2.5436142570854217,2.5436142570854217,2.5436142570854217,2.5436142570854217,2.5436142570854217,2.5436142570854217,2.5436142570854217,2.5436142570854217,2.5436142570854217,2.5436142570854217,2.5436142570854217,2.5436142570854217,2.5436142570854217,2.5436142570854217,2.5436142570854217,2.5436142570854217,2.5436142570854217,2.5436142570854217,2.5436142570854217,2.5436142570854217,2.5436142570854217,2.5436142570854217,2.5436142570854217,2.5436142570854217,2.5436142570854217,2.5436142570854217,2.5436142570854217,2.5436142570854217,2.5436142570854217,2.5436142570854217,2.5436142570854217,2.5436142570854217,2.5436142570854217,2.5436142570854217,2.5436142570854217,2.5436142570854217,2.5436142570854217,2.5436142570854217,2.5436142570854217,2.5436142570854217,2.5436142570854217,2.5436142570854217,2.5436142570854217,2.5436142570854217,2.5436142570854217,2.5436142570854217,2.5436142570854217,2.5436142570854217,2.5436142570854217,2.5436142570854217,2.5436142570854217,2.5436142570854217,2.5436142570854217,2.5436142570854217,2.5436142570854217,2.5436142570854217,2.5436142570854217,2.5436142570854217,2.5436142570854217,2.5436142570854217,2.5436142570854217,2.5436142570854217,2.5436142570854217,2.5436142570854217,2.5436142570854217,2.5436142570854217,2.5436142570854217,2.5436142570854217,2.5436142570854217,2.5436142570854217,2.5436142570854217,2.5436142570854217,2.5436142570854217,2.5436142570854217,2.5436142570854217,2.5436142570854217,2.5436142570854217,2.5436142570854217,2.5436142570854217,2.5436142570854217,2.5436142570854217,2.5436142570854217,2.5436142570854217,2.5436142570854217,2.5436142570854217,2.5436142570854217,2.5436142570854217,2.5436142570854217,2.5436142570854217,2.5436142570854217,2.5436142570854217,2.5436142570854217,2.5436142570854217,2.5436142570854217,2.5436142570854217,2.5436142570854217,2.5436142570854217,2.5436142570854217,2.5436142570854217,2.5436142570854217,2.5436142570854217,2.5436142570854217,2.5436142570854217,2.5436142570854217,2.5436142570854217,2.5436142570854217,2.5436142570854217,2.5436142570854217,2.5436142570854217,2.5436142570854217,2.5436142570854217,2.5436142570854217,2.5436142570854217,2.5436142570854217,2.5436142570854217,2.5436142570854217,2.5436142570854217,2.5436142570854217,2.5436142570854217,2.5436142570854217,2.5436142570854217,2.5436142570854217,2.5436142570854217,2.5436142570854217,2.5436142570854217,2.5436142570854217,2.5436142570854217,2.5436142570854217,2.5436142570854217,2.5436142570854217,2.5436142570854217,2.5436142570854217,2.5436142570854217,2.5436142570854217,2.5436142570854217,2.5436142570854217,2.5436142570854217,2.5436142570854217,2.5436142570854217,2.5436142570854217,2.5436142570854217,2.5436142570854217,2.5436142570854217,2.5436142570854217,2.5436142570854217,2.5436142570854217,2.5436142570854217,2.5436142570854217,2.5436142570854217,2.5436142570854217,2.5436142570854217,2.5436142570854217,2.5436142570854217,2.5436142570854217,2.5436142570854217,2.5436142570854217,2.5436142570854217,2.5436142570854217,2.5436142570854217,2.5436142570854217,2.5436142570854217,2.5436142570854217,2.5436142570854217,2.5436142570854217,2.5436142570854217,2.5436142570854217,2.5436142570854217,2.5436142570854217,2.5436142570854217,2.5436142570854217,2.5436142570854217,2.5436142570854217,2.5436142570854217,2.5436142570854217,2.5436142570854217,2.5436142570854217,2.5436142570854217,2.5436142570854217,2.5436142570854217,2.5436142570854217,2.5436142570854217,2.5436142570854217,2.5436142570854217,2.5436142570854217,2.5436142570854217,2.5436142570854217,2.5436142570854217,2.5436142570854217,2.5436142570854217,2.5436142570854217,2.5436142570854217,2.5436142570854217,2.5436142570854217,2.5436142570854217,2.5436142570854217,2.5436142570854217,2.5436142570854217,2.5436142570854217,2.5436142570854217,2.5436142570854217,2.5436142570854217,2.5436142570854217,2.5436142570854217,2.5436142570854217,2.5436142570854217,2.5436142570854217,2.5436142570854217,2.5436142570854217,2.5436142570854217,2.5436142570854217,2.5436142570854217,2.5436142570854217,2.5436142570854217,2.5436142570854217,2.5436142570854217,2.5436142570854217,2.5436142570854217,2.5436142570854217,2.5436142570854217,2.5436142570854217,2.5436142570854217,2.5436142570854217,2.5436142570854217,2.5436142570854217,2.5436142570854217,2.5436142570854217,2.5436142570854217,2.5436142570854217,2.5436142570854217,2.5436142570854217,2.5436142570854217,2.5436142570854217,2.5436142570854217,2.5436142570854217,2.5436142570854217,2.5436142570854217,2.5436142570854217,2.5436142570854217,2.5436142570854217,2.5436142570854217,2.5436142570854217,2.5436142570854217,2.5436142570854217,2.5436142570854217,2.5436142570854217,2.5436142570854217,2.5436142570854217,2.5436142570854217,2.5436142570854217,2.5436142570854217,2.5436142570854217,2.5436142570854217,2.5436142570854217,2.5436142570854217,2.5436142570854217,2.5436142570854217,2.5436142570854217,2.5436142570854217,2.5436142570854217,2.5436142570854217,2.5436142570854217,2.5436142570854217,2.5436142570854217,2.5436142570854217,2.5436142570854217,2.5436142570854217,2.5436142570854217,2.5436142570854217,2.5436142570854217,2.5436142570854217,2.5436142570854217,2.5436142570854217,2.5436142570854217,2.5436142570854217,2.5436142570854217,2.5436142570854217,2.5436142570854217,2.5436142570854217,2.5436142570854217,2.5436142570854217,2.5436142570854217,2.5436142570854217,2.5436142570854217,2.5436142570854217,2.5436142570854217,2.5436142570854217,2.5436142570854217,2.5436142570854217,2.5436142570854217,2.5436142570854217,2.5436142570854217,2.5436142570854217,2.5436142570854217,2.5436142570854217,2.5436142570854217,2.5436142570854217,2.5436142570854217,2.5436142570854217,2.5436142570854217,2.5436142570854217,2.5436142570854217,2.5436142570854217,2.5436142570854217,2.5436142570854217,2.5436142570854217,2.5436142570854217,2.5436142570854217,2.5436142570854217,2.5436142570854217,2.5436142570854217,2.5436142570854217,2.5436142570854217,2.5436142570854217,2.5436142570854217,2.5436142570854217,2.5436142570854217,2.5436142570854217,2.5436142570854217,2.5436142570854217,2.5436142570854217,2.5436142570854217,2.5436142570854217,2.5436142570854217,2.5436142570854217,2.5436142570854217,2.5436142570854217,2.5436142570854217,2.5436142570854217,2.5436142570854217,2.5436142570854217,2.5436142570854217,2.5436142570854217,2.5436142570854217,2.5436142570854217,2.5436142570854217,2.5436142570854217,2.5436142570854217,3.266093435680515,3.266093435680515,3.266093435680515,3.266093435680515,3.266093435680515,3.266093435680515,3.266093435680515,3.266093435680515,3.266093435680515,3.266093435680515,3.266093435680515,3.266093435680515,3.266093435680515,3.266093435680515,3.266093435680515,3.266093435680515,3.266093435680515,3.266093435680515,3.266093435680515,3.266093435680515,3.266093435680515,3.266093435680515,3.266093435680515,3.266093435680515,3.266093435680515,3.266093435680515,3.266093435680515,3.266093435680515,3.266093435680515,3.266093435680515,3.266093435680515,3.266093435680515,3.266093435680515,3.266093435680515,3.266093435680515,3.266093435680515,3.266093435680515,3.266093435680515,3.266093435680515,3.266093435680515,3.266093435680515,3.266093435680515,3.266093435680515,3.266093435680515,3.266093435680515,3.266093435680515,3.266093435680515,3.266093435680515,3.266093435680515,3.266093435680515,3.266093435680515,3.266093435680515,3.266093435680515,3.266093435680515,3.266093435680515,3.266093435680515,3.266093435680515,3.266093435680515,3.266093435680515,3.266093435680515,3.266093435680515,3.266093435680515,3.266093435680515,3.266093435680515,3.266093435680515,3.266093435680515,3.266093435680515,3.266093435680515,3.266093435680515,3.266093435680515,3.266093435680515,3.266093435680515,3.266093435680515,3.266093435680515,3.266093435680515,3.266093435680515,3.4444878455707952,3.4444878455707952,3.4444878455707952,3.4444878455707952,3.4444878455707952,3.4444878455707952,3.4444878455707952,3.4444878455707952,3.4444878455707952,3.4444878455707952,3.4444878455707952,3.4444878455707952,3.4444878455707952,3.4444878455707952,3.4444878455707952,3.4444878455707952,3.4444878455707952,3.4444878455707952,3.4444878455707952,3.4444878455707952,3.4444878455707952,3.4444878455707952,3.4444878455707952,3.4444878455707952,3.4444878455707952,3.4444878455707952,3.4444878455707952,3.4444878455707952,3.4444878455707952,3.4444878455707952,3.4444878455707952,3.4444878455707952,3.4444878455707952,3.4444878455707952,3.4444878455707952,3.4444878455707952,3.4444878455707952,3.4444878455707952,3.4444878455707952,3.4444878455707952,3.4444878455707952,3.4444878455707952,3.4444878455707952,3.4444878455707952,3.4444878455707952,3.4444878455707952,3.4444878455707952,3.4444878455707952,3.4444878455707952,3.4444878455707952,3.4444878455707952,3.4444878455707952,3.4444878455707952,3.4444878455707952,3.4444878455707952,3.4444878455707952,3.4444878455707952,3.4444878455707952,3.4444878455707952,3.4444878455707952,3.4444878455707952,3.4444878455707952,3.4444878455707952,3.4444878455707952,3.4444878455707952,3.4444878455707952,3.4444878455707952,3.4444878455707952,3.4444878455707952,3.4444878455707952,3.4444878455707952,3.4444878455707952,3.4444878455707952,3.4444878455707952,3.4444878455707952,3.4444878455707952,3.4444878455707952,3.4444878455707952,3.4444878455707952,3.4444878455707952,3.4444878455707952,3.4444878455707952,3.4444878455707952,3.4444878455707952,3.4444878455707952,3.4444878455707952,3.4444878455707952,3.4444878455707952,3.4444878455707952,3.4444878455707952,3.4444878455707952,3.4444878455707952,3.4444878455707952,3.4444878455707952,3.4444878455707952,3.4444878455707952,3.4444878455707952,3.4444878455707952,3.4444878455707952,3.4444878455707952,3.4444878455707952,3.4444878455707952,3.4444878455707952,3.4444878455707952,3.4444878455707952,3.4444878455707952,3.4444878455707952,3.4444878455707952,3.4444878455707952,3.4444878455707952,3.4444878455707952,3.4444878455707952,3.4444878455707952,3.4444878455707952,3.4444878455707952,3.4444878455707952,3.4444878455707952,3.4444878455707952,3.4444878455707952,3.4444878455707952,3.4444878455707952,3.4444878455707952,3.4444878455707952,3.4444878455707952,3.4444878455707952,3.4444878455707952,3.4444878455707952,3.4444878455707952,3.4444878455707952,3.4444878455707952,3.4444878455707952,3.4444878455707952,3.4444878455707952,3.4444878455707952,3.4444878455707952,3.4444878455707952,3.4444878455707952,3.4444878455707952,3.4444878455707952,3.4444878455707952,3.4444878455707952,3.4444878455707952,3.4444878455707952,3.4444878455707952,3.4444878455707952,3.4444878455707952,3.4444878455707952,3.4444878455707952,3.4444878455707952,3.4444878455707952,3.4444878455707952,3.4444878455707952,3.4444878455707952,3.4444878455707952,3.4444878455707952,3.4444878455707952,3.4444878455707952,3.4444878455707952,3.4444878455707952,3.4444878455707952,3.4444878455707952,3.4444878455707952,3.4444878455707952,3.4444878455707952,3.4444878455707952,3.4444878455707952,3.4444878455707952,3.4444878455707952,3.4444878455707952,3.4444878455707952,3.4444878455707952,3.4444878455707952,3.4444878455707952,3.4444878455707952,3.4444878455707952,3.4444878455707952,3.4444878455707952,3.4444878455707952,3.4444878455707952,3.4444878455707952,3.4444878455707952,3.4444878455707952,3.4444878455707952,3.4444878455707952,3.4444878455707952,3.4444878455707952,3.4444878455707952,3.4444878455707952,3.4444878455707952,3.4444878455707952,3.4444878455707952,3.4444878455707952,3.4444878455707952,3.4444878455707952,3.4444878455707952,3.4444878455707952,3.4444878455707952,3.4444878455707952,3.4444878455707952,3.4444878455707952,3.4444878455707952,3.4444878455707952,3.4444878455707952,3.4444878455707952,3.4444878455707952,3.4444878455707952,3.4444878455707952,3.4444878455707952,3.4444878455707952,3.4444878455707952,3.4444878455707952,3.4444878455707952,3.4444878455707952,3.4444878455707952,3.4444878455707952,3.4444878455707952,3.4444878455707952,3.4444878455707952,3.4444878455707952,3.4444878455707952,3.4444878455707952,3.4444878455707952,3.4444878455707952,3.4444878455707952,3.4444878455707952,3.4444878455707952,3.4444878455707952,3.4444878455707952,3.4444878455707952,3.4444878455707952,3.4444878455707952,3.4444878455707952,3.4444878455707952,3.4444878455707952,3.4444878455707952,3.4444878455707952,3.4444878455707952,3.4444878455707952,3.4444878455707952,3.4444878455707952,3.4444878455707952,3.4444878455707952,3.4444878455707952,3.4444878455707952,3.4444878455707952,3.4444878455707952,3.4444878455707952,3.4444878455707952,3.4444878455707952,3.4444878455707952,3.4444878455707952,3.4444878455707952,3.4444878455707952,3.4444878455707952,3.4444878455707952,3.4444878455707952,3.4444878455707952,3.4444878455707952,3.4444878455707952,3.4444878455707952,3.4444878455707952,3.4444878455707952,3.4444878455707952,3.4444878455707952,3.4444878455707952,3.4444878455707952,3.4444878455707952,3.4444878455707952,3.4444878455707952,3.4444878455707952,3.4444878455707952,3.4444878455707952,3.4444878455707952,3.4444878455707952,3.4444878455707952,3.4444878455707952,3.4444878455707952,3.4444878455707952,3.4444878455707952,3.4444878455707952,3.4444878455707952,3.4444878455707952,3.4444878455707952,3.4444878455707952,3.4444878455707952,3.4444878455707952,3.4444878455707952,3.4444878455707952,3.4444878455707952,3.4444878455707952,3.4444878455707952,3.4444878455707952,3.4444878455707952,3.4444878455707952,3.4444878455707952,3.4444878455707952,3.4444878455707952,3.4444878455707952,3.4444878455707952,3.4444878455707952,3.4444878455707952,3.4444878455707952,3.4444878455707952,3.4444878455707952,3.4444878455707952,3.4444878455707952,3.4444878455707952,3.4444878455707952,3.4444878455707952,3.4444878455707952,3.4444878455707952,3.4444878455707952,3.4444878455707952,3.4444878455707952,3.4444878455707952,3.4444878455707952,3.4444878455707952,3.4444878455707952,3.4444878455707952,3.4444878455707952,3.4444878455707952,3.4444878455707952,3.4444878455707952,3.4444878455707952,3.4444878455707952,3.4444878455707952,3.4444878455707952,3.4444878455707952,3.4444878455707952,3.4444878455707952,3.4444878455707952,3.4444878455707952,3.4444878455707952,3.4444878455707952,3.4444878455707952,3.4444878455707952,3.4444878455707952,3.4444878455707952,3.4444878455707952,3.4444878455707952,3.4444878455707952,3.4444878455707952,3.4444878455707952,3.4444878455707952,3.4444878455707952,3.4444878455707952,3.4444878455707952,3.4444878455707952,3.4444878455707952,3.4444878455707952,3.4444878455707952,3.4444878455707952,3.4444878455707952,3.4444878455707952,3.4444878455707952,3.4444878455707952,3.4444878455707952,3.4444878455707952,3.4444878455707952,3.4444878455707952,3.4444878455707952,3.4444878455707952,3.4444878455707952,3.4444878455707952,3.4444878455707952,3.4444878455707952,3.4444878455707952,3.4444878455707952,3.4444878455707952,3.4444878455707952,3.4444878455707952,3.4444878455707952,3.4444878455707952,3.4444878455707952,3.4444878455707952,3.4444878455707952,3.4444878455707952,3.4444878455707952,3.4444878455707952,3.4444878455707952,3.4444878455707952,3.4444878455707952,3.4444878455707952,3.4444878455707952,3.4444878455707952,3.4444878455707952,3.4444878455707952,3.4444878455707952,3.4444878455707952,3.4444878455707952,3.4444878455707952,3.4444878455707952,3.4444878455707952,3.4444878455707952,3.4444878455707952,3.4444878455707952,3.4444878455707952,3.4444878455707952,3.4444878455707952,3.4444878455707952,3.4444878455707952,3.4444878455707952,3.4444878455707952,3.4444878455707952,3.4444878455707952,3.4444878455707952,3.4444878455707952,3.4444878455707952,3.4444878455707952,3.4444878455707952,3.4444878455707952,3.4444878455707952,3.4444878455707952,3.4444878455707952,3.4444878455707952,3.4444878455707952,3.4444878455707952,3.4444878455707952,3.4444878455707952,3.4444878455707952,3.4444878455707952,3.4444878455707952,3.4444878455707952,3.4444878455707952,3.4444878455707952,3.4444878455707952,3.4444878455707952,3.4444878455707952,3.4444878455707952,3.4444878455707952,3.4444878455707952,3.4444878455707952,3.4444878455707952,3.4444878455707952,3.4444878455707952,3.4444878455707952,3.4444878455707952,3.4444878455707952,3.4444878455707952,3.4444878455707952,3.4444878455707952,3.4444878455707952,3.4444878455707952,3.4444878455707952,3.4444878455707952,3.4444878455707952,3.4444878455707952,3.4444878455707952,3.4444878455707952,3.4444878455707952,3.4444878455707952,3.4444878455707952,3.4444878455707952,3.4444878455707952,3.4444878455707952,3.4444878455707952,3.4444878455707952,3.4444878455707952,3.4444878455707952,3.4444878455707952,3.4444878455707952,3.4444878455707952,3.4444878455707952,3.4444878455707952,3.4444878455707952,3.4444878455707952,3.4444878455707952,3.4444878455707952,3.4444878455707952,3.4444878455707952,3.4444878455707952,3.4444878455707952,3.4444878455707952,3.4444878455707952,3.4444878455707952,3.4444878455707952,3.4444878455707952,3.4444878455707952,3.4444878455707952,3.4444878455707952,3.4444878455707952,3.4444878455707952,3.4444878455707952,3.4444878455707952],\"yaxis\":\"y\",\"type\":\"scattergl\"}],                        {\"template\":{\"data\":{\"histogram2dcontour\":[{\"type\":\"histogram2dcontour\",\"colorbar\":{\"outlinewidth\":0,\"ticks\":\"\"},\"colorscale\":[[0.0,\"#0d0887\"],[0.1111111111111111,\"#46039f\"],[0.2222222222222222,\"#7201a8\"],[0.3333333333333333,\"#9c179e\"],[0.4444444444444444,\"#bd3786\"],[0.5555555555555556,\"#d8576b\"],[0.6666666666666666,\"#ed7953\"],[0.7777777777777778,\"#fb9f3a\"],[0.8888888888888888,\"#fdca26\"],[1.0,\"#f0f921\"]]}],\"choropleth\":[{\"type\":\"choropleth\",\"colorbar\":{\"outlinewidth\":0,\"ticks\":\"\"}}],\"histogram2d\":[{\"type\":\"histogram2d\",\"colorbar\":{\"outlinewidth\":0,\"ticks\":\"\"},\"colorscale\":[[0.0,\"#0d0887\"],[0.1111111111111111,\"#46039f\"],[0.2222222222222222,\"#7201a8\"],[0.3333333333333333,\"#9c179e\"],[0.4444444444444444,\"#bd3786\"],[0.5555555555555556,\"#d8576b\"],[0.6666666666666666,\"#ed7953\"],[0.7777777777777778,\"#fb9f3a\"],[0.8888888888888888,\"#fdca26\"],[1.0,\"#f0f921\"]]}],\"heatmap\":[{\"type\":\"heatmap\",\"colorbar\":{\"outlinewidth\":0,\"ticks\":\"\"},\"colorscale\":[[0.0,\"#0d0887\"],[0.1111111111111111,\"#46039f\"],[0.2222222222222222,\"#7201a8\"],[0.3333333333333333,\"#9c179e\"],[0.4444444444444444,\"#bd3786\"],[0.5555555555555556,\"#d8576b\"],[0.6666666666666666,\"#ed7953\"],[0.7777777777777778,\"#fb9f3a\"],[0.8888888888888888,\"#fdca26\"],[1.0,\"#f0f921\"]]}],\"heatmapgl\":[{\"type\":\"heatmapgl\",\"colorbar\":{\"outlinewidth\":0,\"ticks\":\"\"},\"colorscale\":[[0.0,\"#0d0887\"],[0.1111111111111111,\"#46039f\"],[0.2222222222222222,\"#7201a8\"],[0.3333333333333333,\"#9c179e\"],[0.4444444444444444,\"#bd3786\"],[0.5555555555555556,\"#d8576b\"],[0.6666666666666666,\"#ed7953\"],[0.7777777777777778,\"#fb9f3a\"],[0.8888888888888888,\"#fdca26\"],[1.0,\"#f0f921\"]]}],\"contourcarpet\":[{\"type\":\"contourcarpet\",\"colorbar\":{\"outlinewidth\":0,\"ticks\":\"\"}}],\"contour\":[{\"type\":\"contour\",\"colorbar\":{\"outlinewidth\":0,\"ticks\":\"\"},\"colorscale\":[[0.0,\"#0d0887\"],[0.1111111111111111,\"#46039f\"],[0.2222222222222222,\"#7201a8\"],[0.3333333333333333,\"#9c179e\"],[0.4444444444444444,\"#bd3786\"],[0.5555555555555556,\"#d8576b\"],[0.6666666666666666,\"#ed7953\"],[0.7777777777777778,\"#fb9f3a\"],[0.8888888888888888,\"#fdca26\"],[1.0,\"#f0f921\"]]}],\"surface\":[{\"type\":\"surface\",\"colorbar\":{\"outlinewidth\":0,\"ticks\":\"\"},\"colorscale\":[[0.0,\"#0d0887\"],[0.1111111111111111,\"#46039f\"],[0.2222222222222222,\"#7201a8\"],[0.3333333333333333,\"#9c179e\"],[0.4444444444444444,\"#bd3786\"],[0.5555555555555556,\"#d8576b\"],[0.6666666666666666,\"#ed7953\"],[0.7777777777777778,\"#fb9f3a\"],[0.8888888888888888,\"#fdca26\"],[1.0,\"#f0f921\"]]}],\"mesh3d\":[{\"type\":\"mesh3d\",\"colorbar\":{\"outlinewidth\":0,\"ticks\":\"\"}}],\"scatter\":[{\"fillpattern\":{\"fillmode\":\"overlay\",\"size\":10,\"solidity\":0.2},\"type\":\"scatter\"}],\"parcoords\":[{\"type\":\"parcoords\",\"line\":{\"colorbar\":{\"outlinewidth\":0,\"ticks\":\"\"}}}],\"scatterpolargl\":[{\"type\":\"scatterpolargl\",\"marker\":{\"colorbar\":{\"outlinewidth\":0,\"ticks\":\"\"}}}],\"bar\":[{\"error_x\":{\"color\":\"#2a3f5f\"},\"error_y\":{\"color\":\"#2a3f5f\"},\"marker\":{\"line\":{\"color\":\"#E5ECF6\",\"width\":0.5},\"pattern\":{\"fillmode\":\"overlay\",\"size\":10,\"solidity\":0.2}},\"type\":\"bar\"}],\"scattergeo\":[{\"type\":\"scattergeo\",\"marker\":{\"colorbar\":{\"outlinewidth\":0,\"ticks\":\"\"}}}],\"scatterpolar\":[{\"type\":\"scatterpolar\",\"marker\":{\"colorbar\":{\"outlinewidth\":0,\"ticks\":\"\"}}}],\"histogram\":[{\"marker\":{\"pattern\":{\"fillmode\":\"overlay\",\"size\":10,\"solidity\":0.2}},\"type\":\"histogram\"}],\"scattergl\":[{\"type\":\"scattergl\",\"marker\":{\"colorbar\":{\"outlinewidth\":0,\"ticks\":\"\"}}}],\"scatter3d\":[{\"type\":\"scatter3d\",\"line\":{\"colorbar\":{\"outlinewidth\":0,\"ticks\":\"\"}},\"marker\":{\"colorbar\":{\"outlinewidth\":0,\"ticks\":\"\"}}}],\"scattermapbox\":[{\"type\":\"scattermapbox\",\"marker\":{\"colorbar\":{\"outlinewidth\":0,\"ticks\":\"\"}}}],\"scatterternary\":[{\"type\":\"scatterternary\",\"marker\":{\"colorbar\":{\"outlinewidth\":0,\"ticks\":\"\"}}}],\"scattercarpet\":[{\"type\":\"scattercarpet\",\"marker\":{\"colorbar\":{\"outlinewidth\":0,\"ticks\":\"\"}}}],\"carpet\":[{\"aaxis\":{\"endlinecolor\":\"#2a3f5f\",\"gridcolor\":\"white\",\"linecolor\":\"white\",\"minorgridcolor\":\"white\",\"startlinecolor\":\"#2a3f5f\"},\"baxis\":{\"endlinecolor\":\"#2a3f5f\",\"gridcolor\":\"white\",\"linecolor\":\"white\",\"minorgridcolor\":\"white\",\"startlinecolor\":\"#2a3f5f\"},\"type\":\"carpet\"}],\"table\":[{\"cells\":{\"fill\":{\"color\":\"#EBF0F8\"},\"line\":{\"color\":\"white\"}},\"header\":{\"fill\":{\"color\":\"#C8D4E3\"},\"line\":{\"color\":\"white\"}},\"type\":\"table\"}],\"barpolar\":[{\"marker\":{\"line\":{\"color\":\"#E5ECF6\",\"width\":0.5},\"pattern\":{\"fillmode\":\"overlay\",\"size\":10,\"solidity\":0.2}},\"type\":\"barpolar\"}],\"pie\":[{\"automargin\":true,\"type\":\"pie\"}]},\"layout\":{\"autotypenumbers\":\"strict\",\"colorway\":[\"#636efa\",\"#EF553B\",\"#00cc96\",\"#ab63fa\",\"#FFA15A\",\"#19d3f3\",\"#FF6692\",\"#B6E880\",\"#FF97FF\",\"#FECB52\"],\"font\":{\"color\":\"#2a3f5f\"},\"hovermode\":\"closest\",\"hoverlabel\":{\"align\":\"left\"},\"paper_bgcolor\":\"white\",\"plot_bgcolor\":\"#E5ECF6\",\"polar\":{\"bgcolor\":\"#E5ECF6\",\"angularaxis\":{\"gridcolor\":\"white\",\"linecolor\":\"white\",\"ticks\":\"\"},\"radialaxis\":{\"gridcolor\":\"white\",\"linecolor\":\"white\",\"ticks\":\"\"}},\"ternary\":{\"bgcolor\":\"#E5ECF6\",\"aaxis\":{\"gridcolor\":\"white\",\"linecolor\":\"white\",\"ticks\":\"\"},\"baxis\":{\"gridcolor\":\"white\",\"linecolor\":\"white\",\"ticks\":\"\"},\"caxis\":{\"gridcolor\":\"white\",\"linecolor\":\"white\",\"ticks\":\"\"}},\"coloraxis\":{\"colorbar\":{\"outlinewidth\":0,\"ticks\":\"\"}},\"colorscale\":{\"sequential\":[[0.0,\"#0d0887\"],[0.1111111111111111,\"#46039f\"],[0.2222222222222222,\"#7201a8\"],[0.3333333333333333,\"#9c179e\"],[0.4444444444444444,\"#bd3786\"],[0.5555555555555556,\"#d8576b\"],[0.6666666666666666,\"#ed7953\"],[0.7777777777777778,\"#fb9f3a\"],[0.8888888888888888,\"#fdca26\"],[1.0,\"#f0f921\"]],\"sequentialminus\":[[0.0,\"#0d0887\"],[0.1111111111111111,\"#46039f\"],[0.2222222222222222,\"#7201a8\"],[0.3333333333333333,\"#9c179e\"],[0.4444444444444444,\"#bd3786\"],[0.5555555555555556,\"#d8576b\"],[0.6666666666666666,\"#ed7953\"],[0.7777777777777778,\"#fb9f3a\"],[0.8888888888888888,\"#fdca26\"],[1.0,\"#f0f921\"]],\"diverging\":[[0,\"#8e0152\"],[0.1,\"#c51b7d\"],[0.2,\"#de77ae\"],[0.3,\"#f1b6da\"],[0.4,\"#fde0ef\"],[0.5,\"#f7f7f7\"],[0.6,\"#e6f5d0\"],[0.7,\"#b8e186\"],[0.8,\"#7fbc41\"],[0.9,\"#4d9221\"],[1,\"#276419\"]]},\"xaxis\":{\"gridcolor\":\"white\",\"linecolor\":\"white\",\"ticks\":\"\",\"title\":{\"standoff\":15},\"zerolinecolor\":\"white\",\"automargin\":true,\"zerolinewidth\":2},\"yaxis\":{\"gridcolor\":\"white\",\"linecolor\":\"white\",\"ticks\":\"\",\"title\":{\"standoff\":15},\"zerolinecolor\":\"white\",\"automargin\":true,\"zerolinewidth\":2},\"scene\":{\"xaxis\":{\"backgroundcolor\":\"#E5ECF6\",\"gridcolor\":\"white\",\"linecolor\":\"white\",\"showbackground\":true,\"ticks\":\"\",\"zerolinecolor\":\"white\",\"gridwidth\":2},\"yaxis\":{\"backgroundcolor\":\"#E5ECF6\",\"gridcolor\":\"white\",\"linecolor\":\"white\",\"showbackground\":true,\"ticks\":\"\",\"zerolinecolor\":\"white\",\"gridwidth\":2},\"zaxis\":{\"backgroundcolor\":\"#E5ECF6\",\"gridcolor\":\"white\",\"linecolor\":\"white\",\"showbackground\":true,\"ticks\":\"\",\"zerolinecolor\":\"white\",\"gridwidth\":2}},\"shapedefaults\":{\"line\":{\"color\":\"#2a3f5f\"}},\"annotationdefaults\":{\"arrowcolor\":\"#2a3f5f\",\"arrowhead\":0,\"arrowwidth\":1},\"geo\":{\"bgcolor\":\"white\",\"landcolor\":\"#E5ECF6\",\"subunitcolor\":\"white\",\"showland\":true,\"showlakes\":true,\"lakecolor\":\"white\"},\"title\":{\"x\":0.05},\"mapbox\":{\"style\":\"light\"}}},\"xaxis\":{\"anchor\":\"y\",\"domain\":[0.0,1.0],\"title\":{\"text\":\"index\"}},\"yaxis\":{\"anchor\":\"x\",\"domain\":[0.0,1.0],\"title\":{\"text\":\"value\"}},\"legend\":{\"title\":{\"text\":\"variable\"},\"tracegroupgap\":0},\"margin\":{\"t\":60}},                        {\"responsive\": true}                    )                };                            </script>        </div>\n",
       "</body>\n",
       "</html>"
      ]
     },
     "metadata": {},
     "output_type": "display_data"
    }
   ],
   "source": [
    "pdf = pd.DataFrame(np.random.randn(1000, 4),index = pser.index, \n",
    "                   columns= ['A','B','C','D'])\n",
    "\n",
    "psdf = ps.from_pandas(pdf)\n",
    "\n",
    "psdf = psdf.cummax()\n",
    "\n",
    "psdf.plot()\n"
   ]
  }
 ],
 "metadata": {
  "application/vnd.databricks.v1+notebook": {
   "dashboards": [],
   "language": "python",
   "notebookMetadata": {
    "pythonIndentUnit": 4
   },
   "notebookName": "Mastering Pyspark-sql",
   "widgets": {}
  }
 },
 "nbformat": 4,
 "nbformat_minor": 0
}
